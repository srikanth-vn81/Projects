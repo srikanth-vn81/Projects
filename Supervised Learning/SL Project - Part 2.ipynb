{
 "cells": [
  {
   "cell_type": "markdown",
   "id": "b4aeb39a",
   "metadata": {},
   "source": [
    "Load Libraries"
   ]
  },
  {
   "cell_type": "code",
   "execution_count": 85,
   "id": "bce1c482",
   "metadata": {},
   "outputs": [],
   "source": [
    "# Importing Libraries\n",
    "\n",
    "# data analysis and wrangling\n",
    "import numpy as np\n",
    "import pandas as pd\n",
    "\n",
    "# visualization\n",
    "import seaborn as sns\n",
    "import matplotlib.pyplot as plt\n",
    "%matplotlib inline \n",
    "\n",
    "# machine learning\n",
    "from sklearn.neighbors import KNeighborsClassifier\n",
    "from sklearn.preprocessing import LabelEncoder\n",
    "from sklearn.model_selection import train_test_split\n",
    "from sklearn.metrics import confusion_matrix\n",
    "from sklearn.metrics import classification_report\n",
    "from sklearn import metrics\n",
    "from imblearn.over_sampling import SMOTE\n",
    "from sklearn.linear_model import LogisticRegression\n",
    "\n",
    "# Data Loading\n",
    "import os"
   ]
  },
  {
   "cell_type": "markdown",
   "id": "1c3f6cd8",
   "metadata": {},
   "source": [
    "Load Dataset"
   ]
  },
  {
   "cell_type": "code",
   "execution_count": 86,
   "id": "0cf8bdae",
   "metadata": {},
   "outputs": [],
   "source": [
    "# Loading Data Files\n",
    "os.chdir('C:/04-AIML/03 Supervised Learning/02 Project/Data File/Part 2')\n",
    "df_data1 = pd.read_csv(\"Part2 - Data1.csv\")\n",
    "df_data2 = pd.read_csv(\"Part2 -Data2.csv\")"
   ]
  },
  {
   "cell_type": "markdown",
   "id": "9fb584b0",
   "metadata": {},
   "source": [
    " Explore shape and size of each datasets."
   ]
  },
  {
   "cell_type": "code",
   "execution_count": 87,
   "id": "f16425ac",
   "metadata": {},
   "outputs": [
    {
     "name": "stdout",
     "output_type": "stream",
     "text": [
      "Data1 Shape is : (5000, 8)\n",
      "Data2 Shape is : (5000, 7)\n"
     ]
    }
   ],
   "source": [
    "# Shape of the each datasets\n",
    "df_data1.shape\n",
    "df_data2.shape\n",
    "print(\"Data1 Shape is :\",df_data1.shape)\n",
    "print(\"Data2 Shape is :\", df_data2.shape)"
   ]
  },
  {
   "cell_type": "code",
   "execution_count": 88,
   "id": "71cbeadd",
   "metadata": {},
   "outputs": [
    {
     "name": "stdout",
     "output_type": "stream",
     "text": [
      "Data1 Size is : 40000\n",
      "Data2 Size is : 35000\n"
     ]
    }
   ],
   "source": [
    "# Size of the each datasets\n",
    "df_data1.size\n",
    "df_data2.size\n",
    "print(\"Data1 Size is :\",df_data1.size)\n",
    "print(\"Data2 Size is :\", df_data2.size)"
   ]
  },
  {
   "cell_type": "markdown",
   "id": "0e78738d",
   "metadata": {},
   "source": [
    "Merge all datasets onto one and explore final shape and size."
   ]
  },
  {
   "cell_type": "code",
   "execution_count": 89,
   "id": "29a227dd",
   "metadata": {},
   "outputs": [],
   "source": [
    "# Merging all the datafiles into one\n",
    "df_merge = pd.merge(df_data1, df_data2, left_on='ID', right_on='ID')"
   ]
  },
  {
   "cell_type": "code",
   "execution_count": 13,
   "id": "d3b4ff21",
   "metadata": {},
   "outputs": [
    {
     "data": {
      "text/html": [
       "<div>\n",
       "<style scoped>\n",
       "    .dataframe tbody tr th:only-of-type {\n",
       "        vertical-align: middle;\n",
       "    }\n",
       "\n",
       "    .dataframe tbody tr th {\n",
       "        vertical-align: top;\n",
       "    }\n",
       "\n",
       "    .dataframe thead th {\n",
       "        text-align: right;\n",
       "    }\n",
       "</style>\n",
       "<table border=\"1\" class=\"dataframe\">\n",
       "  <thead>\n",
       "    <tr style=\"text-align: right;\">\n",
       "      <th></th>\n",
       "      <th>ID</th>\n",
       "      <th>Age</th>\n",
       "      <th>CustomerSince</th>\n",
       "      <th>HighestSpend</th>\n",
       "      <th>ZipCode</th>\n",
       "      <th>HiddenScore</th>\n",
       "      <th>MonthlyAverageSpend</th>\n",
       "      <th>Level</th>\n",
       "      <th>Mortgage</th>\n",
       "      <th>Security</th>\n",
       "      <th>FixedDepositAccount</th>\n",
       "      <th>InternetBanking</th>\n",
       "      <th>CreditCard</th>\n",
       "      <th>LoanOnCard</th>\n",
       "    </tr>\n",
       "  </thead>\n",
       "  <tbody>\n",
       "    <tr>\n",
       "      <th>0</th>\n",
       "      <td>1</td>\n",
       "      <td>25</td>\n",
       "      <td>1</td>\n",
       "      <td>49</td>\n",
       "      <td>91107</td>\n",
       "      <td>4</td>\n",
       "      <td>1.6</td>\n",
       "      <td>1</td>\n",
       "      <td>0</td>\n",
       "      <td>1</td>\n",
       "      <td>0</td>\n",
       "      <td>0</td>\n",
       "      <td>0</td>\n",
       "      <td>NaN</td>\n",
       "    </tr>\n",
       "    <tr>\n",
       "      <th>1</th>\n",
       "      <td>2</td>\n",
       "      <td>45</td>\n",
       "      <td>19</td>\n",
       "      <td>34</td>\n",
       "      <td>90089</td>\n",
       "      <td>3</td>\n",
       "      <td>1.5</td>\n",
       "      <td>1</td>\n",
       "      <td>0</td>\n",
       "      <td>1</td>\n",
       "      <td>0</td>\n",
       "      <td>0</td>\n",
       "      <td>0</td>\n",
       "      <td>NaN</td>\n",
       "    </tr>\n",
       "    <tr>\n",
       "      <th>2</th>\n",
       "      <td>3</td>\n",
       "      <td>39</td>\n",
       "      <td>15</td>\n",
       "      <td>11</td>\n",
       "      <td>94720</td>\n",
       "      <td>1</td>\n",
       "      <td>1.0</td>\n",
       "      <td>1</td>\n",
       "      <td>0</td>\n",
       "      <td>0</td>\n",
       "      <td>0</td>\n",
       "      <td>0</td>\n",
       "      <td>0</td>\n",
       "      <td>NaN</td>\n",
       "    </tr>\n",
       "    <tr>\n",
       "      <th>3</th>\n",
       "      <td>4</td>\n",
       "      <td>35</td>\n",
       "      <td>9</td>\n",
       "      <td>100</td>\n",
       "      <td>94112</td>\n",
       "      <td>1</td>\n",
       "      <td>2.7</td>\n",
       "      <td>2</td>\n",
       "      <td>0</td>\n",
       "      <td>0</td>\n",
       "      <td>0</td>\n",
       "      <td>0</td>\n",
       "      <td>0</td>\n",
       "      <td>NaN</td>\n",
       "    </tr>\n",
       "    <tr>\n",
       "      <th>4</th>\n",
       "      <td>5</td>\n",
       "      <td>35</td>\n",
       "      <td>8</td>\n",
       "      <td>45</td>\n",
       "      <td>91330</td>\n",
       "      <td>4</td>\n",
       "      <td>1.0</td>\n",
       "      <td>2</td>\n",
       "      <td>0</td>\n",
       "      <td>0</td>\n",
       "      <td>0</td>\n",
       "      <td>0</td>\n",
       "      <td>1</td>\n",
       "      <td>NaN</td>\n",
       "    </tr>\n",
       "    <tr>\n",
       "      <th>...</th>\n",
       "      <td>...</td>\n",
       "      <td>...</td>\n",
       "      <td>...</td>\n",
       "      <td>...</td>\n",
       "      <td>...</td>\n",
       "      <td>...</td>\n",
       "      <td>...</td>\n",
       "      <td>...</td>\n",
       "      <td>...</td>\n",
       "      <td>...</td>\n",
       "      <td>...</td>\n",
       "      <td>...</td>\n",
       "      <td>...</td>\n",
       "      <td>...</td>\n",
       "    </tr>\n",
       "    <tr>\n",
       "      <th>4995</th>\n",
       "      <td>4996</td>\n",
       "      <td>29</td>\n",
       "      <td>3</td>\n",
       "      <td>40</td>\n",
       "      <td>92697</td>\n",
       "      <td>1</td>\n",
       "      <td>1.9</td>\n",
       "      <td>3</td>\n",
       "      <td>0</td>\n",
       "      <td>0</td>\n",
       "      <td>0</td>\n",
       "      <td>1</td>\n",
       "      <td>0</td>\n",
       "      <td>0.0</td>\n",
       "    </tr>\n",
       "    <tr>\n",
       "      <th>4996</th>\n",
       "      <td>4997</td>\n",
       "      <td>30</td>\n",
       "      <td>4</td>\n",
       "      <td>15</td>\n",
       "      <td>92037</td>\n",
       "      <td>4</td>\n",
       "      <td>0.4</td>\n",
       "      <td>1</td>\n",
       "      <td>85</td>\n",
       "      <td>0</td>\n",
       "      <td>0</td>\n",
       "      <td>1</td>\n",
       "      <td>0</td>\n",
       "      <td>0.0</td>\n",
       "    </tr>\n",
       "    <tr>\n",
       "      <th>4997</th>\n",
       "      <td>4998</td>\n",
       "      <td>63</td>\n",
       "      <td>39</td>\n",
       "      <td>24</td>\n",
       "      <td>93023</td>\n",
       "      <td>2</td>\n",
       "      <td>0.3</td>\n",
       "      <td>3</td>\n",
       "      <td>0</td>\n",
       "      <td>0</td>\n",
       "      <td>0</td>\n",
       "      <td>0</td>\n",
       "      <td>0</td>\n",
       "      <td>0.0</td>\n",
       "    </tr>\n",
       "    <tr>\n",
       "      <th>4998</th>\n",
       "      <td>4999</td>\n",
       "      <td>65</td>\n",
       "      <td>40</td>\n",
       "      <td>49</td>\n",
       "      <td>90034</td>\n",
       "      <td>3</td>\n",
       "      <td>0.5</td>\n",
       "      <td>2</td>\n",
       "      <td>0</td>\n",
       "      <td>0</td>\n",
       "      <td>0</td>\n",
       "      <td>1</td>\n",
       "      <td>0</td>\n",
       "      <td>0.0</td>\n",
       "    </tr>\n",
       "    <tr>\n",
       "      <th>4999</th>\n",
       "      <td>5000</td>\n",
       "      <td>28</td>\n",
       "      <td>4</td>\n",
       "      <td>83</td>\n",
       "      <td>92612</td>\n",
       "      <td>3</td>\n",
       "      <td>0.8</td>\n",
       "      <td>1</td>\n",
       "      <td>0</td>\n",
       "      <td>0</td>\n",
       "      <td>0</td>\n",
       "      <td>1</td>\n",
       "      <td>1</td>\n",
       "      <td>0.0</td>\n",
       "    </tr>\n",
       "  </tbody>\n",
       "</table>\n",
       "<p>5000 rows × 14 columns</p>\n",
       "</div>"
      ],
      "text/plain": [
       "        ID  Age  CustomerSince  HighestSpend  ZipCode  HiddenScore  \\\n",
       "0        1   25              1            49    91107            4   \n",
       "1        2   45             19            34    90089            3   \n",
       "2        3   39             15            11    94720            1   \n",
       "3        4   35              9           100    94112            1   \n",
       "4        5   35              8            45    91330            4   \n",
       "...    ...  ...            ...           ...      ...          ...   \n",
       "4995  4996   29              3            40    92697            1   \n",
       "4996  4997   30              4            15    92037            4   \n",
       "4997  4998   63             39            24    93023            2   \n",
       "4998  4999   65             40            49    90034            3   \n",
       "4999  5000   28              4            83    92612            3   \n",
       "\n",
       "      MonthlyAverageSpend  Level  Mortgage  Security  FixedDepositAccount  \\\n",
       "0                     1.6      1         0         1                    0   \n",
       "1                     1.5      1         0         1                    0   \n",
       "2                     1.0      1         0         0                    0   \n",
       "3                     2.7      2         0         0                    0   \n",
       "4                     1.0      2         0         0                    0   \n",
       "...                   ...    ...       ...       ...                  ...   \n",
       "4995                  1.9      3         0         0                    0   \n",
       "4996                  0.4      1        85         0                    0   \n",
       "4997                  0.3      3         0         0                    0   \n",
       "4998                  0.5      2         0         0                    0   \n",
       "4999                  0.8      1         0         0                    0   \n",
       "\n",
       "      InternetBanking  CreditCard  LoanOnCard  \n",
       "0                   0           0         NaN  \n",
       "1                   0           0         NaN  \n",
       "2                   0           0         NaN  \n",
       "3                   0           0         NaN  \n",
       "4                   0           1         NaN  \n",
       "...               ...         ...         ...  \n",
       "4995                1           0         0.0  \n",
       "4996                1           0         0.0  \n",
       "4997                0           0         0.0  \n",
       "4998                1           0         0.0  \n",
       "4999                1           1         0.0  \n",
       "\n",
       "[5000 rows x 14 columns]"
      ]
     },
     "execution_count": 13,
     "metadata": {},
     "output_type": "execute_result"
    }
   ],
   "source": [
    "df_merge"
   ]
  },
  {
   "cell_type": "code",
   "execution_count": 91,
   "id": "46ea8417",
   "metadata": {},
   "outputs": [
    {
     "data": {
      "text/plain": [
       "(5000, 14)"
      ]
     },
     "execution_count": 91,
     "metadata": {},
     "output_type": "execute_result"
    }
   ],
   "source": [
    "# Shape of the append dataset\n",
    "df_merge.shape"
   ]
  },
  {
   "cell_type": "code",
   "execution_count": 92,
   "id": "f9f64dee",
   "metadata": {},
   "outputs": [
    {
     "data": {
      "text/plain": [
       "70000"
      ]
     },
     "execution_count": 92,
     "metadata": {},
     "output_type": "execute_result"
    }
   ],
   "source": [
    "# Size of the append dataset\n",
    "df_merge.size"
   ]
  },
  {
   "cell_type": "code",
   "execution_count": null,
   "id": "26a79daf",
   "metadata": {},
   "outputs": [],
   "source": [
    "# Storing the merge file in a folder\n",
    "df_merge.to_csv('C:/04-AIML/03 Supervised Learning/02 Project/Data File/Part 2/console_merge.csv',index=False)"
   ]
  },
  {
   "cell_type": "code",
   "execution_count": 17,
   "id": "b1681d70",
   "metadata": {},
   "outputs": [
    {
     "data": {
      "text/plain": [
       "ID                       int64\n",
       "Age                      int64\n",
       "CustomerSince            int64\n",
       "HighestSpend             int64\n",
       "ZipCode                  int64\n",
       "HiddenScore              int64\n",
       "MonthlyAverageSpend    float64\n",
       "Level                    int64\n",
       "Mortgage                 int64\n",
       "Security                 int64\n",
       "FixedDepositAccount      int64\n",
       "InternetBanking          int64\n",
       "CreditCard               int64\n",
       "LoanOnCard             float64\n",
       "dtype: object"
      ]
     },
     "execution_count": 17,
     "metadata": {},
     "output_type": "execute_result"
    }
   ],
   "source": [
    "# Check for datatypes\n",
    "df_merge.dtypes"
   ]
  },
  {
   "cell_type": "code",
   "execution_count": 93,
   "id": "17b8a6f2",
   "metadata": {},
   "outputs": [
    {
     "data": {
      "text/html": [
       "<div>\n",
       "<style scoped>\n",
       "    .dataframe tbody tr th:only-of-type {\n",
       "        vertical-align: middle;\n",
       "    }\n",
       "\n",
       "    .dataframe tbody tr th {\n",
       "        vertical-align: top;\n",
       "    }\n",
       "\n",
       "    .dataframe thead th {\n",
       "        text-align: right;\n",
       "    }\n",
       "</style>\n",
       "<table border=\"1\" class=\"dataframe\">\n",
       "  <thead>\n",
       "    <tr style=\"text-align: right;\">\n",
       "      <th></th>\n",
       "      <th>ID</th>\n",
       "      <th>Age</th>\n",
       "      <th>CustomerSince</th>\n",
       "      <th>HighestSpend</th>\n",
       "      <th>ZipCode</th>\n",
       "      <th>HiddenScore</th>\n",
       "      <th>MonthlyAverageSpend</th>\n",
       "      <th>Level</th>\n",
       "      <th>Mortgage</th>\n",
       "      <th>Security</th>\n",
       "      <th>FixedDepositAccount</th>\n",
       "      <th>InternetBanking</th>\n",
       "      <th>CreditCard</th>\n",
       "      <th>LoanOnCard</th>\n",
       "    </tr>\n",
       "  </thead>\n",
       "  <tbody>\n",
       "    <tr>\n",
       "      <th>0</th>\n",
       "      <td>1</td>\n",
       "      <td>25</td>\n",
       "      <td>1</td>\n",
       "      <td>49</td>\n",
       "      <td>91107</td>\n",
       "      <td>4</td>\n",
       "      <td>1.6</td>\n",
       "      <td>1</td>\n",
       "      <td>0</td>\n",
       "      <td>1</td>\n",
       "      <td>0</td>\n",
       "      <td>0</td>\n",
       "      <td>0</td>\n",
       "      <td>NaN</td>\n",
       "    </tr>\n",
       "    <tr>\n",
       "      <th>1</th>\n",
       "      <td>2</td>\n",
       "      <td>45</td>\n",
       "      <td>19</td>\n",
       "      <td>34</td>\n",
       "      <td>90089</td>\n",
       "      <td>3</td>\n",
       "      <td>1.5</td>\n",
       "      <td>1</td>\n",
       "      <td>0</td>\n",
       "      <td>1</td>\n",
       "      <td>0</td>\n",
       "      <td>0</td>\n",
       "      <td>0</td>\n",
       "      <td>NaN</td>\n",
       "    </tr>\n",
       "    <tr>\n",
       "      <th>2</th>\n",
       "      <td>3</td>\n",
       "      <td>39</td>\n",
       "      <td>15</td>\n",
       "      <td>11</td>\n",
       "      <td>94720</td>\n",
       "      <td>1</td>\n",
       "      <td>1.0</td>\n",
       "      <td>1</td>\n",
       "      <td>0</td>\n",
       "      <td>0</td>\n",
       "      <td>0</td>\n",
       "      <td>0</td>\n",
       "      <td>0</td>\n",
       "      <td>NaN</td>\n",
       "    </tr>\n",
       "    <tr>\n",
       "      <th>3</th>\n",
       "      <td>4</td>\n",
       "      <td>35</td>\n",
       "      <td>9</td>\n",
       "      <td>100</td>\n",
       "      <td>94112</td>\n",
       "      <td>1</td>\n",
       "      <td>2.7</td>\n",
       "      <td>2</td>\n",
       "      <td>0</td>\n",
       "      <td>0</td>\n",
       "      <td>0</td>\n",
       "      <td>0</td>\n",
       "      <td>0</td>\n",
       "      <td>NaN</td>\n",
       "    </tr>\n",
       "    <tr>\n",
       "      <th>4</th>\n",
       "      <td>5</td>\n",
       "      <td>35</td>\n",
       "      <td>8</td>\n",
       "      <td>45</td>\n",
       "      <td>91330</td>\n",
       "      <td>4</td>\n",
       "      <td>1.0</td>\n",
       "      <td>2</td>\n",
       "      <td>0</td>\n",
       "      <td>0</td>\n",
       "      <td>0</td>\n",
       "      <td>0</td>\n",
       "      <td>1</td>\n",
       "      <td>NaN</td>\n",
       "    </tr>\n",
       "  </tbody>\n",
       "</table>\n",
       "</div>"
      ],
      "text/plain": [
       "   ID  Age  CustomerSince  HighestSpend  ZipCode  HiddenScore  \\\n",
       "0   1   25              1            49    91107            4   \n",
       "1   2   45             19            34    90089            3   \n",
       "2   3   39             15            11    94720            1   \n",
       "3   4   35              9           100    94112            1   \n",
       "4   5   35              8            45    91330            4   \n",
       "\n",
       "   MonthlyAverageSpend  Level  Mortgage  Security  FixedDepositAccount  \\\n",
       "0                  1.6      1         0         1                    0   \n",
       "1                  1.5      1         0         1                    0   \n",
       "2                  1.0      1         0         0                    0   \n",
       "3                  2.7      2         0         0                    0   \n",
       "4                  1.0      2         0         0                    0   \n",
       "\n",
       "   InternetBanking  CreditCard  LoanOnCard  \n",
       "0                0           0         NaN  \n",
       "1                0           0         NaN  \n",
       "2                0           0         NaN  \n",
       "3                0           0         NaN  \n",
       "4                0           1         NaN  "
      ]
     },
     "execution_count": 93,
     "metadata": {},
     "output_type": "execute_result"
    }
   ],
   "source": [
    "# Display Header Information\n",
    "df_merge.head(5)"
   ]
  },
  {
   "cell_type": "markdown",
   "id": "14fcdfa6",
   "metadata": {},
   "source": [
    "Explore for null values and dropping the null values"
   ]
  },
  {
   "cell_type": "code",
   "execution_count": 94,
   "id": "55bfbddd",
   "metadata": {},
   "outputs": [
    {
     "data": {
      "text/plain": [
       "ID                      0\n",
       "Age                     0\n",
       "CustomerSince           0\n",
       "HighestSpend            0\n",
       "ZipCode                 0\n",
       "HiddenScore             0\n",
       "MonthlyAverageSpend     0\n",
       "Level                   0\n",
       "Mortgage                0\n",
       "Security                0\n",
       "FixedDepositAccount     0\n",
       "InternetBanking         0\n",
       "CreditCard              0\n",
       "LoanOnCard             20\n",
       "dtype: int64"
      ]
     },
     "execution_count": 94,
     "metadata": {},
     "output_type": "execute_result"
    }
   ],
   "source": [
    "# Finding Missing Value \n",
    "df_merge.isnull().sum()"
   ]
  },
  {
   "cell_type": "code",
   "execution_count": 95,
   "id": "df53f3e9",
   "metadata": {},
   "outputs": [],
   "source": [
    "# Dropping null values\n",
    "df_final = df_merge.dropna()"
   ]
  },
  {
   "cell_type": "code",
   "execution_count": 21,
   "id": "3df1fb1d",
   "metadata": {},
   "outputs": [
    {
     "data": {
      "text/plain": [
       "ID                     0\n",
       "Age                    0\n",
       "CustomerSince          0\n",
       "HighestSpend           0\n",
       "ZipCode                0\n",
       "HiddenScore            0\n",
       "MonthlyAverageSpend    0\n",
       "Level                  0\n",
       "Mortgage               0\n",
       "Security               0\n",
       "FixedDepositAccount    0\n",
       "InternetBanking        0\n",
       "CreditCard             0\n",
       "LoanOnCard             0\n",
       "dtype: int64"
      ]
     },
     "execution_count": 21,
     "metadata": {},
     "output_type": "execute_result"
    }
   ],
   "source": [
    "# Checking the null values after dropping\n",
    "df_final.isnull().sum()"
   ]
  },
  {
   "cell_type": "code",
   "execution_count": 96,
   "id": "24baeb3e",
   "metadata": {},
   "outputs": [],
   "source": [
    "# Dropping the ID and ZipCode Attributes\n",
    "df_final = df_final.drop([\"ID\",\"ZipCode\"],axis=1)"
   ]
  },
  {
   "cell_type": "code",
   "execution_count": 97,
   "id": "5d9364a8",
   "metadata": {},
   "outputs": [
    {
     "data": {
      "text/html": [
       "<div>\n",
       "<style scoped>\n",
       "    .dataframe tbody tr th:only-of-type {\n",
       "        vertical-align: middle;\n",
       "    }\n",
       "\n",
       "    .dataframe tbody tr th {\n",
       "        vertical-align: top;\n",
       "    }\n",
       "\n",
       "    .dataframe thead th {\n",
       "        text-align: right;\n",
       "    }\n",
       "</style>\n",
       "<table border=\"1\" class=\"dataframe\">\n",
       "  <thead>\n",
       "    <tr style=\"text-align: right;\">\n",
       "      <th></th>\n",
       "      <th>Age</th>\n",
       "      <th>CustomerSince</th>\n",
       "      <th>HighestSpend</th>\n",
       "      <th>HiddenScore</th>\n",
       "      <th>MonthlyAverageSpend</th>\n",
       "      <th>Level</th>\n",
       "      <th>Mortgage</th>\n",
       "      <th>Security</th>\n",
       "      <th>FixedDepositAccount</th>\n",
       "      <th>InternetBanking</th>\n",
       "      <th>CreditCard</th>\n",
       "      <th>LoanOnCard</th>\n",
       "    </tr>\n",
       "  </thead>\n",
       "  <tbody>\n",
       "    <tr>\n",
       "      <th>9</th>\n",
       "      <td>34</td>\n",
       "      <td>9</td>\n",
       "      <td>180</td>\n",
       "      <td>1</td>\n",
       "      <td>8.9</td>\n",
       "      <td>3</td>\n",
       "      <td>0</td>\n",
       "      <td>0</td>\n",
       "      <td>0</td>\n",
       "      <td>0</td>\n",
       "      <td>0</td>\n",
       "      <td>1.0</td>\n",
       "    </tr>\n",
       "    <tr>\n",
       "      <th>10</th>\n",
       "      <td>65</td>\n",
       "      <td>39</td>\n",
       "      <td>105</td>\n",
       "      <td>4</td>\n",
       "      <td>2.4</td>\n",
       "      <td>3</td>\n",
       "      <td>0</td>\n",
       "      <td>0</td>\n",
       "      <td>0</td>\n",
       "      <td>0</td>\n",
       "      <td>0</td>\n",
       "      <td>0.0</td>\n",
       "    </tr>\n",
       "    <tr>\n",
       "      <th>11</th>\n",
       "      <td>29</td>\n",
       "      <td>5</td>\n",
       "      <td>45</td>\n",
       "      <td>3</td>\n",
       "      <td>0.1</td>\n",
       "      <td>2</td>\n",
       "      <td>0</td>\n",
       "      <td>0</td>\n",
       "      <td>0</td>\n",
       "      <td>1</td>\n",
       "      <td>0</td>\n",
       "      <td>0.0</td>\n",
       "    </tr>\n",
       "    <tr>\n",
       "      <th>12</th>\n",
       "      <td>48</td>\n",
       "      <td>23</td>\n",
       "      <td>114</td>\n",
       "      <td>2</td>\n",
       "      <td>3.8</td>\n",
       "      <td>3</td>\n",
       "      <td>0</td>\n",
       "      <td>1</td>\n",
       "      <td>0</td>\n",
       "      <td>0</td>\n",
       "      <td>0</td>\n",
       "      <td>0.0</td>\n",
       "    </tr>\n",
       "    <tr>\n",
       "      <th>13</th>\n",
       "      <td>59</td>\n",
       "      <td>32</td>\n",
       "      <td>40</td>\n",
       "      <td>4</td>\n",
       "      <td>2.5</td>\n",
       "      <td>2</td>\n",
       "      <td>0</td>\n",
       "      <td>0</td>\n",
       "      <td>0</td>\n",
       "      <td>1</td>\n",
       "      <td>0</td>\n",
       "      <td>0.0</td>\n",
       "    </tr>\n",
       "  </tbody>\n",
       "</table>\n",
       "</div>"
      ],
      "text/plain": [
       "    Age  CustomerSince  HighestSpend  HiddenScore  MonthlyAverageSpend  Level  \\\n",
       "9    34              9           180            1                  8.9      3   \n",
       "10   65             39           105            4                  2.4      3   \n",
       "11   29              5            45            3                  0.1      2   \n",
       "12   48             23           114            2                  3.8      3   \n",
       "13   59             32            40            4                  2.5      2   \n",
       "\n",
       "    Mortgage  Security  FixedDepositAccount  InternetBanking  CreditCard  \\\n",
       "9          0         0                    0                0           0   \n",
       "10         0         0                    0                0           0   \n",
       "11         0         0                    0                1           0   \n",
       "12         0         1                    0                0           0   \n",
       "13         0         0                    0                1           0   \n",
       "\n",
       "    LoanOnCard  \n",
       "9          1.0  \n",
       "10         0.0  \n",
       "11         0.0  \n",
       "12         0.0  \n",
       "13         0.0  "
      ]
     },
     "execution_count": 97,
     "metadata": {},
     "output_type": "execute_result"
    }
   ],
   "source": [
    "# Displaying Header Information\n",
    "df_final.head()"
   ]
  },
  {
   "cell_type": "code",
   "execution_count": 98,
   "id": "04c25b57",
   "metadata": {},
   "outputs": [
    {
     "data": {
      "text/plain": [
       "(4980, 12)"
      ]
     },
     "execution_count": 98,
     "metadata": {},
     "output_type": "execute_result"
    }
   ],
   "source": [
    "# Check the shape of the datasets\n",
    "df_final.shape"
   ]
  },
  {
   "cell_type": "code",
   "execution_count": 99,
   "id": "b1159714",
   "metadata": {},
   "outputs": [
    {
     "data": {
      "text/plain": [
       "59760"
      ]
     },
     "execution_count": 99,
     "metadata": {},
     "output_type": "execute_result"
    }
   ],
   "source": [
    "# Check the size of the datasets\n",
    "df_final.size"
   ]
  },
  {
   "cell_type": "code",
   "execution_count": 100,
   "id": "21024fe3",
   "metadata": {},
   "outputs": [
    {
     "data": {
      "text/plain": [
       "0.0    4500\n",
       "1.0     480\n",
       "Name: LoanOnCard, dtype: int64"
      ]
     },
     "execution_count": 100,
     "metadata": {},
     "output_type": "execute_result"
    }
   ],
   "source": [
    "df_final['LoanOnCard'].value_counts()"
   ]
  },
  {
   "cell_type": "code",
   "execution_count": 27,
   "id": "c8a9d524",
   "metadata": {},
   "outputs": [
    {
     "data": {
      "text/plain": [
       "<AxesSubplot:title={'center':'LoanOnCard'}, xlabel='LoanOnCard', ylabel='count'>"
      ]
     },
     "execution_count": 27,
     "metadata": {},
     "output_type": "execute_result"
    },
    {
     "data": {
      "image/png": "[encoded data removed]",
      "text/plain": [
       "<Figure size 720x432 with 1 Axes>"
      ]
     },
     "metadata": {
      "needs_background": "light"
     },
     "output_type": "display_data"
    }
   ],
   "source": [
    "fig, ax = plt.subplots(figsize = (10,6))\n",
    "ax.set_title('LoanOnCard', color = 'red')\n",
    "sns.countplot(x = 'LoanOnCard', data = df_final)"
   ]
  },
  {
   "cell_type": "code",
   "execution_count": 101,
   "id": "0e8a76ed",
   "metadata": {},
   "outputs": [
    {
     "data": {
      "text/html": [
       "<div>\n",
       "<style scoped>\n",
       "    .dataframe tbody tr th:only-of-type {\n",
       "        vertical-align: middle;\n",
       "    }\n",
       "\n",
       "    .dataframe tbody tr th {\n",
       "        vertical-align: top;\n",
       "    }\n",
       "\n",
       "    .dataframe thead th {\n",
       "        text-align: right;\n",
       "    }\n",
       "</style>\n",
       "<table border=\"1\" class=\"dataframe\">\n",
       "  <thead>\n",
       "    <tr style=\"text-align: right;\">\n",
       "      <th></th>\n",
       "      <th>count</th>\n",
       "      <th>mean</th>\n",
       "      <th>std</th>\n",
       "      <th>min</th>\n",
       "      <th>25%</th>\n",
       "      <th>50%</th>\n",
       "      <th>75%</th>\n",
       "      <th>max</th>\n",
       "    </tr>\n",
       "  </thead>\n",
       "  <tbody>\n",
       "    <tr>\n",
       "      <th>Age</th>\n",
       "      <td>4980.0</td>\n",
       "      <td>45.352610</td>\n",
       "      <td>11.464212</td>\n",
       "      <td>23.0</td>\n",
       "      <td>35.0</td>\n",
       "      <td>45.0</td>\n",
       "      <td>55.000</td>\n",
       "      <td>67.0</td>\n",
       "    </tr>\n",
       "    <tr>\n",
       "      <th>CustomerSince</th>\n",
       "      <td>4980.0</td>\n",
       "      <td>20.117671</td>\n",
       "      <td>11.468716</td>\n",
       "      <td>-3.0</td>\n",
       "      <td>10.0</td>\n",
       "      <td>20.0</td>\n",
       "      <td>30.000</td>\n",
       "      <td>43.0</td>\n",
       "    </tr>\n",
       "    <tr>\n",
       "      <th>HighestSpend</th>\n",
       "      <td>4980.0</td>\n",
       "      <td>73.852410</td>\n",
       "      <td>46.070090</td>\n",
       "      <td>8.0</td>\n",
       "      <td>39.0</td>\n",
       "      <td>64.0</td>\n",
       "      <td>98.000</td>\n",
       "      <td>224.0</td>\n",
       "    </tr>\n",
       "    <tr>\n",
       "      <th>HiddenScore</th>\n",
       "      <td>4980.0</td>\n",
       "      <td>2.395582</td>\n",
       "      <td>1.147200</td>\n",
       "      <td>1.0</td>\n",
       "      <td>1.0</td>\n",
       "      <td>2.0</td>\n",
       "      <td>3.000</td>\n",
       "      <td>4.0</td>\n",
       "    </tr>\n",
       "    <tr>\n",
       "      <th>MonthlyAverageSpend</th>\n",
       "      <td>4980.0</td>\n",
       "      <td>1.939536</td>\n",
       "      <td>1.750006</td>\n",
       "      <td>0.0</td>\n",
       "      <td>0.7</td>\n",
       "      <td>1.5</td>\n",
       "      <td>2.525</td>\n",
       "      <td>10.0</td>\n",
       "    </tr>\n",
       "    <tr>\n",
       "      <th>Level</th>\n",
       "      <td>4980.0</td>\n",
       "      <td>1.880924</td>\n",
       "      <td>0.840144</td>\n",
       "      <td>1.0</td>\n",
       "      <td>1.0</td>\n",
       "      <td>2.0</td>\n",
       "      <td>3.000</td>\n",
       "      <td>3.0</td>\n",
       "    </tr>\n",
       "    <tr>\n",
       "      <th>Mortgage</th>\n",
       "      <td>4980.0</td>\n",
       "      <td>56.589759</td>\n",
       "      <td>101.836758</td>\n",
       "      <td>0.0</td>\n",
       "      <td>0.0</td>\n",
       "      <td>0.0</td>\n",
       "      <td>101.000</td>\n",
       "      <td>635.0</td>\n",
       "    </tr>\n",
       "    <tr>\n",
       "      <th>Security</th>\n",
       "      <td>4980.0</td>\n",
       "      <td>0.104418</td>\n",
       "      <td>0.305832</td>\n",
       "      <td>0.0</td>\n",
       "      <td>0.0</td>\n",
       "      <td>0.0</td>\n",
       "      <td>0.000</td>\n",
       "      <td>1.0</td>\n",
       "    </tr>\n",
       "    <tr>\n",
       "      <th>FixedDepositAccount</th>\n",
       "      <td>4980.0</td>\n",
       "      <td>0.060643</td>\n",
       "      <td>0.238697</td>\n",
       "      <td>0.0</td>\n",
       "      <td>0.0</td>\n",
       "      <td>0.0</td>\n",
       "      <td>0.000</td>\n",
       "      <td>1.0</td>\n",
       "    </tr>\n",
       "    <tr>\n",
       "      <th>InternetBanking</th>\n",
       "      <td>4980.0</td>\n",
       "      <td>0.597189</td>\n",
       "      <td>0.490513</td>\n",
       "      <td>0.0</td>\n",
       "      <td>0.0</td>\n",
       "      <td>1.0</td>\n",
       "      <td>1.000</td>\n",
       "      <td>1.0</td>\n",
       "    </tr>\n",
       "    <tr>\n",
       "      <th>CreditCard</th>\n",
       "      <td>4980.0</td>\n",
       "      <td>0.294378</td>\n",
       "      <td>0.455808</td>\n",
       "      <td>0.0</td>\n",
       "      <td>0.0</td>\n",
       "      <td>0.0</td>\n",
       "      <td>1.000</td>\n",
       "      <td>1.0</td>\n",
       "    </tr>\n",
       "    <tr>\n",
       "      <th>LoanOnCard</th>\n",
       "      <td>4980.0</td>\n",
       "      <td>0.096386</td>\n",
       "      <td>0.295149</td>\n",
       "      <td>0.0</td>\n",
       "      <td>0.0</td>\n",
       "      <td>0.0</td>\n",
       "      <td>0.000</td>\n",
       "      <td>1.0</td>\n",
       "    </tr>\n",
       "  </tbody>\n",
       "</table>\n",
       "</div>"
      ],
      "text/plain": [
       "                      count       mean         std   min   25%   50%      75%  \\\n",
       "Age                  4980.0  45.352610   11.464212  23.0  35.0  45.0   55.000   \n",
       "CustomerSince        4980.0  20.117671   11.468716  -3.0  10.0  20.0   30.000   \n",
       "HighestSpend         4980.0  73.852410   46.070090   8.0  39.0  64.0   98.000   \n",
       "HiddenScore          4980.0   2.395582    1.147200   1.0   1.0   2.0    3.000   \n",
       "MonthlyAverageSpend  4980.0   1.939536    1.750006   0.0   0.7   1.5    2.525   \n",
       "Level                4980.0   1.880924    0.840144   1.0   1.0   2.0    3.000   \n",
       "Mortgage             4980.0  56.589759  101.836758   0.0   0.0   0.0  101.000   \n",
       "Security             4980.0   0.104418    0.305832   0.0   0.0   0.0    0.000   \n",
       "FixedDepositAccount  4980.0   0.060643    0.238697   0.0   0.0   0.0    0.000   \n",
       "InternetBanking      4980.0   0.597189    0.490513   0.0   0.0   1.0    1.000   \n",
       "CreditCard           4980.0   0.294378    0.455808   0.0   0.0   0.0    1.000   \n",
       "LoanOnCard           4980.0   0.096386    0.295149   0.0   0.0   0.0    0.000   \n",
       "\n",
       "                       max  \n",
       "Age                   67.0  \n",
       "CustomerSince         43.0  \n",
       "HighestSpend         224.0  \n",
       "HiddenScore            4.0  \n",
       "MonthlyAverageSpend   10.0  \n",
       "Level                  3.0  \n",
       "Mortgage             635.0  \n",
       "Security               1.0  \n",
       "FixedDepositAccount    1.0  \n",
       "InternetBanking        1.0  \n",
       "CreditCard             1.0  \n",
       "LoanOnCard             1.0  "
      ]
     },
     "execution_count": 101,
     "metadata": {},
     "output_type": "execute_result"
    }
   ],
   "source": [
    "# Descriptive Statistics\n",
    "df_final.describe().T"
   ]
  },
  {
   "cell_type": "code",
   "execution_count": 102,
   "id": "72d98cde",
   "metadata": {},
   "outputs": [
    {
     "data": {
      "text/plain": [
       "<AxesSubplot:>"
      ]
     },
     "execution_count": 102,
     "metadata": {},
     "output_type": "execute_result"
    },
    {
     "data": {
      "image/png": "[encoded data removed]",
      "text/plain": [
       "<Figure size 720x360 with 1 Axes>"
      ]
     },
     "metadata": {
      "needs_background": "light"
     },
     "output_type": "display_data"
    }
   ],
   "source": [
    "# Check for Outliers\n",
    "df_final.boxplot(column = ['Age', 'CustomerSince', 'HighestSpend', 'MonthlyAverageSpend'], figsize = (10,5))"
   ]
  },
  {
   "cell_type": "markdown",
   "id": "fb625a31",
   "metadata": {},
   "source": [
    " 1. It is evident that highest spend and Montly Average Spend is having outliers\n",
    " 2. Median is high for the attribute 'HighestSpend' in compare to 'Age' , 'CustomerSince' & 'MonthlyAverageSpend'"
   ]
  },
  {
   "cell_type": "code",
   "execution_count": 103,
   "id": "b43d42d3",
   "metadata": {},
   "outputs": [
    {
     "data": {
      "text/plain": [
       "count    4980.000000\n",
       "mean       45.352610\n",
       "std        11.464212\n",
       "min        23.000000\n",
       "25%        35.000000\n",
       "50%        45.000000\n",
       "75%        55.000000\n",
       "max        67.000000\n",
       "Name: Age, dtype: float64"
      ]
     },
     "execution_count": 103,
     "metadata": {},
     "output_type": "execute_result"
    }
   ],
   "source": [
    "df_final['Age'].describe()"
   ]
  },
  {
   "cell_type": "markdown",
   "id": "5eaba205",
   "metadata": {},
   "source": [
    "Range of Age = Max- Min = 67-23 = 44\n",
    "\n",
    "Interquartile Range of Age = Q3-Q1 = 55-35 = 20"
   ]
  },
  {
   "cell_type": "code",
   "execution_count": 104,
   "id": "183b0803",
   "metadata": {},
   "outputs": [],
   "source": [
    "#Check number of outliers greater than upper fence and determining Lower Fence\n",
    "\n",
    "out=[]\n",
    "def iqr_outliers(df_final):\n",
    "    q1 = df_final.quantile(0.25)\n",
    "    q3 = df_final.quantile(0.75)\n",
    "    iqr = q3-q1\n",
    "    Lower_fence = q1 - 1.5 * iqr\n",
    "    Upper_fence = q3 + 1.5 * iqr\n",
    "    for i in df_final:\n",
    "         if i > Upper_fence :\n",
    "                 out.append(i)\n",
    "    print(\"Outliers:\",out)\n",
    "    \n",
    "    print('Lower Fence is', Lower_fence)\n",
    "    print('Upper Fence is', Upper_fence)"
   ]
  },
  {
   "cell_type": "code",
   "execution_count": 32,
   "id": "cdf82634",
   "metadata": {},
   "outputs": [
    {
     "name": "stdout",
     "output_type": "stream",
     "text": [
      "Outliers: [193, 194, 190, 188, 195, 191, 200, 205, 204, 195, 192, 194, 202, 195, 200, 193, 192, 195, 191, 188, 191, 190, 190, 194, 195, 192, 190, 195, 191, 192, 195, 192, 193, 190, 198, 201, 200, 188, 192, 190, 194, 201, 191, 191, 188, 203, 189, 193, 190, 204, 198, 201, 201, 191, 191, 195, 190, 188, 190, 195, 195, 205, 198, 190, 191, 191, 195, 194, 194, 202, 191, 199, 203, 188, 224, 188, 189, 191, 190, 195, 193, 204, 194, 195, 191, 188, 195, 188, 193, 199, 188, 199, 194, 201, 195, 218]\n",
      "Lower Fence is -49.5\n",
      "Upper Fence is 186.5\n"
     ]
    }
   ],
   "source": [
    "iqr_outliers(df_final['HighestSpend'])"
   ]
  },
  {
   "cell_type": "code",
   "execution_count": 105,
   "id": "f1e608de",
   "metadata": {},
   "outputs": [
    {
     "data": {
      "text/html": [
       "<div>\n",
       "<style scoped>\n",
       "    .dataframe tbody tr th:only-of-type {\n",
       "        vertical-align: middle;\n",
       "    }\n",
       "\n",
       "    .dataframe tbody tr th {\n",
       "        vertical-align: top;\n",
       "    }\n",
       "\n",
       "    .dataframe thead th {\n",
       "        text-align: right;\n",
       "    }\n",
       "</style>\n",
       "<table border=\"1\" class=\"dataframe\">\n",
       "  <thead>\n",
       "    <tr style=\"text-align: right;\">\n",
       "      <th></th>\n",
       "      <th>Age</th>\n",
       "      <th>CustomerSince</th>\n",
       "      <th>HighestSpend</th>\n",
       "      <th>HiddenScore</th>\n",
       "      <th>MonthlyAverageSpend</th>\n",
       "      <th>Level</th>\n",
       "      <th>Mortgage</th>\n",
       "      <th>Security</th>\n",
       "      <th>FixedDepositAccount</th>\n",
       "      <th>InternetBanking</th>\n",
       "      <th>CreditCard</th>\n",
       "      <th>LoanOnCard</th>\n",
       "    </tr>\n",
       "  </thead>\n",
       "  <tbody>\n",
       "    <tr>\n",
       "      <th>9</th>\n",
       "      <td>34</td>\n",
       "      <td>9</td>\n",
       "      <td>180</td>\n",
       "      <td>1</td>\n",
       "      <td>8.9</td>\n",
       "      <td>3</td>\n",
       "      <td>0</td>\n",
       "      <td>0</td>\n",
       "      <td>0</td>\n",
       "      <td>0</td>\n",
       "      <td>0</td>\n",
       "      <td>1.0</td>\n",
       "    </tr>\n",
       "    <tr>\n",
       "      <th>10</th>\n",
       "      <td>65</td>\n",
       "      <td>39</td>\n",
       "      <td>105</td>\n",
       "      <td>4</td>\n",
       "      <td>2.4</td>\n",
       "      <td>3</td>\n",
       "      <td>0</td>\n",
       "      <td>0</td>\n",
       "      <td>0</td>\n",
       "      <td>0</td>\n",
       "      <td>0</td>\n",
       "      <td>0.0</td>\n",
       "    </tr>\n",
       "    <tr>\n",
       "      <th>11</th>\n",
       "      <td>29</td>\n",
       "      <td>5</td>\n",
       "      <td>45</td>\n",
       "      <td>3</td>\n",
       "      <td>0.1</td>\n",
       "      <td>2</td>\n",
       "      <td>0</td>\n",
       "      <td>0</td>\n",
       "      <td>0</td>\n",
       "      <td>1</td>\n",
       "      <td>0</td>\n",
       "      <td>0.0</td>\n",
       "    </tr>\n",
       "    <tr>\n",
       "      <th>12</th>\n",
       "      <td>48</td>\n",
       "      <td>23</td>\n",
       "      <td>114</td>\n",
       "      <td>2</td>\n",
       "      <td>3.8</td>\n",
       "      <td>3</td>\n",
       "      <td>0</td>\n",
       "      <td>1</td>\n",
       "      <td>0</td>\n",
       "      <td>0</td>\n",
       "      <td>0</td>\n",
       "      <td>0.0</td>\n",
       "    </tr>\n",
       "    <tr>\n",
       "      <th>13</th>\n",
       "      <td>59</td>\n",
       "      <td>32</td>\n",
       "      <td>40</td>\n",
       "      <td>4</td>\n",
       "      <td>2.5</td>\n",
       "      <td>2</td>\n",
       "      <td>0</td>\n",
       "      <td>0</td>\n",
       "      <td>0</td>\n",
       "      <td>1</td>\n",
       "      <td>0</td>\n",
       "      <td>0.0</td>\n",
       "    </tr>\n",
       "    <tr>\n",
       "      <th>...</th>\n",
       "      <td>...</td>\n",
       "      <td>...</td>\n",
       "      <td>...</td>\n",
       "      <td>...</td>\n",
       "      <td>...</td>\n",
       "      <td>...</td>\n",
       "      <td>...</td>\n",
       "      <td>...</td>\n",
       "      <td>...</td>\n",
       "      <td>...</td>\n",
       "      <td>...</td>\n",
       "      <td>...</td>\n",
       "    </tr>\n",
       "    <tr>\n",
       "      <th>4995</th>\n",
       "      <td>29</td>\n",
       "      <td>3</td>\n",
       "      <td>40</td>\n",
       "      <td>1</td>\n",
       "      <td>1.9</td>\n",
       "      <td>3</td>\n",
       "      <td>0</td>\n",
       "      <td>0</td>\n",
       "      <td>0</td>\n",
       "      <td>1</td>\n",
       "      <td>0</td>\n",
       "      <td>0.0</td>\n",
       "    </tr>\n",
       "    <tr>\n",
       "      <th>4996</th>\n",
       "      <td>30</td>\n",
       "      <td>4</td>\n",
       "      <td>15</td>\n",
       "      <td>4</td>\n",
       "      <td>0.4</td>\n",
       "      <td>1</td>\n",
       "      <td>85</td>\n",
       "      <td>0</td>\n",
       "      <td>0</td>\n",
       "      <td>1</td>\n",
       "      <td>0</td>\n",
       "      <td>0.0</td>\n",
       "    </tr>\n",
       "    <tr>\n",
       "      <th>4997</th>\n",
       "      <td>63</td>\n",
       "      <td>39</td>\n",
       "      <td>24</td>\n",
       "      <td>2</td>\n",
       "      <td>0.3</td>\n",
       "      <td>3</td>\n",
       "      <td>0</td>\n",
       "      <td>0</td>\n",
       "      <td>0</td>\n",
       "      <td>0</td>\n",
       "      <td>0</td>\n",
       "      <td>0.0</td>\n",
       "    </tr>\n",
       "    <tr>\n",
       "      <th>4998</th>\n",
       "      <td>65</td>\n",
       "      <td>40</td>\n",
       "      <td>49</td>\n",
       "      <td>3</td>\n",
       "      <td>0.5</td>\n",
       "      <td>2</td>\n",
       "      <td>0</td>\n",
       "      <td>0</td>\n",
       "      <td>0</td>\n",
       "      <td>1</td>\n",
       "      <td>0</td>\n",
       "      <td>0.0</td>\n",
       "    </tr>\n",
       "    <tr>\n",
       "      <th>4999</th>\n",
       "      <td>28</td>\n",
       "      <td>4</td>\n",
       "      <td>83</td>\n",
       "      <td>3</td>\n",
       "      <td>0.8</td>\n",
       "      <td>1</td>\n",
       "      <td>0</td>\n",
       "      <td>0</td>\n",
       "      <td>0</td>\n",
       "      <td>1</td>\n",
       "      <td>1</td>\n",
       "      <td>0.0</td>\n",
       "    </tr>\n",
       "  </tbody>\n",
       "</table>\n",
       "<p>4884 rows × 12 columns</p>\n",
       "</div>"
      ],
      "text/plain": [
       "      Age  CustomerSince  HighestSpend  HiddenScore  MonthlyAverageSpend  \\\n",
       "9      34              9           180            1                  8.9   \n",
       "10     65             39           105            4                  2.4   \n",
       "11     29              5            45            3                  0.1   \n",
       "12     48             23           114            2                  3.8   \n",
       "13     59             32            40            4                  2.5   \n",
       "...   ...            ...           ...          ...                  ...   \n",
       "4995   29              3            40            1                  1.9   \n",
       "4996   30              4            15            4                  0.4   \n",
       "4997   63             39            24            2                  0.3   \n",
       "4998   65             40            49            3                  0.5   \n",
       "4999   28              4            83            3                  0.8   \n",
       "\n",
       "      Level  Mortgage  Security  FixedDepositAccount  InternetBanking  \\\n",
       "9         3         0         0                    0                0   \n",
       "10        3         0         0                    0                0   \n",
       "11        2         0         0                    0                1   \n",
       "12        3         0         1                    0                0   \n",
       "13        2         0         0                    0                1   \n",
       "...     ...       ...       ...                  ...              ...   \n",
       "4995      3         0         0                    0                1   \n",
       "4996      1        85         0                    0                1   \n",
       "4997      3         0         0                    0                0   \n",
       "4998      2         0         0                    0                1   \n",
       "4999      1         0         0                    0                1   \n",
       "\n",
       "      CreditCard  LoanOnCard  \n",
       "9              0         1.0  \n",
       "10             0         0.0  \n",
       "11             0         0.0  \n",
       "12             0         0.0  \n",
       "13             0         0.0  \n",
       "...          ...         ...  \n",
       "4995           0         0.0  \n",
       "4996           0         0.0  \n",
       "4997           0         0.0  \n",
       "4998           0         0.0  \n",
       "4999           1         0.0  \n",
       "\n",
       "[4884 rows x 12 columns]"
      ]
     },
     "execution_count": 105,
     "metadata": {},
     "output_type": "execute_result"
    }
   ],
   "source": [
    "# Drop the values that are greater than upper fence.\n",
    "df1=df_final[df_final['HighestSpend']<186.5] \n",
    "df1"
   ]
  },
  {
   "cell_type": "markdown",
   "id": "d37abcb9",
   "metadata": {},
   "source": [
    "Detecting and Removing Outliers"
   ]
  },
  {
   "cell_type": "code",
   "execution_count": 108,
   "id": "10d46474",
   "metadata": {},
   "outputs": [],
   "source": [
    "#Check number of outliers greater than upper fence and determining Lower Fence\n",
    "\n",
    "out=[]\n",
    "def iqr_outliers(df1):\n",
    "    q1 = df1.quantile(0.25)\n",
    "    q3 = df1.quantile(0.75)\n",
    "    iqr = q3-q1\n",
    "    Lower_fence = q1 - 1.5 * iqr\n",
    "    Upper_fence = q3 + 1.5 * iqr\n",
    "    for i in df1:\n",
    "         if i > Upper_fence :\n",
    "                 out.append(i)\n",
    "    print(\"Outliers:\",out)\n",
    "    \n",
    "    print('Lower Fence is', Lower_fence)\n",
    "    print('Upper Fence is', Upper_fence)"
   ]
  },
  {
   "cell_type": "code",
   "execution_count": 109,
   "id": "a5b4cd64",
   "metadata": {},
   "outputs": [
    {
     "name": "stdout",
     "output_type": "stream",
     "text": [
      "Outliers: [8.9, 5.7, 8.0, 5.7, 5.6, 7.2, 7.4, 7.5, 6.5, 6.5, 7.8, 7.9, 6.8, 7.4, 7.5, 7.9, 6.2, 5.5, 6.9, 7.5, 7.3, 6.1, 6.6, 5.3, 7.5, 6.8, 7.0, 6.6, 6.3, 7.5, 5.7, 8.3, 5.5, 6.9, 6.1, 6.0, 8.0, 6.8, 7.8, 7.2, 6.5, 6.8, 6.0, 7.2, 8.6, 6.9, 6.1, 7.8, 6.0, 7.6, 7.4, 6.1, 7.0, 6.9, 7.6, 6.3, 7.6, 6.0, 5.9, 8.1, 5.4, 8.8, 5.4, 6.33, 8.1, 5.7, 7.6, 7.3, 7.0, 5.7, 6.1, 6.9, 6.8, 7.0, 6.5, 7.4, 7.8, 8.0, 7.0, 8.0, 6.8, 6.3, 6.3, 8.1, 5.4, 6.9, 9.0, 6.0, 8.6, 5.9, 5.4, 7.4, 6.8, 5.4, 7.3, 7.4, 6.7, 6.9, 6.0, 7.0, 6.7, 7.4, 6.3, 6.0, 6.0, 7.6, 7.4, 7.2, 5.3, 5.7, 8.6, 5.8, 7.8, 6.0, 5.4, 7.4, 8.1, 6.0, 6.33, 6.0, 6.5, 5.67, 7.3, 8.5, 8.0, 6.7, 7.3, 8.0, 6.5, 6.5, 5.67, 7.3, 8.0, 5.4, 5.7, 6.9, 7.0, 6.7, 6.8, 5.9, 7.5, 5.6, 6.67, 6.1, 7.5, 8.0, 6.1, 6.7, 7.4, 7.3, 6.7, 6.5, 6.1, 6.0, 6.9, 6.3, 7.8, 6.67, 6.0, 6.1, 7.4, 7.9, 7.5, 5.4, 5.7, 5.4, 7.2, 5.4, 8.0, 6.1, 5.7, 5.4, 7.2, 8.8, 7.0, 6.5, 7.9, 6.3, 6.9, 7.6, 6.0, 5.8, 8.2, 5.7, 6.67, 8.1, 7.5, 7.8, 5.9, 6.7, 7.0, 8.6, 7.0, 6.1, 5.5, 5.7, 5.4, 6.9, 8.0, 7.5, 6.1, 5.4, 7.8, 6.0, 5.33, 7.2, 8.6, 6.7, 8.0, 7.4, 6.9, 6.4, 6.0, 5.4, 7.0, 6.5, 5.6, 5.6, 5.8, 5.4, 6.0, 6.3, 6.9, 6.3, 8.1, 5.7, 6.0, 5.4, 6.8, 7.8, 6.5, 9.0, 7.2, 6.0, 5.6, 7.5, 5.5, 6.5, 6.3, 6.7, 7.2, 6.5, 5.9, 6.8, 7.6, 7.6, 7.2, 6.33, 7.3, 7.2, 7.4, 6.0, 6.1, 6.4, 6.0, 8.1, 5.6, 6.3, 7.3, 8.5, 5.3, 6.0, 5.4, 6.3, 8.6, 6.2, 6.6, 8.0, 6.5, 7.2, 6.0, 6.6, 6.0, 7.2, 7.0, 6.0, 5.4, 6.1, 7.5, 8.6, 5.3]\n",
      "Lower Fence is -2.0\n",
      "Upper Fence is 5.2\n"
     ]
    }
   ],
   "source": [
    "iqr_outliers(df1['MonthlyAverageSpend'])"
   ]
  },
  {
   "cell_type": "code",
   "execution_count": 110,
   "id": "82e6dae7",
   "metadata": {},
   "outputs": [
    {
     "data": {
      "text/html": [
       "<div>\n",
       "<style scoped>\n",
       "    .dataframe tbody tr th:only-of-type {\n",
       "        vertical-align: middle;\n",
       "    }\n",
       "\n",
       "    .dataframe tbody tr th {\n",
       "        vertical-align: top;\n",
       "    }\n",
       "\n",
       "    .dataframe thead th {\n",
       "        text-align: right;\n",
       "    }\n",
       "</style>\n",
       "<table border=\"1\" class=\"dataframe\">\n",
       "  <thead>\n",
       "    <tr style=\"text-align: right;\">\n",
       "      <th></th>\n",
       "      <th>Age</th>\n",
       "      <th>CustomerSince</th>\n",
       "      <th>HighestSpend</th>\n",
       "      <th>HiddenScore</th>\n",
       "      <th>MonthlyAverageSpend</th>\n",
       "      <th>Level</th>\n",
       "      <th>Mortgage</th>\n",
       "      <th>Security</th>\n",
       "      <th>FixedDepositAccount</th>\n",
       "      <th>InternetBanking</th>\n",
       "      <th>CreditCard</th>\n",
       "      <th>LoanOnCard</th>\n",
       "    </tr>\n",
       "  </thead>\n",
       "  <tbody>\n",
       "    <tr>\n",
       "      <th>10</th>\n",
       "      <td>65</td>\n",
       "      <td>39</td>\n",
       "      <td>105</td>\n",
       "      <td>4</td>\n",
       "      <td>2.4</td>\n",
       "      <td>3</td>\n",
       "      <td>0</td>\n",
       "      <td>0</td>\n",
       "      <td>0</td>\n",
       "      <td>0</td>\n",
       "      <td>0</td>\n",
       "      <td>0.0</td>\n",
       "    </tr>\n",
       "    <tr>\n",
       "      <th>11</th>\n",
       "      <td>29</td>\n",
       "      <td>5</td>\n",
       "      <td>45</td>\n",
       "      <td>3</td>\n",
       "      <td>0.1</td>\n",
       "      <td>2</td>\n",
       "      <td>0</td>\n",
       "      <td>0</td>\n",
       "      <td>0</td>\n",
       "      <td>1</td>\n",
       "      <td>0</td>\n",
       "      <td>0.0</td>\n",
       "    </tr>\n",
       "    <tr>\n",
       "      <th>12</th>\n",
       "      <td>48</td>\n",
       "      <td>23</td>\n",
       "      <td>114</td>\n",
       "      <td>2</td>\n",
       "      <td>3.8</td>\n",
       "      <td>3</td>\n",
       "      <td>0</td>\n",
       "      <td>1</td>\n",
       "      <td>0</td>\n",
       "      <td>0</td>\n",
       "      <td>0</td>\n",
       "      <td>0.0</td>\n",
       "    </tr>\n",
       "    <tr>\n",
       "      <th>13</th>\n",
       "      <td>59</td>\n",
       "      <td>32</td>\n",
       "      <td>40</td>\n",
       "      <td>4</td>\n",
       "      <td>2.5</td>\n",
       "      <td>2</td>\n",
       "      <td>0</td>\n",
       "      <td>0</td>\n",
       "      <td>0</td>\n",
       "      <td>1</td>\n",
       "      <td>0</td>\n",
       "      <td>0.0</td>\n",
       "    </tr>\n",
       "    <tr>\n",
       "      <th>14</th>\n",
       "      <td>67</td>\n",
       "      <td>41</td>\n",
       "      <td>112</td>\n",
       "      <td>1</td>\n",
       "      <td>2.0</td>\n",
       "      <td>1</td>\n",
       "      <td>0</td>\n",
       "      <td>1</td>\n",
       "      <td>0</td>\n",
       "      <td>0</td>\n",
       "      <td>0</td>\n",
       "      <td>0.0</td>\n",
       "    </tr>\n",
       "    <tr>\n",
       "      <th>...</th>\n",
       "      <td>...</td>\n",
       "      <td>...</td>\n",
       "      <td>...</td>\n",
       "      <td>...</td>\n",
       "      <td>...</td>\n",
       "      <td>...</td>\n",
       "      <td>...</td>\n",
       "      <td>...</td>\n",
       "      <td>...</td>\n",
       "      <td>...</td>\n",
       "      <td>...</td>\n",
       "      <td>...</td>\n",
       "    </tr>\n",
       "    <tr>\n",
       "      <th>4995</th>\n",
       "      <td>29</td>\n",
       "      <td>3</td>\n",
       "      <td>40</td>\n",
       "      <td>1</td>\n",
       "      <td>1.9</td>\n",
       "      <td>3</td>\n",
       "      <td>0</td>\n",
       "      <td>0</td>\n",
       "      <td>0</td>\n",
       "      <td>1</td>\n",
       "      <td>0</td>\n",
       "      <td>0.0</td>\n",
       "    </tr>\n",
       "    <tr>\n",
       "      <th>4996</th>\n",
       "      <td>30</td>\n",
       "      <td>4</td>\n",
       "      <td>15</td>\n",
       "      <td>4</td>\n",
       "      <td>0.4</td>\n",
       "      <td>1</td>\n",
       "      <td>85</td>\n",
       "      <td>0</td>\n",
       "      <td>0</td>\n",
       "      <td>1</td>\n",
       "      <td>0</td>\n",
       "      <td>0.0</td>\n",
       "    </tr>\n",
       "    <tr>\n",
       "      <th>4997</th>\n",
       "      <td>63</td>\n",
       "      <td>39</td>\n",
       "      <td>24</td>\n",
       "      <td>2</td>\n",
       "      <td>0.3</td>\n",
       "      <td>3</td>\n",
       "      <td>0</td>\n",
       "      <td>0</td>\n",
       "      <td>0</td>\n",
       "      <td>0</td>\n",
       "      <td>0</td>\n",
       "      <td>0.0</td>\n",
       "    </tr>\n",
       "    <tr>\n",
       "      <th>4998</th>\n",
       "      <td>65</td>\n",
       "      <td>40</td>\n",
       "      <td>49</td>\n",
       "      <td>3</td>\n",
       "      <td>0.5</td>\n",
       "      <td>2</td>\n",
       "      <td>0</td>\n",
       "      <td>0</td>\n",
       "      <td>0</td>\n",
       "      <td>1</td>\n",
       "      <td>0</td>\n",
       "      <td>0.0</td>\n",
       "    </tr>\n",
       "    <tr>\n",
       "      <th>4999</th>\n",
       "      <td>28</td>\n",
       "      <td>4</td>\n",
       "      <td>83</td>\n",
       "      <td>3</td>\n",
       "      <td>0.8</td>\n",
       "      <td>1</td>\n",
       "      <td>0</td>\n",
       "      <td>0</td>\n",
       "      <td>0</td>\n",
       "      <td>1</td>\n",
       "      <td>1</td>\n",
       "      <td>0.0</td>\n",
       "    </tr>\n",
       "  </tbody>\n",
       "</table>\n",
       "<p>4589 rows × 12 columns</p>\n",
       "</div>"
      ],
      "text/plain": [
       "      Age  CustomerSince  HighestSpend  HiddenScore  MonthlyAverageSpend  \\\n",
       "10     65             39           105            4                  2.4   \n",
       "11     29              5            45            3                  0.1   \n",
       "12     48             23           114            2                  3.8   \n",
       "13     59             32            40            4                  2.5   \n",
       "14     67             41           112            1                  2.0   \n",
       "...   ...            ...           ...          ...                  ...   \n",
       "4995   29              3            40            1                  1.9   \n",
       "4996   30              4            15            4                  0.4   \n",
       "4997   63             39            24            2                  0.3   \n",
       "4998   65             40            49            3                  0.5   \n",
       "4999   28              4            83            3                  0.8   \n",
       "\n",
       "      Level  Mortgage  Security  FixedDepositAccount  InternetBanking  \\\n",
       "10        3         0         0                    0                0   \n",
       "11        2         0         0                    0                1   \n",
       "12        3         0         1                    0                0   \n",
       "13        2         0         0                    0                1   \n",
       "14        1         0         1                    0                0   \n",
       "...     ...       ...       ...                  ...              ...   \n",
       "4995      3         0         0                    0                1   \n",
       "4996      1        85         0                    0                1   \n",
       "4997      3         0         0                    0                0   \n",
       "4998      2         0         0                    0                1   \n",
       "4999      1         0         0                    0                1   \n",
       "\n",
       "      CreditCard  LoanOnCard  \n",
       "10             0         0.0  \n",
       "11             0         0.0  \n",
       "12             0         0.0  \n",
       "13             0         0.0  \n",
       "14             0         0.0  \n",
       "...          ...         ...  \n",
       "4995           0         0.0  \n",
       "4996           0         0.0  \n",
       "4997           0         0.0  \n",
       "4998           0         0.0  \n",
       "4999           1         0.0  \n",
       "\n",
       "[4589 rows x 12 columns]"
      ]
     },
     "execution_count": 110,
     "metadata": {},
     "output_type": "execute_result"
    }
   ],
   "source": [
    "# Drop the values that are greater than upper fence.\n",
    "df2=df1[df1['MonthlyAverageSpend']<5.2] \n",
    "df2"
   ]
  },
  {
   "cell_type": "code",
   "execution_count": 160,
   "id": "14dfb666",
   "metadata": {},
   "outputs": [
    {
     "data": {
      "text/plain": [
       "<AxesSubplot:>"
      ]
     },
     "execution_count": 160,
     "metadata": {},
     "output_type": "execute_result"
    },
    {
     "data": {
      "image/png": "[encoded data removed]",
      "text/plain": [
       "<Figure size 720x360 with 1 Axes>"
      ]
     },
     "metadata": {
      "needs_background": "light"
     },
     "output_type": "display_data"
    }
   ],
   "source": [
    "df2.boxplot(column = [ 'HighestSpend', 'MonthlyAverageSpend'], figsize = (10,5))"
   ]
  },
  {
   "cell_type": "code",
   "execution_count": 162,
   "id": "0b8ada79",
   "metadata": {},
   "outputs": [
    {
     "data": {
      "image/png": "[encoded data removed]",
      "text/plain": [
       "<Figure size 645.375x576 with 1 Axes>"
      ]
     },
     "metadata": {
      "needs_background": "light"
     },
     "output_type": "display_data"
    }
   ],
   "source": [
    "#Distribution plots of ages & Loan on Card\n",
    "g=sns.displot(data=df_final, x=\"Age\", hue=\"LoanOnCard\", kde=True, alpha=0.25, height=8, aspect=1, bins=[x for x in np.linspace(0,80,17)])\n",
    "g.set(xticks=[x for x in np.linspace(0,80,17)]);"
   ]
  },
  {
   "cell_type": "markdown",
   "id": "a89a6b9e",
   "metadata": {},
   "source": [
    "1.Higher Frequency of distribution for age is in between 30-60 Years\n",
    "\n",
    "2.Across all the age group the percentage of no Loan on Card is far higher\n",
    "\n",
    "3. Assumption on 'LoanOnCard' :0 - No Loan  1 - Loan\n"
   ]
  },
  {
   "cell_type": "code",
   "execution_count": 112,
   "id": "d462d372",
   "metadata": {},
   "outputs": [
    {
     "data": {
      "text/html": [
       "<div>\n",
       "<style scoped>\n",
       "    .dataframe tbody tr th:only-of-type {\n",
       "        vertical-align: middle;\n",
       "    }\n",
       "\n",
       "    .dataframe tbody tr th {\n",
       "        vertical-align: top;\n",
       "    }\n",
       "\n",
       "    .dataframe thead th {\n",
       "        text-align: right;\n",
       "    }\n",
       "</style>\n",
       "<table border=\"1\" class=\"dataframe\">\n",
       "  <thead>\n",
       "    <tr style=\"text-align: right;\">\n",
       "      <th></th>\n",
       "      <th>Age</th>\n",
       "      <th>CustomerSince</th>\n",
       "      <th>HighestSpend</th>\n",
       "      <th>HiddenScore</th>\n",
       "      <th>MonthlyAverageSpend</th>\n",
       "      <th>Level</th>\n",
       "      <th>Mortgage</th>\n",
       "      <th>Security</th>\n",
       "      <th>FixedDepositAccount</th>\n",
       "      <th>InternetBanking</th>\n",
       "      <th>CreditCard</th>\n",
       "      <th>LoanOnCard</th>\n",
       "    </tr>\n",
       "  </thead>\n",
       "  <tbody>\n",
       "    <tr>\n",
       "      <th>Age</th>\n",
       "      <td>1.000000</td>\n",
       "      <td>0.994199</td>\n",
       "      <td>-0.033063</td>\n",
       "      <td>-0.059569</td>\n",
       "      <td>-0.027122</td>\n",
       "      <td>0.031026</td>\n",
       "      <td>-0.015134</td>\n",
       "      <td>-0.001096</td>\n",
       "      <td>0.004502</td>\n",
       "      <td>0.012197</td>\n",
       "      <td>0.004620</td>\n",
       "      <td>-0.009929</td>\n",
       "    </tr>\n",
       "    <tr>\n",
       "      <th>CustomerSince</th>\n",
       "      <td>0.994199</td>\n",
       "      <td>1.000000</td>\n",
       "      <td>-0.025264</td>\n",
       "      <td>-0.065102</td>\n",
       "      <td>-0.029114</td>\n",
       "      <td>0.003349</td>\n",
       "      <td>-0.013471</td>\n",
       "      <td>-0.001970</td>\n",
       "      <td>0.007629</td>\n",
       "      <td>0.011828</td>\n",
       "      <td>0.006228</td>\n",
       "      <td>-0.007313</td>\n",
       "    </tr>\n",
       "    <tr>\n",
       "      <th>HighestSpend</th>\n",
       "      <td>-0.033063</td>\n",
       "      <td>-0.025264</td>\n",
       "      <td>1.000000</td>\n",
       "      <td>-0.141502</td>\n",
       "      <td>0.502316</td>\n",
       "      <td>-0.162337</td>\n",
       "      <td>0.188493</td>\n",
       "      <td>-0.001833</td>\n",
       "      <td>0.136921</td>\n",
       "      <td>0.005890</td>\n",
       "      <td>0.001039</td>\n",
       "      <td>0.478166</td>\n",
       "    </tr>\n",
       "    <tr>\n",
       "      <th>HiddenScore</th>\n",
       "      <td>-0.059569</td>\n",
       "      <td>-0.065102</td>\n",
       "      <td>-0.141502</td>\n",
       "      <td>1.000000</td>\n",
       "      <td>-0.061709</td>\n",
       "      <td>0.036211</td>\n",
       "      <td>-0.023384</td>\n",
       "      <td>0.016371</td>\n",
       "      <td>-0.000245</td>\n",
       "      <td>0.013863</td>\n",
       "      <td>0.001376</td>\n",
       "      <td>0.031675</td>\n",
       "    </tr>\n",
       "    <tr>\n",
       "      <th>MonthlyAverageSpend</th>\n",
       "      <td>-0.027122</td>\n",
       "      <td>-0.029114</td>\n",
       "      <td>0.502316</td>\n",
       "      <td>-0.061709</td>\n",
       "      <td>1.000000</td>\n",
       "      <td>-0.062612</td>\n",
       "      <td>0.071410</td>\n",
       "      <td>0.024730</td>\n",
       "      <td>0.094185</td>\n",
       "      <td>-0.019316</td>\n",
       "      <td>-0.003585</td>\n",
       "      <td>0.320412</td>\n",
       "    </tr>\n",
       "    <tr>\n",
       "      <th>Level</th>\n",
       "      <td>0.031026</td>\n",
       "      <td>0.003349</td>\n",
       "      <td>-0.162337</td>\n",
       "      <td>0.036211</td>\n",
       "      <td>-0.062612</td>\n",
       "      <td>1.000000</td>\n",
       "      <td>-0.039200</td>\n",
       "      <td>-0.012037</td>\n",
       "      <td>-0.007220</td>\n",
       "      <td>-0.020067</td>\n",
       "      <td>-0.014436</td>\n",
       "      <td>0.097930</td>\n",
       "    </tr>\n",
       "    <tr>\n",
       "      <th>Mortgage</th>\n",
       "      <td>-0.015134</td>\n",
       "      <td>-0.013471</td>\n",
       "      <td>0.188493</td>\n",
       "      <td>-0.023384</td>\n",
       "      <td>0.071410</td>\n",
       "      <td>-0.039200</td>\n",
       "      <td>1.000000</td>\n",
       "      <td>-0.004162</td>\n",
       "      <td>0.078108</td>\n",
       "      <td>-0.004619</td>\n",
       "      <td>-0.013688</td>\n",
       "      <td>0.111388</td>\n",
       "    </tr>\n",
       "    <tr>\n",
       "      <th>Security</th>\n",
       "      <td>-0.001096</td>\n",
       "      <td>-0.001970</td>\n",
       "      <td>-0.001833</td>\n",
       "      <td>0.016371</td>\n",
       "      <td>0.024730</td>\n",
       "      <td>-0.012037</td>\n",
       "      <td>-0.004162</td>\n",
       "      <td>1.000000</td>\n",
       "      <td>0.325588</td>\n",
       "      <td>0.012551</td>\n",
       "      <td>-0.011165</td>\n",
       "      <td>0.014624</td>\n",
       "    </tr>\n",
       "    <tr>\n",
       "      <th>FixedDepositAccount</th>\n",
       "      <td>0.004502</td>\n",
       "      <td>0.007629</td>\n",
       "      <td>0.136921</td>\n",
       "      <td>-0.000245</td>\n",
       "      <td>0.094185</td>\n",
       "      <td>-0.007220</td>\n",
       "      <td>0.078108</td>\n",
       "      <td>0.325588</td>\n",
       "      <td>1.000000</td>\n",
       "      <td>0.166975</td>\n",
       "      <td>0.268689</td>\n",
       "      <td>0.269288</td>\n",
       "    </tr>\n",
       "    <tr>\n",
       "      <th>InternetBanking</th>\n",
       "      <td>0.012197</td>\n",
       "      <td>0.011828</td>\n",
       "      <td>0.005890</td>\n",
       "      <td>0.013863</td>\n",
       "      <td>-0.019316</td>\n",
       "      <td>-0.020067</td>\n",
       "      <td>-0.004619</td>\n",
       "      <td>0.012551</td>\n",
       "      <td>0.166975</td>\n",
       "      <td>1.000000</td>\n",
       "      <td>0.002831</td>\n",
       "      <td>-0.006495</td>\n",
       "    </tr>\n",
       "    <tr>\n",
       "      <th>CreditCard</th>\n",
       "      <td>0.004620</td>\n",
       "      <td>0.006228</td>\n",
       "      <td>0.001039</td>\n",
       "      <td>0.001376</td>\n",
       "      <td>-0.003585</td>\n",
       "      <td>-0.014436</td>\n",
       "      <td>-0.013688</td>\n",
       "      <td>-0.011165</td>\n",
       "      <td>0.268689</td>\n",
       "      <td>0.002831</td>\n",
       "      <td>1.000000</td>\n",
       "      <td>-0.003110</td>\n",
       "    </tr>\n",
       "    <tr>\n",
       "      <th>LoanOnCard</th>\n",
       "      <td>-0.009929</td>\n",
       "      <td>-0.007313</td>\n",
       "      <td>0.478166</td>\n",
       "      <td>0.031675</td>\n",
       "      <td>0.320412</td>\n",
       "      <td>0.097930</td>\n",
       "      <td>0.111388</td>\n",
       "      <td>0.014624</td>\n",
       "      <td>0.269288</td>\n",
       "      <td>-0.006495</td>\n",
       "      <td>-0.003110</td>\n",
       "      <td>1.000000</td>\n",
       "    </tr>\n",
       "  </tbody>\n",
       "</table>\n",
       "</div>"
      ],
      "text/plain": [
       "                          Age  CustomerSince  HighestSpend  HiddenScore  \\\n",
       "Age                  1.000000       0.994199     -0.033063    -0.059569   \n",
       "CustomerSince        0.994199       1.000000     -0.025264    -0.065102   \n",
       "HighestSpend        -0.033063      -0.025264      1.000000    -0.141502   \n",
       "HiddenScore         -0.059569      -0.065102     -0.141502     1.000000   \n",
       "MonthlyAverageSpend -0.027122      -0.029114      0.502316    -0.061709   \n",
       "Level                0.031026       0.003349     -0.162337     0.036211   \n",
       "Mortgage            -0.015134      -0.013471      0.188493    -0.023384   \n",
       "Security            -0.001096      -0.001970     -0.001833     0.016371   \n",
       "FixedDepositAccount  0.004502       0.007629      0.136921    -0.000245   \n",
       "InternetBanking      0.012197       0.011828      0.005890     0.013863   \n",
       "CreditCard           0.004620       0.006228      0.001039     0.001376   \n",
       "LoanOnCard          -0.009929      -0.007313      0.478166     0.031675   \n",
       "\n",
       "                     MonthlyAverageSpend     Level  Mortgage  Security  \\\n",
       "Age                            -0.027122  0.031026 -0.015134 -0.001096   \n",
       "CustomerSince                  -0.029114  0.003349 -0.013471 -0.001970   \n",
       "HighestSpend                    0.502316 -0.162337  0.188493 -0.001833   \n",
       "HiddenScore                    -0.061709  0.036211 -0.023384  0.016371   \n",
       "MonthlyAverageSpend             1.000000 -0.062612  0.071410  0.024730   \n",
       "Level                          -0.062612  1.000000 -0.039200 -0.012037   \n",
       "Mortgage                        0.071410 -0.039200  1.000000 -0.004162   \n",
       "Security                        0.024730 -0.012037 -0.004162  1.000000   \n",
       "FixedDepositAccount             0.094185 -0.007220  0.078108  0.325588   \n",
       "InternetBanking                -0.019316 -0.020067 -0.004619  0.012551   \n",
       "CreditCard                     -0.003585 -0.014436 -0.013688 -0.011165   \n",
       "LoanOnCard                      0.320412  0.097930  0.111388  0.014624   \n",
       "\n",
       "                     FixedDepositAccount  InternetBanking  CreditCard  \\\n",
       "Age                             0.004502         0.012197    0.004620   \n",
       "CustomerSince                   0.007629         0.011828    0.006228   \n",
       "HighestSpend                    0.136921         0.005890    0.001039   \n",
       "HiddenScore                    -0.000245         0.013863    0.001376   \n",
       "MonthlyAverageSpend             0.094185        -0.019316   -0.003585   \n",
       "Level                          -0.007220        -0.020067   -0.014436   \n",
       "Mortgage                        0.078108        -0.004619   -0.013688   \n",
       "Security                        0.325588         0.012551   -0.011165   \n",
       "FixedDepositAccount             1.000000         0.166975    0.268689   \n",
       "InternetBanking                 0.166975         1.000000    0.002831   \n",
       "CreditCard                      0.268689         0.002831    1.000000   \n",
       "LoanOnCard                      0.269288        -0.006495   -0.003110   \n",
       "\n",
       "                     LoanOnCard  \n",
       "Age                   -0.009929  \n",
       "CustomerSince         -0.007313  \n",
       "HighestSpend           0.478166  \n",
       "HiddenScore            0.031675  \n",
       "MonthlyAverageSpend    0.320412  \n",
       "Level                  0.097930  \n",
       "Mortgage               0.111388  \n",
       "Security               0.014624  \n",
       "FixedDepositAccount    0.269288  \n",
       "InternetBanking       -0.006495  \n",
       "CreditCard            -0.003110  \n",
       "LoanOnCard             1.000000  "
      ]
     },
     "execution_count": 112,
     "metadata": {},
     "output_type": "execute_result"
    }
   ],
   "source": [
    "cor =df2.corr()\n",
    "cor"
   ]
  },
  {
   "cell_type": "code",
   "execution_count": 163,
   "id": "bd522294",
   "metadata": {},
   "outputs": [
    {
     "data": {
      "image/png": "[encoded data removed]",
      "text/plain": [
       "<Figure size 1440x1080 with 2 Axes>"
      ]
     },
     "metadata": {
      "needs_background": "light"
     },
     "output_type": "display_data"
    }
   ],
   "source": [
    "f, ax = plt.subplots(figsize=(20, 15))\n",
    "sns.heatmap(cor, annot=True,  ax=ax)\n",
    "plt.show()"
   ]
  },
  {
   "cell_type": "markdown",
   "id": "232bd8bf",
   "metadata": {},
   "source": [
    "1. Above correlation plot indicates there is a positive correlation between HighestSpend and MonthlyAverageSpend\n",
    "2. 'CustomerSince' and 'Age' is highly correlated . As Age increases 'CustomerSince' also increases and viceversa"
   ]
  },
  {
   "cell_type": "code",
   "execution_count": 114,
   "id": "cfd511a0",
   "metadata": {},
   "outputs": [
    {
     "data": {
      "text/plain": [
       "array([[<AxesSubplot:title={'center':'Age'}>,\n",
       "        <AxesSubplot:title={'center':'CustomerSince'}>],\n",
       "       [<AxesSubplot:title={'center':'HighestSpend'}>,\n",
       "        <AxesSubplot:title={'center':'HiddenScore'}>],\n",
       "       [<AxesSubplot:title={'center':'MonthlyAverageSpend'}>,\n",
       "        <AxesSubplot:title={'center':'Level'}>],\n",
       "       [<AxesSubplot:title={'center':'Mortgage'}>,\n",
       "        <AxesSubplot:title={'center':'Security'}>],\n",
       "       [<AxesSubplot:title={'center':'FixedDepositAccount'}>,\n",
       "        <AxesSubplot:title={'center':'InternetBanking'}>],\n",
       "       [<AxesSubplot:title={'center':'CreditCard'}>, <AxesSubplot:>],\n",
       "       [<AxesSubplot:>, <AxesSubplot:>],\n",
       "       [<AxesSubplot:>, <AxesSubplot:>],\n",
       "       [<AxesSubplot:>, <AxesSubplot:>],\n",
       "       [<AxesSubplot:>, <AxesSubplot:>],\n",
       "       [<AxesSubplot:>, <AxesSubplot:>],\n",
       "       [<AxesSubplot:>, <AxesSubplot:>],\n",
       "       [<AxesSubplot:>, <AxesSubplot:>],\n",
       "       [<AxesSubplot:>, <AxesSubplot:>]], dtype=object)"
      ]
     },
     "execution_count": 114,
     "metadata": {},
     "output_type": "execute_result"
    },
    {
     "data": {
      "image/png": "[encoded data removed]",
      "text/plain": [
       "<Figure size 1296x1800 with 28 Axes>"
      ]
     },
     "metadata": {
      "needs_background": "light"
     },
     "output_type": "display_data"
    }
   ],
   "source": [
    "# Histogram for independent attributes\n",
    "columns=list(df2)[0:-1]\n",
    "df2[columns].hist(figsize=(18,25),bins=50,stacked=False,layout=(14,2))"
   ]
  },
  {
   "cell_type": "code",
   "execution_count": 164,
   "id": "d1665ab0",
   "metadata": {},
   "outputs": [
    {
     "name": "stderr",
     "output_type": "stream",
     "text": [
      "C:\\Users\\srikanthve\\Anaconda3\\lib\\site-packages\\seaborn\\_decorators.py:36: FutureWarning: Pass the following variables as keyword args: x, y. From version 0.12, the only valid positional argument will be `data`, and passing other arguments without an explicit keyword will result in an error or misinterpretation.\n",
      "  warnings.warn(\n"
     ]
    },
    {
     "data": {
      "image/png": "[encoded data removed]",
      "text/plain": [
       "<Figure size 504x504 with 3 Axes>"
      ]
     },
     "metadata": {
      "needs_background": "light"
     },
     "output_type": "display_data"
    }
   ],
   "source": [
    " sns.jointplot(\"Age\", \"MonthlyAverageSpend\", data=df_final, kind=\"reg\",\n",
    "                  xlim=(0, 60), ylim=(0, 12),  height=7);"
   ]
  },
  {
   "cell_type": "code",
   "execution_count": 121,
   "id": "36087498",
   "metadata": {},
   "outputs": [
    {
     "data": {
      "text/html": [
       "<div>\n",
       "<style scoped>\n",
       "    .dataframe tbody tr th:only-of-type {\n",
       "        vertical-align: middle;\n",
       "    }\n",
       "\n",
       "    .dataframe tbody tr th {\n",
       "        vertical-align: top;\n",
       "    }\n",
       "\n",
       "    .dataframe thead th {\n",
       "        text-align: right;\n",
       "    }\n",
       "</style>\n",
       "<table border=\"1\" class=\"dataframe\">\n",
       "  <thead>\n",
       "    <tr style=\"text-align: right;\">\n",
       "      <th></th>\n",
       "      <th>Age</th>\n",
       "      <th>CustomerSince</th>\n",
       "      <th>HighestSpend</th>\n",
       "      <th>HiddenScore</th>\n",
       "      <th>MonthlyAverageSpend</th>\n",
       "      <th>Level</th>\n",
       "      <th>Mortgage</th>\n",
       "      <th>Security</th>\n",
       "      <th>FixedDepositAccount</th>\n",
       "      <th>InternetBanking</th>\n",
       "      <th>CreditCard</th>\n",
       "      <th>LoanOnCard</th>\n",
       "    </tr>\n",
       "  </thead>\n",
       "  <tbody>\n",
       "    <tr>\n",
       "      <th>10</th>\n",
       "      <td>65</td>\n",
       "      <td>39</td>\n",
       "      <td>105</td>\n",
       "      <td>4</td>\n",
       "      <td>2.4</td>\n",
       "      <td>3</td>\n",
       "      <td>0</td>\n",
       "      <td>0</td>\n",
       "      <td>0</td>\n",
       "      <td>0</td>\n",
       "      <td>0</td>\n",
       "      <td>0.0</td>\n",
       "    </tr>\n",
       "    <tr>\n",
       "      <th>11</th>\n",
       "      <td>29</td>\n",
       "      <td>5</td>\n",
       "      <td>45</td>\n",
       "      <td>3</td>\n",
       "      <td>0.1</td>\n",
       "      <td>2</td>\n",
       "      <td>0</td>\n",
       "      <td>0</td>\n",
       "      <td>0</td>\n",
       "      <td>1</td>\n",
       "      <td>0</td>\n",
       "      <td>0.0</td>\n",
       "    </tr>\n",
       "    <tr>\n",
       "      <th>12</th>\n",
       "      <td>48</td>\n",
       "      <td>23</td>\n",
       "      <td>114</td>\n",
       "      <td>2</td>\n",
       "      <td>3.8</td>\n",
       "      <td>3</td>\n",
       "      <td>0</td>\n",
       "      <td>1</td>\n",
       "      <td>0</td>\n",
       "      <td>0</td>\n",
       "      <td>0</td>\n",
       "      <td>0.0</td>\n",
       "    </tr>\n",
       "    <tr>\n",
       "      <th>13</th>\n",
       "      <td>59</td>\n",
       "      <td>32</td>\n",
       "      <td>40</td>\n",
       "      <td>4</td>\n",
       "      <td>2.5</td>\n",
       "      <td>2</td>\n",
       "      <td>0</td>\n",
       "      <td>0</td>\n",
       "      <td>0</td>\n",
       "      <td>1</td>\n",
       "      <td>0</td>\n",
       "      <td>0.0</td>\n",
       "    </tr>\n",
       "    <tr>\n",
       "      <th>14</th>\n",
       "      <td>67</td>\n",
       "      <td>41</td>\n",
       "      <td>112</td>\n",
       "      <td>1</td>\n",
       "      <td>2.0</td>\n",
       "      <td>1</td>\n",
       "      <td>0</td>\n",
       "      <td>1</td>\n",
       "      <td>0</td>\n",
       "      <td>0</td>\n",
       "      <td>0</td>\n",
       "      <td>0.0</td>\n",
       "    </tr>\n",
       "  </tbody>\n",
       "</table>\n",
       "</div>"
      ],
      "text/plain": [
       "    Age  CustomerSince  HighestSpend  HiddenScore  MonthlyAverageSpend  Level  \\\n",
       "10   65             39           105            4                  2.4      3   \n",
       "11   29              5            45            3                  0.1      2   \n",
       "12   48             23           114            2                  3.8      3   \n",
       "13   59             32            40            4                  2.5      2   \n",
       "14   67             41           112            1                  2.0      1   \n",
       "\n",
       "    Mortgage  Security  FixedDepositAccount  InternetBanking  CreditCard  \\\n",
       "10         0         0                    0                0           0   \n",
       "11         0         0                    0                1           0   \n",
       "12         0         1                    0                0           0   \n",
       "13         0         0                    0                1           0   \n",
       "14         0         1                    0                0           0   \n",
       "\n",
       "    LoanOnCard  \n",
       "10         0.0  \n",
       "11         0.0  \n",
       "12         0.0  \n",
       "13         0.0  \n",
       "14         0.0  "
      ]
     },
     "execution_count": 121,
     "metadata": {},
     "output_type": "execute_result"
    }
   ],
   "source": [
    "df2.head()"
   ]
  },
  {
   "cell_type": "code",
   "execution_count": 124,
   "id": "47c7b3cb",
   "metadata": {},
   "outputs": [],
   "source": [
    "#Segregate predictors vs target attributes\n",
    "y=df2[\"LoanOnCard\"].values\n",
    "x=df2.drop([\"LoanOnCard\"],axis=1)"
   ]
  },
  {
   "cell_type": "code",
   "execution_count": 125,
   "id": "437fd6f9",
   "metadata": {},
   "outputs": [
    {
     "data": {
      "text/plain": [
       "0.0    4265\n",
       "1.0     324\n",
       "Name: LoanOnCard, dtype: int64"
      ]
     },
     "execution_count": 125,
     "metadata": {},
     "output_type": "execute_result"
    }
   ],
   "source": [
    "df2['LoanOnCard'].value_counts()"
   ]
  },
  {
   "cell_type": "code",
   "execution_count": 57,
   "id": "c212340f",
   "metadata": {},
   "outputs": [
    {
     "data": {
      "text/plain": [
       "<AxesSubplot:>"
      ]
     },
     "execution_count": 57,
     "metadata": {},
     "output_type": "execute_result"
    },
    {
     "data": {
      "image/png": "[encoded data removed]",
      "text/plain": [
       "<Figure size 864x576 with 2 Axes>"
      ]
     },
     "metadata": {
      "needs_background": "light"
     },
     "output_type": "display_data"
    }
   ],
   "source": [
    "fig, axarr = plt.subplots(2, 1, figsize=(12, 8))\n",
    "\n",
    "df_final['LoanOnCard'].value_counts().sort_index().plot.bar(ax=axarr[0])\n",
    "\n",
    "df_final['Age'].value_counts().head(20).plot.bar(\n",
    "    ax=axarr[1])"
   ]
  },
  {
   "cell_type": "code",
   "execution_count": 58,
   "id": "8d885120",
   "metadata": {},
   "outputs": [],
   "source": [
    "# Train Test Split\n",
    "x_train, x_test, y_train, y_test = train_test_split(x, y, test_size=0.30, random_state=1)"
   ]
  },
  {
   "cell_type": "code",
   "execution_count": 59,
   "id": "6ccd4507",
   "metadata": {},
   "outputs": [
    {
     "name": "stdout",
     "output_type": "stream",
     "text": [
      "70.00% data is in training set\n",
      "30.00% data is in test set\n"
     ]
    }
   ],
   "source": [
    "#Lets check split of data\n",
    "print(\"{0:0.2f}% data is in training set\".format((len(x_train)/len(df_final.index)) * 100))\n",
    "print(\"{0:0.2f}% data is in test set\".format((len(x_test)/len(df_final.index)) * 100))"
   ]
  },
  {
   "cell_type": "code",
   "execution_count": 60,
   "id": "057db98c",
   "metadata": {},
   "outputs": [
    {
     "name": "stdout",
     "output_type": "stream",
     "text": [
      "x_train shape:  (3486, 11)\n",
      "y_train shape:  (3486,)\n",
      "x_test shape:  (1494, 11)\n",
      "y_test shape:  (1494,)\n"
     ]
    }
   ],
   "source": [
    "print('x_train shape: ', x_train.shape)\n",
    "print('y_train shape: ', y_train.shape)\n",
    "print('x_test shape: ', x_test.shape)\n",
    "print('y_test shape: ', y_test.shape)"
   ]
  },
  {
   "cell_type": "code",
   "execution_count": 67,
   "id": "7e7463dc",
   "metadata": {},
   "outputs": [
    {
     "name": "stdout",
     "output_type": "stream",
     "text": [
      "After OverSampling, the shape of train_x: (6318, 11)\n",
      "After OverSampling, the shape of train_y: (6318,) \n",
      "\n",
      "Before Smote : Counter({0.0: 3159, 1.0: 327})\n",
      "After Smote : Counter({0.0: 3159, 1.0: 3159})\n"
     ]
    }
   ],
   "source": [
    "sm = SMOTE(random_state=1)\n",
    "x_train_res, y_train_res = sm.fit_resample(x_train, y_train.ravel())\n",
    "\n",
    "print('After OverSampling, the shape of train_x: {}'.format(x_train_res.shape))\n",
    "print('After OverSampling, the shape of train_y: {} \\n'.format(y_train_res.shape))\n",
    "\n",
    "from collections import Counter\n",
    "print(\"Before Smote :\",Counter(y_train))\n",
    "print(\"After Smote :\",Counter(y_train_res))"
   ]
  },
  {
   "cell_type": "markdown",
   "id": "9d1ecf86",
   "metadata": {},
   "source": [
    "SMOTE (Synthetic Minority Oversampling TEchnique) consists of synthesizing elements for the minority class, based on those that already exist. It works randomly picingk a point from the minority class and computing the k-nearest neighbors for this point. The synthetic points are added between the chosen point and its neighbors.\n",
    "\n",
    "From the above minority class = 1.0 = 327 \n",
    "From the above majority class = 0.0 = 3159\n",
    "\n",
    "After smote the datasets are balanced\n"
   ]
  },
  {
   "cell_type": "code",
   "execution_count": null,
   "id": "15057175",
   "metadata": {},
   "outputs": [],
   "source": [
    "Logistic Regression"
   ]
  },
  {
   "cell_type": "code",
   "execution_count": 127,
   "id": "df95db20",
   "metadata": {},
   "outputs": [
    {
     "data": {
      "text/plain": [
       "array([0., 0., 0., ..., 0., 0., 0.])"
      ]
     },
     "execution_count": 127,
     "metadata": {},
     "output_type": "execute_result"
    }
   ],
   "source": [
    "# instantiate the model\n",
    "logreg = LogisticRegression(solver='liblinear', random_state=0)\n",
    "logreg.fit(x_train, y_train)\n",
    "y_pred_test = logreg.predict(x_test)\n",
    "y_pred_test"
   ]
  },
  {
   "cell_type": "code",
   "execution_count": 128,
   "id": "61efdffe",
   "metadata": {},
   "outputs": [
    {
     "name": "stdout",
     "output_type": "stream",
     "text": [
      "Model accuracy score: 0.9431\n"
     ]
    }
   ],
   "source": [
    "from sklearn.metrics import accuracy_score\n",
    "print('Model accuracy score: {0:0.4f}'. format(accuracy_score(y_test, y_pred_test)))"
   ]
  },
  {
   "cell_type": "code",
   "execution_count": 129,
   "id": "3d9e4693",
   "metadata": {},
   "outputs": [
    {
     "data": {
      "text/plain": [
       "array([0., 0., 0., ..., 0., 1., 0.])"
      ]
     },
     "execution_count": 129,
     "metadata": {},
     "output_type": "execute_result"
    }
   ],
   "source": [
    "y_pred_train = logreg.predict(x_train)\n",
    "y_pred_train"
   ]
  },
  {
   "cell_type": "code",
   "execution_count": 130,
   "id": "faa439d3",
   "metadata": {},
   "outputs": [
    {
     "name": "stdout",
     "output_type": "stream",
     "text": [
      "Training-set accuracy score: 0.9524\n",
      "Test-set accuracy score: 0.9431\n"
     ]
    }
   ],
   "source": [
    "print('Training-set accuracy score: {0:0.4f}'. format(accuracy_score(y_train, y_pred_train)))\n",
    "print('Test-set accuracy score: {0:0.4f}'. format(accuracy_score(y_test, y_pred_test)))"
   ]
  },
  {
   "cell_type": "code",
   "execution_count": 131,
   "id": "7806935d",
   "metadata": {},
   "outputs": [
    {
     "name": "stdout",
     "output_type": "stream",
     "text": [
      "              precision    recall  f1-score   support\n",
      "\n",
      "         0.0       0.95      0.98      0.97      1341\n",
      "         1.0       0.81      0.58      0.68       153\n",
      "\n",
      "    accuracy                           0.94      1494\n",
      "   macro avg       0.88      0.78      0.82      1494\n",
      "weighted avg       0.94      0.94      0.94      1494\n",
      "\n"
     ]
    }
   ],
   "source": [
    "from sklearn.metrics import classification_report\n",
    "print(classification_report(y_test, y_pred_test))"
   ]
  },
  {
   "cell_type": "code",
   "execution_count": 132,
   "id": "5a277cfa",
   "metadata": {},
   "outputs": [
    {
     "name": "stdout",
     "output_type": "stream",
     "text": [
      "confusion matrix_train_data = \n",
      " [[3117   42]\n",
      " [ 124  203]]\n"
     ]
    }
   ],
   "source": [
    "mat_train = confusion_matrix(y_train,y_pred_train)\n",
    "print(\"confusion matrix_train_data = \\n\",mat_train)"
   ]
  },
  {
   "cell_type": "code",
   "execution_count": 74,
   "id": "7a9fabde",
   "metadata": {},
   "outputs": [
    {
     "name": "stdout",
     "output_type": "stream",
     "text": [
      "Confusion Matrix\n"
     ]
    },
    {
     "data": {
      "text/plain": [
       "<AxesSubplot:>"
      ]
     },
     "execution_count": 74,
     "metadata": {},
     "output_type": "execute_result"
    },
    {
     "data": {
      "image/png": "[encoded data removed]",
      "text/plain": [
       "<Figure size 504x360 with 2 Axes>"
      ]
     },
     "metadata": {
      "needs_background": "light"
     },
     "output_type": "display_data"
    }
   ],
   "source": [
    "print(\"Confusion Matrix\")\n",
    "cm=metrics.confusion_matrix(y_test,y_pred_test)\n",
    "plt.figure(figsize = (7,5))\n",
    "sns.heatmap(cm, annot=True)"
   ]
  },
  {
   "cell_type": "code",
   "execution_count": 167,
   "id": "2017f490",
   "metadata": {},
   "outputs": [
    {
     "name": "stdout",
     "output_type": "stream",
     "text": [
      "Confusion matrix\n",
      "\n",
      " [[1320   21]\n",
      " [  64   89]]\n",
      "\n",
      "True Positives(TP) =  1320\n",
      "\n",
      "True Negatives(TN) =  89\n",
      "\n",
      "False Positives(FP) =  21\n",
      "\n",
      "False Negatives(FN) =  64\n"
     ]
    }
   ],
   "source": [
    "# Print the Confusion Matrix \n",
    "from sklearn.metrics import confusion_matrix\n",
    "cm = confusion_matrix(y_test, y_pred_test)\n",
    "print('Confusion matrix\\n\\n', cm)\n",
    "print('\\nTrue Positives(TP) = ', cm[0,0])\n",
    "print('\\nTrue Negatives(TN) = ', cm[1,1])\n",
    "print('\\nFalse Positives(FP) = ', cm[0,1])\n",
    "print('\\nFalse Negatives(FN) = ', cm[1,0])"
   ]
  },
  {
   "cell_type": "markdown",
   "id": "cc9d4381",
   "metadata": {},
   "source": [
    "Gaussian Naive Bayes Classifier"
   ]
  },
  {
   "cell_type": "code",
   "execution_count": 133,
   "id": "c8253301",
   "metadata": {},
   "outputs": [
    {
     "data": {
      "text/plain": [
       "array([0., 0., 0., ..., 0., 0., 0.])"
      ]
     },
     "execution_count": 133,
     "metadata": {},
     "output_type": "execute_result"
    }
   ],
   "source": [
    "# train a Gaussian Naive Bayes classifier on the training set\n",
    "from sklearn.naive_bayes import GaussianNB\n",
    "\n",
    "# instantiate the model\n",
    "gnb = GaussianNB()\n",
    "\n",
    "# fit the model\n",
    "gnb.fit(x_train, y_train)\n",
    "\n",
    "#Predict the Results\n",
    "y_pred = gnb.predict(x_test)\n",
    "y_pred"
   ]
  },
  {
   "cell_type": "code",
   "execution_count": 134,
   "id": "7b99cd57",
   "metadata": {},
   "outputs": [
    {
     "name": "stdout",
     "output_type": "stream",
     "text": [
      "Model accuracy score: 0.8815\n"
     ]
    }
   ],
   "source": [
    "# Check Accuracy Score\n",
    "from sklearn.metrics import accuracy_score\n",
    "print('Model accuracy score: {0:0.4f}'. format(accuracy_score(y_test, y_pred)))"
   ]
  },
  {
   "cell_type": "code",
   "execution_count": 135,
   "id": "2e4c029c",
   "metadata": {},
   "outputs": [
    {
     "name": "stdout",
     "output_type": "stream",
     "text": [
      "Training-set accuracy score: 0.8873\n"
     ]
    }
   ],
   "source": [
    "# Compare Train & Test Accuracy\n",
    "y_pred_train = gnb.predict(x_train)\n",
    "y_pred_train\n",
    "print('Training-set accuracy score: {0:0.4f}'. format(accuracy_score(y_train, y_pred_train)))"
   ]
  },
  {
   "cell_type": "code",
   "execution_count": 136,
   "id": "f53ce316",
   "metadata": {},
   "outputs": [
    {
     "name": "stdout",
     "output_type": "stream",
     "text": [
      "Training set score: 0.8873\n",
      "Test set score: 0.8815\n"
     ]
    }
   ],
   "source": [
    "# print the scores on training and test set\n",
    "\n",
    "print('Training set score: {:.4f}'.format(gnb.score(x_train, y_train)))\n",
    "print('Test set score: {:.4f}'.format(gnb.score(x_test, y_test)))"
   ]
  },
  {
   "cell_type": "code",
   "execution_count": 140,
   "id": "c483dbc8",
   "metadata": {},
   "outputs": [
    {
     "name": "stdout",
     "output_type": "stream",
     "text": [
      "              precision    recall  f1-score   support\n",
      "\n",
      "         0.0       0.95      0.92      0.93      1341\n",
      "         1.0       0.44      0.57      0.50       153\n",
      "\n",
      "    accuracy                           0.88      1494\n",
      "   macro avg       0.69      0.74      0.71      1494\n",
      "weighted avg       0.90      0.88      0.89      1494\n",
      "\n"
     ]
    }
   ],
   "source": [
    "from sklearn.metrics import classification_report\n",
    "print(classification_report(y_test, y_pred))"
   ]
  },
  {
   "cell_type": "code",
   "execution_count": 165,
   "id": "05b6bc29",
   "metadata": {},
   "outputs": [
    {
     "name": "stdout",
     "output_type": "stream",
     "text": [
      "Confusion Matrix\n"
     ]
    },
    {
     "data": {
      "text/plain": [
       "<AxesSubplot:>"
      ]
     },
     "execution_count": 165,
     "metadata": {},
     "output_type": "execute_result"
    },
    {
     "data": {
      "image/png": "[encoded data removed]",
      "text/plain": [
       "<Figure size 504x360 with 2 Axes>"
      ]
     },
     "metadata": {
      "needs_background": "light"
     },
     "output_type": "display_data"
    }
   ],
   "source": [
    "# visualize confusion matrix with seaborn heatmap\n",
    "\n",
    "print(\"Confusion Matrix\")\n",
    "cm=metrics.confusion_matrix(y_test,y_pred)\n",
    "plt.figure(figsize = (7,5))\n",
    "sns.heatmap(cm, annot=True)"
   ]
  },
  {
   "cell_type": "code",
   "execution_count": 166,
   "id": "74a415fb",
   "metadata": {},
   "outputs": [
    {
     "name": "stdout",
     "output_type": "stream",
     "text": [
      "Confusion matrix\n",
      "\n",
      " [[1230  111]\n",
      " [  66   87]]\n",
      "\n",
      "True Positives(TP) =  1230\n",
      "\n",
      "True Negatives(TN) =  87\n",
      "\n",
      "False Positives(FP) =  111\n",
      "\n",
      "False Negatives(FN) =  66\n"
     ]
    }
   ],
   "source": [
    "# Print the Confusion Matrix \n",
    "from sklearn.metrics import confusion_matrix\n",
    "cm = confusion_matrix(y_test, y_pred)\n",
    "print('Confusion matrix\\n\\n', cm)\n",
    "print('\\nTrue Positives(TP) = ', cm[0,0])\n",
    "print('\\nTrue Negatives(TN) = ', cm[1,1])\n",
    "print('\\nFalse Positives(FP) = ', cm[0,1])\n",
    "print('\\nFalse Negatives(FN) = ', cm[1,0])"
   ]
  },
  {
   "cell_type": "markdown",
   "id": "cdefb8ef",
   "metadata": {},
   "source": [
    "Prediction on True Positives are higher accuracy with the percentage of 88% and the misclassifications are low "
   ]
  },
  {
   "cell_type": "markdown",
   "id": "a8bb7e00",
   "metadata": {},
   "source": [
    "Possible tuning techniques for Logisitic Regression are as below"
   ]
  },
  {
   "cell_type": "code",
   "execution_count": 198,
   "id": "b6c14265",
   "metadata": {},
   "outputs": [
    {
     "name": "stdout",
     "output_type": "stream",
     "text": [
      "score 0.9451137884872824\n"
     ]
    },
    {
     "name": "stderr",
     "output_type": "stream",
     "text": [
      "C:\\Users\\srikanthve\\Anaconda3\\lib\\site-packages\\sklearn\\linear_model\\_logistic.py:763: ConvergenceWarning: lbfgs failed to converge (status=1):\n",
      "STOP: TOTAL NO. of ITERATIONS REACHED LIMIT.\n",
      "\n",
      "Increase the number of iterations (max_iter) or scale the data as shown in:\n",
      "    https://scikit-learn.org/stable/modules/preprocessing.html\n",
      "Please also refer to the documentation for alternative solver options:\n",
      "    https://scikit-learn.org/stable/modules/linear_model.html#logistic-regression\n",
      "  n_iter_i = _check_optimize_result(\n"
     ]
    }
   ],
   "source": [
    "# Grid search cross validation\n",
    "from sklearn.model_selection import GridSearchCV\n",
    "from sklearn.linear_model import LogisticRegression\n",
    "grid={\"C\":np.logspace(-3,3,7), \"penalty\":[\"l1\",\"l2\"]}# l1 lasso l2 ridge\n",
    "logreg=LogisticRegression()\n",
    "logreg_cv=GridSearchCV(logreg,grid,cv=10)\n",
    "#logreg_cv.fit(x_train,y_train)\n",
    "logreg2=LogisticRegression(C=1,penalty=\"l2\")\n",
    "logreg2.fit(x_train,y_train)\n",
    "print(\"score\",logreg2.score(x_test,y_test))\n",
    "#print(\"tuned hpyerparameters :(best parameters) \",logreg_cv.best_params_)\n",
    "#print(\"accuracy :\",logreg_cv.best_score_)"
   ]
  },
  {
   "cell_type": "markdown",
   "id": "3d05b523",
   "metadata": {},
   "source": [
    "From the above 2 models , Logistic Regression is the best model as both test and train accurancy is above 94% . \n",
    "Recommend to select Logistic Regression model against Naive Bayes.\n",
    "\n",
    "After tuning Logistic Regression accuracy is 94.5%"
   ]
  },
  {
   "cell_type": "markdown",
   "id": "cafcf29b",
   "metadata": {},
   "source": [
    "As an improvement measure need to increase the sample size of the datasets and to conduct the model hypertuning towards\n",
    "dimensionality reduction. Since the accuracy is higher need to conduct the pilot test of prediction\n",
    "\n",
    "Need to also create the user interface where the user can able to run the model and based on the model output can compare the same with the actuals"
   ]
  },
  {
   "cell_type": "markdown",
   "id": "38cdccbb",
   "metadata": {},
   "source": [
    "quality -  Improve the quality of the data through ensuring the zero missing data and establishing the critical data capturing\n",
    "\n",
    "quantity - Increase the sample size which is aligned to the near population \n",
    "\n",
    "variety - Identify of key factors through the data structuring and stratification/segmentation\n",
    "\n",
    "velocity- Need to re-define data quality metrics so that they are relevant as well as feasible in the real-time context.\n",
    "\n",
    "veracity- Data source and the data use should be properly aligned"
   ]
  },
  {
   "cell_type": "code",
   "execution_count": null,
   "id": "6a9bd184",
   "metadata": {},
   "outputs": [],
   "source": []
  }
 ],
 "metadata": {
  "kernelspec": {
   "display_name": "Python 3",
   "language": "python",
   "name": "python3"
  },
  "language_info": {
   "codemirror_mode": {
    "name": "ipython",
    "version": 3
   },
   "file_extension": ".py",
   "mimetype": "text/x-python",
   "name": "python",
   "nbconvert_exporter": "python",
   "pygments_lexer": "ipython3",
   "version": "3.8.8"
  }
 },
 "nbformat": 4,
 "nbformat_minor": 5
}
