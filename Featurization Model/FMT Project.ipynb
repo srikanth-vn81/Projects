{
 "cells": [
  {
   "cell_type": "code",
   "execution_count": 1,
   "id": "46bc86af",
   "metadata": {},
   "outputs": [],
   "source": [
    "# Importing Libraries\n",
    "\n",
    "# data analysis and wrangling\n",
    "import numpy as np\n",
    "import pandas as pd\n",
    "\n",
    "# visualization\n",
    "import seaborn as sns\n",
    "import matplotlib.pyplot as plt\n",
    "\n",
    "# Data Loading\n",
    "import os"
   ]
  },
  {
   "cell_type": "code",
   "execution_count": 2,
   "id": "35881290",
   "metadata": {},
   "outputs": [],
   "source": [
    "# Loading dataset\n",
    "os.chdir(\"C:\\\\04-AIML\\\\08 Featurization Model & Tuning\")\n",
    "df = pd.read_csv(\"signal-data.csv\")"
   ]
  },
  {
   "cell_type": "code",
   "execution_count": 3,
   "id": "13ac8fd7",
   "metadata": {},
   "outputs": [
    {
     "name": "stdout",
     "output_type": "stream",
     "text": [
      "data Shape is : (1567, 592)\n"
     ]
    }
   ],
   "source": [
    "# data shape\n",
    "df.shape\n",
    "print(\"data Shape is :\", df.shape)"
   ]
  },
  {
   "cell_type": "code",
   "execution_count": 4,
   "id": "221288a9",
   "metadata": {},
   "outputs": [
    {
     "name": "stdout",
     "output_type": "stream",
     "text": [
      "data Size is : 927664\n"
     ]
    }
   ],
   "source": [
    "# data size\n",
    "df.size\n",
    "print(\"data Size is :\", df.size)"
   ]
  },
  {
   "cell_type": "code",
   "execution_count": 5,
   "id": "a11a09bc",
   "metadata": {},
   "outputs": [
    {
     "data": {
      "text/html": [
       "<div>\n",
       "<style scoped>\n",
       "    .dataframe tbody tr th:only-of-type {\n",
       "        vertical-align: middle;\n",
       "    }\n",
       "\n",
       "    .dataframe tbody tr th {\n",
       "        vertical-align: top;\n",
       "    }\n",
       "\n",
       "    .dataframe thead th {\n",
       "        text-align: right;\n",
       "    }\n",
       "</style>\n",
       "<table border=\"1\" class=\"dataframe\">\n",
       "  <thead>\n",
       "    <tr style=\"text-align: right;\">\n",
       "      <th></th>\n",
       "      <th>Time</th>\n",
       "      <th>0</th>\n",
       "      <th>1</th>\n",
       "      <th>2</th>\n",
       "      <th>3</th>\n",
       "      <th>4</th>\n",
       "      <th>5</th>\n",
       "      <th>6</th>\n",
       "      <th>7</th>\n",
       "      <th>8</th>\n",
       "      <th>...</th>\n",
       "      <th>581</th>\n",
       "      <th>582</th>\n",
       "      <th>583</th>\n",
       "      <th>584</th>\n",
       "      <th>585</th>\n",
       "      <th>586</th>\n",
       "      <th>587</th>\n",
       "      <th>588</th>\n",
       "      <th>589</th>\n",
       "      <th>Pass/Fail</th>\n",
       "    </tr>\n",
       "  </thead>\n",
       "  <tbody>\n",
       "    <tr>\n",
       "      <th>0</th>\n",
       "      <td>7/19/2008 11:55</td>\n",
       "      <td>3030.93</td>\n",
       "      <td>2564.00</td>\n",
       "      <td>2187.7333</td>\n",
       "      <td>1411.1265</td>\n",
       "      <td>1.3602</td>\n",
       "      <td>100.0</td>\n",
       "      <td>97.6133</td>\n",
       "      <td>0.1242</td>\n",
       "      <td>1.5005</td>\n",
       "      <td>...</td>\n",
       "      <td>NaN</td>\n",
       "      <td>0.5005</td>\n",
       "      <td>0.0118</td>\n",
       "      <td>0.0035</td>\n",
       "      <td>2.3630</td>\n",
       "      <td>NaN</td>\n",
       "      <td>NaN</td>\n",
       "      <td>NaN</td>\n",
       "      <td>NaN</td>\n",
       "      <td>-1</td>\n",
       "    </tr>\n",
       "    <tr>\n",
       "      <th>1</th>\n",
       "      <td>7/19/2008 12:32</td>\n",
       "      <td>3095.78</td>\n",
       "      <td>2465.14</td>\n",
       "      <td>2230.4222</td>\n",
       "      <td>1463.6606</td>\n",
       "      <td>0.8294</td>\n",
       "      <td>100.0</td>\n",
       "      <td>102.3433</td>\n",
       "      <td>0.1247</td>\n",
       "      <td>1.4966</td>\n",
       "      <td>...</td>\n",
       "      <td>208.2045</td>\n",
       "      <td>0.5019</td>\n",
       "      <td>0.0223</td>\n",
       "      <td>0.0055</td>\n",
       "      <td>4.4447</td>\n",
       "      <td>0.0096</td>\n",
       "      <td>0.0201</td>\n",
       "      <td>0.0060</td>\n",
       "      <td>208.2045</td>\n",
       "      <td>-1</td>\n",
       "    </tr>\n",
       "    <tr>\n",
       "      <th>2</th>\n",
       "      <td>7/19/2008 13:17</td>\n",
       "      <td>2932.61</td>\n",
       "      <td>2559.94</td>\n",
       "      <td>2186.4111</td>\n",
       "      <td>1698.0172</td>\n",
       "      <td>1.5102</td>\n",
       "      <td>100.0</td>\n",
       "      <td>95.4878</td>\n",
       "      <td>0.1241</td>\n",
       "      <td>1.4436</td>\n",
       "      <td>...</td>\n",
       "      <td>82.8602</td>\n",
       "      <td>0.4958</td>\n",
       "      <td>0.0157</td>\n",
       "      <td>0.0039</td>\n",
       "      <td>3.1745</td>\n",
       "      <td>0.0584</td>\n",
       "      <td>0.0484</td>\n",
       "      <td>0.0148</td>\n",
       "      <td>82.8602</td>\n",
       "      <td>1</td>\n",
       "    </tr>\n",
       "    <tr>\n",
       "      <th>3</th>\n",
       "      <td>7/19/2008 14:43</td>\n",
       "      <td>2988.72</td>\n",
       "      <td>2479.90</td>\n",
       "      <td>2199.0333</td>\n",
       "      <td>909.7926</td>\n",
       "      <td>1.3204</td>\n",
       "      <td>100.0</td>\n",
       "      <td>104.2367</td>\n",
       "      <td>0.1217</td>\n",
       "      <td>1.4882</td>\n",
       "      <td>...</td>\n",
       "      <td>73.8432</td>\n",
       "      <td>0.4990</td>\n",
       "      <td>0.0103</td>\n",
       "      <td>0.0025</td>\n",
       "      <td>2.0544</td>\n",
       "      <td>0.0202</td>\n",
       "      <td>0.0149</td>\n",
       "      <td>0.0044</td>\n",
       "      <td>73.8432</td>\n",
       "      <td>-1</td>\n",
       "    </tr>\n",
       "    <tr>\n",
       "      <th>4</th>\n",
       "      <td>7/19/2008 15:22</td>\n",
       "      <td>3032.24</td>\n",
       "      <td>2502.87</td>\n",
       "      <td>2233.3667</td>\n",
       "      <td>1326.5200</td>\n",
       "      <td>1.5334</td>\n",
       "      <td>100.0</td>\n",
       "      <td>100.3967</td>\n",
       "      <td>0.1235</td>\n",
       "      <td>1.5031</td>\n",
       "      <td>...</td>\n",
       "      <td>NaN</td>\n",
       "      <td>0.4800</td>\n",
       "      <td>0.4766</td>\n",
       "      <td>0.1045</td>\n",
       "      <td>99.3032</td>\n",
       "      <td>0.0202</td>\n",
       "      <td>0.0149</td>\n",
       "      <td>0.0044</td>\n",
       "      <td>73.8432</td>\n",
       "      <td>-1</td>\n",
       "    </tr>\n",
       "  </tbody>\n",
       "</table>\n",
       "<p>5 rows × 592 columns</p>\n",
       "</div>"
      ],
      "text/plain": [
       "              Time        0        1          2          3       4      5  \\\n",
       "0  7/19/2008 11:55  3030.93  2564.00  2187.7333  1411.1265  1.3602  100.0   \n",
       "1  7/19/2008 12:32  3095.78  2465.14  2230.4222  1463.6606  0.8294  100.0   \n",
       "2  7/19/2008 13:17  2932.61  2559.94  2186.4111  1698.0172  1.5102  100.0   \n",
       "3  7/19/2008 14:43  2988.72  2479.90  2199.0333   909.7926  1.3204  100.0   \n",
       "4  7/19/2008 15:22  3032.24  2502.87  2233.3667  1326.5200  1.5334  100.0   \n",
       "\n",
       "          6       7       8  ...       581     582     583     584      585  \\\n",
       "0   97.6133  0.1242  1.5005  ...       NaN  0.5005  0.0118  0.0035   2.3630   \n",
       "1  102.3433  0.1247  1.4966  ...  208.2045  0.5019  0.0223  0.0055   4.4447   \n",
       "2   95.4878  0.1241  1.4436  ...   82.8602  0.4958  0.0157  0.0039   3.1745   \n",
       "3  104.2367  0.1217  1.4882  ...   73.8432  0.4990  0.0103  0.0025   2.0544   \n",
       "4  100.3967  0.1235  1.5031  ...       NaN  0.4800  0.4766  0.1045  99.3032   \n",
       "\n",
       "      586     587     588       589  Pass/Fail  \n",
       "0     NaN     NaN     NaN       NaN         -1  \n",
       "1  0.0096  0.0201  0.0060  208.2045         -1  \n",
       "2  0.0584  0.0484  0.0148   82.8602          1  \n",
       "3  0.0202  0.0149  0.0044   73.8432         -1  \n",
       "4  0.0202  0.0149  0.0044   73.8432         -1  \n",
       "\n",
       "[5 rows x 592 columns]"
      ]
     },
     "execution_count": 5,
     "metadata": {},
     "output_type": "execute_result"
    }
   ],
   "source": [
    "#Header Details\n",
    "df.head()"
   ]
  },
  {
   "cell_type": "code",
   "execution_count": 6,
   "id": "a495be6c",
   "metadata": {},
   "outputs": [
    {
     "data": {
      "text/html": [
       "<div>\n",
       "<style scoped>\n",
       "    .dataframe tbody tr th:only-of-type {\n",
       "        vertical-align: middle;\n",
       "    }\n",
       "\n",
       "    .dataframe tbody tr th {\n",
       "        vertical-align: top;\n",
       "    }\n",
       "\n",
       "    .dataframe thead th {\n",
       "        text-align: right;\n",
       "    }\n",
       "</style>\n",
       "<table border=\"1\" class=\"dataframe\">\n",
       "  <thead>\n",
       "    <tr style=\"text-align: right;\">\n",
       "      <th></th>\n",
       "      <th>0</th>\n",
       "      <th>1</th>\n",
       "      <th>2</th>\n",
       "      <th>3</th>\n",
       "      <th>4</th>\n",
       "      <th>5</th>\n",
       "      <th>6</th>\n",
       "      <th>7</th>\n",
       "      <th>8</th>\n",
       "      <th>9</th>\n",
       "      <th>...</th>\n",
       "      <th>581</th>\n",
       "      <th>582</th>\n",
       "      <th>583</th>\n",
       "      <th>584</th>\n",
       "      <th>585</th>\n",
       "      <th>586</th>\n",
       "      <th>587</th>\n",
       "      <th>588</th>\n",
       "      <th>589</th>\n",
       "      <th>Pass/Fail</th>\n",
       "    </tr>\n",
       "  </thead>\n",
       "  <tbody>\n",
       "    <tr>\n",
       "      <th>0</th>\n",
       "      <td>3030.93</td>\n",
       "      <td>2564.00</td>\n",
       "      <td>2187.7333</td>\n",
       "      <td>1411.1265</td>\n",
       "      <td>1.3602</td>\n",
       "      <td>100.0</td>\n",
       "      <td>97.6133</td>\n",
       "      <td>0.1242</td>\n",
       "      <td>1.5005</td>\n",
       "      <td>0.0162</td>\n",
       "      <td>...</td>\n",
       "      <td>NaN</td>\n",
       "      <td>0.5005</td>\n",
       "      <td>0.0118</td>\n",
       "      <td>0.0035</td>\n",
       "      <td>2.3630</td>\n",
       "      <td>NaN</td>\n",
       "      <td>NaN</td>\n",
       "      <td>NaN</td>\n",
       "      <td>NaN</td>\n",
       "      <td>-1</td>\n",
       "    </tr>\n",
       "    <tr>\n",
       "      <th>1</th>\n",
       "      <td>3095.78</td>\n",
       "      <td>2465.14</td>\n",
       "      <td>2230.4222</td>\n",
       "      <td>1463.6606</td>\n",
       "      <td>0.8294</td>\n",
       "      <td>100.0</td>\n",
       "      <td>102.3433</td>\n",
       "      <td>0.1247</td>\n",
       "      <td>1.4966</td>\n",
       "      <td>-0.0005</td>\n",
       "      <td>...</td>\n",
       "      <td>208.2045</td>\n",
       "      <td>0.5019</td>\n",
       "      <td>0.0223</td>\n",
       "      <td>0.0055</td>\n",
       "      <td>4.4447</td>\n",
       "      <td>0.0096</td>\n",
       "      <td>0.0201</td>\n",
       "      <td>0.0060</td>\n",
       "      <td>208.2045</td>\n",
       "      <td>-1</td>\n",
       "    </tr>\n",
       "    <tr>\n",
       "      <th>2</th>\n",
       "      <td>2932.61</td>\n",
       "      <td>2559.94</td>\n",
       "      <td>2186.4111</td>\n",
       "      <td>1698.0172</td>\n",
       "      <td>1.5102</td>\n",
       "      <td>100.0</td>\n",
       "      <td>95.4878</td>\n",
       "      <td>0.1241</td>\n",
       "      <td>1.4436</td>\n",
       "      <td>0.0041</td>\n",
       "      <td>...</td>\n",
       "      <td>82.8602</td>\n",
       "      <td>0.4958</td>\n",
       "      <td>0.0157</td>\n",
       "      <td>0.0039</td>\n",
       "      <td>3.1745</td>\n",
       "      <td>0.0584</td>\n",
       "      <td>0.0484</td>\n",
       "      <td>0.0148</td>\n",
       "      <td>82.8602</td>\n",
       "      <td>1</td>\n",
       "    </tr>\n",
       "    <tr>\n",
       "      <th>3</th>\n",
       "      <td>2988.72</td>\n",
       "      <td>2479.90</td>\n",
       "      <td>2199.0333</td>\n",
       "      <td>909.7926</td>\n",
       "      <td>1.3204</td>\n",
       "      <td>100.0</td>\n",
       "      <td>104.2367</td>\n",
       "      <td>0.1217</td>\n",
       "      <td>1.4882</td>\n",
       "      <td>-0.0124</td>\n",
       "      <td>...</td>\n",
       "      <td>73.8432</td>\n",
       "      <td>0.4990</td>\n",
       "      <td>0.0103</td>\n",
       "      <td>0.0025</td>\n",
       "      <td>2.0544</td>\n",
       "      <td>0.0202</td>\n",
       "      <td>0.0149</td>\n",
       "      <td>0.0044</td>\n",
       "      <td>73.8432</td>\n",
       "      <td>-1</td>\n",
       "    </tr>\n",
       "    <tr>\n",
       "      <th>4</th>\n",
       "      <td>3032.24</td>\n",
       "      <td>2502.87</td>\n",
       "      <td>2233.3667</td>\n",
       "      <td>1326.5200</td>\n",
       "      <td>1.5334</td>\n",
       "      <td>100.0</td>\n",
       "      <td>100.3967</td>\n",
       "      <td>0.1235</td>\n",
       "      <td>1.5031</td>\n",
       "      <td>-0.0031</td>\n",
       "      <td>...</td>\n",
       "      <td>NaN</td>\n",
       "      <td>0.4800</td>\n",
       "      <td>0.4766</td>\n",
       "      <td>0.1045</td>\n",
       "      <td>99.3032</td>\n",
       "      <td>0.0202</td>\n",
       "      <td>0.0149</td>\n",
       "      <td>0.0044</td>\n",
       "      <td>73.8432</td>\n",
       "      <td>-1</td>\n",
       "    </tr>\n",
       "    <tr>\n",
       "      <th>...</th>\n",
       "      <td>...</td>\n",
       "      <td>...</td>\n",
       "      <td>...</td>\n",
       "      <td>...</td>\n",
       "      <td>...</td>\n",
       "      <td>...</td>\n",
       "      <td>...</td>\n",
       "      <td>...</td>\n",
       "      <td>...</td>\n",
       "      <td>...</td>\n",
       "      <td>...</td>\n",
       "      <td>...</td>\n",
       "      <td>...</td>\n",
       "      <td>...</td>\n",
       "      <td>...</td>\n",
       "      <td>...</td>\n",
       "      <td>...</td>\n",
       "      <td>...</td>\n",
       "      <td>...</td>\n",
       "      <td>...</td>\n",
       "      <td>...</td>\n",
       "    </tr>\n",
       "    <tr>\n",
       "      <th>1562</th>\n",
       "      <td>2899.41</td>\n",
       "      <td>2464.36</td>\n",
       "      <td>2179.7333</td>\n",
       "      <td>3085.3781</td>\n",
       "      <td>1.4843</td>\n",
       "      <td>100.0</td>\n",
       "      <td>82.2467</td>\n",
       "      <td>0.1248</td>\n",
       "      <td>1.3424</td>\n",
       "      <td>-0.0045</td>\n",
       "      <td>...</td>\n",
       "      <td>203.1720</td>\n",
       "      <td>0.4988</td>\n",
       "      <td>0.0143</td>\n",
       "      <td>0.0039</td>\n",
       "      <td>2.8669</td>\n",
       "      <td>0.0068</td>\n",
       "      <td>0.0138</td>\n",
       "      <td>0.0047</td>\n",
       "      <td>203.1720</td>\n",
       "      <td>-1</td>\n",
       "    </tr>\n",
       "    <tr>\n",
       "      <th>1563</th>\n",
       "      <td>3052.31</td>\n",
       "      <td>2522.55</td>\n",
       "      <td>2198.5667</td>\n",
       "      <td>1124.6595</td>\n",
       "      <td>0.8763</td>\n",
       "      <td>100.0</td>\n",
       "      <td>98.4689</td>\n",
       "      <td>0.1205</td>\n",
       "      <td>1.4333</td>\n",
       "      <td>-0.0061</td>\n",
       "      <td>...</td>\n",
       "      <td>NaN</td>\n",
       "      <td>0.4975</td>\n",
       "      <td>0.0131</td>\n",
       "      <td>0.0036</td>\n",
       "      <td>2.6238</td>\n",
       "      <td>0.0068</td>\n",
       "      <td>0.0138</td>\n",
       "      <td>0.0047</td>\n",
       "      <td>203.1720</td>\n",
       "      <td>-1</td>\n",
       "    </tr>\n",
       "    <tr>\n",
       "      <th>1564</th>\n",
       "      <td>2978.81</td>\n",
       "      <td>2379.78</td>\n",
       "      <td>2206.3000</td>\n",
       "      <td>1110.4967</td>\n",
       "      <td>0.8236</td>\n",
       "      <td>100.0</td>\n",
       "      <td>99.4122</td>\n",
       "      <td>0.1208</td>\n",
       "      <td>NaN</td>\n",
       "      <td>NaN</td>\n",
       "      <td>...</td>\n",
       "      <td>43.5231</td>\n",
       "      <td>0.4987</td>\n",
       "      <td>0.0153</td>\n",
       "      <td>0.0041</td>\n",
       "      <td>3.0590</td>\n",
       "      <td>0.0197</td>\n",
       "      <td>0.0086</td>\n",
       "      <td>0.0025</td>\n",
       "      <td>43.5231</td>\n",
       "      <td>-1</td>\n",
       "    </tr>\n",
       "    <tr>\n",
       "      <th>1565</th>\n",
       "      <td>2894.92</td>\n",
       "      <td>2532.01</td>\n",
       "      <td>2177.0333</td>\n",
       "      <td>1183.7287</td>\n",
       "      <td>1.5726</td>\n",
       "      <td>100.0</td>\n",
       "      <td>98.7978</td>\n",
       "      <td>0.1213</td>\n",
       "      <td>1.4622</td>\n",
       "      <td>-0.0072</td>\n",
       "      <td>...</td>\n",
       "      <td>93.4941</td>\n",
       "      <td>0.5004</td>\n",
       "      <td>0.0178</td>\n",
       "      <td>0.0038</td>\n",
       "      <td>3.5662</td>\n",
       "      <td>0.0262</td>\n",
       "      <td>0.0245</td>\n",
       "      <td>0.0075</td>\n",
       "      <td>93.4941</td>\n",
       "      <td>-1</td>\n",
       "    </tr>\n",
       "    <tr>\n",
       "      <th>1566</th>\n",
       "      <td>2944.92</td>\n",
       "      <td>2450.76</td>\n",
       "      <td>2195.4444</td>\n",
       "      <td>2914.1792</td>\n",
       "      <td>1.5978</td>\n",
       "      <td>100.0</td>\n",
       "      <td>85.1011</td>\n",
       "      <td>0.1235</td>\n",
       "      <td>NaN</td>\n",
       "      <td>NaN</td>\n",
       "      <td>...</td>\n",
       "      <td>137.7844</td>\n",
       "      <td>0.4987</td>\n",
       "      <td>0.0181</td>\n",
       "      <td>0.0040</td>\n",
       "      <td>3.6275</td>\n",
       "      <td>0.0117</td>\n",
       "      <td>0.0162</td>\n",
       "      <td>0.0045</td>\n",
       "      <td>137.7844</td>\n",
       "      <td>-1</td>\n",
       "    </tr>\n",
       "  </tbody>\n",
       "</table>\n",
       "<p>1567 rows × 591 columns</p>\n",
       "</div>"
      ],
      "text/plain": [
       "            0        1          2          3       4      5         6       7  \\\n",
       "0     3030.93  2564.00  2187.7333  1411.1265  1.3602  100.0   97.6133  0.1242   \n",
       "1     3095.78  2465.14  2230.4222  1463.6606  0.8294  100.0  102.3433  0.1247   \n",
       "2     2932.61  2559.94  2186.4111  1698.0172  1.5102  100.0   95.4878  0.1241   \n",
       "3     2988.72  2479.90  2199.0333   909.7926  1.3204  100.0  104.2367  0.1217   \n",
       "4     3032.24  2502.87  2233.3667  1326.5200  1.5334  100.0  100.3967  0.1235   \n",
       "...       ...      ...        ...        ...     ...    ...       ...     ...   \n",
       "1562  2899.41  2464.36  2179.7333  3085.3781  1.4843  100.0   82.2467  0.1248   \n",
       "1563  3052.31  2522.55  2198.5667  1124.6595  0.8763  100.0   98.4689  0.1205   \n",
       "1564  2978.81  2379.78  2206.3000  1110.4967  0.8236  100.0   99.4122  0.1208   \n",
       "1565  2894.92  2532.01  2177.0333  1183.7287  1.5726  100.0   98.7978  0.1213   \n",
       "1566  2944.92  2450.76  2195.4444  2914.1792  1.5978  100.0   85.1011  0.1235   \n",
       "\n",
       "           8       9  ...       581     582     583     584      585     586  \\\n",
       "0     1.5005  0.0162  ...       NaN  0.5005  0.0118  0.0035   2.3630     NaN   \n",
       "1     1.4966 -0.0005  ...  208.2045  0.5019  0.0223  0.0055   4.4447  0.0096   \n",
       "2     1.4436  0.0041  ...   82.8602  0.4958  0.0157  0.0039   3.1745  0.0584   \n",
       "3     1.4882 -0.0124  ...   73.8432  0.4990  0.0103  0.0025   2.0544  0.0202   \n",
       "4     1.5031 -0.0031  ...       NaN  0.4800  0.4766  0.1045  99.3032  0.0202   \n",
       "...      ...     ...  ...       ...     ...     ...     ...      ...     ...   \n",
       "1562  1.3424 -0.0045  ...  203.1720  0.4988  0.0143  0.0039   2.8669  0.0068   \n",
       "1563  1.4333 -0.0061  ...       NaN  0.4975  0.0131  0.0036   2.6238  0.0068   \n",
       "1564     NaN     NaN  ...   43.5231  0.4987  0.0153  0.0041   3.0590  0.0197   \n",
       "1565  1.4622 -0.0072  ...   93.4941  0.5004  0.0178  0.0038   3.5662  0.0262   \n",
       "1566     NaN     NaN  ...  137.7844  0.4987  0.0181  0.0040   3.6275  0.0117   \n",
       "\n",
       "         587     588       589  Pass/Fail  \n",
       "0        NaN     NaN       NaN         -1  \n",
       "1     0.0201  0.0060  208.2045         -1  \n",
       "2     0.0484  0.0148   82.8602          1  \n",
       "3     0.0149  0.0044   73.8432         -1  \n",
       "4     0.0149  0.0044   73.8432         -1  \n",
       "...      ...     ...       ...        ...  \n",
       "1562  0.0138  0.0047  203.1720         -1  \n",
       "1563  0.0138  0.0047  203.1720         -1  \n",
       "1564  0.0086  0.0025   43.5231         -1  \n",
       "1565  0.0245  0.0075   93.4941         -1  \n",
       "1566  0.0162  0.0045  137.7844         -1  \n",
       "\n",
       "[1567 rows x 591 columns]"
      ]
     },
     "execution_count": 6,
     "metadata": {},
     "output_type": "execute_result"
    }
   ],
   "source": [
    "# Dropping Time Feature\n",
    "df=df.drop(\"Time\",axis=1)\n",
    "df"
   ]
  },
  {
   "cell_type": "code",
   "execution_count": 7,
   "id": "e50d42dc",
   "metadata": {},
   "outputs": [
    {
     "data": {
      "text/plain": [
       "Index(['0', '1', '2', '3', '4', '5', '6', '7', '8', '9',\n",
       "       ...\n",
       "       '581', '582', '583', '584', '585', '586', '587', '588', '589',\n",
       "       'Pass/Fail'],\n",
       "      dtype='object', length=591)"
      ]
     },
     "execution_count": 7,
     "metadata": {},
     "output_type": "execute_result"
    }
   ],
   "source": [
    "df.columns"
   ]
  },
  {
   "cell_type": "code",
   "execution_count": 8,
   "id": "92995d39",
   "metadata": {},
   "outputs": [],
   "source": [
    "#Add a prefix to the column names for easeof understanding\n",
    "df.columns = 'feature_' + df.columns"
   ]
  },
  {
   "cell_type": "code",
   "execution_count": 9,
   "id": "67db39cb",
   "metadata": {},
   "outputs": [],
   "source": [
    "#Rename the time column and Pass_Fail column as they are not features \n",
    "df.rename(columns = {'feature_Time':'Time'}, inplace = True) \n",
    "df.rename(columns = {'feature_Pass/Fail':'Pass_Fail'}, inplace = True)"
   ]
  },
  {
   "cell_type": "code",
   "execution_count": 10,
   "id": "955c8f35",
   "metadata": {},
   "outputs": [
    {
     "data": {
      "text/plain": [
       "feature_0      float64\n",
       "feature_1      float64\n",
       "feature_2      float64\n",
       "feature_3      float64\n",
       "feature_4      float64\n",
       "                ...   \n",
       "feature_586    float64\n",
       "feature_587    float64\n",
       "feature_588    float64\n",
       "feature_589    float64\n",
       "Pass_Fail        int64\n",
       "Length: 591, dtype: object"
      ]
     },
     "execution_count": 10,
     "metadata": {},
     "output_type": "execute_result"
    }
   ],
   "source": [
    "df.dtypes"
   ]
  },
  {
   "cell_type": "code",
   "execution_count": 11,
   "id": "29f8b6fb",
   "metadata": {},
   "outputs": [
    {
     "data": {
      "text/html": [
       "<div>\n",
       "<style scoped>\n",
       "    .dataframe tbody tr th:only-of-type {\n",
       "        vertical-align: middle;\n",
       "    }\n",
       "\n",
       "    .dataframe tbody tr th {\n",
       "        vertical-align: top;\n",
       "    }\n",
       "\n",
       "    .dataframe thead th {\n",
       "        text-align: right;\n",
       "    }\n",
       "</style>\n",
       "<table border=\"1\" class=\"dataframe\">\n",
       "  <thead>\n",
       "    <tr style=\"text-align: right;\">\n",
       "      <th></th>\n",
       "      <th>feature_0</th>\n",
       "      <th>feature_1</th>\n",
       "      <th>feature_2</th>\n",
       "      <th>feature_3</th>\n",
       "      <th>feature_4</th>\n",
       "      <th>feature_5</th>\n",
       "      <th>feature_6</th>\n",
       "      <th>feature_7</th>\n",
       "      <th>feature_8</th>\n",
       "      <th>feature_9</th>\n",
       "      <th>...</th>\n",
       "      <th>feature_581</th>\n",
       "      <th>feature_582</th>\n",
       "      <th>feature_583</th>\n",
       "      <th>feature_584</th>\n",
       "      <th>feature_585</th>\n",
       "      <th>feature_586</th>\n",
       "      <th>feature_587</th>\n",
       "      <th>feature_588</th>\n",
       "      <th>feature_589</th>\n",
       "      <th>Pass_Fail</th>\n",
       "    </tr>\n",
       "  </thead>\n",
       "  <tbody>\n",
       "    <tr>\n",
       "      <th>0</th>\n",
       "      <td>3030.93</td>\n",
       "      <td>2564.00</td>\n",
       "      <td>2187.7333</td>\n",
       "      <td>1411.1265</td>\n",
       "      <td>1.3602</td>\n",
       "      <td>100.0</td>\n",
       "      <td>97.6133</td>\n",
       "      <td>0.1242</td>\n",
       "      <td>1.5005</td>\n",
       "      <td>0.0162</td>\n",
       "      <td>...</td>\n",
       "      <td>NaN</td>\n",
       "      <td>0.5005</td>\n",
       "      <td>0.0118</td>\n",
       "      <td>0.0035</td>\n",
       "      <td>2.3630</td>\n",
       "      <td>NaN</td>\n",
       "      <td>NaN</td>\n",
       "      <td>NaN</td>\n",
       "      <td>NaN</td>\n",
       "      <td>-1</td>\n",
       "    </tr>\n",
       "    <tr>\n",
       "      <th>1</th>\n",
       "      <td>3095.78</td>\n",
       "      <td>2465.14</td>\n",
       "      <td>2230.4222</td>\n",
       "      <td>1463.6606</td>\n",
       "      <td>0.8294</td>\n",
       "      <td>100.0</td>\n",
       "      <td>102.3433</td>\n",
       "      <td>0.1247</td>\n",
       "      <td>1.4966</td>\n",
       "      <td>-0.0005</td>\n",
       "      <td>...</td>\n",
       "      <td>208.2045</td>\n",
       "      <td>0.5019</td>\n",
       "      <td>0.0223</td>\n",
       "      <td>0.0055</td>\n",
       "      <td>4.4447</td>\n",
       "      <td>0.0096</td>\n",
       "      <td>0.0201</td>\n",
       "      <td>0.0060</td>\n",
       "      <td>208.2045</td>\n",
       "      <td>-1</td>\n",
       "    </tr>\n",
       "    <tr>\n",
       "      <th>2</th>\n",
       "      <td>2932.61</td>\n",
       "      <td>2559.94</td>\n",
       "      <td>2186.4111</td>\n",
       "      <td>1698.0172</td>\n",
       "      <td>1.5102</td>\n",
       "      <td>100.0</td>\n",
       "      <td>95.4878</td>\n",
       "      <td>0.1241</td>\n",
       "      <td>1.4436</td>\n",
       "      <td>0.0041</td>\n",
       "      <td>...</td>\n",
       "      <td>82.8602</td>\n",
       "      <td>0.4958</td>\n",
       "      <td>0.0157</td>\n",
       "      <td>0.0039</td>\n",
       "      <td>3.1745</td>\n",
       "      <td>0.0584</td>\n",
       "      <td>0.0484</td>\n",
       "      <td>0.0148</td>\n",
       "      <td>82.8602</td>\n",
       "      <td>1</td>\n",
       "    </tr>\n",
       "    <tr>\n",
       "      <th>3</th>\n",
       "      <td>2988.72</td>\n",
       "      <td>2479.90</td>\n",
       "      <td>2199.0333</td>\n",
       "      <td>909.7926</td>\n",
       "      <td>1.3204</td>\n",
       "      <td>100.0</td>\n",
       "      <td>104.2367</td>\n",
       "      <td>0.1217</td>\n",
       "      <td>1.4882</td>\n",
       "      <td>-0.0124</td>\n",
       "      <td>...</td>\n",
       "      <td>73.8432</td>\n",
       "      <td>0.4990</td>\n",
       "      <td>0.0103</td>\n",
       "      <td>0.0025</td>\n",
       "      <td>2.0544</td>\n",
       "      <td>0.0202</td>\n",
       "      <td>0.0149</td>\n",
       "      <td>0.0044</td>\n",
       "      <td>73.8432</td>\n",
       "      <td>-1</td>\n",
       "    </tr>\n",
       "    <tr>\n",
       "      <th>4</th>\n",
       "      <td>3032.24</td>\n",
       "      <td>2502.87</td>\n",
       "      <td>2233.3667</td>\n",
       "      <td>1326.5200</td>\n",
       "      <td>1.5334</td>\n",
       "      <td>100.0</td>\n",
       "      <td>100.3967</td>\n",
       "      <td>0.1235</td>\n",
       "      <td>1.5031</td>\n",
       "      <td>-0.0031</td>\n",
       "      <td>...</td>\n",
       "      <td>NaN</td>\n",
       "      <td>0.4800</td>\n",
       "      <td>0.4766</td>\n",
       "      <td>0.1045</td>\n",
       "      <td>99.3032</td>\n",
       "      <td>0.0202</td>\n",
       "      <td>0.0149</td>\n",
       "      <td>0.0044</td>\n",
       "      <td>73.8432</td>\n",
       "      <td>-1</td>\n",
       "    </tr>\n",
       "  </tbody>\n",
       "</table>\n",
       "<p>5 rows × 591 columns</p>\n",
       "</div>"
      ],
      "text/plain": [
       "   feature_0  feature_1  feature_2  feature_3  feature_4  feature_5  \\\n",
       "0    3030.93    2564.00  2187.7333  1411.1265     1.3602      100.0   \n",
       "1    3095.78    2465.14  2230.4222  1463.6606     0.8294      100.0   \n",
       "2    2932.61    2559.94  2186.4111  1698.0172     1.5102      100.0   \n",
       "3    2988.72    2479.90  2199.0333   909.7926     1.3204      100.0   \n",
       "4    3032.24    2502.87  2233.3667  1326.5200     1.5334      100.0   \n",
       "\n",
       "   feature_6  feature_7  feature_8  feature_9  ...  feature_581  feature_582  \\\n",
       "0    97.6133     0.1242     1.5005     0.0162  ...          NaN       0.5005   \n",
       "1   102.3433     0.1247     1.4966    -0.0005  ...     208.2045       0.5019   \n",
       "2    95.4878     0.1241     1.4436     0.0041  ...      82.8602       0.4958   \n",
       "3   104.2367     0.1217     1.4882    -0.0124  ...      73.8432       0.4990   \n",
       "4   100.3967     0.1235     1.5031    -0.0031  ...          NaN       0.4800   \n",
       "\n",
       "   feature_583  feature_584  feature_585  feature_586  feature_587  \\\n",
       "0       0.0118       0.0035       2.3630          NaN          NaN   \n",
       "1       0.0223       0.0055       4.4447       0.0096       0.0201   \n",
       "2       0.0157       0.0039       3.1745       0.0584       0.0484   \n",
       "3       0.0103       0.0025       2.0544       0.0202       0.0149   \n",
       "4       0.4766       0.1045      99.3032       0.0202       0.0149   \n",
       "\n",
       "   feature_588  feature_589  Pass_Fail  \n",
       "0          NaN          NaN         -1  \n",
       "1       0.0060     208.2045         -1  \n",
       "2       0.0148      82.8602          1  \n",
       "3       0.0044      73.8432         -1  \n",
       "4       0.0044      73.8432         -1  \n",
       "\n",
       "[5 rows x 591 columns]"
      ]
     },
     "execution_count": 11,
     "metadata": {},
     "output_type": "execute_result"
    }
   ],
   "source": [
    "df.head()"
   ]
  },
  {
   "cell_type": "markdown",
   "id": "bb1b8aee",
   "metadata": {},
   "source": [
    "# Missing Value Treatment"
   ]
  },
  {
   "cell_type": "code",
   "execution_count": 12,
   "id": "547cbefc",
   "metadata": {},
   "outputs": [
    {
     "data": {
      "text/plain": [
       "538"
      ]
     },
     "execution_count": 12,
     "metadata": {},
     "output_type": "execute_result"
    }
   ],
   "source": [
    "np.count_nonzero(df.isna().sum())"
   ]
  },
  {
   "cell_type": "markdown",
   "id": "22a733a3",
   "metadata": {},
   "source": [
    "So, 538 columns contain missing values. "
   ]
  },
  {
   "cell_type": "code",
   "execution_count": 13,
   "id": "f10f9cc3",
   "metadata": {},
   "outputs": [
    {
     "data": {
      "text/plain": [
       "feature_157    1429\n",
       "feature_292    1429\n",
       "feature_293    1429\n",
       "feature_158    1429\n",
       "feature_492    1341\n",
       "feature_358    1341\n",
       "feature_85     1341\n",
       "feature_220    1341\n",
       "feature_246    1018\n",
       "feature_109    1018\n",
       "feature_110    1018\n",
       "feature_111    1018\n",
       "feature_518    1018\n",
       "feature_516    1018\n",
       "feature_245    1018\n",
       "feature_244    1018\n",
       "feature_382    1018\n",
       "feature_383    1018\n",
       "feature_384    1018\n",
       "feature_517    1018\n",
       "dtype: int64"
      ]
     },
     "execution_count": 13,
     "metadata": {},
     "output_type": "execute_result"
    }
   ],
   "source": [
    "#let's see the highest amounts of missing values in a column\n",
    "df.isna().sum().sort_values(ascending=False).head(20)"
   ]
  },
  {
   "cell_type": "code",
   "execution_count": 14,
   "id": "550ea52c",
   "metadata": {},
   "outputs": [],
   "source": [
    "def null_values(df):\n",
    "    \"\"\"a function to show null values with percentage\"\"\"\n",
    "    nv=pd.concat([df.isnull().sum(), 100 * df.isnull().sum()/df.shape[0]],axis=1).rename(columns={0:'Missing_Records', 1:'Percentage (%)'})\n",
    "    return nv[nv.Missing_Records>0].sort_values('Missing_Records', ascending=False)"
   ]
  },
  {
   "cell_type": "code",
   "execution_count": 15,
   "id": "a0661dac",
   "metadata": {},
   "outputs": [
    {
     "data": {
      "text/html": [
       "<div>\n",
       "<style scoped>\n",
       "    .dataframe tbody tr th:only-of-type {\n",
       "        vertical-align: middle;\n",
       "    }\n",
       "\n",
       "    .dataframe tbody tr th {\n",
       "        vertical-align: top;\n",
       "    }\n",
       "\n",
       "    .dataframe thead th {\n",
       "        text-align: right;\n",
       "    }\n",
       "</style>\n",
       "<table border=\"1\" class=\"dataframe\">\n",
       "  <thead>\n",
       "    <tr style=\"text-align: right;\">\n",
       "      <th></th>\n",
       "      <th>Missing_Records</th>\n",
       "      <th>Percentage (%)</th>\n",
       "    </tr>\n",
       "  </thead>\n",
       "  <tbody>\n",
       "    <tr>\n",
       "      <th>feature_292</th>\n",
       "      <td>1429</td>\n",
       "      <td>91.193363</td>\n",
       "    </tr>\n",
       "    <tr>\n",
       "      <th>feature_293</th>\n",
       "      <td>1429</td>\n",
       "      <td>91.193363</td>\n",
       "    </tr>\n",
       "    <tr>\n",
       "      <th>feature_157</th>\n",
       "      <td>1429</td>\n",
       "      <td>91.193363</td>\n",
       "    </tr>\n",
       "    <tr>\n",
       "      <th>feature_158</th>\n",
       "      <td>1429</td>\n",
       "      <td>91.193363</td>\n",
       "    </tr>\n",
       "    <tr>\n",
       "      <th>feature_358</th>\n",
       "      <td>1341</td>\n",
       "      <td>85.577537</td>\n",
       "    </tr>\n",
       "    <tr>\n",
       "      <th>...</th>\n",
       "      <td>...</td>\n",
       "      <td>...</td>\n",
       "    </tr>\n",
       "    <tr>\n",
       "      <th>feature_456</th>\n",
       "      <td>1</td>\n",
       "      <td>0.063816</td>\n",
       "    </tr>\n",
       "    <tr>\n",
       "      <th>feature_218</th>\n",
       "      <td>1</td>\n",
       "      <td>0.063816</td>\n",
       "    </tr>\n",
       "    <tr>\n",
       "      <th>feature_356</th>\n",
       "      <td>1</td>\n",
       "      <td>0.063816</td>\n",
       "    </tr>\n",
       "    <tr>\n",
       "      <th>feature_457</th>\n",
       "      <td>1</td>\n",
       "      <td>0.063816</td>\n",
       "    </tr>\n",
       "    <tr>\n",
       "      <th>feature_589</th>\n",
       "      <td>1</td>\n",
       "      <td>0.063816</td>\n",
       "    </tr>\n",
       "  </tbody>\n",
       "</table>\n",
       "<p>538 rows × 2 columns</p>\n",
       "</div>"
      ],
      "text/plain": [
       "             Missing_Records  Percentage (%)\n",
       "feature_292             1429       91.193363\n",
       "feature_293             1429       91.193363\n",
       "feature_157             1429       91.193363\n",
       "feature_158             1429       91.193363\n",
       "feature_358             1341       85.577537\n",
       "...                      ...             ...\n",
       "feature_456                1        0.063816\n",
       "feature_218                1        0.063816\n",
       "feature_356                1        0.063816\n",
       "feature_457                1        0.063816\n",
       "feature_589                1        0.063816\n",
       "\n",
       "[538 rows x 2 columns]"
      ]
     },
     "execution_count": 15,
     "metadata": {},
     "output_type": "execute_result"
    }
   ],
   "source": [
    "df_na = null_values(df)\n",
    "df_na"
   ]
  },
  {
   "cell_type": "code",
   "execution_count": 16,
   "id": "d0aeeaa8",
   "metadata": {},
   "outputs": [
    {
     "data": {
      "text/html": [
       "<div>\n",
       "<style scoped>\n",
       "    .dataframe tbody tr th:only-of-type {\n",
       "        vertical-align: middle;\n",
       "    }\n",
       "\n",
       "    .dataframe tbody tr th {\n",
       "        vertical-align: top;\n",
       "    }\n",
       "\n",
       "    .dataframe thead th {\n",
       "        text-align: right;\n",
       "    }\n",
       "</style>\n",
       "<table border=\"1\" class=\"dataframe\">\n",
       "  <thead>\n",
       "    <tr style=\"text-align: right;\">\n",
       "      <th></th>\n",
       "      <th>Missing_Records</th>\n",
       "      <th>Percentage (%)</th>\n",
       "    </tr>\n",
       "  </thead>\n",
       "  <tbody>\n",
       "    <tr>\n",
       "      <th>feature_292</th>\n",
       "      <td>1429</td>\n",
       "      <td>91.193363</td>\n",
       "    </tr>\n",
       "    <tr>\n",
       "      <th>feature_293</th>\n",
       "      <td>1429</td>\n",
       "      <td>91.193363</td>\n",
       "    </tr>\n",
       "    <tr>\n",
       "      <th>feature_157</th>\n",
       "      <td>1429</td>\n",
       "      <td>91.193363</td>\n",
       "    </tr>\n",
       "    <tr>\n",
       "      <th>feature_158</th>\n",
       "      <td>1429</td>\n",
       "      <td>91.193363</td>\n",
       "    </tr>\n",
       "    <tr>\n",
       "      <th>feature_358</th>\n",
       "      <td>1341</td>\n",
       "      <td>85.577537</td>\n",
       "    </tr>\n",
       "    <tr>\n",
       "      <th>feature_85</th>\n",
       "      <td>1341</td>\n",
       "      <td>85.577537</td>\n",
       "    </tr>\n",
       "    <tr>\n",
       "      <th>feature_492</th>\n",
       "      <td>1341</td>\n",
       "      <td>85.577537</td>\n",
       "    </tr>\n",
       "    <tr>\n",
       "      <th>feature_220</th>\n",
       "      <td>1341</td>\n",
       "      <td>85.577537</td>\n",
       "    </tr>\n",
       "    <tr>\n",
       "      <th>feature_518</th>\n",
       "      <td>1018</td>\n",
       "      <td>64.964901</td>\n",
       "    </tr>\n",
       "    <tr>\n",
       "      <th>feature_246</th>\n",
       "      <td>1018</td>\n",
       "      <td>64.964901</td>\n",
       "    </tr>\n",
       "    <tr>\n",
       "      <th>feature_245</th>\n",
       "      <td>1018</td>\n",
       "      <td>64.964901</td>\n",
       "    </tr>\n",
       "    <tr>\n",
       "      <th>feature_516</th>\n",
       "      <td>1018</td>\n",
       "      <td>64.964901</td>\n",
       "    </tr>\n",
       "    <tr>\n",
       "      <th>feature_517</th>\n",
       "      <td>1018</td>\n",
       "      <td>64.964901</td>\n",
       "    </tr>\n",
       "    <tr>\n",
       "      <th>feature_110</th>\n",
       "      <td>1018</td>\n",
       "      <td>64.964901</td>\n",
       "    </tr>\n",
       "    <tr>\n",
       "      <th>feature_384</th>\n",
       "      <td>1018</td>\n",
       "      <td>64.964901</td>\n",
       "    </tr>\n",
       "    <tr>\n",
       "      <th>feature_382</th>\n",
       "      <td>1018</td>\n",
       "      <td>64.964901</td>\n",
       "    </tr>\n",
       "    <tr>\n",
       "      <th>feature_383</th>\n",
       "      <td>1018</td>\n",
       "      <td>64.964901</td>\n",
       "    </tr>\n",
       "    <tr>\n",
       "      <th>feature_109</th>\n",
       "      <td>1018</td>\n",
       "      <td>64.964901</td>\n",
       "    </tr>\n",
       "    <tr>\n",
       "      <th>feature_244</th>\n",
       "      <td>1018</td>\n",
       "      <td>64.964901</td>\n",
       "    </tr>\n",
       "    <tr>\n",
       "      <th>feature_111</th>\n",
       "      <td>1018</td>\n",
       "      <td>64.964901</td>\n",
       "    </tr>\n",
       "    <tr>\n",
       "      <th>feature_580</th>\n",
       "      <td>949</td>\n",
       "      <td>60.561583</td>\n",
       "    </tr>\n",
       "    <tr>\n",
       "      <th>feature_578</th>\n",
       "      <td>949</td>\n",
       "      <td>60.561583</td>\n",
       "    </tr>\n",
       "    <tr>\n",
       "      <th>feature_581</th>\n",
       "      <td>949</td>\n",
       "      <td>60.561583</td>\n",
       "    </tr>\n",
       "    <tr>\n",
       "      <th>feature_579</th>\n",
       "      <td>949</td>\n",
       "      <td>60.561583</td>\n",
       "    </tr>\n",
       "    <tr>\n",
       "      <th>feature_73</th>\n",
       "      <td>794</td>\n",
       "      <td>50.670070</td>\n",
       "    </tr>\n",
       "    <tr>\n",
       "      <th>feature_72</th>\n",
       "      <td>794</td>\n",
       "      <td>50.670070</td>\n",
       "    </tr>\n",
       "    <tr>\n",
       "      <th>feature_345</th>\n",
       "      <td>794</td>\n",
       "      <td>50.670070</td>\n",
       "    </tr>\n",
       "    <tr>\n",
       "      <th>feature_346</th>\n",
       "      <td>794</td>\n",
       "      <td>50.670070</td>\n",
       "    </tr>\n",
       "  </tbody>\n",
       "</table>\n",
       "</div>"
      ],
      "text/plain": [
       "             Missing_Records  Percentage (%)\n",
       "feature_292             1429       91.193363\n",
       "feature_293             1429       91.193363\n",
       "feature_157             1429       91.193363\n",
       "feature_158             1429       91.193363\n",
       "feature_358             1341       85.577537\n",
       "feature_85              1341       85.577537\n",
       "feature_492             1341       85.577537\n",
       "feature_220             1341       85.577537\n",
       "feature_518             1018       64.964901\n",
       "feature_246             1018       64.964901\n",
       "feature_245             1018       64.964901\n",
       "feature_516             1018       64.964901\n",
       "feature_517             1018       64.964901\n",
       "feature_110             1018       64.964901\n",
       "feature_384             1018       64.964901\n",
       "feature_382             1018       64.964901\n",
       "feature_383             1018       64.964901\n",
       "feature_109             1018       64.964901\n",
       "feature_244             1018       64.964901\n",
       "feature_111             1018       64.964901\n",
       "feature_580              949       60.561583\n",
       "feature_578              949       60.561583\n",
       "feature_581              949       60.561583\n",
       "feature_579              949       60.561583\n",
       "feature_73               794       50.670070\n",
       "feature_72               794       50.670070\n",
       "feature_345              794       50.670070\n",
       "feature_346              794       50.670070"
      ]
     },
     "execution_count": 16,
     "metadata": {},
     "output_type": "execute_result"
    }
   ],
   "source": [
    "df_na = df_na[df_na[\"Percentage (%)\"] > 50]\n",
    "df_na"
   ]
  },
  {
   "cell_type": "code",
   "execution_count": 17,
   "id": "3c224470",
   "metadata": {},
   "outputs": [
    {
     "data": {
      "text/plain": [
       "(28, 2)"
      ]
     },
     "execution_count": 17,
     "metadata": {},
     "output_type": "execute_result"
    }
   ],
   "source": [
    "df_na.shape"
   ]
  },
  {
   "cell_type": "markdown",
   "id": "4d44a256",
   "metadata": {},
   "source": [
    "There are 28 columns that contain more than 50% NAs. These must be removed."
   ]
  },
  {
   "cell_type": "code",
   "execution_count": 18,
   "id": "992b7fbd",
   "metadata": {},
   "outputs": [
    {
     "data": {
      "text/plain": [
       "Index(['feature_292', 'feature_293', 'feature_157', 'feature_158',\n",
       "       'feature_358', 'feature_85', 'feature_492', 'feature_220',\n",
       "       'feature_518', 'feature_246', 'feature_245', 'feature_516',\n",
       "       'feature_517', 'feature_110', 'feature_384', 'feature_382',\n",
       "       'feature_383', 'feature_109', 'feature_244', 'feature_111',\n",
       "       'feature_580', 'feature_578', 'feature_581', 'feature_579',\n",
       "       'feature_73', 'feature_72', 'feature_345', 'feature_346'],\n",
       "      dtype='object')"
      ]
     },
     "execution_count": 18,
     "metadata": {},
     "output_type": "execute_result"
    }
   ],
   "source": [
    "df_na.index"
   ]
  },
  {
   "cell_type": "code",
   "execution_count": 19,
   "id": "32ed86ab",
   "metadata": {},
   "outputs": [
    {
     "data": {
      "text/plain": [
       "(1567, 563)"
      ]
     },
     "execution_count": 19,
     "metadata": {},
     "output_type": "execute_result"
    }
   ],
   "source": [
    "# Dropping 28 columns\n",
    "df = df.drop(axis=1, columns=df_na.index)\n",
    "df.shape"
   ]
  },
  {
   "cell_type": "markdown",
   "id": "2df318e1",
   "metadata": {},
   "source": [
    "28 columns with more than 50% NAs were removed"
   ]
  },
  {
   "cell_type": "markdown",
   "id": "66751c4c",
   "metadata": {},
   "source": [
    "# Filling Missing Values"
   ]
  },
  {
   "cell_type": "code",
   "execution_count": 20,
   "id": "80a1b3d9",
   "metadata": {},
   "outputs": [
    {
     "data": {
      "text/html": [
       "<div>\n",
       "<style scoped>\n",
       "    .dataframe tbody tr th:only-of-type {\n",
       "        vertical-align: middle;\n",
       "    }\n",
       "\n",
       "    .dataframe tbody tr th {\n",
       "        vertical-align: top;\n",
       "    }\n",
       "\n",
       "    .dataframe thead th {\n",
       "        text-align: right;\n",
       "    }\n",
       "</style>\n",
       "<table border=\"1\" class=\"dataframe\">\n",
       "  <thead>\n",
       "    <tr style=\"text-align: right;\">\n",
       "      <th></th>\n",
       "      <th>feature_0</th>\n",
       "      <th>feature_1</th>\n",
       "      <th>feature_2</th>\n",
       "      <th>feature_3</th>\n",
       "      <th>feature_4</th>\n",
       "      <th>feature_5</th>\n",
       "      <th>feature_6</th>\n",
       "      <th>feature_7</th>\n",
       "      <th>feature_8</th>\n",
       "      <th>feature_9</th>\n",
       "      <th>...</th>\n",
       "      <th>feature_577</th>\n",
       "      <th>feature_582</th>\n",
       "      <th>feature_583</th>\n",
       "      <th>feature_584</th>\n",
       "      <th>feature_585</th>\n",
       "      <th>feature_586</th>\n",
       "      <th>feature_587</th>\n",
       "      <th>feature_588</th>\n",
       "      <th>feature_589</th>\n",
       "      <th>Pass_Fail</th>\n",
       "    </tr>\n",
       "  </thead>\n",
       "  <tbody>\n",
       "    <tr>\n",
       "      <th>0</th>\n",
       "      <td>3030.93</td>\n",
       "      <td>2564.00</td>\n",
       "      <td>2187.7333</td>\n",
       "      <td>1411.1265</td>\n",
       "      <td>1.3602</td>\n",
       "      <td>100.0</td>\n",
       "      <td>97.6133</td>\n",
       "      <td>0.1242</td>\n",
       "      <td>1.5005</td>\n",
       "      <td>0.0162</td>\n",
       "      <td>...</td>\n",
       "      <td>14.9509</td>\n",
       "      <td>0.5005</td>\n",
       "      <td>0.0118</td>\n",
       "      <td>0.0035</td>\n",
       "      <td>2.3630</td>\n",
       "      <td>0.0096</td>\n",
       "      <td>0.0201</td>\n",
       "      <td>0.0060</td>\n",
       "      <td>208.2045</td>\n",
       "      <td>-1</td>\n",
       "    </tr>\n",
       "    <tr>\n",
       "      <th>1</th>\n",
       "      <td>3095.78</td>\n",
       "      <td>2465.14</td>\n",
       "      <td>2230.4222</td>\n",
       "      <td>1463.6606</td>\n",
       "      <td>0.8294</td>\n",
       "      <td>100.0</td>\n",
       "      <td>102.3433</td>\n",
       "      <td>0.1247</td>\n",
       "      <td>1.4966</td>\n",
       "      <td>-0.0005</td>\n",
       "      <td>...</td>\n",
       "      <td>10.9003</td>\n",
       "      <td>0.5019</td>\n",
       "      <td>0.0223</td>\n",
       "      <td>0.0055</td>\n",
       "      <td>4.4447</td>\n",
       "      <td>0.0096</td>\n",
       "      <td>0.0201</td>\n",
       "      <td>0.0060</td>\n",
       "      <td>208.2045</td>\n",
       "      <td>-1</td>\n",
       "    </tr>\n",
       "    <tr>\n",
       "      <th>2</th>\n",
       "      <td>2932.61</td>\n",
       "      <td>2559.94</td>\n",
       "      <td>2186.4111</td>\n",
       "      <td>1698.0172</td>\n",
       "      <td>1.5102</td>\n",
       "      <td>100.0</td>\n",
       "      <td>95.4878</td>\n",
       "      <td>0.1241</td>\n",
       "      <td>1.4436</td>\n",
       "      <td>0.0041</td>\n",
       "      <td>...</td>\n",
       "      <td>9.2721</td>\n",
       "      <td>0.4958</td>\n",
       "      <td>0.0157</td>\n",
       "      <td>0.0039</td>\n",
       "      <td>3.1745</td>\n",
       "      <td>0.0584</td>\n",
       "      <td>0.0484</td>\n",
       "      <td>0.0148</td>\n",
       "      <td>82.8602</td>\n",
       "      <td>1</td>\n",
       "    </tr>\n",
       "    <tr>\n",
       "      <th>3</th>\n",
       "      <td>2988.72</td>\n",
       "      <td>2479.90</td>\n",
       "      <td>2199.0333</td>\n",
       "      <td>909.7926</td>\n",
       "      <td>1.3204</td>\n",
       "      <td>100.0</td>\n",
       "      <td>104.2367</td>\n",
       "      <td>0.1217</td>\n",
       "      <td>1.4882</td>\n",
       "      <td>-0.0124</td>\n",
       "      <td>...</td>\n",
       "      <td>8.5831</td>\n",
       "      <td>0.4990</td>\n",
       "      <td>0.0103</td>\n",
       "      <td>0.0025</td>\n",
       "      <td>2.0544</td>\n",
       "      <td>0.0202</td>\n",
       "      <td>0.0149</td>\n",
       "      <td>0.0044</td>\n",
       "      <td>73.8432</td>\n",
       "      <td>-1</td>\n",
       "    </tr>\n",
       "    <tr>\n",
       "      <th>4</th>\n",
       "      <td>3032.24</td>\n",
       "      <td>2502.87</td>\n",
       "      <td>2233.3667</td>\n",
       "      <td>1326.5200</td>\n",
       "      <td>1.5334</td>\n",
       "      <td>100.0</td>\n",
       "      <td>100.3967</td>\n",
       "      <td>0.1235</td>\n",
       "      <td>1.5031</td>\n",
       "      <td>-0.0031</td>\n",
       "      <td>...</td>\n",
       "      <td>10.9698</td>\n",
       "      <td>0.4800</td>\n",
       "      <td>0.4766</td>\n",
       "      <td>0.1045</td>\n",
       "      <td>99.3032</td>\n",
       "      <td>0.0202</td>\n",
       "      <td>0.0149</td>\n",
       "      <td>0.0044</td>\n",
       "      <td>73.8432</td>\n",
       "      <td>-1</td>\n",
       "    </tr>\n",
       "    <tr>\n",
       "      <th>...</th>\n",
       "      <td>...</td>\n",
       "      <td>...</td>\n",
       "      <td>...</td>\n",
       "      <td>...</td>\n",
       "      <td>...</td>\n",
       "      <td>...</td>\n",
       "      <td>...</td>\n",
       "      <td>...</td>\n",
       "      <td>...</td>\n",
       "      <td>...</td>\n",
       "      <td>...</td>\n",
       "      <td>...</td>\n",
       "      <td>...</td>\n",
       "      <td>...</td>\n",
       "      <td>...</td>\n",
       "      <td>...</td>\n",
       "      <td>...</td>\n",
       "      <td>...</td>\n",
       "      <td>...</td>\n",
       "      <td>...</td>\n",
       "      <td>...</td>\n",
       "    </tr>\n",
       "    <tr>\n",
       "      <th>1562</th>\n",
       "      <td>2899.41</td>\n",
       "      <td>2464.36</td>\n",
       "      <td>2179.7333</td>\n",
       "      <td>3085.3781</td>\n",
       "      <td>1.4843</td>\n",
       "      <td>100.0</td>\n",
       "      <td>82.2467</td>\n",
       "      <td>0.1248</td>\n",
       "      <td>1.3424</td>\n",
       "      <td>-0.0045</td>\n",
       "      <td>...</td>\n",
       "      <td>11.7256</td>\n",
       "      <td>0.4988</td>\n",
       "      <td>0.0143</td>\n",
       "      <td>0.0039</td>\n",
       "      <td>2.8669</td>\n",
       "      <td>0.0068</td>\n",
       "      <td>0.0138</td>\n",
       "      <td>0.0047</td>\n",
       "      <td>203.1720</td>\n",
       "      <td>-1</td>\n",
       "    </tr>\n",
       "    <tr>\n",
       "      <th>1563</th>\n",
       "      <td>3052.31</td>\n",
       "      <td>2522.55</td>\n",
       "      <td>2198.5667</td>\n",
       "      <td>1124.6595</td>\n",
       "      <td>0.8763</td>\n",
       "      <td>100.0</td>\n",
       "      <td>98.4689</td>\n",
       "      <td>0.1205</td>\n",
       "      <td>1.4333</td>\n",
       "      <td>-0.0061</td>\n",
       "      <td>...</td>\n",
       "      <td>17.8379</td>\n",
       "      <td>0.4975</td>\n",
       "      <td>0.0131</td>\n",
       "      <td>0.0036</td>\n",
       "      <td>2.6238</td>\n",
       "      <td>0.0068</td>\n",
       "      <td>0.0138</td>\n",
       "      <td>0.0047</td>\n",
       "      <td>203.1720</td>\n",
       "      <td>-1</td>\n",
       "    </tr>\n",
       "    <tr>\n",
       "      <th>1564</th>\n",
       "      <td>2978.81</td>\n",
       "      <td>2379.78</td>\n",
       "      <td>2206.3000</td>\n",
       "      <td>1110.4967</td>\n",
       "      <td>0.8236</td>\n",
       "      <td>100.0</td>\n",
       "      <td>99.4122</td>\n",
       "      <td>0.1208</td>\n",
       "      <td>1.4333</td>\n",
       "      <td>-0.0061</td>\n",
       "      <td>...</td>\n",
       "      <td>17.7267</td>\n",
       "      <td>0.4987</td>\n",
       "      <td>0.0153</td>\n",
       "      <td>0.0041</td>\n",
       "      <td>3.0590</td>\n",
       "      <td>0.0197</td>\n",
       "      <td>0.0086</td>\n",
       "      <td>0.0025</td>\n",
       "      <td>43.5231</td>\n",
       "      <td>-1</td>\n",
       "    </tr>\n",
       "    <tr>\n",
       "      <th>1565</th>\n",
       "      <td>2894.92</td>\n",
       "      <td>2532.01</td>\n",
       "      <td>2177.0333</td>\n",
       "      <td>1183.7287</td>\n",
       "      <td>1.5726</td>\n",
       "      <td>100.0</td>\n",
       "      <td>98.7978</td>\n",
       "      <td>0.1213</td>\n",
       "      <td>1.4622</td>\n",
       "      <td>-0.0072</td>\n",
       "      <td>...</td>\n",
       "      <td>19.2104</td>\n",
       "      <td>0.5004</td>\n",
       "      <td>0.0178</td>\n",
       "      <td>0.0038</td>\n",
       "      <td>3.5662</td>\n",
       "      <td>0.0262</td>\n",
       "      <td>0.0245</td>\n",
       "      <td>0.0075</td>\n",
       "      <td>93.4941</td>\n",
       "      <td>-1</td>\n",
       "    </tr>\n",
       "    <tr>\n",
       "      <th>1566</th>\n",
       "      <td>2944.92</td>\n",
       "      <td>2450.76</td>\n",
       "      <td>2195.4444</td>\n",
       "      <td>2914.1792</td>\n",
       "      <td>1.5978</td>\n",
       "      <td>100.0</td>\n",
       "      <td>85.1011</td>\n",
       "      <td>0.1235</td>\n",
       "      <td>1.4622</td>\n",
       "      <td>-0.0072</td>\n",
       "      <td>...</td>\n",
       "      <td>22.9183</td>\n",
       "      <td>0.4987</td>\n",
       "      <td>0.0181</td>\n",
       "      <td>0.0040</td>\n",
       "      <td>3.6275</td>\n",
       "      <td>0.0117</td>\n",
       "      <td>0.0162</td>\n",
       "      <td>0.0045</td>\n",
       "      <td>137.7844</td>\n",
       "      <td>-1</td>\n",
       "    </tr>\n",
       "  </tbody>\n",
       "</table>\n",
       "<p>1567 rows × 563 columns</p>\n",
       "</div>"
      ],
      "text/plain": [
       "      feature_0  feature_1  feature_2  feature_3  feature_4  feature_5  \\\n",
       "0       3030.93    2564.00  2187.7333  1411.1265     1.3602      100.0   \n",
       "1       3095.78    2465.14  2230.4222  1463.6606     0.8294      100.0   \n",
       "2       2932.61    2559.94  2186.4111  1698.0172     1.5102      100.0   \n",
       "3       2988.72    2479.90  2199.0333   909.7926     1.3204      100.0   \n",
       "4       3032.24    2502.87  2233.3667  1326.5200     1.5334      100.0   \n",
       "...         ...        ...        ...        ...        ...        ...   \n",
       "1562    2899.41    2464.36  2179.7333  3085.3781     1.4843      100.0   \n",
       "1563    3052.31    2522.55  2198.5667  1124.6595     0.8763      100.0   \n",
       "1564    2978.81    2379.78  2206.3000  1110.4967     0.8236      100.0   \n",
       "1565    2894.92    2532.01  2177.0333  1183.7287     1.5726      100.0   \n",
       "1566    2944.92    2450.76  2195.4444  2914.1792     1.5978      100.0   \n",
       "\n",
       "      feature_6  feature_7  feature_8  feature_9  ...  feature_577  \\\n",
       "0       97.6133     0.1242     1.5005     0.0162  ...      14.9509   \n",
       "1      102.3433     0.1247     1.4966    -0.0005  ...      10.9003   \n",
       "2       95.4878     0.1241     1.4436     0.0041  ...       9.2721   \n",
       "3      104.2367     0.1217     1.4882    -0.0124  ...       8.5831   \n",
       "4      100.3967     0.1235     1.5031    -0.0031  ...      10.9698   \n",
       "...         ...        ...        ...        ...  ...          ...   \n",
       "1562    82.2467     0.1248     1.3424    -0.0045  ...      11.7256   \n",
       "1563    98.4689     0.1205     1.4333    -0.0061  ...      17.8379   \n",
       "1564    99.4122     0.1208     1.4333    -0.0061  ...      17.7267   \n",
       "1565    98.7978     0.1213     1.4622    -0.0072  ...      19.2104   \n",
       "1566    85.1011     0.1235     1.4622    -0.0072  ...      22.9183   \n",
       "\n",
       "      feature_582  feature_583  feature_584  feature_585  feature_586  \\\n",
       "0          0.5005       0.0118       0.0035       2.3630       0.0096   \n",
       "1          0.5019       0.0223       0.0055       4.4447       0.0096   \n",
       "2          0.4958       0.0157       0.0039       3.1745       0.0584   \n",
       "3          0.4990       0.0103       0.0025       2.0544       0.0202   \n",
       "4          0.4800       0.4766       0.1045      99.3032       0.0202   \n",
       "...           ...          ...          ...          ...          ...   \n",
       "1562       0.4988       0.0143       0.0039       2.8669       0.0068   \n",
       "1563       0.4975       0.0131       0.0036       2.6238       0.0068   \n",
       "1564       0.4987       0.0153       0.0041       3.0590       0.0197   \n",
       "1565       0.5004       0.0178       0.0038       3.5662       0.0262   \n",
       "1566       0.4987       0.0181       0.0040       3.6275       0.0117   \n",
       "\n",
       "      feature_587  feature_588  feature_589  Pass_Fail  \n",
       "0          0.0201       0.0060     208.2045         -1  \n",
       "1          0.0201       0.0060     208.2045         -1  \n",
       "2          0.0484       0.0148      82.8602          1  \n",
       "3          0.0149       0.0044      73.8432         -1  \n",
       "4          0.0149       0.0044      73.8432         -1  \n",
       "...           ...          ...          ...        ...  \n",
       "1562       0.0138       0.0047     203.1720         -1  \n",
       "1563       0.0138       0.0047     203.1720         -1  \n",
       "1564       0.0086       0.0025      43.5231         -1  \n",
       "1565       0.0245       0.0075      93.4941         -1  \n",
       "1566       0.0162       0.0045     137.7844         -1  \n",
       "\n",
       "[1567 rows x 563 columns]"
      ]
     },
     "execution_count": 20,
     "metadata": {},
     "output_type": "execute_result"
    }
   ],
   "source": [
    "df.fillna(method='ffill', inplace=True)\n",
    "df.fillna(method='bfill', inplace=True)\n",
    "df"
   ]
  },
  {
   "cell_type": "markdown",
   "id": "c3691b1f",
   "metadata": {},
   "source": [
    "Now we have a cleaner data set. No NaN values."
   ]
  },
  {
   "cell_type": "code",
   "execution_count": 21,
   "id": "11331d1c",
   "metadata": {},
   "outputs": [
    {
     "data": {
      "text/html": [
       "<div>\n",
       "<style scoped>\n",
       "    .dataframe tbody tr th:only-of-type {\n",
       "        vertical-align: middle;\n",
       "    }\n",
       "\n",
       "    .dataframe tbody tr th {\n",
       "        vertical-align: top;\n",
       "    }\n",
       "\n",
       "    .dataframe thead th {\n",
       "        text-align: right;\n",
       "    }\n",
       "</style>\n",
       "<table border=\"1\" class=\"dataframe\">\n",
       "  <thead>\n",
       "    <tr style=\"text-align: right;\">\n",
       "      <th></th>\n",
       "      <th>Missing_Records</th>\n",
       "      <th>Percentage (%)</th>\n",
       "    </tr>\n",
       "  </thead>\n",
       "  <tbody>\n",
       "  </tbody>\n",
       "</table>\n",
       "</div>"
      ],
      "text/plain": [
       "Empty DataFrame\n",
       "Columns: [Missing_Records, Percentage (%)]\n",
       "Index: []"
      ]
     },
     "execution_count": 21,
     "metadata": {},
     "output_type": "execute_result"
    }
   ],
   "source": [
    "null_values(df)"
   ]
  },
  {
   "cell_type": "code",
   "execution_count": 22,
   "id": "2628de87",
   "metadata": {},
   "outputs": [],
   "source": [
    "#Unique values in columns\n",
    "\n",
    "def unique_columns(df):\n",
    "    \"\"\"a function to show unique columns with column name\"\"\"\n",
    "    uni_col_list = []\n",
    "    for column in df.columns:\n",
    "        if df[column].nunique() == 1:\n",
    "            uni_col_list.append(column)\n",
    "    return uni_col_list"
   ]
  },
  {
   "cell_type": "code",
   "execution_count": 23,
   "id": "7e739ff2",
   "metadata": {},
   "outputs": [
    {
     "data": {
      "text/plain": [
       "116"
      ]
     },
     "execution_count": 23,
     "metadata": {},
     "output_type": "execute_result"
    }
   ],
   "source": [
    "len(unique_columns(df))"
   ]
  },
  {
   "cell_type": "code",
   "execution_count": 24,
   "id": "c74b49be",
   "metadata": {},
   "outputs": [
    {
     "data": {
      "text/plain": [
       "(1567, 447)"
      ]
     },
     "execution_count": 24,
     "metadata": {},
     "output_type": "execute_result"
    }
   ],
   "source": [
    "df = df.drop(axis=1, columns=unique_columns(df))\n",
    "df.shape"
   ]
  },
  {
   "cell_type": "code",
   "execution_count": 25,
   "id": "a1766cf1",
   "metadata": {},
   "outputs": [
    {
     "name": "stdout",
     "output_type": "stream",
     "text": [
      "<class 'pandas.core.frame.DataFrame'>\n",
      "RangeIndex: 1567 entries, 0 to 1566\n",
      "Columns: 447 entries, feature_0 to Pass_Fail\n",
      "dtypes: float64(446), int64(1)\n",
      "memory usage: 5.3 MB\n"
     ]
    }
   ],
   "source": [
    "df.info()"
   ]
  },
  {
   "cell_type": "markdown",
   "id": "7fe76144",
   "metadata": {},
   "source": [
    "We now have cleaner records than before. All values are metric and not NA values.\n",
    "We have 1567 rows and 447 columns before modeling"
   ]
  },
  {
   "cell_type": "code",
   "execution_count": 26,
   "id": "0d736595",
   "metadata": {},
   "outputs": [
    {
     "data": {
      "text/html": [
       "<div>\n",
       "<style scoped>\n",
       "    .dataframe tbody tr th:only-of-type {\n",
       "        vertical-align: middle;\n",
       "    }\n",
       "\n",
       "    .dataframe tbody tr th {\n",
       "        vertical-align: top;\n",
       "    }\n",
       "\n",
       "    .dataframe thead th {\n",
       "        text-align: right;\n",
       "    }\n",
       "</style>\n",
       "<table border=\"1\" class=\"dataframe\">\n",
       "  <thead>\n",
       "    <tr style=\"text-align: right;\">\n",
       "      <th></th>\n",
       "      <th>feature_0</th>\n",
       "      <th>feature_1</th>\n",
       "      <th>feature_2</th>\n",
       "      <th>feature_3</th>\n",
       "      <th>feature_4</th>\n",
       "      <th>feature_6</th>\n",
       "      <th>feature_7</th>\n",
       "      <th>feature_8</th>\n",
       "      <th>feature_9</th>\n",
       "      <th>feature_10</th>\n",
       "      <th>...</th>\n",
       "      <th>feature_577</th>\n",
       "      <th>feature_582</th>\n",
       "      <th>feature_583</th>\n",
       "      <th>feature_584</th>\n",
       "      <th>feature_585</th>\n",
       "      <th>feature_586</th>\n",
       "      <th>feature_587</th>\n",
       "      <th>feature_588</th>\n",
       "      <th>feature_589</th>\n",
       "      <th>Pass_Fail</th>\n",
       "    </tr>\n",
       "  </thead>\n",
       "  <tbody>\n",
       "    <tr>\n",
       "      <th>0</th>\n",
       "      <td>3030.93</td>\n",
       "      <td>2564.00</td>\n",
       "      <td>2187.7333</td>\n",
       "      <td>1411.1265</td>\n",
       "      <td>1.3602</td>\n",
       "      <td>97.6133</td>\n",
       "      <td>0.1242</td>\n",
       "      <td>1.5005</td>\n",
       "      <td>0.0162</td>\n",
       "      <td>-0.0034</td>\n",
       "      <td>...</td>\n",
       "      <td>14.9509</td>\n",
       "      <td>0.5005</td>\n",
       "      <td>0.0118</td>\n",
       "      <td>0.0035</td>\n",
       "      <td>2.3630</td>\n",
       "      <td>0.0096</td>\n",
       "      <td>0.0201</td>\n",
       "      <td>0.0060</td>\n",
       "      <td>208.2045</td>\n",
       "      <td>-1</td>\n",
       "    </tr>\n",
       "    <tr>\n",
       "      <th>1</th>\n",
       "      <td>3095.78</td>\n",
       "      <td>2465.14</td>\n",
       "      <td>2230.4222</td>\n",
       "      <td>1463.6606</td>\n",
       "      <td>0.8294</td>\n",
       "      <td>102.3433</td>\n",
       "      <td>0.1247</td>\n",
       "      <td>1.4966</td>\n",
       "      <td>-0.0005</td>\n",
       "      <td>-0.0148</td>\n",
       "      <td>...</td>\n",
       "      <td>10.9003</td>\n",
       "      <td>0.5019</td>\n",
       "      <td>0.0223</td>\n",
       "      <td>0.0055</td>\n",
       "      <td>4.4447</td>\n",
       "      <td>0.0096</td>\n",
       "      <td>0.0201</td>\n",
       "      <td>0.0060</td>\n",
       "      <td>208.2045</td>\n",
       "      <td>-1</td>\n",
       "    </tr>\n",
       "    <tr>\n",
       "      <th>2</th>\n",
       "      <td>2932.61</td>\n",
       "      <td>2559.94</td>\n",
       "      <td>2186.4111</td>\n",
       "      <td>1698.0172</td>\n",
       "      <td>1.5102</td>\n",
       "      <td>95.4878</td>\n",
       "      <td>0.1241</td>\n",
       "      <td>1.4436</td>\n",
       "      <td>0.0041</td>\n",
       "      <td>0.0013</td>\n",
       "      <td>...</td>\n",
       "      <td>9.2721</td>\n",
       "      <td>0.4958</td>\n",
       "      <td>0.0157</td>\n",
       "      <td>0.0039</td>\n",
       "      <td>3.1745</td>\n",
       "      <td>0.0584</td>\n",
       "      <td>0.0484</td>\n",
       "      <td>0.0148</td>\n",
       "      <td>82.8602</td>\n",
       "      <td>1</td>\n",
       "    </tr>\n",
       "    <tr>\n",
       "      <th>3</th>\n",
       "      <td>2988.72</td>\n",
       "      <td>2479.90</td>\n",
       "      <td>2199.0333</td>\n",
       "      <td>909.7926</td>\n",
       "      <td>1.3204</td>\n",
       "      <td>104.2367</td>\n",
       "      <td>0.1217</td>\n",
       "      <td>1.4882</td>\n",
       "      <td>-0.0124</td>\n",
       "      <td>-0.0033</td>\n",
       "      <td>...</td>\n",
       "      <td>8.5831</td>\n",
       "      <td>0.4990</td>\n",
       "      <td>0.0103</td>\n",
       "      <td>0.0025</td>\n",
       "      <td>2.0544</td>\n",
       "      <td>0.0202</td>\n",
       "      <td>0.0149</td>\n",
       "      <td>0.0044</td>\n",
       "      <td>73.8432</td>\n",
       "      <td>-1</td>\n",
       "    </tr>\n",
       "    <tr>\n",
       "      <th>4</th>\n",
       "      <td>3032.24</td>\n",
       "      <td>2502.87</td>\n",
       "      <td>2233.3667</td>\n",
       "      <td>1326.5200</td>\n",
       "      <td>1.5334</td>\n",
       "      <td>100.3967</td>\n",
       "      <td>0.1235</td>\n",
       "      <td>1.5031</td>\n",
       "      <td>-0.0031</td>\n",
       "      <td>-0.0072</td>\n",
       "      <td>...</td>\n",
       "      <td>10.9698</td>\n",
       "      <td>0.4800</td>\n",
       "      <td>0.4766</td>\n",
       "      <td>0.1045</td>\n",
       "      <td>99.3032</td>\n",
       "      <td>0.0202</td>\n",
       "      <td>0.0149</td>\n",
       "      <td>0.0044</td>\n",
       "      <td>73.8432</td>\n",
       "      <td>-1</td>\n",
       "    </tr>\n",
       "  </tbody>\n",
       "</table>\n",
       "<p>5 rows × 447 columns</p>\n",
       "</div>"
      ],
      "text/plain": [
       "   feature_0  feature_1  feature_2  feature_3  feature_4  feature_6  \\\n",
       "0    3030.93    2564.00  2187.7333  1411.1265     1.3602    97.6133   \n",
       "1    3095.78    2465.14  2230.4222  1463.6606     0.8294   102.3433   \n",
       "2    2932.61    2559.94  2186.4111  1698.0172     1.5102    95.4878   \n",
       "3    2988.72    2479.90  2199.0333   909.7926     1.3204   104.2367   \n",
       "4    3032.24    2502.87  2233.3667  1326.5200     1.5334   100.3967   \n",
       "\n",
       "   feature_7  feature_8  feature_9  feature_10  ...  feature_577  feature_582  \\\n",
       "0     0.1242     1.5005     0.0162     -0.0034  ...      14.9509       0.5005   \n",
       "1     0.1247     1.4966    -0.0005     -0.0148  ...      10.9003       0.5019   \n",
       "2     0.1241     1.4436     0.0041      0.0013  ...       9.2721       0.4958   \n",
       "3     0.1217     1.4882    -0.0124     -0.0033  ...       8.5831       0.4990   \n",
       "4     0.1235     1.5031    -0.0031     -0.0072  ...      10.9698       0.4800   \n",
       "\n",
       "   feature_583  feature_584  feature_585  feature_586  feature_587  \\\n",
       "0       0.0118       0.0035       2.3630       0.0096       0.0201   \n",
       "1       0.0223       0.0055       4.4447       0.0096       0.0201   \n",
       "2       0.0157       0.0039       3.1745       0.0584       0.0484   \n",
       "3       0.0103       0.0025       2.0544       0.0202       0.0149   \n",
       "4       0.4766       0.1045      99.3032       0.0202       0.0149   \n",
       "\n",
       "   feature_588  feature_589  Pass_Fail  \n",
       "0       0.0060     208.2045         -1  \n",
       "1       0.0060     208.2045         -1  \n",
       "2       0.0148      82.8602          1  \n",
       "3       0.0044      73.8432         -1  \n",
       "4       0.0044      73.8432         -1  \n",
       "\n",
       "[5 rows x 447 columns]"
      ]
     },
     "execution_count": 26,
     "metadata": {},
     "output_type": "execute_result"
    }
   ],
   "source": [
    "df.head()"
   ]
  },
  {
   "cell_type": "code",
   "execution_count": 27,
   "id": "84bb7ca7",
   "metadata": {},
   "outputs": [
    {
     "data": {
      "text/html": [
       "<div>\n",
       "<style scoped>\n",
       "    .dataframe tbody tr th:only-of-type {\n",
       "        vertical-align: middle;\n",
       "    }\n",
       "\n",
       "    .dataframe tbody tr th {\n",
       "        vertical-align: top;\n",
       "    }\n",
       "\n",
       "    .dataframe thead th {\n",
       "        text-align: right;\n",
       "    }\n",
       "</style>\n",
       "<table border=\"1\" class=\"dataframe\">\n",
       "  <thead>\n",
       "    <tr style=\"text-align: right;\">\n",
       "      <th></th>\n",
       "      <th>feature_0</th>\n",
       "      <th>feature_1</th>\n",
       "      <th>feature_2</th>\n",
       "      <th>feature_3</th>\n",
       "      <th>feature_4</th>\n",
       "      <th>feature_6</th>\n",
       "      <th>feature_7</th>\n",
       "      <th>feature_8</th>\n",
       "      <th>feature_9</th>\n",
       "      <th>feature_10</th>\n",
       "      <th>...</th>\n",
       "      <th>feature_577</th>\n",
       "      <th>feature_582</th>\n",
       "      <th>feature_583</th>\n",
       "      <th>feature_584</th>\n",
       "      <th>feature_585</th>\n",
       "      <th>feature_586</th>\n",
       "      <th>feature_587</th>\n",
       "      <th>feature_588</th>\n",
       "      <th>feature_589</th>\n",
       "      <th>Pass_Fail</th>\n",
       "    </tr>\n",
       "  </thead>\n",
       "  <tbody>\n",
       "    <tr>\n",
       "      <th>0</th>\n",
       "      <td>3030.93</td>\n",
       "      <td>2564.00</td>\n",
       "      <td>2187.7333</td>\n",
       "      <td>1411.1265</td>\n",
       "      <td>1.3602</td>\n",
       "      <td>97.6133</td>\n",
       "      <td>0.1242</td>\n",
       "      <td>1.5005</td>\n",
       "      <td>0.0162</td>\n",
       "      <td>-0.0034</td>\n",
       "      <td>...</td>\n",
       "      <td>14.9509</td>\n",
       "      <td>0.5005</td>\n",
       "      <td>0.0118</td>\n",
       "      <td>0.0035</td>\n",
       "      <td>2.3630</td>\n",
       "      <td>0.0096</td>\n",
       "      <td>0.0201</td>\n",
       "      <td>0.0060</td>\n",
       "      <td>208.2045</td>\n",
       "      <td>-1</td>\n",
       "    </tr>\n",
       "    <tr>\n",
       "      <th>1</th>\n",
       "      <td>3095.78</td>\n",
       "      <td>2465.14</td>\n",
       "      <td>2230.4222</td>\n",
       "      <td>1463.6606</td>\n",
       "      <td>0.8294</td>\n",
       "      <td>102.3433</td>\n",
       "      <td>0.1247</td>\n",
       "      <td>1.4966</td>\n",
       "      <td>-0.0005</td>\n",
       "      <td>-0.0148</td>\n",
       "      <td>...</td>\n",
       "      <td>10.9003</td>\n",
       "      <td>0.5019</td>\n",
       "      <td>0.0223</td>\n",
       "      <td>0.0055</td>\n",
       "      <td>4.4447</td>\n",
       "      <td>0.0096</td>\n",
       "      <td>0.0201</td>\n",
       "      <td>0.0060</td>\n",
       "      <td>208.2045</td>\n",
       "      <td>-1</td>\n",
       "    </tr>\n",
       "    <tr>\n",
       "      <th>2</th>\n",
       "      <td>2932.61</td>\n",
       "      <td>2559.94</td>\n",
       "      <td>2186.4111</td>\n",
       "      <td>1698.0172</td>\n",
       "      <td>1.5102</td>\n",
       "      <td>95.4878</td>\n",
       "      <td>0.1241</td>\n",
       "      <td>1.4436</td>\n",
       "      <td>0.0041</td>\n",
       "      <td>0.0013</td>\n",
       "      <td>...</td>\n",
       "      <td>9.2721</td>\n",
       "      <td>0.4958</td>\n",
       "      <td>0.0157</td>\n",
       "      <td>0.0039</td>\n",
       "      <td>3.1745</td>\n",
       "      <td>0.0584</td>\n",
       "      <td>0.0484</td>\n",
       "      <td>0.0148</td>\n",
       "      <td>82.8602</td>\n",
       "      <td>1</td>\n",
       "    </tr>\n",
       "    <tr>\n",
       "      <th>3</th>\n",
       "      <td>2988.72</td>\n",
       "      <td>2479.90</td>\n",
       "      <td>2199.0333</td>\n",
       "      <td>909.7926</td>\n",
       "      <td>1.3204</td>\n",
       "      <td>104.2367</td>\n",
       "      <td>0.1217</td>\n",
       "      <td>1.4882</td>\n",
       "      <td>-0.0124</td>\n",
       "      <td>-0.0033</td>\n",
       "      <td>...</td>\n",
       "      <td>8.5831</td>\n",
       "      <td>0.4990</td>\n",
       "      <td>0.0103</td>\n",
       "      <td>0.0025</td>\n",
       "      <td>2.0544</td>\n",
       "      <td>0.0202</td>\n",
       "      <td>0.0149</td>\n",
       "      <td>0.0044</td>\n",
       "      <td>73.8432</td>\n",
       "      <td>-1</td>\n",
       "    </tr>\n",
       "    <tr>\n",
       "      <th>4</th>\n",
       "      <td>3032.24</td>\n",
       "      <td>2502.87</td>\n",
       "      <td>2233.3667</td>\n",
       "      <td>1326.5200</td>\n",
       "      <td>1.5334</td>\n",
       "      <td>100.3967</td>\n",
       "      <td>0.1235</td>\n",
       "      <td>1.5031</td>\n",
       "      <td>-0.0031</td>\n",
       "      <td>-0.0072</td>\n",
       "      <td>...</td>\n",
       "      <td>10.9698</td>\n",
       "      <td>0.4800</td>\n",
       "      <td>0.4766</td>\n",
       "      <td>0.1045</td>\n",
       "      <td>99.3032</td>\n",
       "      <td>0.0202</td>\n",
       "      <td>0.0149</td>\n",
       "      <td>0.0044</td>\n",
       "      <td>73.8432</td>\n",
       "      <td>-1</td>\n",
       "    </tr>\n",
       "    <tr>\n",
       "      <th>...</th>\n",
       "      <td>...</td>\n",
       "      <td>...</td>\n",
       "      <td>...</td>\n",
       "      <td>...</td>\n",
       "      <td>...</td>\n",
       "      <td>...</td>\n",
       "      <td>...</td>\n",
       "      <td>...</td>\n",
       "      <td>...</td>\n",
       "      <td>...</td>\n",
       "      <td>...</td>\n",
       "      <td>...</td>\n",
       "      <td>...</td>\n",
       "      <td>...</td>\n",
       "      <td>...</td>\n",
       "      <td>...</td>\n",
       "      <td>...</td>\n",
       "      <td>...</td>\n",
       "      <td>...</td>\n",
       "      <td>...</td>\n",
       "      <td>...</td>\n",
       "    </tr>\n",
       "    <tr>\n",
       "      <th>1562</th>\n",
       "      <td>2899.41</td>\n",
       "      <td>2464.36</td>\n",
       "      <td>2179.7333</td>\n",
       "      <td>3085.3781</td>\n",
       "      <td>1.4843</td>\n",
       "      <td>82.2467</td>\n",
       "      <td>0.1248</td>\n",
       "      <td>1.3424</td>\n",
       "      <td>-0.0045</td>\n",
       "      <td>-0.0057</td>\n",
       "      <td>...</td>\n",
       "      <td>11.7256</td>\n",
       "      <td>0.4988</td>\n",
       "      <td>0.0143</td>\n",
       "      <td>0.0039</td>\n",
       "      <td>2.8669</td>\n",
       "      <td>0.0068</td>\n",
       "      <td>0.0138</td>\n",
       "      <td>0.0047</td>\n",
       "      <td>203.1720</td>\n",
       "      <td>-1</td>\n",
       "    </tr>\n",
       "    <tr>\n",
       "      <th>1563</th>\n",
       "      <td>3052.31</td>\n",
       "      <td>2522.55</td>\n",
       "      <td>2198.5667</td>\n",
       "      <td>1124.6595</td>\n",
       "      <td>0.8763</td>\n",
       "      <td>98.4689</td>\n",
       "      <td>0.1205</td>\n",
       "      <td>1.4333</td>\n",
       "      <td>-0.0061</td>\n",
       "      <td>-0.0093</td>\n",
       "      <td>...</td>\n",
       "      <td>17.8379</td>\n",
       "      <td>0.4975</td>\n",
       "      <td>0.0131</td>\n",
       "      <td>0.0036</td>\n",
       "      <td>2.6238</td>\n",
       "      <td>0.0068</td>\n",
       "      <td>0.0138</td>\n",
       "      <td>0.0047</td>\n",
       "      <td>203.1720</td>\n",
       "      <td>-1</td>\n",
       "    </tr>\n",
       "    <tr>\n",
       "      <th>1564</th>\n",
       "      <td>2978.81</td>\n",
       "      <td>2379.78</td>\n",
       "      <td>2206.3000</td>\n",
       "      <td>1110.4967</td>\n",
       "      <td>0.8236</td>\n",
       "      <td>99.4122</td>\n",
       "      <td>0.1208</td>\n",
       "      <td>1.4333</td>\n",
       "      <td>-0.0061</td>\n",
       "      <td>-0.0093</td>\n",
       "      <td>...</td>\n",
       "      <td>17.7267</td>\n",
       "      <td>0.4987</td>\n",
       "      <td>0.0153</td>\n",
       "      <td>0.0041</td>\n",
       "      <td>3.0590</td>\n",
       "      <td>0.0197</td>\n",
       "      <td>0.0086</td>\n",
       "      <td>0.0025</td>\n",
       "      <td>43.5231</td>\n",
       "      <td>-1</td>\n",
       "    </tr>\n",
       "    <tr>\n",
       "      <th>1565</th>\n",
       "      <td>2894.92</td>\n",
       "      <td>2532.01</td>\n",
       "      <td>2177.0333</td>\n",
       "      <td>1183.7287</td>\n",
       "      <td>1.5726</td>\n",
       "      <td>98.7978</td>\n",
       "      <td>0.1213</td>\n",
       "      <td>1.4622</td>\n",
       "      <td>-0.0072</td>\n",
       "      <td>0.0032</td>\n",
       "      <td>...</td>\n",
       "      <td>19.2104</td>\n",
       "      <td>0.5004</td>\n",
       "      <td>0.0178</td>\n",
       "      <td>0.0038</td>\n",
       "      <td>3.5662</td>\n",
       "      <td>0.0262</td>\n",
       "      <td>0.0245</td>\n",
       "      <td>0.0075</td>\n",
       "      <td>93.4941</td>\n",
       "      <td>-1</td>\n",
       "    </tr>\n",
       "    <tr>\n",
       "      <th>1566</th>\n",
       "      <td>2944.92</td>\n",
       "      <td>2450.76</td>\n",
       "      <td>2195.4444</td>\n",
       "      <td>2914.1792</td>\n",
       "      <td>1.5978</td>\n",
       "      <td>85.1011</td>\n",
       "      <td>0.1235</td>\n",
       "      <td>1.4622</td>\n",
       "      <td>-0.0072</td>\n",
       "      <td>0.0032</td>\n",
       "      <td>...</td>\n",
       "      <td>22.9183</td>\n",
       "      <td>0.4987</td>\n",
       "      <td>0.0181</td>\n",
       "      <td>0.0040</td>\n",
       "      <td>3.6275</td>\n",
       "      <td>0.0117</td>\n",
       "      <td>0.0162</td>\n",
       "      <td>0.0045</td>\n",
       "      <td>137.7844</td>\n",
       "      <td>-1</td>\n",
       "    </tr>\n",
       "  </tbody>\n",
       "</table>\n",
       "<p>1567 rows × 447 columns</p>\n",
       "</div>"
      ],
      "text/plain": [
       "      feature_0  feature_1  feature_2  feature_3  feature_4  feature_6  \\\n",
       "0       3030.93    2564.00  2187.7333  1411.1265     1.3602    97.6133   \n",
       "1       3095.78    2465.14  2230.4222  1463.6606     0.8294   102.3433   \n",
       "2       2932.61    2559.94  2186.4111  1698.0172     1.5102    95.4878   \n",
       "3       2988.72    2479.90  2199.0333   909.7926     1.3204   104.2367   \n",
       "4       3032.24    2502.87  2233.3667  1326.5200     1.5334   100.3967   \n",
       "...         ...        ...        ...        ...        ...        ...   \n",
       "1562    2899.41    2464.36  2179.7333  3085.3781     1.4843    82.2467   \n",
       "1563    3052.31    2522.55  2198.5667  1124.6595     0.8763    98.4689   \n",
       "1564    2978.81    2379.78  2206.3000  1110.4967     0.8236    99.4122   \n",
       "1565    2894.92    2532.01  2177.0333  1183.7287     1.5726    98.7978   \n",
       "1566    2944.92    2450.76  2195.4444  2914.1792     1.5978    85.1011   \n",
       "\n",
       "      feature_7  feature_8  feature_9  feature_10  ...  feature_577  \\\n",
       "0        0.1242     1.5005     0.0162     -0.0034  ...      14.9509   \n",
       "1        0.1247     1.4966    -0.0005     -0.0148  ...      10.9003   \n",
       "2        0.1241     1.4436     0.0041      0.0013  ...       9.2721   \n",
       "3        0.1217     1.4882    -0.0124     -0.0033  ...       8.5831   \n",
       "4        0.1235     1.5031    -0.0031     -0.0072  ...      10.9698   \n",
       "...         ...        ...        ...         ...  ...          ...   \n",
       "1562     0.1248     1.3424    -0.0045     -0.0057  ...      11.7256   \n",
       "1563     0.1205     1.4333    -0.0061     -0.0093  ...      17.8379   \n",
       "1564     0.1208     1.4333    -0.0061     -0.0093  ...      17.7267   \n",
       "1565     0.1213     1.4622    -0.0072      0.0032  ...      19.2104   \n",
       "1566     0.1235     1.4622    -0.0072      0.0032  ...      22.9183   \n",
       "\n",
       "      feature_582  feature_583  feature_584  feature_585  feature_586  \\\n",
       "0          0.5005       0.0118       0.0035       2.3630       0.0096   \n",
       "1          0.5019       0.0223       0.0055       4.4447       0.0096   \n",
       "2          0.4958       0.0157       0.0039       3.1745       0.0584   \n",
       "3          0.4990       0.0103       0.0025       2.0544       0.0202   \n",
       "4          0.4800       0.4766       0.1045      99.3032       0.0202   \n",
       "...           ...          ...          ...          ...          ...   \n",
       "1562       0.4988       0.0143       0.0039       2.8669       0.0068   \n",
       "1563       0.4975       0.0131       0.0036       2.6238       0.0068   \n",
       "1564       0.4987       0.0153       0.0041       3.0590       0.0197   \n",
       "1565       0.5004       0.0178       0.0038       3.5662       0.0262   \n",
       "1566       0.4987       0.0181       0.0040       3.6275       0.0117   \n",
       "\n",
       "      feature_587  feature_588  feature_589  Pass_Fail  \n",
       "0          0.0201       0.0060     208.2045         -1  \n",
       "1          0.0201       0.0060     208.2045         -1  \n",
       "2          0.0484       0.0148      82.8602          1  \n",
       "3          0.0149       0.0044      73.8432         -1  \n",
       "4          0.0149       0.0044      73.8432         -1  \n",
       "...           ...          ...          ...        ...  \n",
       "1562       0.0138       0.0047     203.1720         -1  \n",
       "1563       0.0138       0.0047     203.1720         -1  \n",
       "1564       0.0086       0.0025      43.5231         -1  \n",
       "1565       0.0245       0.0075      93.4941         -1  \n",
       "1566       0.0162       0.0045     137.7844         -1  \n",
       "\n",
       "[1567 rows x 447 columns]"
      ]
     },
     "execution_count": 27,
     "metadata": {},
     "output_type": "execute_result"
    }
   ],
   "source": [
    "#Drop columns with very low standard deviation thresholds \n",
    "threshold = 0.2\n",
    "df.drop(df.std()[df.std() < threshold].index.values, axis=1)\n",
    "df"
   ]
  },
  {
   "cell_type": "markdown",
   "id": "0269cbcf",
   "metadata": {},
   "source": [
    "# EDA (Exploratory Data Analysis)"
   ]
  },
  {
   "cell_type": "code",
   "execution_count": 28,
   "id": "098bac8b",
   "metadata": {},
   "outputs": [
    {
     "data": {
      "text/html": [
       "<div>\n",
       "<style scoped>\n",
       "    .dataframe tbody tr th:only-of-type {\n",
       "        vertical-align: middle;\n",
       "    }\n",
       "\n",
       "    .dataframe tbody tr th {\n",
       "        vertical-align: top;\n",
       "    }\n",
       "\n",
       "    .dataframe thead th {\n",
       "        text-align: right;\n",
       "    }\n",
       "</style>\n",
       "<table border=\"1\" class=\"dataframe\">\n",
       "  <thead>\n",
       "    <tr style=\"text-align: right;\">\n",
       "      <th></th>\n",
       "      <th>count</th>\n",
       "      <th>mean</th>\n",
       "      <th>std</th>\n",
       "      <th>min</th>\n",
       "      <th>25%</th>\n",
       "      <th>50%</th>\n",
       "      <th>75%</th>\n",
       "      <th>max</th>\n",
       "    </tr>\n",
       "  </thead>\n",
       "  <tbody>\n",
       "    <tr>\n",
       "      <th>feature_0</th>\n",
       "      <td>1567.0</td>\n",
       "      <td>3014.319036</td>\n",
       "      <td>73.633717</td>\n",
       "      <td>2743.2400</td>\n",
       "      <td>2966.32500</td>\n",
       "      <td>3011.3200</td>\n",
       "      <td>3056.5400</td>\n",
       "      <td>3356.3500</td>\n",
       "    </tr>\n",
       "    <tr>\n",
       "      <th>feature_1</th>\n",
       "      <td>1567.0</td>\n",
       "      <td>2495.871710</td>\n",
       "      <td>80.313637</td>\n",
       "      <td>2158.7500</td>\n",
       "      <td>2452.40000</td>\n",
       "      <td>2499.4600</td>\n",
       "      <td>2538.8850</td>\n",
       "      <td>2846.4400</td>\n",
       "    </tr>\n",
       "    <tr>\n",
       "      <th>feature_2</th>\n",
       "      <td>1567.0</td>\n",
       "      <td>2200.644590</td>\n",
       "      <td>29.470551</td>\n",
       "      <td>2060.6600</td>\n",
       "      <td>2181.04440</td>\n",
       "      <td>2201.0667</td>\n",
       "      <td>2218.0555</td>\n",
       "      <td>2315.2667</td>\n",
       "    </tr>\n",
       "    <tr>\n",
       "      <th>feature_3</th>\n",
       "      <td>1567.0</td>\n",
       "      <td>1397.732432</td>\n",
       "      <td>441.432210</td>\n",
       "      <td>0.0000</td>\n",
       "      <td>1082.63475</td>\n",
       "      <td>1287.3538</td>\n",
       "      <td>1591.2235</td>\n",
       "      <td>3715.0417</td>\n",
       "    </tr>\n",
       "    <tr>\n",
       "      <th>feature_4</th>\n",
       "      <td>1567.0</td>\n",
       "      <td>4.172395</td>\n",
       "      <td>56.103684</td>\n",
       "      <td>0.6815</td>\n",
       "      <td>1.01770</td>\n",
       "      <td>1.3168</td>\n",
       "      <td>1.5291</td>\n",
       "      <td>1114.5366</td>\n",
       "    </tr>\n",
       "    <tr>\n",
       "      <th>...</th>\n",
       "      <td>...</td>\n",
       "      <td>...</td>\n",
       "      <td>...</td>\n",
       "      <td>...</td>\n",
       "      <td>...</td>\n",
       "      <td>...</td>\n",
       "      <td>...</td>\n",
       "      <td>...</td>\n",
       "    </tr>\n",
       "    <tr>\n",
       "      <th>feature_586</th>\n",
       "      <td>1567.0</td>\n",
       "      <td>0.021451</td>\n",
       "      <td>0.012358</td>\n",
       "      <td>-0.0169</td>\n",
       "      <td>0.01340</td>\n",
       "      <td>0.0205</td>\n",
       "      <td>0.0276</td>\n",
       "      <td>0.1028</td>\n",
       "    </tr>\n",
       "    <tr>\n",
       "      <th>feature_587</th>\n",
       "      <td>1567.0</td>\n",
       "      <td>0.016477</td>\n",
       "      <td>0.008805</td>\n",
       "      <td>0.0032</td>\n",
       "      <td>0.01060</td>\n",
       "      <td>0.0148</td>\n",
       "      <td>0.0203</td>\n",
       "      <td>0.0799</td>\n",
       "    </tr>\n",
       "    <tr>\n",
       "      <th>feature_588</th>\n",
       "      <td>1567.0</td>\n",
       "      <td>0.005284</td>\n",
       "      <td>0.002866</td>\n",
       "      <td>0.0010</td>\n",
       "      <td>0.00330</td>\n",
       "      <td>0.0046</td>\n",
       "      <td>0.0064</td>\n",
       "      <td>0.0286</td>\n",
       "    </tr>\n",
       "    <tr>\n",
       "      <th>feature_589</th>\n",
       "      <td>1567.0</td>\n",
       "      <td>99.739329</td>\n",
       "      <td>93.901973</td>\n",
       "      <td>0.0000</td>\n",
       "      <td>44.36860</td>\n",
       "      <td>72.0230</td>\n",
       "      <td>114.7497</td>\n",
       "      <td>737.3048</td>\n",
       "    </tr>\n",
       "    <tr>\n",
       "      <th>Pass_Fail</th>\n",
       "      <td>1567.0</td>\n",
       "      <td>-0.867262</td>\n",
       "      <td>0.498010</td>\n",
       "      <td>-1.0000</td>\n",
       "      <td>-1.00000</td>\n",
       "      <td>-1.0000</td>\n",
       "      <td>-1.0000</td>\n",
       "      <td>1.0000</td>\n",
       "    </tr>\n",
       "  </tbody>\n",
       "</table>\n",
       "<p>447 rows × 8 columns</p>\n",
       "</div>"
      ],
      "text/plain": [
       "              count         mean         std        min         25%  \\\n",
       "feature_0    1567.0  3014.319036   73.633717  2743.2400  2966.32500   \n",
       "feature_1    1567.0  2495.871710   80.313637  2158.7500  2452.40000   \n",
       "feature_2    1567.0  2200.644590   29.470551  2060.6600  2181.04440   \n",
       "feature_3    1567.0  1397.732432  441.432210     0.0000  1082.63475   \n",
       "feature_4    1567.0     4.172395   56.103684     0.6815     1.01770   \n",
       "...             ...          ...         ...        ...         ...   \n",
       "feature_586  1567.0     0.021451    0.012358    -0.0169     0.01340   \n",
       "feature_587  1567.0     0.016477    0.008805     0.0032     0.01060   \n",
       "feature_588  1567.0     0.005284    0.002866     0.0010     0.00330   \n",
       "feature_589  1567.0    99.739329   93.901973     0.0000    44.36860   \n",
       "Pass_Fail    1567.0    -0.867262    0.498010    -1.0000    -1.00000   \n",
       "\n",
       "                   50%        75%        max  \n",
       "feature_0    3011.3200  3056.5400  3356.3500  \n",
       "feature_1    2499.4600  2538.8850  2846.4400  \n",
       "feature_2    2201.0667  2218.0555  2315.2667  \n",
       "feature_3    1287.3538  1591.2235  3715.0417  \n",
       "feature_4       1.3168     1.5291  1114.5366  \n",
       "...                ...        ...        ...  \n",
       "feature_586     0.0205     0.0276     0.1028  \n",
       "feature_587     0.0148     0.0203     0.0799  \n",
       "feature_588     0.0046     0.0064     0.0286  \n",
       "feature_589    72.0230   114.7497   737.3048  \n",
       "Pass_Fail      -1.0000    -1.0000     1.0000  \n",
       "\n",
       "[447 rows x 8 columns]"
      ]
     },
     "execution_count": 28,
     "metadata": {},
     "output_type": "execute_result"
    }
   ],
   "source": [
    "# Descriptive Statistics\n",
    "df.describe().transpose()"
   ]
  },
  {
   "cell_type": "markdown",
   "id": "eeb02275",
   "metadata": {},
   "source": [
    "1.The counts are varying for each feature so there might be issues with some of the values like missing values\n",
    "\n",
    "2.Few variables like feature_586 etc have negative values as well\n",
    "\n",
    "3.There also appears to be several features with outliers as there is significant . Difference between 75% and max value "
   ]
  },
  {
   "cell_type": "code",
   "execution_count": 29,
   "id": "408f1972",
   "metadata": {},
   "outputs": [
    {
     "data": {
      "image/png": "[encoded data removed]",
      "text/plain": [
       "<Figure size 360x360 with 1 Axes>"
      ]
     },
     "metadata": {},
     "output_type": "display_data"
    },
    {
     "data": {
      "text/plain": [
       "-1    1463\n",
       " 1     104\n",
       "Name: Pass_Fail, dtype: int64"
      ]
     },
     "execution_count": 29,
     "metadata": {},
     "output_type": "execute_result"
    }
   ],
   "source": [
    "plt.rcParams['figure.figsize'] = (5,5)\n",
    "labels = ['Pass', 'Fail']\n",
    "size = df['Pass_Fail'].value_counts()\n",
    "colors = ['blue', 'green']\n",
    "explode = [0, 0.1]\n",
    "\n",
    "plt.style.use('seaborn-deep')\n",
    "plt.pie(size, labels =labels, colors = colors, explode = explode, autopct = \"%.2f%%\", shadow = True)\n",
    "plt.axis('off')\n",
    "plt.title('Target: Pass or Fail', fontsize = 20)\n",
    "plt.legend()\n",
    "plt.show()\n",
    "df[\"Pass_Fail\"].value_counts()"
   ]
  },
  {
   "cell_type": "code",
   "execution_count": 30,
   "id": "c2ea87c8",
   "metadata": {},
   "outputs": [
    {
     "data": {
      "text/plain": [
       "-1    1463\n",
       " 1     104\n",
       "Name: Pass_Fail, dtype: int64"
      ]
     },
     "execution_count": 30,
     "metadata": {},
     "output_type": "execute_result"
    }
   ],
   "source": [
    "df[\"Pass_Fail\"].value_counts()"
   ]
  },
  {
   "cell_type": "markdown",
   "id": "d272c27f",
   "metadata": {},
   "source": [
    "There is unbalanced record. The Failing Values are only 104. Data balancing must be applied"
   ]
  },
  {
   "cell_type": "code",
   "execution_count": 31,
   "id": "cf96b71f",
   "metadata": {},
   "outputs": [
    {
     "data": {
      "text/plain": [
       "feature_28    -0.107685\n",
       "feature_316   -0.089071\n",
       "feature_125   -0.083460\n",
       "feature_26    -0.082052\n",
       "feature_180   -0.078530\n",
       "                 ...   \n",
       "feature_348    0.129593\n",
       "feature_510    0.131574\n",
       "feature_103    0.149118\n",
       "feature_59     0.155991\n",
       "Pass_Fail      1.000000\n",
       "Name: Pass_Fail, Length: 447, dtype: float64"
      ]
     },
     "execution_count": 31,
     "metadata": {},
     "output_type": "execute_result"
    }
   ],
   "source": [
    "# Correlation\n",
    "df.corr()[\"Pass_Fail\"].sort_values()"
   ]
  },
  {
   "cell_type": "code",
   "execution_count": 32,
   "id": "8590aa15",
   "metadata": {},
   "outputs": [
    {
     "data": {
      "image/png": "[encoded data removed]",
      "text/plain": [
       "<Figure size 1440x1296 with 2 Axes>"
      ]
     },
     "metadata": {
      "needs_background": "light"
     },
     "output_type": "display_data"
    }
   ],
   "source": [
    "#checking for correlation \n",
    "plt.figure(figsize=(20,18))\n",
    "corr=df.corr()\n",
    "sns.heatmap(abs(corr>0.7),cmap=\"Greens\");\n"
   ]
  },
  {
   "cell_type": "markdown",
   "id": "291e8766",
   "metadata": {},
   "source": [
    "Neither column has a great correlation with Pass_Fail"
   ]
  },
  {
   "cell_type": "markdown",
   "id": "590f5d2b",
   "metadata": {},
   "source": [
    "# Data Cleaning/Preprocessing"
   ]
  },
  {
   "cell_type": "code",
   "execution_count": 33,
   "id": "682ee565",
   "metadata": {},
   "outputs": [],
   "source": [
    "# Remove the highly collinear features from data\n",
    "def remove_collinear_features(x, threshold):\n",
    "      # Calculate the correlation matrix\n",
    "    corr_matrix = x.corr()\n",
    "    iters = range(len(corr_matrix.columns) - 1)\n",
    "    drop_cols = []\n",
    "      # Iterate through the correlation matrix and compare correlations\n",
    "    for i in iters:\n",
    "        for j in range(i+1):\n",
    "            item = corr_matrix.iloc[j:(j+1), (i+1):(i+2)]\n",
    "            col = item.columns\n",
    "            row = item.index\n",
    "            val = abs(item.values)\n",
    "\n",
    "            # If correlation exceeds the threshold\n",
    "            if val >= threshold:\n",
    "                # Print the correlated features and the correlation value\n",
    "                print(col.values[0], \"|\", row.values[0], \"|\", round(val[0][0], 2))\n",
    "                drop_cols.append(col.values[0])\n",
    "                 # Drop one of each pair of correlated columns\n",
    "    drops = set(drop_cols)\n",
    "    x = x.drop(columns=drops)\n",
    "\n",
    "    return x"
   ]
  },
  {
   "cell_type": "code",
   "execution_count": 34,
   "id": "bd6420fc",
   "metadata": {},
   "outputs": [
    {
     "name": "stdout",
     "output_type": "stream",
     "text": [
      "feature_17 | feature_11 | 0.79\n",
      "feature_22 | feature_21 | 0.73\n",
      "feature_26 | feature_25 | 0.82\n",
      "feature_27 | feature_25 | 0.98\n",
      "feature_27 | feature_26 | 0.79\n",
      "feature_30 | feature_29 | 0.86\n",
      "feature_34 | feature_32 | 0.75\n",
      "feature_35 | feature_34 | 0.77\n",
      "feature_36 | feature_32 | 0.75\n",
      "feature_36 | feature_34 | 1.0\n",
      "feature_36 | feature_35 | 0.77\n",
      "feature_39 | feature_34 | 0.8\n",
      "feature_39 | feature_36 | 0.8\n",
      "feature_46 | feature_45 | 0.81\n",
      "feature_50 | feature_46 | 0.9\n",
      "feature_51 | feature_47 | 0.71\n",
      "feature_54 | feature_53 | 0.94\n",
      "feature_60 | feature_43 | 0.89\n",
      "feature_65 | feature_64 | 0.84\n",
      "feature_66 | feature_46 | 0.82\n",
      "feature_66 | feature_50 | 0.76\n",
      "feature_70 | feature_46 | 0.8\n",
      "feature_70 | feature_50 | 0.77\n",
      "feature_70 | feature_62 | 0.73\n",
      "feature_70 | feature_66 | 0.9\n",
      "feature_96 | feature_94 | 0.96\n",
      "feature_98 | feature_94 | 0.84\n",
      "feature_98 | feature_96 | 0.87\n",
      "feature_101 | feature_94 | 0.73\n",
      "feature_101 | feature_96 | 0.79\n",
      "feature_101 | feature_98 | 0.91\n",
      "feature_104 | feature_99 | 0.99\n",
      "feature_105 | feature_92 | 0.99\n",
      "feature_106 | feature_93 | 0.99\n",
      "feature_123 | feature_121 | 0.94\n",
      "feature_124 | feature_121 | 0.89\n",
      "feature_124 | feature_123 | 0.86\n",
      "feature_125 | feature_122 | 0.71\n",
      "feature_127 | feature_122 | 0.96\n",
      "feature_130 | feature_122 | 0.83\n",
      "feature_130 | feature_127 | 0.79\n",
      "feature_140 | feature_4 | 1.0\n",
      "feature_147 | feature_16 | 0.89\n",
      "feature_148 | feature_16 | 0.97\n",
      "feature_148 | feature_147 | 0.89\n",
      "feature_152 | feature_16 | 0.98\n",
      "feature_152 | feature_147 | 0.9\n",
      "feature_152 | feature_148 | 0.99\n",
      "feature_154 | feature_16 | 0.87\n",
      "feature_154 | feature_147 | 0.8\n",
      "feature_154 | feature_148 | 0.94\n",
      "feature_154 | feature_152 | 0.89\n",
      "feature_155 | feature_19 | 0.8\n",
      "feature_163 | feature_26 | 0.71\n",
      "feature_163 | feature_159 | 0.76\n",
      "feature_164 | feature_26 | 0.77\n",
      "feature_164 | feature_159 | 0.8\n",
      "feature_164 | feature_163 | 0.92\n",
      "feature_165 | feature_26 | 0.74\n",
      "feature_165 | feature_159 | 0.79\n",
      "feature_165 | feature_163 | 0.9\n",
      "feature_165 | feature_164 | 0.96\n",
      "feature_174 | feature_172 | 1.0\n",
      "feature_185 | feature_184 | 0.71\n",
      "feature_187 | feature_185 | 0.83\n",
      "feature_196 | feature_67 | 0.86\n",
      "feature_197 | feature_67 | 0.86\n",
      "feature_197 | feature_196 | 0.9\n",
      "feature_198 | feature_196 | 0.7\n",
      "feature_198 | feature_197 | 0.72\n",
      "feature_199 | feature_67 | 0.81\n",
      "feature_199 | feature_196 | 0.94\n",
      "feature_199 | feature_197 | 0.83\n",
      "feature_199 | feature_198 | 0.71\n",
      "feature_202 | feature_74 | 0.83\n",
      "feature_202 | feature_201 | 0.8\n",
      "feature_203 | feature_196 | 0.81\n",
      "feature_203 | feature_197 | 0.71\n",
      "feature_203 | feature_199 | 0.8\n",
      "feature_203 | feature_200 | 0.76\n",
      "feature_203 | feature_202 | 0.84\n",
      "feature_204 | feature_67 | 0.9\n",
      "feature_204 | feature_196 | 0.87\n",
      "feature_204 | feature_197 | 0.82\n",
      "feature_204 | feature_199 | 0.83\n",
      "feature_204 | feature_203 | 0.8\n",
      "feature_205 | feature_67 | 0.87\n",
      "feature_205 | feature_196 | 0.86\n",
      "feature_205 | feature_197 | 0.84\n",
      "feature_205 | feature_198 | 0.7\n",
      "feature_205 | feature_199 | 0.8\n",
      "feature_205 | feature_204 | 0.83\n",
      "feature_206 | feature_74 | 1.0\n",
      "feature_206 | feature_202 | 0.83\n",
      "feature_207 | feature_67 | 0.86\n",
      "feature_207 | feature_196 | 0.92\n",
      "feature_207 | feature_197 | 0.87\n",
      "feature_207 | feature_199 | 0.88\n",
      "feature_207 | feature_200 | 0.71\n",
      "feature_207 | feature_203 | 0.86\n",
      "feature_207 | feature_204 | 0.87\n",
      "feature_207 | feature_205 | 0.87\n",
      "feature_209 | feature_74 | 1.0\n",
      "feature_209 | feature_202 | 0.83\n",
      "feature_209 | feature_206 | 1.0\n",
      "feature_224 | feature_89 | 0.71\n",
      "feature_248 | feature_114 | 0.7\n",
      "feature_249 | feature_114 | 0.98\n",
      "feature_249 | feature_248 | 0.73\n",
      "feature_252 | feature_117 | 0.99\n",
      "feature_254 | feature_119 | 0.8\n",
      "feature_270 | feature_135 | 0.95\n",
      "feature_271 | feature_136 | 0.97\n",
      "feature_272 | feature_137 | 0.98\n",
      "feature_272 | feature_271 | 0.71\n",
      "feature_273 | feature_138 | 0.92\n",
      "feature_274 | feature_139 | 0.99\n",
      "feature_275 | feature_4 | 1.0\n",
      "feature_275 | feature_140 | 1.0\n",
      "feature_277 | feature_4 | 0.72\n",
      "feature_277 | feature_140 | 0.72\n",
      "feature_277 | feature_142 | 0.97\n",
      "feature_277 | feature_275 | 0.72\n",
      "feature_278 | feature_143 | 0.91\n",
      "feature_279 | feature_144 | 0.98\n",
      "feature_280 | feature_145 | 0.96\n",
      "feature_281 | feature_146 | 0.95\n",
      "feature_282 | feature_16 | 0.88\n",
      "feature_282 | feature_147 | 1.0\n",
      "feature_282 | feature_148 | 0.89\n",
      "feature_282 | feature_152 | 0.89\n",
      "feature_282 | feature_154 | 0.8\n",
      "feature_283 | feature_16 | 0.97\n",
      "feature_283 | feature_147 | 0.89\n",
      "feature_283 | feature_148 | 1.0\n",
      "feature_283 | feature_152 | 0.99\n",
      "feature_283 | feature_154 | 0.94\n",
      "feature_283 | feature_282 | 0.89\n",
      "feature_285 | feature_150 | 0.97\n",
      "feature_286 | feature_151 | 0.99\n",
      "feature_287 | feature_16 | 0.98\n",
      "feature_287 | feature_147 | 0.9\n",
      "feature_287 | feature_148 | 0.99\n",
      "feature_287 | feature_152 | 1.0\n",
      "feature_287 | feature_154 | 0.89\n",
      "feature_287 | feature_282 | 0.89\n",
      "feature_287 | feature_283 | 0.99\n",
      "feature_288 | feature_153 | 1.0\n",
      "feature_289 | feature_16 | 0.88\n",
      "feature_289 | feature_147 | 0.81\n",
      "feature_289 | feature_148 | 0.94\n",
      "feature_289 | feature_152 | 0.89\n",
      "feature_289 | feature_154 | 0.99\n",
      "feature_289 | feature_282 | 0.81\n",
      "feature_289 | feature_283 | 0.94\n",
      "feature_289 | feature_287 | 0.89\n",
      "feature_290 | feature_19 | 0.81\n",
      "feature_290 | feature_155 | 0.95\n",
      "feature_291 | feature_156 | 0.99\n",
      "feature_294 | feature_159 | 0.99\n",
      "feature_294 | feature_163 | 0.79\n",
      "feature_294 | feature_164 | 0.83\n",
      "feature_294 | feature_165 | 0.82\n",
      "feature_295 | feature_160 | 1.0\n",
      "feature_296 | feature_161 | 0.99\n",
      "feature_297 | feature_162 | 0.99\n",
      "feature_298 | feature_26 | 0.73\n",
      "feature_298 | feature_159 | 0.77\n",
      "feature_298 | feature_163 | 0.99\n",
      "feature_298 | feature_164 | 0.94\n",
      "feature_298 | feature_165 | 0.92\n",
      "feature_298 | feature_294 | 0.81\n",
      "feature_299 | feature_26 | 0.77\n",
      "feature_299 | feature_159 | 0.8\n",
      "feature_299 | feature_163 | 0.92\n",
      "feature_299 | feature_164 | 1.0\n",
      "feature_299 | feature_165 | 0.96\n",
      "feature_299 | feature_294 | 0.83\n",
      "feature_299 | feature_298 | 0.95\n",
      "feature_300 | feature_26 | 0.75\n",
      "feature_300 | feature_159 | 0.79\n",
      "feature_300 | feature_163 | 0.9\n",
      "feature_300 | feature_164 | 0.97\n",
      "feature_300 | feature_165 | 1.0\n",
      "feature_300 | feature_294 | 0.82\n",
      "feature_300 | feature_298 | 0.93\n",
      "feature_300 | feature_299 | 0.97\n",
      "feature_301 | feature_166 | 0.96\n",
      "feature_302 | feature_167 | 0.98\n",
      "feature_303 | feature_168 | 0.96\n",
      "feature_304 | feature_27 | 0.71\n",
      "feature_304 | feature_169 | 0.98\n",
      "feature_305 | feature_170 | 0.96\n",
      "feature_306 | feature_171 | 0.99\n",
      "feature_307 | feature_172 | 0.96\n",
      "feature_307 | feature_174 | 0.96\n",
      "feature_308 | feature_173 | 0.96\n",
      "feature_309 | feature_172 | 0.96\n",
      "feature_309 | feature_174 | 0.96\n",
      "feature_309 | feature_307 | 1.0\n",
      "feature_310 | feature_175 | 0.96\n",
      "feature_311 | feature_176 | 0.98\n",
      "feature_312 | feature_177 | 1.0\n",
      "feature_316 | feature_180 | 0.88\n",
      "feature_317 | feature_181 | 0.96\n",
      "feature_318 | feature_182 | 0.98\n",
      "feature_319 | feature_183 | 0.98\n",
      "feature_320 | feature_184 | 0.99\n",
      "feature_320 | feature_185 | 0.72\n",
      "feature_321 | feature_184 | 0.71\n",
      "feature_321 | feature_185 | 0.99\n",
      "feature_321 | feature_187 | 0.83\n",
      "feature_321 | feature_320 | 0.72\n",
      "feature_323 | feature_185 | 0.81\n",
      "feature_323 | feature_187 | 0.99\n",
      "feature_323 | feature_321 | 0.82\n",
      "feature_324 | feature_188 | 0.98\n",
      "feature_331 | feature_195 | 0.95\n",
      "feature_332 | feature_67 | 0.88\n",
      "feature_332 | feature_196 | 0.96\n",
      "feature_332 | feature_197 | 0.9\n",
      "feature_332 | feature_199 | 0.9\n",
      "feature_332 | feature_203 | 0.72\n",
      "feature_332 | feature_204 | 0.82\n",
      "feature_332 | feature_205 | 0.89\n",
      "feature_332 | feature_207 | 0.91\n",
      "feature_333 | feature_67 | 0.87\n",
      "feature_333 | feature_196 | 0.87\n",
      "feature_333 | feature_197 | 0.98\n",
      "feature_333 | feature_198 | 0.74\n",
      "feature_333 | feature_199 | 0.8\n",
      "feature_333 | feature_204 | 0.79\n",
      "feature_333 | feature_205 | 0.85\n",
      "feature_333 | feature_207 | 0.87\n",
      "feature_333 | feature_332 | 0.9\n",
      "feature_334 | feature_67 | 0.75\n",
      "feature_334 | feature_196 | 0.75\n",
      "feature_334 | feature_197 | 0.78\n",
      "feature_334 | feature_198 | 0.99\n",
      "feature_334 | feature_199 | 0.75\n",
      "feature_334 | feature_204 | 0.7\n",
      "feature_334 | feature_205 | 0.76\n",
      "feature_334 | feature_207 | 0.73\n",
      "feature_334 | feature_332 | 0.73\n",
      "feature_334 | feature_333 | 0.8\n",
      "feature_335 | feature_67 | 0.85\n",
      "feature_335 | feature_196 | 0.93\n",
      "feature_335 | feature_197 | 0.86\n",
      "feature_335 | feature_199 | 0.96\n",
      "feature_335 | feature_203 | 0.72\n",
      "feature_335 | feature_204 | 0.79\n",
      "feature_335 | feature_205 | 0.85\n",
      "feature_335 | feature_207 | 0.89\n",
      "feature_335 | feature_332 | 0.96\n",
      "feature_335 | feature_333 | 0.86\n",
      "feature_335 | feature_334 | 0.74\n",
      "feature_336 | feature_67 | 0.87\n",
      "feature_336 | feature_196 | 0.91\n",
      "feature_336 | feature_197 | 0.9\n",
      "feature_336 | feature_198 | 0.7\n",
      "feature_336 | feature_199 | 0.88\n",
      "feature_336 | feature_203 | 0.71\n",
      "feature_336 | feature_204 | 0.82\n",
      "feature_336 | feature_205 | 0.88\n",
      "feature_336 | feature_207 | 0.9\n",
      "feature_336 | feature_332 | 0.94\n",
      "feature_336 | feature_333 | 0.9\n",
      "feature_336 | feature_334 | 0.76\n",
      "feature_336 | feature_335 | 0.93\n"
     ]
    },
    {
     "name": "stdout",
     "output_type": "stream",
     "text": [
      "feature_337 | feature_201 | 0.93\n",
      "feature_337 | feature_202 | 0.81\n",
      "feature_338 | feature_74 | 0.87\n",
      "feature_338 | feature_201 | 0.75\n",
      "feature_338 | feature_202 | 0.99\n",
      "feature_338 | feature_203 | 0.86\n",
      "feature_338 | feature_204 | 0.7\n",
      "feature_338 | feature_206 | 0.87\n",
      "feature_338 | feature_209 | 0.87\n",
      "feature_338 | feature_337 | 0.76\n",
      "feature_339 | feature_74 | 0.78\n",
      "feature_339 | feature_196 | 0.76\n",
      "feature_339 | feature_199 | 0.76\n",
      "feature_339 | feature_200 | 0.73\n",
      "feature_339 | feature_202 | 0.88\n",
      "feature_339 | feature_203 | 0.98\n",
      "feature_339 | feature_204 | 0.75\n",
      "feature_339 | feature_206 | 0.78\n",
      "feature_339 | feature_207 | 0.82\n",
      "feature_339 | feature_209 | 0.78\n",
      "feature_339 | feature_338 | 0.9\n",
      "feature_340 | feature_67 | 0.95\n",
      "feature_340 | feature_196 | 0.85\n",
      "feature_340 | feature_197 | 0.83\n",
      "feature_340 | feature_199 | 0.81\n",
      "feature_340 | feature_203 | 0.72\n",
      "feature_340 | feature_204 | 0.99\n",
      "feature_340 | feature_205 | 0.84\n",
      "feature_340 | feature_207 | 0.85\n",
      "feature_340 | feature_332 | 0.82\n",
      "feature_340 | feature_333 | 0.82\n",
      "feature_340 | feature_334 | 0.73\n",
      "feature_340 | feature_335 | 0.79\n",
      "feature_340 | feature_336 | 0.82\n",
      "feature_341 | feature_67 | 0.91\n",
      "feature_341 | feature_196 | 0.86\n",
      "feature_341 | feature_197 | 0.85\n",
      "feature_341 | feature_198 | 0.72\n",
      "feature_341 | feature_199 | 0.81\n",
      "feature_341 | feature_204 | 0.87\n",
      "feature_341 | feature_205 | 0.99\n",
      "feature_341 | feature_207 | 0.87\n",
      "feature_341 | feature_332 | 0.89\n",
      "feature_341 | feature_333 | 0.86\n",
      "feature_341 | feature_334 | 0.77\n",
      "feature_341 | feature_335 | 0.85\n",
      "feature_341 | feature_336 | 0.89\n",
      "feature_341 | feature_340 | 0.89\n",
      "feature_342 | feature_74 | 1.0\n",
      "feature_342 | feature_202 | 0.83\n",
      "feature_342 | feature_206 | 1.0\n",
      "feature_342 | feature_209 | 1.0\n",
      "feature_342 | feature_338 | 0.87\n",
      "feature_342 | feature_339 | 0.78\n",
      "feature_343 | feature_67 | 0.87\n",
      "feature_343 | feature_196 | 0.9\n",
      "feature_343 | feature_197 | 0.88\n",
      "feature_343 | feature_199 | 0.87\n",
      "feature_343 | feature_203 | 0.8\n",
      "feature_343 | feature_204 | 0.83\n",
      "feature_343 | feature_205 | 0.88\n",
      "feature_343 | feature_207 | 0.98\n",
      "feature_343 | feature_332 | 0.94\n",
      "feature_343 | feature_333 | 0.89\n",
      "feature_343 | feature_334 | 0.73\n",
      "feature_343 | feature_335 | 0.92\n",
      "feature_343 | feature_336 | 0.92\n",
      "feature_343 | feature_339 | 0.75\n",
      "feature_343 | feature_340 | 0.82\n",
      "feature_343 | feature_341 | 0.88\n",
      "feature_344 | feature_208 | 0.96\n",
      "feature_347 | feature_74 | 1.0\n",
      "feature_347 | feature_202 | 0.83\n",
      "feature_347 | feature_206 | 1.0\n",
      "feature_347 | feature_209 | 1.0\n",
      "feature_347 | feature_338 | 0.87\n",
      "feature_347 | feature_339 | 0.78\n",
      "feature_347 | feature_342 | 1.0\n",
      "feature_348 | feature_210 | 0.95\n",
      "feature_349 | feature_211 | 0.99\n",
      "feature_350 | feature_212 | 0.99\n",
      "feature_351 | feature_213 | 1.0\n",
      "feature_352 | feature_214 | 0.98\n",
      "feature_353 | feature_215 | 0.98\n",
      "feature_354 | feature_216 | 0.97\n",
      "feature_355 | feature_217 | 0.99\n",
      "feature_356 | feature_218 | 0.95\n",
      "feature_357 | feature_219 | 0.98\n",
      "feature_359 | feature_221 | 0.98\n",
      "feature_360 | feature_222 | 0.99\n",
      "feature_361 | feature_223 | 0.98\n",
      "feature_362 | feature_89 | 0.71\n",
      "feature_362 | feature_224 | 1.0\n",
      "feature_363 | feature_225 | 0.96\n",
      "feature_365 | feature_227 | 0.97\n",
      "feature_366 | feature_228 | 0.97\n",
      "feature_367 | feature_227 | 0.74\n",
      "feature_367 | feature_365 | 0.74\n",
      "feature_368 | feature_228 | 0.79\n",
      "feature_368 | feature_366 | 0.77\n",
      "feature_368 | feature_367 | 0.79\n",
      "feature_376 | feature_238 | 0.97\n",
      "feature_377 | feature_239 | 0.95\n",
      "feature_385 | feature_247 | 0.84\n",
      "feature_386 | feature_248 | 1.0\n",
      "feature_386 | feature_249 | 0.73\n",
      "feature_387 | feature_114 | 0.98\n",
      "feature_387 | feature_248 | 0.73\n",
      "feature_387 | feature_249 | 1.0\n",
      "feature_387 | feature_386 | 0.73\n",
      "feature_388 | feature_250 | 0.97\n",
      "feature_389 | feature_251 | 1.0\n",
      "feature_390 | feature_117 | 0.99\n",
      "feature_390 | feature_252 | 1.0\n",
      "feature_391 | feature_253 | 0.99\n",
      "feature_392 | feature_119 | 0.79\n",
      "feature_392 | feature_254 | 0.99\n",
      "feature_393 | feature_255 | 0.99\n",
      "feature_405 | feature_267 | 0.99\n",
      "feature_406 | feature_268 | 0.97\n",
      "feature_407 | feature_269 | 0.95\n",
      "feature_408 | feature_135 | 1.0\n",
      "feature_408 | feature_270 | 0.94\n",
      "feature_409 | feature_136 | 1.0\n",
      "feature_409 | feature_271 | 0.97\n",
      "feature_410 | feature_137 | 1.0\n",
      "feature_410 | feature_272 | 0.97\n",
      "feature_411 | feature_138 | 1.0\n",
      "feature_411 | feature_273 | 0.92\n",
      "feature_412 | feature_139 | 0.85\n",
      "feature_412 | feature_274 | 0.83\n",
      "feature_413 | feature_4 | 0.94\n",
      "feature_413 | feature_140 | 0.94\n",
      "feature_413 | feature_275 | 0.94\n",
      "feature_415 | feature_142 | 0.99\n",
      "feature_415 | feature_277 | 0.97\n",
      "feature_416 | feature_143 | 1.0\n",
      "feature_416 | feature_278 | 0.91\n",
      "feature_417 | feature_144 | 0.99\n",
      "feature_417 | feature_279 | 0.97\n",
      "feature_420 | feature_16 | 0.9\n",
      "feature_420 | feature_147 | 1.0\n",
      "feature_420 | feature_148 | 0.9\n",
      "feature_420 | feature_152 | 0.91\n",
      "feature_420 | feature_154 | 0.81\n",
      "feature_420 | feature_282 | 1.0\n",
      "feature_420 | feature_283 | 0.9\n",
      "feature_420 | feature_287 | 0.91\n",
      "feature_420 | feature_289 | 0.82\n",
      "feature_421 | feature_16 | 0.96\n",
      "feature_421 | feature_147 | 0.89\n",
      "feature_421 | feature_148 | 1.0\n",
      "feature_421 | feature_152 | 0.98\n",
      "feature_421 | feature_154 | 0.95\n",
      "feature_421 | feature_282 | 0.88\n",
      "feature_421 | feature_283 | 1.0\n",
      "feature_421 | feature_287 | 0.98\n",
      "feature_421 | feature_289 | 0.95\n",
      "feature_421 | feature_420 | 0.9\n",
      "feature_424 | feature_151 | 0.98\n",
      "feature_424 | feature_286 | 0.97\n",
      "feature_425 | feature_16 | 0.94\n",
      "feature_425 | feature_147 | 0.87\n",
      "feature_425 | feature_148 | 0.96\n",
      "feature_425 | feature_152 | 0.98\n",
      "feature_425 | feature_154 | 0.86\n",
      "feature_425 | feature_282 | 0.87\n",
      "feature_425 | feature_283 | 0.96\n",
      "feature_425 | feature_287 | 0.97\n",
      "feature_425 | feature_289 | 0.86\n",
      "feature_425 | feature_420 | 0.88\n",
      "feature_425 | feature_421 | 0.95\n",
      "feature_426 | feature_153 | 1.0\n",
      "feature_426 | feature_288 | 0.99\n",
      "feature_427 | feature_16 | 0.89\n",
      "feature_427 | feature_147 | 0.82\n",
      "feature_427 | feature_148 | 0.95\n",
      "feature_427 | feature_152 | 0.91\n",
      "feature_427 | feature_154 | 1.0\n",
      "feature_427 | feature_282 | 0.82\n",
      "feature_427 | feature_283 | 0.95\n",
      "feature_427 | feature_287 | 0.91\n",
      "feature_427 | feature_289 | 0.99\n",
      "feature_427 | feature_420 | 0.83\n",
      "feature_427 | feature_421 | 0.97\n",
      "feature_427 | feature_425 | 0.88\n",
      "feature_428 | feature_19 | 0.84\n",
      "feature_428 | feature_155 | 1.0\n",
      "feature_428 | feature_290 | 0.96\n",
      "feature_429 | feature_156 | 1.0\n",
      "feature_429 | feature_291 | 0.99\n",
      "feature_430 | feature_26 | 0.74\n",
      "feature_430 | feature_159 | 0.87\n",
      "feature_430 | feature_163 | 0.83\n",
      "feature_430 | feature_164 | 0.88\n",
      "feature_430 | feature_165 | 0.85\n",
      "feature_430 | feature_294 | 0.89\n",
      "feature_430 | feature_298 | 0.84\n",
      "feature_430 | feature_299 | 0.87\n",
      "feature_430 | feature_300 | 0.85\n",
      "feature_431 | feature_26 | 0.74\n",
      "feature_431 | feature_160 | 0.81\n",
      "feature_431 | feature_163 | 0.81\n",
      "feature_431 | feature_164 | 0.85\n",
      "feature_431 | feature_165 | 0.81\n",
      "feature_431 | feature_294 | 0.72\n",
      "feature_431 | feature_295 | 0.83\n",
      "feature_431 | feature_298 | 0.83\n",
      "feature_431 | feature_299 | 0.85\n",
      "feature_431 | feature_300 | 0.82\n",
      "feature_431 | feature_430 | 0.9\n",
      "feature_434 | feature_26 | 0.82\n",
      "feature_434 | feature_159 | 0.71\n",
      "feature_434 | feature_163 | 0.88\n",
      "feature_434 | feature_164 | 0.9\n",
      "feature_434 | feature_165 | 0.86\n",
      "feature_434 | feature_294 | 0.75\n",
      "feature_434 | feature_298 | 0.89\n",
      "feature_434 | feature_299 | 0.89\n",
      "feature_434 | feature_300 | 0.86\n",
      "feature_434 | feature_430 | 0.95\n",
      "feature_434 | feature_431 | 0.93\n",
      "feature_435 | feature_26 | 0.83\n",
      "feature_435 | feature_159 | 0.71\n",
      "feature_435 | feature_163 | 0.84\n",
      "feature_435 | feature_164 | 0.91\n",
      "feature_435 | feature_165 | 0.87\n",
      "feature_435 | feature_294 | 0.75\n",
      "feature_435 | feature_298 | 0.86\n",
      "feature_435 | feature_299 | 0.9\n",
      "feature_435 | feature_300 | 0.86\n",
      "feature_435 | feature_430 | 0.95\n",
      "feature_435 | feature_431 | 0.93\n",
      "feature_435 | feature_434 | 0.99\n",
      "feature_436 | feature_26 | 0.81\n",
      "feature_436 | feature_159 | 0.71\n",
      "feature_436 | feature_163 | 0.84\n",
      "feature_436 | feature_164 | 0.9\n",
      "feature_436 | feature_165 | 0.88\n",
      "feature_436 | feature_294 | 0.75\n",
      "feature_436 | feature_298 | 0.86\n",
      "feature_436 | feature_299 | 0.9\n",
      "feature_436 | feature_300 | 0.87\n",
      "feature_436 | feature_430 | 0.95\n",
      "feature_436 | feature_431 | 0.93\n",
      "feature_436 | feature_434 | 0.99\n",
      "feature_436 | feature_435 | 1.0\n",
      "feature_437 | feature_166 | 0.99\n",
      "feature_437 | feature_301 | 0.95\n",
      "feature_439 | feature_168 | 0.79\n",
      "feature_439 | feature_303 | 0.77\n",
      "feature_440 | feature_27 | 0.71\n",
      "feature_440 | feature_169 | 1.0\n",
      "feature_440 | feature_304 | 0.98\n",
      "feature_441 | feature_170 | 0.99\n",
      "feature_441 | feature_305 | 0.95\n"
     ]
    },
    {
     "name": "stdout",
     "output_type": "stream",
     "text": [
      "feature_442 | feature_171 | 0.97\n",
      "feature_442 | feature_306 | 0.96\n",
      "feature_443 | feature_172 | 1.0\n",
      "feature_443 | feature_174 | 1.0\n",
      "feature_443 | feature_307 | 0.96\n",
      "feature_443 | feature_309 | 0.96\n",
      "feature_444 | feature_173 | 0.99\n",
      "feature_444 | feature_308 | 0.95\n",
      "feature_445 | feature_172 | 1.0\n",
      "feature_445 | feature_174 | 1.0\n",
      "feature_445 | feature_307 | 0.96\n",
      "feature_445 | feature_309 | 0.96\n",
      "feature_445 | feature_443 | 0.99\n",
      "feature_446 | feature_175 | 1.0\n",
      "feature_446 | feature_310 | 0.95\n",
      "feature_447 | feature_176 | 1.0\n",
      "feature_447 | feature_311 | 0.98\n",
      "feature_448 | feature_177 | 1.0\n",
      "feature_448 | feature_312 | 1.0\n",
      "feature_452 | feature_180 | 0.99\n",
      "feature_452 | feature_316 | 0.86\n",
      "feature_453 | feature_181 | 1.0\n",
      "feature_453 | feature_317 | 0.96\n",
      "feature_454 | feature_182 | 0.99\n",
      "feature_454 | feature_318 | 0.97\n",
      "feature_455 | feature_183 | 1.0\n",
      "feature_455 | feature_319 | 0.98\n",
      "feature_456 | feature_184 | 0.97\n",
      "feature_456 | feature_185 | 0.71\n",
      "feature_456 | feature_320 | 0.96\n",
      "feature_456 | feature_321 | 0.72\n",
      "feature_457 | feature_185 | 1.0\n",
      "feature_457 | feature_187 | 0.81\n",
      "feature_457 | feature_320 | 0.7\n",
      "feature_457 | feature_321 | 0.99\n",
      "feature_457 | feature_323 | 0.8\n",
      "feature_457 | feature_456 | 0.71\n",
      "feature_459 | feature_185 | 0.82\n",
      "feature_459 | feature_187 | 1.0\n",
      "feature_459 | feature_321 | 0.82\n",
      "feature_459 | feature_323 | 0.99\n",
      "feature_459 | feature_457 | 0.8\n",
      "feature_467 | feature_195 | 1.0\n",
      "feature_467 | feature_331 | 0.95\n",
      "feature_469 | feature_67 | 0.87\n",
      "feature_469 | feature_196 | 0.9\n",
      "feature_469 | feature_197 | 1.0\n",
      "feature_469 | feature_198 | 0.72\n",
      "feature_469 | feature_199 | 0.83\n",
      "feature_469 | feature_203 | 0.71\n",
      "feature_469 | feature_204 | 0.81\n",
      "feature_469 | feature_205 | 0.85\n",
      "feature_469 | feature_207 | 0.88\n",
      "feature_469 | feature_332 | 0.91\n",
      "feature_469 | feature_333 | 0.99\n",
      "feature_469 | feature_334 | 0.77\n",
      "feature_469 | feature_335 | 0.87\n",
      "feature_469 | feature_336 | 0.91\n",
      "feature_469 | feature_340 | 0.82\n",
      "feature_469 | feature_341 | 0.86\n",
      "feature_469 | feature_343 | 0.89\n",
      "feature_470 | feature_198 | 1.0\n",
      "feature_470 | feature_333 | 0.71\n",
      "feature_470 | feature_334 | 0.98\n",
      "feature_471 | feature_196 | 0.83\n",
      "feature_471 | feature_199 | 0.94\n",
      "feature_471 | feature_202 | 0.73\n",
      "feature_471 | feature_203 | 0.8\n",
      "feature_471 | feature_204 | 0.74\n",
      "feature_471 | feature_207 | 0.74\n",
      "feature_471 | feature_332 | 0.72\n",
      "feature_471 | feature_335 | 0.83\n",
      "feature_471 | feature_336 | 0.72\n",
      "feature_471 | feature_338 | 0.72\n",
      "feature_471 | feature_339 | 0.78\n",
      "feature_473 | feature_201 | 0.87\n",
      "feature_473 | feature_337 | 0.76\n",
      "feature_474 | feature_201 | 0.74\n",
      "feature_474 | feature_202 | 0.71\n",
      "feature_474 | feature_337 | 0.71\n",
      "feature_474 | feature_473 | 0.79\n",
      "feature_475 | feature_74 | 0.73\n",
      "feature_475 | feature_196 | 0.79\n",
      "feature_475 | feature_199 | 0.77\n",
      "feature_475 | feature_200 | 0.76\n",
      "feature_475 | feature_202 | 0.87\n",
      "feature_475 | feature_203 | 1.0\n",
      "feature_475 | feature_204 | 0.78\n",
      "feature_475 | feature_206 | 0.73\n",
      "feature_475 | feature_207 | 0.83\n",
      "feature_475 | feature_209 | 0.73\n",
      "feature_475 | feature_338 | 0.88\n",
      "feature_475 | feature_339 | 0.99\n",
      "feature_475 | feature_342 | 0.73\n",
      "feature_475 | feature_343 | 0.76\n",
      "feature_475 | feature_347 | 0.73\n",
      "feature_475 | feature_471 | 0.8\n",
      "feature_477 | feature_67 | 0.92\n",
      "feature_477 | feature_196 | 0.88\n",
      "feature_477 | feature_197 | 0.85\n",
      "feature_477 | feature_199 | 0.82\n",
      "feature_477 | feature_204 | 0.87\n",
      "feature_477 | feature_205 | 0.99\n",
      "feature_477 | feature_207 | 0.88\n",
      "feature_477 | feature_332 | 0.91\n",
      "feature_477 | feature_333 | 0.85\n",
      "feature_477 | feature_334 | 0.76\n",
      "feature_477 | feature_335 | 0.87\n",
      "feature_477 | feature_336 | 0.89\n",
      "feature_477 | feature_340 | 0.88\n",
      "feature_477 | feature_341 | 0.99\n",
      "feature_477 | feature_343 | 0.89\n",
      "feature_477 | feature_469 | 0.85\n",
      "feature_478 | feature_74 | 1.0\n",
      "feature_478 | feature_202 | 0.83\n",
      "feature_478 | feature_206 | 1.0\n",
      "feature_478 | feature_209 | 1.0\n",
      "feature_478 | feature_338 | 0.87\n",
      "feature_478 | feature_339 | 0.78\n",
      "feature_478 | feature_342 | 1.0\n",
      "feature_478 | feature_347 | 1.0\n",
      "feature_478 | feature_475 | 0.73\n",
      "feature_479 | feature_67 | 0.85\n",
      "feature_479 | feature_196 | 0.91\n",
      "feature_479 | feature_197 | 0.87\n",
      "feature_479 | feature_199 | 0.88\n",
      "feature_479 | feature_200 | 0.75\n",
      "feature_479 | feature_203 | 0.88\n",
      "feature_479 | feature_204 | 0.88\n",
      "feature_479 | feature_205 | 0.86\n",
      "feature_479 | feature_207 | 1.0\n",
      "feature_479 | feature_332 | 0.89\n",
      "feature_479 | feature_333 | 0.86\n",
      "feature_479 | feature_334 | 0.74\n",
      "feature_479 | feature_335 | 0.88\n",
      "feature_479 | feature_336 | 0.89\n",
      "feature_479 | feature_338 | 0.71\n",
      "feature_479 | feature_339 | 0.84\n",
      "feature_479 | feature_340 | 0.85\n",
      "feature_479 | feature_341 | 0.86\n",
      "feature_479 | feature_343 | 0.97\n",
      "feature_479 | feature_469 | 0.87\n",
      "feature_479 | feature_471 | 0.76\n",
      "feature_479 | feature_475 | 0.85\n",
      "feature_479 | feature_477 | 0.86\n",
      "feature_480 | feature_208 | 0.8\n",
      "feature_480 | feature_344 | 0.78\n",
      "feature_490 | feature_218 | 0.98\n",
      "feature_490 | feature_356 | 0.93\n",
      "feature_491 | feature_219 | 1.0\n",
      "feature_491 | feature_357 | 0.97\n",
      "feature_493 | feature_221 | 1.0\n",
      "feature_493 | feature_359 | 0.98\n",
      "feature_494 | feature_222 | 1.0\n",
      "feature_494 | feature_360 | 1.0\n",
      "feature_495 | feature_223 | 1.0\n",
      "feature_495 | feature_361 | 0.97\n",
      "feature_496 | feature_224 | 0.82\n",
      "feature_496 | feature_362 | 0.82\n",
      "feature_497 | feature_225 | 0.99\n",
      "feature_497 | feature_363 | 0.96\n",
      "feature_519 | feature_247 | 0.94\n",
      "feature_519 | feature_385 | 0.95\n",
      "feature_520 | feature_248 | 1.0\n",
      "feature_520 | feature_249 | 0.73\n",
      "feature_520 | feature_386 | 1.0\n",
      "feature_520 | feature_387 | 0.73\n",
      "feature_522 | feature_250 | 0.99\n",
      "feature_522 | feature_388 | 0.96\n",
      "feature_522 | feature_497 | 0.7\n",
      "feature_523 | feature_251 | 1.0\n",
      "feature_523 | feature_389 | 1.0\n",
      "feature_524 | feature_117 | 0.98\n",
      "feature_524 | feature_252 | 1.0\n",
      "feature_524 | feature_390 | 1.0\n",
      "feature_525 | feature_253 | 1.0\n",
      "feature_525 | feature_391 | 0.99\n",
      "feature_526 | feature_119 | 0.81\n",
      "feature_526 | feature_254 | 1.0\n",
      "feature_526 | feature_392 | 0.99\n",
      "feature_527 | feature_255 | 1.0\n",
      "feature_527 | feature_393 | 0.98\n",
      "feature_539 | feature_267 | 1.0\n",
      "feature_539 | feature_405 | 0.99\n",
      "feature_540 | feature_268 | 1.0\n",
      "feature_540 | feature_406 | 0.97\n",
      "feature_541 | feature_269 | 0.97\n",
      "feature_541 | feature_407 | 0.91\n",
      "feature_545 | feature_543 | 0.99\n",
      "feature_549 | feature_546 | 0.72\n",
      "feature_552 | feature_546 | 0.72\n",
      "feature_552 | feature_549 | 1.0\n",
      "feature_553 | feature_550 | 0.98\n",
      "feature_554 | feature_551 | 1.0\n",
      "feature_555 | feature_549 | 0.89\n",
      "feature_555 | feature_552 | 0.88\n",
      "feature_556 | feature_550 | 1.0\n",
      "feature_556 | feature_551 | 0.71\n",
      "feature_556 | feature_553 | 0.97\n",
      "feature_556 | feature_554 | 0.72\n",
      "feature_557 | feature_551 | 1.0\n",
      "feature_557 | feature_554 | 0.99\n",
      "feature_557 | feature_556 | 0.71\n",
      "feature_560 | feature_559 | 0.89\n",
      "feature_561 | feature_559 | 0.98\n",
      "feature_561 | feature_560 | 0.82\n",
      "feature_566 | feature_564 | 0.98\n",
      "feature_567 | feature_565 | 0.99\n",
      "feature_568 | feature_564 | 1.0\n",
      "feature_568 | feature_566 | 0.98\n",
      "feature_569 | feature_565 | 0.94\n",
      "feature_569 | feature_567 | 0.92\n",
      "feature_573 | feature_572 | 0.79\n",
      "feature_574 | feature_572 | 0.99\n",
      "feature_574 | feature_573 | 0.78\n",
      "feature_575 | feature_572 | 0.78\n",
      "feature_575 | feature_573 | 0.98\n",
      "feature_575 | feature_574 | 0.77\n",
      "feature_576 | feature_572 | 0.99\n",
      "feature_576 | feature_573 | 0.79\n",
      "feature_576 | feature_574 | 0.99\n",
      "feature_576 | feature_575 | 0.78\n",
      "feature_577 | feature_572 | 0.86\n",
      "feature_577 | feature_573 | 0.96\n",
      "feature_577 | feature_574 | 0.85\n",
      "feature_577 | feature_575 | 0.93\n",
      "feature_577 | feature_576 | 0.86\n",
      "feature_584 | feature_583 | 0.99\n",
      "feature_585 | feature_583 | 1.0\n",
      "feature_585 | feature_584 | 1.0\n",
      "feature_588 | feature_587 | 0.97\n"
     ]
    },
    {
     "data": {
      "text/html": [
       "<div>\n",
       "<style scoped>\n",
       "    .dataframe tbody tr th:only-of-type {\n",
       "        vertical-align: middle;\n",
       "    }\n",
       "\n",
       "    .dataframe tbody tr th {\n",
       "        vertical-align: top;\n",
       "    }\n",
       "\n",
       "    .dataframe thead th {\n",
       "        text-align: right;\n",
       "    }\n",
       "</style>\n",
       "<table border=\"1\" class=\"dataframe\">\n",
       "  <thead>\n",
       "    <tr style=\"text-align: right;\">\n",
       "      <th></th>\n",
       "      <th>feature_0</th>\n",
       "      <th>feature_1</th>\n",
       "      <th>feature_2</th>\n",
       "      <th>feature_3</th>\n",
       "      <th>feature_4</th>\n",
       "      <th>feature_6</th>\n",
       "      <th>feature_7</th>\n",
       "      <th>feature_8</th>\n",
       "      <th>feature_9</th>\n",
       "      <th>feature_10</th>\n",
       "      <th>...</th>\n",
       "      <th>feature_565</th>\n",
       "      <th>feature_570</th>\n",
       "      <th>feature_571</th>\n",
       "      <th>feature_572</th>\n",
       "      <th>feature_582</th>\n",
       "      <th>feature_583</th>\n",
       "      <th>feature_586</th>\n",
       "      <th>feature_587</th>\n",
       "      <th>feature_589</th>\n",
       "      <th>Pass_Fail</th>\n",
       "    </tr>\n",
       "  </thead>\n",
       "  <tbody>\n",
       "    <tr>\n",
       "      <th>0</th>\n",
       "      <td>3030.93</td>\n",
       "      <td>2564.00</td>\n",
       "      <td>2187.7333</td>\n",
       "      <td>1411.1265</td>\n",
       "      <td>1.3602</td>\n",
       "      <td>97.6133</td>\n",
       "      <td>0.1242</td>\n",
       "      <td>1.5005</td>\n",
       "      <td>0.0162</td>\n",
       "      <td>-0.0034</td>\n",
       "      <td>...</td>\n",
       "      <td>0.6219</td>\n",
       "      <td>533.8500</td>\n",
       "      <td>2.1113</td>\n",
       "      <td>8.95</td>\n",
       "      <td>0.5005</td>\n",
       "      <td>0.0118</td>\n",
       "      <td>0.0096</td>\n",
       "      <td>0.0201</td>\n",
       "      <td>208.2045</td>\n",
       "      <td>-1</td>\n",
       "    </tr>\n",
       "    <tr>\n",
       "      <th>1</th>\n",
       "      <td>3095.78</td>\n",
       "      <td>2465.14</td>\n",
       "      <td>2230.4222</td>\n",
       "      <td>1463.6606</td>\n",
       "      <td>0.8294</td>\n",
       "      <td>102.3433</td>\n",
       "      <td>0.1247</td>\n",
       "      <td>1.4966</td>\n",
       "      <td>-0.0005</td>\n",
       "      <td>-0.0148</td>\n",
       "      <td>...</td>\n",
       "      <td>0.6219</td>\n",
       "      <td>535.0164</td>\n",
       "      <td>2.4335</td>\n",
       "      <td>5.92</td>\n",
       "      <td>0.5019</td>\n",
       "      <td>0.0223</td>\n",
       "      <td>0.0096</td>\n",
       "      <td>0.0201</td>\n",
       "      <td>208.2045</td>\n",
       "      <td>-1</td>\n",
       "    </tr>\n",
       "    <tr>\n",
       "      <th>2</th>\n",
       "      <td>2932.61</td>\n",
       "      <td>2559.94</td>\n",
       "      <td>2186.4111</td>\n",
       "      <td>1698.0172</td>\n",
       "      <td>1.5102</td>\n",
       "      <td>95.4878</td>\n",
       "      <td>0.1241</td>\n",
       "      <td>1.4436</td>\n",
       "      <td>0.0041</td>\n",
       "      <td>0.0013</td>\n",
       "      <td>...</td>\n",
       "      <td>0.6219</td>\n",
       "      <td>535.0245</td>\n",
       "      <td>2.0293</td>\n",
       "      <td>11.21</td>\n",
       "      <td>0.4958</td>\n",
       "      <td>0.0157</td>\n",
       "      <td>0.0584</td>\n",
       "      <td>0.0484</td>\n",
       "      <td>82.8602</td>\n",
       "      <td>1</td>\n",
       "    </tr>\n",
       "    <tr>\n",
       "      <th>3</th>\n",
       "      <td>2988.72</td>\n",
       "      <td>2479.90</td>\n",
       "      <td>2199.0333</td>\n",
       "      <td>909.7926</td>\n",
       "      <td>1.3204</td>\n",
       "      <td>104.2367</td>\n",
       "      <td>0.1217</td>\n",
       "      <td>1.4882</td>\n",
       "      <td>-0.0124</td>\n",
       "      <td>-0.0033</td>\n",
       "      <td>...</td>\n",
       "      <td>0.1630</td>\n",
       "      <td>530.5682</td>\n",
       "      <td>2.0253</td>\n",
       "      <td>9.33</td>\n",
       "      <td>0.4990</td>\n",
       "      <td>0.0103</td>\n",
       "      <td>0.0202</td>\n",
       "      <td>0.0149</td>\n",
       "      <td>73.8432</td>\n",
       "      <td>-1</td>\n",
       "    </tr>\n",
       "    <tr>\n",
       "      <th>4</th>\n",
       "      <td>3032.24</td>\n",
       "      <td>2502.87</td>\n",
       "      <td>2233.3667</td>\n",
       "      <td>1326.5200</td>\n",
       "      <td>1.5334</td>\n",
       "      <td>100.3967</td>\n",
       "      <td>0.1235</td>\n",
       "      <td>1.5031</td>\n",
       "      <td>-0.0031</td>\n",
       "      <td>-0.0072</td>\n",
       "      <td>...</td>\n",
       "      <td>0.1630</td>\n",
       "      <td>532.0155</td>\n",
       "      <td>2.0275</td>\n",
       "      <td>8.83</td>\n",
       "      <td>0.4800</td>\n",
       "      <td>0.4766</td>\n",
       "      <td>0.0202</td>\n",
       "      <td>0.0149</td>\n",
       "      <td>73.8432</td>\n",
       "      <td>-1</td>\n",
       "    </tr>\n",
       "    <tr>\n",
       "      <th>...</th>\n",
       "      <td>...</td>\n",
       "      <td>...</td>\n",
       "      <td>...</td>\n",
       "      <td>...</td>\n",
       "      <td>...</td>\n",
       "      <td>...</td>\n",
       "      <td>...</td>\n",
       "      <td>...</td>\n",
       "      <td>...</td>\n",
       "      <td>...</td>\n",
       "      <td>...</td>\n",
       "      <td>...</td>\n",
       "      <td>...</td>\n",
       "      <td>...</td>\n",
       "      <td>...</td>\n",
       "      <td>...</td>\n",
       "      <td>...</td>\n",
       "      <td>...</td>\n",
       "      <td>...</td>\n",
       "      <td>...</td>\n",
       "      <td>...</td>\n",
       "    </tr>\n",
       "    <tr>\n",
       "      <th>1562</th>\n",
       "      <td>2899.41</td>\n",
       "      <td>2464.36</td>\n",
       "      <td>2179.7333</td>\n",
       "      <td>3085.3781</td>\n",
       "      <td>1.4843</td>\n",
       "      <td>82.2467</td>\n",
       "      <td>0.1248</td>\n",
       "      <td>1.3424</td>\n",
       "      <td>-0.0045</td>\n",
       "      <td>-0.0057</td>\n",
       "      <td>...</td>\n",
       "      <td>0.0877</td>\n",
       "      <td>536.3418</td>\n",
       "      <td>2.0153</td>\n",
       "      <td>7.98</td>\n",
       "      <td>0.4988</td>\n",
       "      <td>0.0143</td>\n",
       "      <td>0.0068</td>\n",
       "      <td>0.0138</td>\n",
       "      <td>203.1720</td>\n",
       "      <td>-1</td>\n",
       "    </tr>\n",
       "    <tr>\n",
       "      <th>1563</th>\n",
       "      <td>3052.31</td>\n",
       "      <td>2522.55</td>\n",
       "      <td>2198.5667</td>\n",
       "      <td>1124.6595</td>\n",
       "      <td>0.8763</td>\n",
       "      <td>98.4689</td>\n",
       "      <td>0.1205</td>\n",
       "      <td>1.4333</td>\n",
       "      <td>-0.0061</td>\n",
       "      <td>-0.0093</td>\n",
       "      <td>...</td>\n",
       "      <td>0.1308</td>\n",
       "      <td>537.9264</td>\n",
       "      <td>2.1814</td>\n",
       "      <td>5.48</td>\n",
       "      <td>0.4975</td>\n",
       "      <td>0.0131</td>\n",
       "      <td>0.0068</td>\n",
       "      <td>0.0138</td>\n",
       "      <td>203.1720</td>\n",
       "      <td>-1</td>\n",
       "    </tr>\n",
       "    <tr>\n",
       "      <th>1564</th>\n",
       "      <td>2978.81</td>\n",
       "      <td>2379.78</td>\n",
       "      <td>2206.3000</td>\n",
       "      <td>1110.4967</td>\n",
       "      <td>0.8236</td>\n",
       "      <td>99.4122</td>\n",
       "      <td>0.1208</td>\n",
       "      <td>1.4333</td>\n",
       "      <td>-0.0061</td>\n",
       "      <td>-0.0093</td>\n",
       "      <td>...</td>\n",
       "      <td>0.2388</td>\n",
       "      <td>530.3709</td>\n",
       "      <td>2.3435</td>\n",
       "      <td>6.49</td>\n",
       "      <td>0.4987</td>\n",
       "      <td>0.0153</td>\n",
       "      <td>0.0197</td>\n",
       "      <td>0.0086</td>\n",
       "      <td>43.5231</td>\n",
       "      <td>-1</td>\n",
       "    </tr>\n",
       "    <tr>\n",
       "      <th>1565</th>\n",
       "      <td>2894.92</td>\n",
       "      <td>2532.01</td>\n",
       "      <td>2177.0333</td>\n",
       "      <td>1183.7287</td>\n",
       "      <td>1.5726</td>\n",
       "      <td>98.7978</td>\n",
       "      <td>0.1213</td>\n",
       "      <td>1.4622</td>\n",
       "      <td>-0.0072</td>\n",
       "      <td>0.0032</td>\n",
       "      <td>...</td>\n",
       "      <td>0.0877</td>\n",
       "      <td>534.3936</td>\n",
       "      <td>1.9098</td>\n",
       "      <td>9.13</td>\n",
       "      <td>0.5004</td>\n",
       "      <td>0.0178</td>\n",
       "      <td>0.0262</td>\n",
       "      <td>0.0245</td>\n",
       "      <td>93.4941</td>\n",
       "      <td>-1</td>\n",
       "    </tr>\n",
       "    <tr>\n",
       "      <th>1566</th>\n",
       "      <td>2944.92</td>\n",
       "      <td>2450.76</td>\n",
       "      <td>2195.4444</td>\n",
       "      <td>2914.1792</td>\n",
       "      <td>1.5978</td>\n",
       "      <td>85.1011</td>\n",
       "      <td>0.1235</td>\n",
       "      <td>1.4622</td>\n",
       "      <td>-0.0072</td>\n",
       "      <td>0.0032</td>\n",
       "      <td>...</td>\n",
       "      <td>0.1307</td>\n",
       "      <td>528.7918</td>\n",
       "      <td>2.0831</td>\n",
       "      <td>6.81</td>\n",
       "      <td>0.4987</td>\n",
       "      <td>0.0181</td>\n",
       "      <td>0.0117</td>\n",
       "      <td>0.0162</td>\n",
       "      <td>137.7844</td>\n",
       "      <td>-1</td>\n",
       "    </tr>\n",
       "  </tbody>\n",
       "</table>\n",
       "<p>1567 rows × 205 columns</p>\n",
       "</div>"
      ],
      "text/plain": [
       "      feature_0  feature_1  feature_2  feature_3  feature_4  feature_6  \\\n",
       "0       3030.93    2564.00  2187.7333  1411.1265     1.3602    97.6133   \n",
       "1       3095.78    2465.14  2230.4222  1463.6606     0.8294   102.3433   \n",
       "2       2932.61    2559.94  2186.4111  1698.0172     1.5102    95.4878   \n",
       "3       2988.72    2479.90  2199.0333   909.7926     1.3204   104.2367   \n",
       "4       3032.24    2502.87  2233.3667  1326.5200     1.5334   100.3967   \n",
       "...         ...        ...        ...        ...        ...        ...   \n",
       "1562    2899.41    2464.36  2179.7333  3085.3781     1.4843    82.2467   \n",
       "1563    3052.31    2522.55  2198.5667  1124.6595     0.8763    98.4689   \n",
       "1564    2978.81    2379.78  2206.3000  1110.4967     0.8236    99.4122   \n",
       "1565    2894.92    2532.01  2177.0333  1183.7287     1.5726    98.7978   \n",
       "1566    2944.92    2450.76  2195.4444  2914.1792     1.5978    85.1011   \n",
       "\n",
       "      feature_7  feature_8  feature_9  feature_10  ...  feature_565  \\\n",
       "0        0.1242     1.5005     0.0162     -0.0034  ...       0.6219   \n",
       "1        0.1247     1.4966    -0.0005     -0.0148  ...       0.6219   \n",
       "2        0.1241     1.4436     0.0041      0.0013  ...       0.6219   \n",
       "3        0.1217     1.4882    -0.0124     -0.0033  ...       0.1630   \n",
       "4        0.1235     1.5031    -0.0031     -0.0072  ...       0.1630   \n",
       "...         ...        ...        ...         ...  ...          ...   \n",
       "1562     0.1248     1.3424    -0.0045     -0.0057  ...       0.0877   \n",
       "1563     0.1205     1.4333    -0.0061     -0.0093  ...       0.1308   \n",
       "1564     0.1208     1.4333    -0.0061     -0.0093  ...       0.2388   \n",
       "1565     0.1213     1.4622    -0.0072      0.0032  ...       0.0877   \n",
       "1566     0.1235     1.4622    -0.0072      0.0032  ...       0.1307   \n",
       "\n",
       "      feature_570  feature_571  feature_572  feature_582  feature_583  \\\n",
       "0        533.8500       2.1113         8.95       0.5005       0.0118   \n",
       "1        535.0164       2.4335         5.92       0.5019       0.0223   \n",
       "2        535.0245       2.0293        11.21       0.4958       0.0157   \n",
       "3        530.5682       2.0253         9.33       0.4990       0.0103   \n",
       "4        532.0155       2.0275         8.83       0.4800       0.4766   \n",
       "...           ...          ...          ...          ...          ...   \n",
       "1562     536.3418       2.0153         7.98       0.4988       0.0143   \n",
       "1563     537.9264       2.1814         5.48       0.4975       0.0131   \n",
       "1564     530.3709       2.3435         6.49       0.4987       0.0153   \n",
       "1565     534.3936       1.9098         9.13       0.5004       0.0178   \n",
       "1566     528.7918       2.0831         6.81       0.4987       0.0181   \n",
       "\n",
       "      feature_586  feature_587  feature_589  Pass_Fail  \n",
       "0          0.0096       0.0201     208.2045         -1  \n",
       "1          0.0096       0.0201     208.2045         -1  \n",
       "2          0.0584       0.0484      82.8602          1  \n",
       "3          0.0202       0.0149      73.8432         -1  \n",
       "4          0.0202       0.0149      73.8432         -1  \n",
       "...           ...          ...          ...        ...  \n",
       "1562       0.0068       0.0138     203.1720         -1  \n",
       "1563       0.0068       0.0138     203.1720         -1  \n",
       "1564       0.0197       0.0086      43.5231         -1  \n",
       "1565       0.0262       0.0245      93.4941         -1  \n",
       "1566       0.0117       0.0162     137.7844         -1  \n",
       "\n",
       "[1567 rows x 205 columns]"
      ]
     },
     "execution_count": 34,
     "metadata": {},
     "output_type": "execute_result"
    }
   ],
   "source": [
    "#Remove columns having more than 70% correlation\n",
    "#Both positive and negative correlations are considered here\n",
    "df = remove_collinear_features(df,0.70)\n",
    "df"
   ]
  },
  {
   "cell_type": "code",
   "execution_count": 35,
   "id": "9b9bfb9e",
   "metadata": {},
   "outputs": [
    {
     "data": {
      "text/plain": [
       "(1567, 205)"
      ]
     },
     "execution_count": 35,
     "metadata": {},
     "output_type": "execute_result"
    }
   ],
   "source": [
    "df.shape"
   ]
  },
  {
   "cell_type": "markdown",
   "id": "0dc2300f",
   "metadata": {},
   "source": [
    "Now dataframe contains only the non-highly-collinear features\n",
    "\n",
    "threshold: features with correlations greater than this value are removed"
   ]
  },
  {
   "cell_type": "markdown",
   "id": "b2dc5c09",
   "metadata": {},
   "source": [
    "# Iteration 1"
   ]
  },
  {
   "cell_type": "markdown",
   "id": "eeb1dfa6",
   "metadata": {},
   "source": [
    " Split data"
   ]
  },
  {
   "cell_type": "code",
   "execution_count": 36,
   "id": "af51052a",
   "metadata": {},
   "outputs": [
    {
     "name": "stdout",
     "output_type": "stream",
     "text": [
      "shape of X: (1567, 204)\n",
      "shape of y: (1567,)\n"
     ]
    }
   ],
   "source": [
    "# separating the dependent and independent data\n",
    "X = df.drop('Pass_Fail', axis=1)\n",
    "y = df['Pass_Fail']\n",
    "\n",
    "# getting the shapes of new data sets x and y\n",
    "print(\"shape of X:\", X.shape)\n",
    "print(\"shape of y:\", y.shape)"
   ]
  },
  {
   "cell_type": "code",
   "execution_count": 37,
   "id": "dda5cf9c",
   "metadata": {},
   "outputs": [],
   "source": [
    "# the function train_test_split creates random data samples (default: 75-25%)\n",
    "from sklearn.model_selection import GridSearchCV, RandomizedSearchCV, cross_val_score, train_test_split\n",
    "X_train, X_test, y_train, y_test = train_test_split(X, y, stratify=y, random_state=42)  # seed for comparable results"
   ]
  },
  {
   "cell_type": "code",
   "execution_count": 38,
   "id": "ec165baa",
   "metadata": {},
   "outputs": [
    {
     "name": "stdout",
     "output_type": "stream",
     "text": [
      "shape of X_train:  (1175, 204)\n",
      "shape of X_test:  (392, 204)\n",
      "shape of y_train:  (1175,)\n",
      "shape of y_test:  (392,)\n"
     ]
    }
   ],
   "source": [
    "# getting the shapes\n",
    "print(\"shape of X_train: \", X_train.shape)\n",
    "print(\"shape of X_test: \", X_test.shape)\n",
    "print(\"shape of y_train: \", y_train.shape)\n",
    "print(\"shape of y_test: \", y_test.shape)"
   ]
  },
  {
   "cell_type": "code",
   "execution_count": 39,
   "id": "f0391915",
   "metadata": {},
   "outputs": [
    {
     "data": {
      "image/png": "[encoded data removed]",
      "text/plain": [
       "<Figure size 360x360 with 1 Axes>"
      ]
     },
     "metadata": {},
     "output_type": "display_data"
    }
   ],
   "source": [
    "# Let's check if the pass / fail ratio is preserved in y_test data.\n",
    "size = y_test.value_counts()\n",
    "plt.pie(size, labels =labels, colors = colors, explode = explode, autopct = \"%.2f%%\", shadow = True)\n",
    "plt.axis('off')\n",
    "plt.title('y_test: Pass or Fail', fontsize = 20)\n",
    "plt.legend()\n",
    "plt.show()"
   ]
  },
  {
   "cell_type": "markdown",
   "id": "5b3ba8b8",
   "metadata": {},
   "source": [
    "# Data Scaling"
   ]
  },
  {
   "cell_type": "code",
   "execution_count": 40,
   "id": "770ad5d4",
   "metadata": {},
   "outputs": [],
   "source": [
    "# standardization\n",
    "from sklearn.preprocessing import StandardScaler\n",
    "\n",
    "# creating a standard scaler\n",
    "sc = StandardScaler()\n",
    "\n",
    "# fitting independent data to the model\n",
    "X_train = sc.fit_transform(X_train)\n",
    "X_test = sc.transform(X_test)"
   ]
  },
  {
   "cell_type": "code",
   "execution_count": 41,
   "id": "86c6e045",
   "metadata": {},
   "outputs": [],
   "source": [
    "cv_acc = {}\n",
    "cv_TPR = {}\n",
    "cv_FPR = {}"
   ]
  },
  {
   "cell_type": "code",
   "execution_count": 42,
   "id": "4123bed9",
   "metadata": {},
   "outputs": [],
   "source": [
    "def plot_result(model, name:str):\n",
    "    model.fit(X_train, y_train)\n",
    "    y_pred = model.predict(X_test)\n",
    "     \n",
    "        # Evaluation based on a 10-fold cross-validation\n",
    "    scoring = ['balanced_accuracy', 'recall_macro']\n",
    "    scores = cross_val_score(model, X_test, y_test, cv=10, scoring = 'balanced_accuracy')\n",
    "    cv_acc[name] = round(scores.mean(), 4)*100  # balanced accuracy\n",
    "    cv_TPR[name] = (confusion_matrix(y_test, y_pred)[1][1]/confusion_matrix(y_test, y_pred)[1].sum())*100  # recall (Max)\n",
    "    cv_FPR[name] = (confusion_matrix(y_test, y_pred)[0][1]/confusion_matrix(y_test, y_pred)[0].sum())*100  # fallout (Min)\n",
    "    print('Average Balanced Accuracy (CV=10):', scores.mean())\n",
    "    \n",
    "      # print classification report\n",
    "    print(classification_report(y_test, y_pred, zero_division=0))\n",
    "\n",
    "    # Plot Confusion Matrix\n",
    "    plot_confusion_matrix(model, X_test, y_test)\n",
    "    plt.show()\n"
   ]
  },
  {
   "cell_type": "markdown",
   "id": "6eed41f8",
   "metadata": {},
   "source": [
    "# 1-Decision tree"
   ]
  },
  {
   "cell_type": "code",
   "execution_count": 43,
   "id": "76a2124e",
   "metadata": {},
   "outputs": [],
   "source": [
    "from sklearn.tree import DecisionTreeClassifier, plot_tree\n",
    "from sklearn.model_selection import cross_val_score\n",
    "from sklearn.metrics import plot_confusion_matrix, classification_report, confusion_matrix"
   ]
  },
  {
   "cell_type": "code",
   "execution_count": 44,
   "id": "d2efb184",
   "metadata": {},
   "outputs": [
    {
     "name": "stdout",
     "output_type": "stream",
     "text": [
      "Average Balanced Accuracy (CV=10): 0.6016516516516517\n",
      "              precision    recall  f1-score   support\n",
      "\n",
      "          -1       0.93      1.00      0.97       366\n",
      "           1       0.00      0.00      0.00        26\n",
      "\n",
      "    accuracy                           0.93       392\n",
      "   macro avg       0.47      0.50      0.48       392\n",
      "weighted avg       0.87      0.93      0.90       392\n",
      "\n"
     ]
    },
    {
     "data": {
      "image/png": "[encoded data removed]",
      "text/plain": [
       "<Figure size 360x360 with 2 Axes>"
      ]
     },
     "metadata": {
      "needs_background": "light"
     },
     "output_type": "display_data"
    }
   ],
   "source": [
    "dtc = DecisionTreeClassifier(criterion='entropy', max_depth=3)\n",
    "plot_result(dtc, \"dtc\")"
   ]
  },
  {
   "cell_type": "code",
   "execution_count": 45,
   "id": "acd6b6d7",
   "metadata": {},
   "outputs": [
    {
     "data": {
      "image/png": "[encoded data removed]",
      "text/plain": [
       "<Figure size 1152x432 with 1 Axes>"
      ]
     },
     "metadata": {
      "needs_background": "light"
     },
     "output_type": "display_data"
    }
   ],
   "source": [
    "# plot tree\n",
    "plt.figure(figsize=(16,6))\n",
    "plot_tree(dtc, filled = True, class_names=[\"-1\", \"1\"], feature_names=X.columns, fontsize=11);"
   ]
  },
  {
   "cell_type": "markdown",
   "id": "7d6a0982",
   "metadata": {},
   "source": [
    "# 2-Logistic Regression"
   ]
  },
  {
   "cell_type": "code",
   "execution_count": 46,
   "id": "3f986006",
   "metadata": {},
   "outputs": [],
   "source": [
    "from sklearn.linear_model import LogisticRegression"
   ]
  },
  {
   "cell_type": "code",
   "execution_count": 47,
   "id": "a3b319ae",
   "metadata": {},
   "outputs": [
    {
     "name": "stdout",
     "output_type": "stream",
     "text": [
      "Average Balanced Accuracy (CV=10): 0.5058558558558558\n",
      "              precision    recall  f1-score   support\n",
      "\n",
      "          -1       0.94      0.92      0.93       366\n",
      "           1       0.09      0.12      0.10        26\n",
      "\n",
      "    accuracy                           0.86       392\n",
      "   macro avg       0.51      0.52      0.51       392\n",
      "weighted avg       0.88      0.86      0.87       392\n",
      "\n"
     ]
    },
    {
     "data": {
      "image/png": "[encoded data removed]",
      "text/plain": [
       "<Figure size 360x360 with 2 Axes>"
      ]
     },
     "metadata": {
      "needs_background": "light"
     },
     "output_type": "display_data"
    }
   ],
   "source": [
    "lr = LogisticRegression(max_iter=150)\n",
    "plot_result(lr, \"lr\")"
   ]
  },
  {
   "cell_type": "markdown",
   "id": "01caacf7",
   "metadata": {},
   "source": [
    "# 3-SVM"
   ]
  },
  {
   "cell_type": "code",
   "execution_count": 48,
   "id": "55427407",
   "metadata": {},
   "outputs": [],
   "source": [
    "from sklearn.svm import SVC"
   ]
  },
  {
   "cell_type": "code",
   "execution_count": 49,
   "id": "84ddaff4",
   "metadata": {},
   "outputs": [
    {
     "name": "stdout",
     "output_type": "stream",
     "text": [
      "Average Balanced Accuracy (CV=10): 0.5\n",
      "              precision    recall  f1-score   support\n",
      "\n",
      "          -1       0.93      1.00      0.97       366\n",
      "           1       0.00      0.00      0.00        26\n",
      "\n",
      "    accuracy                           0.93       392\n",
      "   macro avg       0.47      0.50      0.48       392\n",
      "weighted avg       0.87      0.93      0.90       392\n",
      "\n"
     ]
    },
    {
     "data": {
      "image/png": "[encoded data removed]",
      "text/plain": [
       "<Figure size 360x360 with 2 Axes>"
      ]
     },
     "metadata": {
      "needs_background": "light"
     },
     "output_type": "display_data"
    }
   ],
   "source": [
    "svc = SVC(C=1.0, kernel='rbf', gamma='scale')  # default values\n",
    "plot_result(svc, \"svc\")"
   ]
  },
  {
   "cell_type": "markdown",
   "id": "f4018e19",
   "metadata": {},
   "source": [
    "# 4-Random Forest"
   ]
  },
  {
   "cell_type": "code",
   "execution_count": 50,
   "id": "9a7e6271",
   "metadata": {},
   "outputs": [],
   "source": [
    "from sklearn.ensemble import RandomForestClassifier"
   ]
  },
  {
   "cell_type": "code",
   "execution_count": 51,
   "id": "1a0c7fc3",
   "metadata": {},
   "outputs": [
    {
     "name": "stdout",
     "output_type": "stream",
     "text": [
      "Average Balanced Accuracy (CV=10): 0.5\n",
      "              precision    recall  f1-score   support\n",
      "\n",
      "          -1       0.93      1.00      0.97       366\n",
      "           1       0.00      0.00      0.00        26\n",
      "\n",
      "    accuracy                           0.93       392\n",
      "   macro avg       0.47      0.50      0.48       392\n",
      "weighted avg       0.87      0.93      0.90       392\n",
      "\n"
     ]
    },
    {
     "data": {
      "image/png": "[encoded data removed]",
      "text/plain": [
       "<Figure size 360x360 with 2 Axes>"
      ]
     },
     "metadata": {
      "needs_background": "light"
     },
     "output_type": "display_data"
    }
   ],
   "source": [
    "rfc = RandomForestClassifier(n_estimators=100, criterion='entropy', max_depth=None)\n",
    "plot_result(rfc, \"rfc\")"
   ]
  },
  {
   "cell_type": "code",
   "execution_count": 52,
   "id": "566af1f3",
   "metadata": {},
   "outputs": [],
   "source": [
    "def plot_feature_importances(model):\n",
    "    feature_imp = pd.Series(model.feature_importances_,index=X.columns).sort_values(ascending=False)[:10]\n",
    "\n",
    "    sns.barplot(x=feature_imp, y=feature_imp.index)\n",
    "    plt.title(\"Feature Importance\")\n",
    "    plt.show()\n",
    "\n",
    "    print(f\"Top 10 Feature Importance for {str(model).split('(')[0]}\\n\\n\",feature_imp[:10],sep='')"
   ]
  },
  {
   "cell_type": "code",
   "execution_count": 53,
   "id": "88495590",
   "metadata": {},
   "outputs": [
    {
     "data": {
      "image/png": "[encoded data removed]",
      "text/plain": [
       "<Figure size 360x360 with 1 Axes>"
      ]
     },
     "metadata": {
      "needs_background": "light"
     },
     "output_type": "display_data"
    },
    {
     "name": "stdout",
     "output_type": "stream",
     "text": [
      "Top 10 Feature Importance for RandomForestClassifier\n",
      "\n",
      "feature_59     0.021615\n",
      "feature_103    0.014533\n",
      "feature_64     0.013521\n",
      "feature_33     0.011667\n",
      "feature_510    0.010783\n",
      "feature_267    0.009866\n",
      "feature_121    0.009605\n",
      "feature_153    0.009368\n",
      "feature_14     0.009258\n",
      "feature_63     0.009153\n",
      "dtype: float64\n"
     ]
    }
   ],
   "source": [
    "plot_feature_importances(rfc)"
   ]
  },
  {
   "cell_type": "markdown",
   "id": "524ad83d",
   "metadata": {},
   "source": [
    "# 5-Gradient Boosting"
   ]
  },
  {
   "cell_type": "code",
   "execution_count": 54,
   "id": "da8cb532",
   "metadata": {},
   "outputs": [],
   "source": [
    "from sklearn.ensemble import GradientBoostingClassifier"
   ]
  },
  {
   "cell_type": "code",
   "execution_count": 55,
   "id": "cfa1d595",
   "metadata": {},
   "outputs": [
    {
     "name": "stdout",
     "output_type": "stream",
     "text": [
      "Average Balanced Accuracy (CV=10): 0.6336336336336336\n",
      "              precision    recall  f1-score   support\n",
      "\n",
      "          -1       0.94      0.93      0.94       366\n",
      "           1       0.18      0.23      0.20        26\n",
      "\n",
      "    accuracy                           0.88       392\n",
      "   macro avg       0.56      0.58      0.57       392\n",
      "weighted avg       0.89      0.88      0.89       392\n",
      "\n"
     ]
    },
    {
     "data": {
      "image/png": "[encoded data removed]",
      "text/plain": [
       "<Figure size 360x360 with 2 Axes>"
      ]
     },
     "metadata": {
      "needs_background": "light"
     },
     "output_type": "display_data"
    }
   ],
   "source": [
    "gbc = GradientBoostingClassifier(n_estimators=100, learning_rate=1, max_depth=3, random_state=42)\n",
    "plot_result(gbc, \"gbc\")"
   ]
  },
  {
   "cell_type": "code",
   "execution_count": 56,
   "id": "c7a90dca",
   "metadata": {},
   "outputs": [
    {
     "data": {
      "image/png": "[encoded data removed]",
      "text/plain": [
       "<Figure size 360x360 with 1 Axes>"
      ]
     },
     "metadata": {
      "needs_background": "light"
     },
     "output_type": "display_data"
    },
    {
     "name": "stdout",
     "output_type": "stream",
     "text": [
      "Top 10 Feature Importance for GradientBoostingClassifier\n",
      "\n",
      "feature_166    0.195373\n",
      "feature_213    0.048079\n",
      "feature_120    0.047557\n",
      "feature_121    0.043447\n",
      "feature_59     0.038212\n",
      "feature_64     0.038100\n",
      "feature_511    0.035733\n",
      "feature_488    0.029820\n",
      "feature_132    0.028977\n",
      "feature_169    0.025187\n",
      "dtype: float64\n"
     ]
    }
   ],
   "source": [
    "plot_feature_importances(gbc)"
   ]
  },
  {
   "cell_type": "markdown",
   "id": "d8264fb0",
   "metadata": {},
   "source": [
    "# 6-Naive Bayes"
   ]
  },
  {
   "cell_type": "code",
   "execution_count": 57,
   "id": "a9172102",
   "metadata": {},
   "outputs": [],
   "source": [
    "from sklearn.naive_bayes import GaussianNB"
   ]
  },
  {
   "cell_type": "code",
   "execution_count": 58,
   "id": "098e5d8e",
   "metadata": {},
   "outputs": [
    {
     "name": "stdout",
     "output_type": "stream",
     "text": [
      "Average Balanced Accuracy (CV=10): 0.5826576576576576\n",
      "              precision    recall  f1-score   support\n",
      "\n",
      "          -1       0.98      0.36      0.52       366\n",
      "           1       0.09      0.88      0.16        26\n",
      "\n",
      "    accuracy                           0.39       392\n",
      "   macro avg       0.53      0.62      0.34       392\n",
      "weighted avg       0.92      0.39      0.50       392\n",
      "\n"
     ]
    },
    {
     "data": {
      "image/png": "[encoded data removed]",
      "text/plain": [
       "<Figure size 360x360 with 2 Axes>"
      ]
     },
     "metadata": {
      "needs_background": "light"
     },
     "output_type": "display_data"
    }
   ],
   "source": [
    "nb = GaussianNB()\n",
    "plot_result(nb, \"nb\")"
   ]
  },
  {
   "cell_type": "markdown",
   "id": "33b3cecd",
   "metadata": {},
   "source": [
    "# 7-KNN"
   ]
  },
  {
   "cell_type": "code",
   "execution_count": 59,
   "id": "856f8511",
   "metadata": {},
   "outputs": [],
   "source": [
    "from sklearn.neighbors import KNeighborsClassifier"
   ]
  },
  {
   "cell_type": "code",
   "execution_count": 60,
   "id": "5de36a9b",
   "metadata": {},
   "outputs": [
    {
     "name": "stdout",
     "output_type": "stream",
     "text": [
      "Average Balanced Accuracy (CV=10): 0.544557057057057\n",
      "              precision    recall  f1-score   support\n",
      "\n",
      "          -1       0.94      0.98      0.96       366\n",
      "           1       0.25      0.08      0.12        26\n",
      "\n",
      "    accuracy                           0.92       392\n",
      "   macro avg       0.59      0.53      0.54       392\n",
      "weighted avg       0.89      0.92      0.90       392\n",
      "\n"
     ]
    },
    {
     "data": {
      "image/png": "[encoded data removed]",
      "text/plain": [
       "<Figure size 360x360 with 2 Axes>"
      ]
     },
     "metadata": {
      "needs_background": "light"
     },
     "output_type": "display_data"
    }
   ],
   "source": [
    "knn = KNeighborsClassifier(n_neighbors=3)\n",
    "plot_result(knn, \"knn\")"
   ]
  },
  {
   "cell_type": "markdown",
   "id": "5f183321",
   "metadata": {},
   "source": [
    "# 8-XGBOOST"
   ]
  },
  {
   "cell_type": "code",
   "execution_count": 61,
   "id": "e40e7ef8",
   "metadata": {},
   "outputs": [],
   "source": [
    "from xgboost import XGBClassifier\n",
    "from sklearn.model_selection import GridSearchCV, RandomizedSearchCV, cross_val_score"
   ]
  },
  {
   "cell_type": "code",
   "execution_count": 62,
   "id": "af77f3c9",
   "metadata": {},
   "outputs": [
    {
     "name": "stderr",
     "output_type": "stream",
     "text": [
      "C:\\Users\\srikanthve\\Anaconda3\\lib\\site-packages\\xgboost\\sklearn.py:888: UserWarning: The use of label encoder in XGBClassifier is deprecated and will be removed in a future release. To remove this warning, do the following: 1) Pass option use_label_encoder=False when constructing XGBClassifier object; and 2) Encode your labels (y) as integers starting with 0, i.e. 0, 1, 2, ..., [num_class - 1].\n",
      "  warnings.warn(label_encoder_deprecation_msg, UserWarning)\n",
      "C:\\Users\\srikanthve\\Anaconda3\\lib\\site-packages\\xgboost\\sklearn.py:888: UserWarning: The use of label encoder in XGBClassifier is deprecated and will be removed in a future release. To remove this warning, do the following: 1) Pass option use_label_encoder=False when constructing XGBClassifier object; and 2) Encode your labels (y) as integers starting with 0, i.e. 0, 1, 2, ..., [num_class - 1].\n",
      "  warnings.warn(label_encoder_deprecation_msg, UserWarning)\n",
      "C:\\Users\\srikanthve\\Anaconda3\\lib\\site-packages\\xgboost\\sklearn.py:888: UserWarning: The use of label encoder in XGBClassifier is deprecated and will be removed in a future release. To remove this warning, do the following: 1) Pass option use_label_encoder=False when constructing XGBClassifier object; and 2) Encode your labels (y) as integers starting with 0, i.e. 0, 1, 2, ..., [num_class - 1].\n",
      "  warnings.warn(label_encoder_deprecation_msg, UserWarning)\n",
      "C:\\Users\\srikanthve\\Anaconda3\\lib\\site-packages\\xgboost\\sklearn.py:888: UserWarning: The use of label encoder in XGBClassifier is deprecated and will be removed in a future release. To remove this warning, do the following: 1) Pass option use_label_encoder=False when constructing XGBClassifier object; and 2) Encode your labels (y) as integers starting with 0, i.e. 0, 1, 2, ..., [num_class - 1].\n",
      "  warnings.warn(label_encoder_deprecation_msg, UserWarning)\n",
      "C:\\Users\\srikanthve\\Anaconda3\\lib\\site-packages\\xgboost\\sklearn.py:888: UserWarning: The use of label encoder in XGBClassifier is deprecated and will be removed in a future release. To remove this warning, do the following: 1) Pass option use_label_encoder=False when constructing XGBClassifier object; and 2) Encode your labels (y) as integers starting with 0, i.e. 0, 1, 2, ..., [num_class - 1].\n",
      "  warnings.warn(label_encoder_deprecation_msg, UserWarning)\n",
      "C:\\Users\\srikanthve\\Anaconda3\\lib\\site-packages\\xgboost\\sklearn.py:888: UserWarning: The use of label encoder in XGBClassifier is deprecated and will be removed in a future release. To remove this warning, do the following: 1) Pass option use_label_encoder=False when constructing XGBClassifier object; and 2) Encode your labels (y) as integers starting with 0, i.e. 0, 1, 2, ..., [num_class - 1].\n",
      "  warnings.warn(label_encoder_deprecation_msg, UserWarning)\n",
      "C:\\Users\\srikanthve\\Anaconda3\\lib\\site-packages\\xgboost\\sklearn.py:888: UserWarning: The use of label encoder in XGBClassifier is deprecated and will be removed in a future release. To remove this warning, do the following: 1) Pass option use_label_encoder=False when constructing XGBClassifier object; and 2) Encode your labels (y) as integers starting with 0, i.e. 0, 1, 2, ..., [num_class - 1].\n",
      "  warnings.warn(label_encoder_deprecation_msg, UserWarning)\n",
      "C:\\Users\\srikanthve\\Anaconda3\\lib\\site-packages\\xgboost\\sklearn.py:888: UserWarning: The use of label encoder in XGBClassifier is deprecated and will be removed in a future release. To remove this warning, do the following: 1) Pass option use_label_encoder=False when constructing XGBClassifier object; and 2) Encode your labels (y) as integers starting with 0, i.e. 0, 1, 2, ..., [num_class - 1].\n",
      "  warnings.warn(label_encoder_deprecation_msg, UserWarning)\n",
      "C:\\Users\\srikanthve\\Anaconda3\\lib\\site-packages\\xgboost\\sklearn.py:888: UserWarning: The use of label encoder in XGBClassifier is deprecated and will be removed in a future release. To remove this warning, do the following: 1) Pass option use_label_encoder=False when constructing XGBClassifier object; and 2) Encode your labels (y) as integers starting with 0, i.e. 0, 1, 2, ..., [num_class - 1].\n",
      "  warnings.warn(label_encoder_deprecation_msg, UserWarning)\n",
      "C:\\Users\\srikanthve\\Anaconda3\\lib\\site-packages\\xgboost\\sklearn.py:888: UserWarning: The use of label encoder in XGBClassifier is deprecated and will be removed in a future release. To remove this warning, do the following: 1) Pass option use_label_encoder=False when constructing XGBClassifier object; and 2) Encode your labels (y) as integers starting with 0, i.e. 0, 1, 2, ..., [num_class - 1].\n",
      "  warnings.warn(label_encoder_deprecation_msg, UserWarning)\n",
      "C:\\Users\\srikanthve\\Anaconda3\\lib\\site-packages\\xgboost\\sklearn.py:888: UserWarning: The use of label encoder in XGBClassifier is deprecated and will be removed in a future release. To remove this warning, do the following: 1) Pass option use_label_encoder=False when constructing XGBClassifier object; and 2) Encode your labels (y) as integers starting with 0, i.e. 0, 1, 2, ..., [num_class - 1].\n",
      "  warnings.warn(label_encoder_deprecation_msg, UserWarning)\n"
     ]
    },
    {
     "name": "stdout",
     "output_type": "stream",
     "text": [
      "Average Balanced Accuracy (CV=10): 0.4986486486486486\n",
      "              precision    recall  f1-score   support\n",
      "\n",
      "          -1       0.94      1.00      0.97       366\n",
      "           1       0.50      0.04      0.07        26\n",
      "\n",
      "    accuracy                           0.93       392\n",
      "   macro avg       0.72      0.52      0.52       392\n",
      "weighted avg       0.91      0.93      0.91       392\n",
      "\n"
     ]
    },
    {
     "data": {
      "image/png": "[encoded data removed]",
      "text/plain": [
       "<Figure size 360x360 with 2 Axes>"
      ]
     },
     "metadata": {
      "needs_background": "light"
     },
     "output_type": "display_data"
    }
   ],
   "source": [
    "xgb = XGBClassifier(eval_metric = \"logloss\")\n",
    "plot_result(xgb, \"xgb\")"
   ]
  },
  {
   "cell_type": "code",
   "execution_count": 63,
   "id": "f12557d5",
   "metadata": {},
   "outputs": [
    {
     "data": {
      "image/png": "[encoded data removed]",
      "text/plain": [
       "<Figure size 360x360 with 1 Axes>"
      ]
     },
     "metadata": {
      "needs_background": "light"
     },
     "output_type": "display_data"
    },
    {
     "name": "stdout",
     "output_type": "stream",
     "text": [
      "Top 10 Feature Importance for XGBClassifier\n",
      "\n",
      "feature_221    0.024629\n",
      "feature_542    0.023749\n",
      "feature_40     0.018059\n",
      "feature_269    0.017639\n",
      "feature_28     0.017549\n",
      "feature_115    0.017431\n",
      "feature_484    0.016214\n",
      "feature_38     0.015712\n",
      "feature_143    0.015060\n",
      "feature_53     0.015001\n",
      "dtype: float32\n"
     ]
    }
   ],
   "source": [
    "plot_feature_importances(xgb)"
   ]
  },
  {
   "cell_type": "code",
   "execution_count": 64,
   "id": "7141ecf9",
   "metadata": {},
   "outputs": [
    {
     "data": {
      "image/png": "[encoded data removed]",
      "text/plain": [
       "<Figure size 360x360 with 1 Axes>"
      ]
     },
     "metadata": {
      "needs_background": "light"
     },
     "output_type": "display_data"
    }
   ],
   "source": [
    "from xgboost import plot_importance\n",
    "plot_importance(xgb,max_num_features=10)\n",
    "plt.xlabel('The F-Score for each features')\n",
    "plt.ylabel('Importances')\n",
    "plt.show()"
   ]
  },
  {
   "cell_type": "markdown",
   "id": "1763604c",
   "metadata": {},
   "source": [
    "# Evaluation (iteration 1)"
   ]
  },
  {
   "cell_type": "code",
   "execution_count": 65,
   "id": "b4904c24",
   "metadata": {},
   "outputs": [
    {
     "data": {
      "text/plain": [
       "{'dtc': 60.17,\n",
       " 'lr': 50.59,\n",
       " 'svc': 50.0,\n",
       " 'rfc': 50.0,\n",
       " 'gbc': 63.36000000000001,\n",
       " 'nb': 58.269999999999996,\n",
       " 'knn': 54.459999999999994,\n",
       " 'xgb': 49.86}"
      ]
     },
     "execution_count": 65,
     "metadata": {},
     "output_type": "execute_result"
    }
   ],
   "source": [
    "cv_acc"
   ]
  },
  {
   "cell_type": "code",
   "execution_count": 66,
   "id": "02895fb5",
   "metadata": {},
   "outputs": [
    {
     "data": {
      "text/plain": [
       "{'dtc': 0.0,\n",
       " 'lr': 11.538461538461538,\n",
       " 'svc': 0.0,\n",
       " 'rfc': 0.0,\n",
       " 'gbc': 23.076923076923077,\n",
       " 'nb': 88.46153846153845,\n",
       " 'knn': 7.6923076923076925,\n",
       " 'xgb': 3.8461538461538463}"
      ]
     },
     "execution_count": 66,
     "metadata": {},
     "output_type": "execute_result"
    }
   ],
   "source": [
    "cv_TPR"
   ]
  },
  {
   "cell_type": "code",
   "execution_count": 67,
   "id": "bda46c97",
   "metadata": {},
   "outputs": [
    {
     "data": {
      "text/plain": [
       "{'dtc': 0.0,\n",
       " 'lr': 8.469945355191257,\n",
       " 'svc': 0.0,\n",
       " 'rfc': 0.0,\n",
       " 'gbc': 7.377049180327869,\n",
       " 'nb': 64.20765027322405,\n",
       " 'knn': 1.639344262295082,\n",
       " 'xgb': 0.273224043715847}"
      ]
     },
     "execution_count": 67,
     "metadata": {},
     "output_type": "execute_result"
    }
   ],
   "source": [
    "cv_FPR"
   ]
  },
  {
   "cell_type": "code",
   "execution_count": 68,
   "id": "10eecd6a",
   "metadata": {},
   "outputs": [
    {
     "data": {
      "text/plain": [
       "dict_values([0.0, 8.469945355191257, 0.0, 0.0, 7.377049180327869, 64.20765027322405, 1.639344262295082, 0.273224043715847])"
      ]
     },
     "execution_count": 68,
     "metadata": {},
     "output_type": "execute_result"
    }
   ],
   "source": [
    "cv_FPR.values()"
   ]
  },
  {
   "cell_type": "code",
   "execution_count": 69,
   "id": "adc4438d",
   "metadata": {},
   "outputs": [
    {
     "data": {
      "text/html": [
       "<div>\n",
       "<style scoped>\n",
       "    .dataframe tbody tr th:only-of-type {\n",
       "        vertical-align: middle;\n",
       "    }\n",
       "\n",
       "    .dataframe tbody tr th {\n",
       "        vertical-align: top;\n",
       "    }\n",
       "\n",
       "    .dataframe thead th {\n",
       "        text-align: right;\n",
       "    }\n",
       "</style>\n",
       "<table border=\"1\" class=\"dataframe\">\n",
       "  <thead>\n",
       "    <tr style=\"text-align: right;\">\n",
       "      <th></th>\n",
       "      <th>model</th>\n",
       "      <th>bal_acc</th>\n",
       "      <th>recall</th>\n",
       "      <th>fallout</th>\n",
       "    </tr>\n",
       "  </thead>\n",
       "  <tbody>\n",
       "    <tr>\n",
       "      <th>0</th>\n",
       "      <td>dtc</td>\n",
       "      <td>60.17</td>\n",
       "      <td>0.000000</td>\n",
       "      <td>0.000000</td>\n",
       "    </tr>\n",
       "    <tr>\n",
       "      <th>1</th>\n",
       "      <td>lr</td>\n",
       "      <td>50.59</td>\n",
       "      <td>11.538462</td>\n",
       "      <td>8.469945</td>\n",
       "    </tr>\n",
       "    <tr>\n",
       "      <th>2</th>\n",
       "      <td>svc</td>\n",
       "      <td>50.00</td>\n",
       "      <td>0.000000</td>\n",
       "      <td>0.000000</td>\n",
       "    </tr>\n",
       "    <tr>\n",
       "      <th>3</th>\n",
       "      <td>rfc</td>\n",
       "      <td>50.00</td>\n",
       "      <td>0.000000</td>\n",
       "      <td>0.000000</td>\n",
       "    </tr>\n",
       "    <tr>\n",
       "      <th>4</th>\n",
       "      <td>gbc</td>\n",
       "      <td>63.36</td>\n",
       "      <td>23.076923</td>\n",
       "      <td>7.377049</td>\n",
       "    </tr>\n",
       "    <tr>\n",
       "      <th>5</th>\n",
       "      <td>nb</td>\n",
       "      <td>58.27</td>\n",
       "      <td>88.461538</td>\n",
       "      <td>64.207650</td>\n",
       "    </tr>\n",
       "    <tr>\n",
       "      <th>6</th>\n",
       "      <td>knn</td>\n",
       "      <td>54.46</td>\n",
       "      <td>7.692308</td>\n",
       "      <td>1.639344</td>\n",
       "    </tr>\n",
       "    <tr>\n",
       "      <th>7</th>\n",
       "      <td>xgb</td>\n",
       "      <td>49.86</td>\n",
       "      <td>3.846154</td>\n",
       "      <td>0.273224</td>\n",
       "    </tr>\n",
       "  </tbody>\n",
       "</table>\n",
       "</div>"
      ],
      "text/plain": [
       "  model  bal_acc     recall    fallout\n",
       "0   dtc    60.17   0.000000   0.000000\n",
       "1    lr    50.59  11.538462   8.469945\n",
       "2   svc    50.00   0.000000   0.000000\n",
       "3   rfc    50.00   0.000000   0.000000\n",
       "4   gbc    63.36  23.076923   7.377049\n",
       "5    nb    58.27  88.461538  64.207650\n",
       "6   knn    54.46   7.692308   1.639344\n",
       "7   xgb    49.86   3.846154   0.273224"
      ]
     },
     "execution_count": 69,
     "metadata": {},
     "output_type": "execute_result"
    }
   ],
   "source": [
    "df_eval = pd.DataFrame(data={'model': list(cv_acc.keys()), 'bal_acc': list(cv_acc.values()), 'recall': list(cv_TPR.values()), 'fallout':list(cv_FPR.values())})\n",
    "df_eval"
   ]
  },
  {
   "cell_type": "code",
   "execution_count": 70,
   "id": "5e661d29",
   "metadata": {},
   "outputs": [
    {
     "data": {
      "image/png": "[encoded data removed]",
      "text/plain": [
       "<Figure size 1008x288 with 3 Axes>"
      ]
     },
     "metadata": {
      "needs_background": "light"
     },
     "output_type": "display_data"
    }
   ],
   "source": [
    "fig, ax = plt.subplots(1,3, figsize=(14, 4))\n",
    "sns.barplot(x=\"bal_acc\", y=\"model\", data=df_eval.sort_values(by=\"recall\"), ax=ax[0])\n",
    "ax[0].set_title(\"Unbalanced Test Acc\")\n",
    "sns.barplot(x=\"recall\", y=\"model\", data=df_eval.sort_values(by=\"recall\"), ax=ax[1])\n",
    "ax[1].set_title(\"Unbalanced Test TPR\")\n",
    "sns.barplot(x=\"fallout\", y=\"model\", data=df_eval.sort_values(by=\"recall\"), ax=ax[2])\n",
    "ax[2].set_title(\"Unbalanced Test FPR\")\n",
    "plt.show()"
   ]
  },
  {
   "cell_type": "markdown",
   "id": "05689474",
   "metadata": {},
   "source": [
    "NaiveBayes gave high BalanceAccuracy and TPR_Score (Recall), but it gave the poor FPR_Score (Fallout) in this unbalanced data set."
   ]
  },
  {
   "cell_type": "markdown",
   "id": "8334fb33",
   "metadata": {},
   "source": [
    "# Iteration 2: (with SMOTE)"
   ]
  },
  {
   "cell_type": "markdown",
   "id": "bf7a21da",
   "metadata": {},
   "source": [
    "# Balancing data"
   ]
  },
  {
   "cell_type": "code",
   "execution_count": 71,
   "id": "34658724",
   "metadata": {},
   "outputs": [
    {
     "data": {
      "text/plain": [
       "-1    0.933673\n",
       " 1    0.066327\n",
       "Name: Pass_Fail, dtype: float64"
      ]
     },
     "execution_count": 71,
     "metadata": {},
     "output_type": "execute_result"
    }
   ],
   "source": [
    "# Before Balancing\n",
    "y_test.value_counts(normalize=True)"
   ]
  },
  {
   "cell_type": "code",
   "execution_count": 72,
   "id": "2a10007c",
   "metadata": {},
   "outputs": [
    {
     "data": {
      "text/plain": [
       "-1    0.933617\n",
       " 1    0.066383\n",
       "Name: Pass_Fail, dtype: float64"
      ]
     },
     "execution_count": 72,
     "metadata": {},
     "output_type": "execute_result"
    }
   ],
   "source": [
    "# Before Balancing\n",
    "y_train.value_counts(normalize=True)"
   ]
  },
  {
   "cell_type": "code",
   "execution_count": 73,
   "id": "261e1bc9",
   "metadata": {},
   "outputs": [],
   "source": [
    "from imblearn import under_sampling, over_sampling\n",
    "from imblearn.over_sampling import SMOTE"
   ]
  },
  {
   "cell_type": "code",
   "execution_count": 74,
   "id": "0a194bd8",
   "metadata": {},
   "outputs": [],
   "source": [
    "oversmote = SMOTE()\n",
    "X_train_os, y_train_os= oversmote.fit_resample(X_train, y_train)"
   ]
  },
  {
   "cell_type": "code",
   "execution_count": 75,
   "id": "ed6c7ea2",
   "metadata": {},
   "outputs": [
    {
     "data": {
      "image/png": "[encoded data removed]",
      "text/plain": [
       "<Figure size 360x360 with 1 Axes>"
      ]
     },
     "metadata": {
      "needs_background": "light"
     },
     "output_type": "display_data"
    }
   ],
   "source": [
    "# After Balancing\n",
    "y_train_os.value_counts().plot.bar(color=[\"blue\", \"red\"])\n",
    "plt.show()"
   ]
  },
  {
   "cell_type": "code",
   "execution_count": 76,
   "id": "1f116a34",
   "metadata": {},
   "outputs": [
    {
     "data": {
      "text/plain": [
       "(2194, 204)"
      ]
     },
     "execution_count": 76,
     "metadata": {},
     "output_type": "execute_result"
    }
   ],
   "source": [
    "X_train_os.shape"
   ]
  },
  {
   "cell_type": "code",
   "execution_count": 77,
   "id": "eb0aaa5c",
   "metadata": {},
   "outputs": [],
   "source": [
    "cv_acc_balance = {}\n",
    "cv_TPR_balance = {}\n",
    "cv_FPR_balance = {}"
   ]
  },
  {
   "cell_type": "code",
   "execution_count": 78,
   "id": "59e157f7",
   "metadata": {},
   "outputs": [],
   "source": [
    "def plot_result_smote(model, name:str):\n",
    "    model.fit(X_train_os, y_train_os)\n",
    "    y_pred = model.predict(X_test)\n",
    "\n",
    "    # Evaluation based on a 10-fold cross-validation\n",
    "    scoring = ['balanced_accuracy', 'recall_macro']\n",
    "    scores = cross_val_score(model, X_test, y_test, cv=10, scoring = 'balanced_accuracy')\n",
    "    cv_acc_balance[name] = round(scores.mean(), 4)*100  # balanced accuracy\n",
    "    cv_TPR_balance[name] = (confusion_matrix(y_test, y_pred)[1][1]/confusion_matrix(y_test, y_pred)[1].sum())*100  # recall (maximieren)\n",
    "    cv_FPR_balance[name] = (confusion_matrix(y_test, y_pred)[0][1]/confusion_matrix(y_test, y_pred)[0].sum())*100  # fallout (minimieren)\n",
    "    print('Average Balanced Accuracy (CV=10):', scores.mean())\n",
    "\n",
    "    # print classification report\n",
    "    print(classification_report(y_test, y_pred, zero_division=0))\n",
    "\n",
    "    # Plot Confusion Matrix\n",
    "    plot_confusion_matrix(model, X_test, y_test)\n",
    "    plt.show()"
   ]
  },
  {
   "cell_type": "code",
   "execution_count": 79,
   "id": "12b45049",
   "metadata": {},
   "outputs": [
    {
     "name": "stdout",
     "output_type": "stream",
     "text": [
      "Average Balanced Accuracy (CV=10): 0.5835960960960961\n",
      "              precision    recall  f1-score   support\n",
      "\n",
      "          -1       0.95      0.72      0.82       366\n",
      "           1       0.11      0.46      0.17        26\n",
      "\n",
      "    accuracy                           0.71       392\n",
      "   macro avg       0.53      0.59      0.50       392\n",
      "weighted avg       0.89      0.71      0.78       392\n",
      "\n"
     ]
    },
    {
     "data": {
      "image/png": "[encoded data removed]",
      "text/plain": [
       "<Figure size 360x360 with 2 Axes>"
      ]
     },
     "metadata": {
      "needs_background": "light"
     },
     "output_type": "display_data"
    }
   ],
   "source": [
    "# Decision tree\n",
    "dtc = DecisionTreeClassifier(criterion='entropy', max_depth=3)\n",
    "\n",
    "plot_result_smote(dtc, \"dtc\")"
   ]
  },
  {
   "cell_type": "code",
   "execution_count": 80,
   "id": "68deef8f",
   "metadata": {},
   "outputs": [
    {
     "name": "stdout",
     "output_type": "stream",
     "text": [
      "Average Balanced Accuracy (CV=10): 0.5058558558558558\n",
      "              precision    recall  f1-score   support\n",
      "\n",
      "          -1       0.94      0.85      0.89       366\n",
      "           1       0.08      0.19      0.12        26\n",
      "\n",
      "    accuracy                           0.81       392\n",
      "   macro avg       0.51      0.52      0.50       392\n",
      "weighted avg       0.88      0.81      0.84       392\n",
      "\n"
     ]
    },
    {
     "data": {
      "image/png": "[encoded data removed]",
      "text/plain": [
       "<Figure size 360x360 with 2 Axes>"
      ]
     },
     "metadata": {
      "needs_background": "light"
     },
     "output_type": "display_data"
    }
   ],
   "source": [
    "# Logistic Regression\n",
    "lr = LogisticRegression(max_iter=200)\n",
    "plot_result_smote(lr, \"lr\")"
   ]
  },
  {
   "cell_type": "code",
   "execution_count": 81,
   "id": "01eeb421",
   "metadata": {},
   "outputs": [
    {
     "name": "stdout",
     "output_type": "stream",
     "text": [
      "Average Balanced Accuracy (CV=10): 0.5\n",
      "              precision    recall  f1-score   support\n",
      "\n",
      "          -1       0.93      0.99      0.96       366\n",
      "           1       0.00      0.00      0.00        26\n",
      "\n",
      "    accuracy                           0.93       392\n",
      "   macro avg       0.47      0.50      0.48       392\n",
      "weighted avg       0.87      0.93      0.90       392\n",
      "\n"
     ]
    },
    {
     "data": {
      "image/png": "[encoded data removed]",
      "text/plain": [
       "<Figure size 360x360 with 2 Axes>"
      ]
     },
     "metadata": {
      "needs_background": "light"
     },
     "output_type": "display_data"
    }
   ],
   "source": [
    "# SVC\n",
    "svc = SVC(C=1.0, kernel='rbf', gamma='scale')  # default Werte\n",
    "plot_result_smote(svc, \"svc\")"
   ]
  },
  {
   "cell_type": "code",
   "execution_count": 82,
   "id": "9efa8b9b",
   "metadata": {},
   "outputs": [
    {
     "name": "stdout",
     "output_type": "stream",
     "text": [
      "Average Balanced Accuracy (CV=10): 0.5\n",
      "              precision    recall  f1-score   support\n",
      "\n",
      "          -1       0.93      0.99      0.96       366\n",
      "           1       0.00      0.00      0.00        26\n",
      "\n",
      "    accuracy                           0.93       392\n",
      "   macro avg       0.47      0.50      0.48       392\n",
      "weighted avg       0.87      0.93      0.90       392\n",
      "\n"
     ]
    },
    {
     "data": {
      "image/png": "[encoded data removed]",
      "text/plain": [
       "<Figure size 360x360 with 2 Axes>"
      ]
     },
     "metadata": {
      "needs_background": "light"
     },
     "output_type": "display_data"
    }
   ],
   "source": [
    "# Random Forest\n",
    "rfc = RandomForestClassifier(n_estimators=100, criterion='entropy', max_depth=None)\n",
    "plot_result_smote(rfc, \"rfc\")"
   ]
  },
  {
   "cell_type": "code",
   "execution_count": 83,
   "id": "e8196eee",
   "metadata": {},
   "outputs": [
    {
     "name": "stdout",
     "output_type": "stream",
     "text": [
      "Average Balanced Accuracy (CV=10): 0.6336336336336336\n",
      "              precision    recall  f1-score   support\n",
      "\n",
      "          -1       0.94      0.97      0.95       366\n",
      "           1       0.20      0.12      0.15        26\n",
      "\n",
      "    accuracy                           0.91       392\n",
      "   macro avg       0.57      0.54      0.55       392\n",
      "weighted avg       0.89      0.91      0.90       392\n",
      "\n"
     ]
    },
    {
     "data": {
      "image/png": "[encoded data removed]",
      "text/plain": [
       "<Figure size 360x360 with 2 Axes>"
      ]
     },
     "metadata": {
      "needs_background": "light"
     },
     "output_type": "display_data"
    }
   ],
   "source": [
    "# Gradient Boost\n",
    "gbc = GradientBoostingClassifier(n_estimators=100, learning_rate=1, max_depth=3, random_state=42)\n",
    "plot_result_smote(gbc, \"gbc\")"
   ]
  },
  {
   "cell_type": "code",
   "execution_count": 84,
   "id": "0582c3e4",
   "metadata": {},
   "outputs": [
    {
     "name": "stdout",
     "output_type": "stream",
     "text": [
      "Average Balanced Accuracy (CV=10): 0.5826576576576576\n",
      "              precision    recall  f1-score   support\n",
      "\n",
      "          -1       0.96      0.51      0.66       366\n",
      "           1       0.09      0.69      0.16        26\n",
      "\n",
      "    accuracy                           0.52       392\n",
      "   macro avg       0.52      0.60      0.41       392\n",
      "weighted avg       0.90      0.52      0.63       392\n",
      "\n"
     ]
    },
    {
     "data": {
      "image/png": "[encoded data removed]",
      "text/plain": [
       "<Figure size 360x360 with 2 Axes>"
      ]
     },
     "metadata": {
      "needs_background": "light"
     },
     "output_type": "display_data"
    }
   ],
   "source": [
    "# Naive Bayes\n",
    "nb = GaussianNB()\n",
    "plot_result_smote(nb, \"nb\")"
   ]
  },
  {
   "cell_type": "code",
   "execution_count": 85,
   "id": "add7c458",
   "metadata": {},
   "outputs": [
    {
     "name": "stdout",
     "output_type": "stream",
     "text": [
      "Average Balanced Accuracy (CV=10): 0.544557057057057\n",
      "              precision    recall  f1-score   support\n",
      "\n",
      "          -1       0.96      0.31      0.46       366\n",
      "           1       0.08      0.81      0.14        26\n",
      "\n",
      "    accuracy                           0.34       392\n",
      "   macro avg       0.52      0.56      0.30       392\n",
      "weighted avg       0.90      0.34      0.44       392\n",
      "\n"
     ]
    },
    {
     "data": {
      "image/png": "[encoded data removed]",
      "text/plain": [
       "<Figure size 360x360 with 2 Axes>"
      ]
     },
     "metadata": {
      "needs_background": "light"
     },
     "output_type": "display_data"
    }
   ],
   "source": [
    "# kNN\n",
    "knn = KNeighborsClassifier(n_neighbors=3)\n",
    "plot_result_smote(knn, \"knn\")"
   ]
  },
  {
   "cell_type": "code",
   "execution_count": 86,
   "id": "1ef60cb2",
   "metadata": {},
   "outputs": [
    {
     "name": "stderr",
     "output_type": "stream",
     "text": [
      "C:\\Users\\srikanthve\\Anaconda3\\lib\\site-packages\\xgboost\\sklearn.py:888: UserWarning: The use of label encoder in XGBClassifier is deprecated and will be removed in a future release. To remove this warning, do the following: 1) Pass option use_label_encoder=False when constructing XGBClassifier object; and 2) Encode your labels (y) as integers starting with 0, i.e. 0, 1, 2, ..., [num_class - 1].\n",
      "  warnings.warn(label_encoder_deprecation_msg, UserWarning)\n",
      "C:\\Users\\srikanthve\\Anaconda3\\lib\\site-packages\\xgboost\\sklearn.py:888: UserWarning: The use of label encoder in XGBClassifier is deprecated and will be removed in a future release. To remove this warning, do the following: 1) Pass option use_label_encoder=False when constructing XGBClassifier object; and 2) Encode your labels (y) as integers starting with 0, i.e. 0, 1, 2, ..., [num_class - 1].\n",
      "  warnings.warn(label_encoder_deprecation_msg, UserWarning)\n",
      "C:\\Users\\srikanthve\\Anaconda3\\lib\\site-packages\\xgboost\\sklearn.py:888: UserWarning: The use of label encoder in XGBClassifier is deprecated and will be removed in a future release. To remove this warning, do the following: 1) Pass option use_label_encoder=False when constructing XGBClassifier object; and 2) Encode your labels (y) as integers starting with 0, i.e. 0, 1, 2, ..., [num_class - 1].\n",
      "  warnings.warn(label_encoder_deprecation_msg, UserWarning)\n",
      "C:\\Users\\srikanthve\\Anaconda3\\lib\\site-packages\\xgboost\\sklearn.py:888: UserWarning: The use of label encoder in XGBClassifier is deprecated and will be removed in a future release. To remove this warning, do the following: 1) Pass option use_label_encoder=False when constructing XGBClassifier object; and 2) Encode your labels (y) as integers starting with 0, i.e. 0, 1, 2, ..., [num_class - 1].\n",
      "  warnings.warn(label_encoder_deprecation_msg, UserWarning)\n",
      "C:\\Users\\srikanthve\\Anaconda3\\lib\\site-packages\\xgboost\\sklearn.py:888: UserWarning: The use of label encoder in XGBClassifier is deprecated and will be removed in a future release. To remove this warning, do the following: 1) Pass option use_label_encoder=False when constructing XGBClassifier object; and 2) Encode your labels (y) as integers starting with 0, i.e. 0, 1, 2, ..., [num_class - 1].\n",
      "  warnings.warn(label_encoder_deprecation_msg, UserWarning)\n",
      "C:\\Users\\srikanthve\\Anaconda3\\lib\\site-packages\\xgboost\\sklearn.py:888: UserWarning: The use of label encoder in XGBClassifier is deprecated and will be removed in a future release. To remove this warning, do the following: 1) Pass option use_label_encoder=False when constructing XGBClassifier object; and 2) Encode your labels (y) as integers starting with 0, i.e. 0, 1, 2, ..., [num_class - 1].\n",
      "  warnings.warn(label_encoder_deprecation_msg, UserWarning)\n",
      "C:\\Users\\srikanthve\\Anaconda3\\lib\\site-packages\\xgboost\\sklearn.py:888: UserWarning: The use of label encoder in XGBClassifier is deprecated and will be removed in a future release. To remove this warning, do the following: 1) Pass option use_label_encoder=False when constructing XGBClassifier object; and 2) Encode your labels (y) as integers starting with 0, i.e. 0, 1, 2, ..., [num_class - 1].\n",
      "  warnings.warn(label_encoder_deprecation_msg, UserWarning)\n",
      "C:\\Users\\srikanthve\\Anaconda3\\lib\\site-packages\\xgboost\\sklearn.py:888: UserWarning: The use of label encoder in XGBClassifier is deprecated and will be removed in a future release. To remove this warning, do the following: 1) Pass option use_label_encoder=False when constructing XGBClassifier object; and 2) Encode your labels (y) as integers starting with 0, i.e. 0, 1, 2, ..., [num_class - 1].\n",
      "  warnings.warn(label_encoder_deprecation_msg, UserWarning)\n",
      "C:\\Users\\srikanthve\\Anaconda3\\lib\\site-packages\\xgboost\\sklearn.py:888: UserWarning: The use of label encoder in XGBClassifier is deprecated and will be removed in a future release. To remove this warning, do the following: 1) Pass option use_label_encoder=False when constructing XGBClassifier object; and 2) Encode your labels (y) as integers starting with 0, i.e. 0, 1, 2, ..., [num_class - 1].\n",
      "  warnings.warn(label_encoder_deprecation_msg, UserWarning)\n",
      "C:\\Users\\srikanthve\\Anaconda3\\lib\\site-packages\\xgboost\\sklearn.py:888: UserWarning: The use of label encoder in XGBClassifier is deprecated and will be removed in a future release. To remove this warning, do the following: 1) Pass option use_label_encoder=False when constructing XGBClassifier object; and 2) Encode your labels (y) as integers starting with 0, i.e. 0, 1, 2, ..., [num_class - 1].\n",
      "  warnings.warn(label_encoder_deprecation_msg, UserWarning)\n",
      "C:\\Users\\srikanthve\\Anaconda3\\lib\\site-packages\\xgboost\\sklearn.py:888: UserWarning: The use of label encoder in XGBClassifier is deprecated and will be removed in a future release. To remove this warning, do the following: 1) Pass option use_label_encoder=False when constructing XGBClassifier object; and 2) Encode your labels (y) as integers starting with 0, i.e. 0, 1, 2, ..., [num_class - 1].\n",
      "  warnings.warn(label_encoder_deprecation_msg, UserWarning)\n"
     ]
    },
    {
     "name": "stdout",
     "output_type": "stream",
     "text": [
      "Average Balanced Accuracy (CV=10): 0.5125\n",
      "              precision    recall  f1-score   support\n",
      "\n",
      "          -1       0.95      0.89      0.92       366\n",
      "           1       0.18      0.35      0.23        26\n",
      "\n",
      "    accuracy                           0.85       392\n",
      "   macro avg       0.56      0.62      0.58       392\n",
      "weighted avg       0.90      0.85      0.87       392\n",
      "\n"
     ]
    },
    {
     "data": {
      "image/png": "[encoded data removed]",
      "text/plain": [
       "<Figure size 360x360 with 2 Axes>"
      ]
     },
     "metadata": {
      "needs_background": "light"
     },
     "output_type": "display_data"
    }
   ],
   "source": [
    "# XGBOOST\n",
    "xgb = XGBClassifier(eval_metric = \"logloss\",n_estimators=25, learning_rate=0.01,  max_depth=3, random_state=42)\n",
    "plot_result_smote(xgb, \"xgb\")"
   ]
  },
  {
   "cell_type": "code",
   "execution_count": 87,
   "id": "ab1ff0cf",
   "metadata": {},
   "outputs": [
    {
     "data": {
      "text/plain": [
       "{'dtc': 60.17,\n",
       " 'lr': 50.59,\n",
       " 'svc': 50.0,\n",
       " 'rfc': 50.0,\n",
       " 'gbc': 63.36000000000001,\n",
       " 'nb': 58.269999999999996,\n",
       " 'knn': 54.459999999999994,\n",
       " 'xgb': 49.86}"
      ]
     },
     "execution_count": 87,
     "metadata": {},
     "output_type": "execute_result"
    }
   ],
   "source": [
    "cv_acc"
   ]
  },
  {
   "cell_type": "code",
   "execution_count": 88,
   "id": "2248e646",
   "metadata": {},
   "outputs": [
    {
     "data": {
      "text/html": [
       "<div>\n",
       "<style scoped>\n",
       "    .dataframe tbody tr th:only-of-type {\n",
       "        vertical-align: middle;\n",
       "    }\n",
       "\n",
       "    .dataframe tbody tr th {\n",
       "        vertical-align: top;\n",
       "    }\n",
       "\n",
       "    .dataframe thead th {\n",
       "        text-align: right;\n",
       "    }\n",
       "</style>\n",
       "<table border=\"1\" class=\"dataframe\">\n",
       "  <thead>\n",
       "    <tr style=\"text-align: right;\">\n",
       "      <th></th>\n",
       "      <th>model</th>\n",
       "      <th>bal_acc</th>\n",
       "      <th>recall</th>\n",
       "      <th>fallout</th>\n",
       "    </tr>\n",
       "  </thead>\n",
       "  <tbody>\n",
       "    <tr>\n",
       "      <th>0</th>\n",
       "      <td>dtc</td>\n",
       "      <td>58.36</td>\n",
       "      <td>46.153846</td>\n",
       "      <td>27.595628</td>\n",
       "    </tr>\n",
       "    <tr>\n",
       "      <th>1</th>\n",
       "      <td>lr</td>\n",
       "      <td>50.59</td>\n",
       "      <td>19.230769</td>\n",
       "      <td>15.027322</td>\n",
       "    </tr>\n",
       "    <tr>\n",
       "      <th>2</th>\n",
       "      <td>svc</td>\n",
       "      <td>50.00</td>\n",
       "      <td>0.000000</td>\n",
       "      <td>0.546448</td>\n",
       "    </tr>\n",
       "    <tr>\n",
       "      <th>3</th>\n",
       "      <td>rfc</td>\n",
       "      <td>50.00</td>\n",
       "      <td>0.000000</td>\n",
       "      <td>0.546448</td>\n",
       "    </tr>\n",
       "    <tr>\n",
       "      <th>4</th>\n",
       "      <td>gbc</td>\n",
       "      <td>63.36</td>\n",
       "      <td>11.538462</td>\n",
       "      <td>3.278689</td>\n",
       "    </tr>\n",
       "    <tr>\n",
       "      <th>5</th>\n",
       "      <td>nb</td>\n",
       "      <td>58.27</td>\n",
       "      <td>69.230769</td>\n",
       "      <td>49.180328</td>\n",
       "    </tr>\n",
       "    <tr>\n",
       "      <th>6</th>\n",
       "      <td>knn</td>\n",
       "      <td>54.46</td>\n",
       "      <td>80.769231</td>\n",
       "      <td>69.398907</td>\n",
       "    </tr>\n",
       "    <tr>\n",
       "      <th>7</th>\n",
       "      <td>xgb</td>\n",
       "      <td>51.25</td>\n",
       "      <td>34.615385</td>\n",
       "      <td>11.475410</td>\n",
       "    </tr>\n",
       "  </tbody>\n",
       "</table>\n",
       "</div>"
      ],
      "text/plain": [
       "  model  bal_acc     recall    fallout\n",
       "0   dtc    58.36  46.153846  27.595628\n",
       "1    lr    50.59  19.230769  15.027322\n",
       "2   svc    50.00   0.000000   0.546448\n",
       "3   rfc    50.00   0.000000   0.546448\n",
       "4   gbc    63.36  11.538462   3.278689\n",
       "5    nb    58.27  69.230769  49.180328\n",
       "6   knn    54.46  80.769231  69.398907\n",
       "7   xgb    51.25  34.615385  11.475410"
      ]
     },
     "execution_count": 88,
     "metadata": {},
     "output_type": "execute_result"
    }
   ],
   "source": [
    "df_eval_smote = pd.DataFrame(data={'model': list(cv_acc_balance.keys()), 'bal_acc': list(cv_acc_balance.values()), 'recall': list(cv_TPR_balance.values()), 'fallout':list(cv_FPR_balance.values())})\n",
    "df_eval_smote"
   ]
  },
  {
   "cell_type": "code",
   "execution_count": 89,
   "id": "75cbd300",
   "metadata": {},
   "outputs": [
    {
     "data": {
      "image/png": "[encoded data removed]",
      "text/plain": [
       "<Figure size 1152x576 with 6 Axes>"
      ]
     },
     "metadata": {
      "needs_background": "light"
     },
     "output_type": "display_data"
    }
   ],
   "source": [
    "fig, ax = plt.subplots(2,3, figsize=(16, 8))\n",
    "sns.barplot(x=\"bal_acc\", y=\"model\", data=df_eval.sort_values(by=\"recall\"), ax=ax[0,0])\n",
    "ax[0,0].set_title(\"Unbalanced Test Acc\")\n",
    "sns.barplot(x=\"recall\", y=\"model\", data=df_eval.sort_values(by=\"recall\"), ax=ax[0,1])\n",
    "ax[0,1].set_title(\"Unbalanced Test TPR\")\n",
    "sns.barplot(x=\"fallout\", y=\"model\", data=df_eval.sort_values(by=\"recall\"), ax=ax[0,2])\n",
    "ax[0,2].set_title(\"Unbalanced Test FPR\")\n",
    "sns.barplot(x=\"bal_acc\", y=\"model\", data=df_eval_smote.sort_values(by=\"recall\"), ax=ax[1,0])\n",
    "ax[1,0].set_title(\"Smote Model Test Acc\")\n",
    "sns.barplot(x=\"recall\", y=\"model\", data=df_eval_smote.sort_values(by=\"recall\"), ax=ax[1,1])\n",
    "ax[1,1].set_title(\"Smote Model Test TPR\")\n",
    "sns.barplot(x=\"fallout\", y=\"model\", data=df_eval_smote.sort_values(by=\"recall\"), ax=ax[1,2])\n",
    "ax[1,2].set_title(\"Smote Model Test FPR\")\n",
    "plt.tight_layout()\n",
    "plt.show()"
   ]
  },
  {
   "cell_type": "markdown",
   "id": "8b74b860",
   "metadata": {},
   "source": [
    "GradientBoosting yielded the optimized result as better FPR and relative mean strong recall scores. The balance accuracy is also relatively good."
   ]
  },
  {
   "cell_type": "markdown",
   "id": "c8e669fa",
   "metadata": {},
   "source": [
    "# Iteration 3: (with SMOTE and PCA)"
   ]
  },
  {
   "cell_type": "code",
   "execution_count": 90,
   "id": "8a352569",
   "metadata": {},
   "outputs": [],
   "source": [
    "from sklearn.decomposition import PCA"
   ]
  },
  {
   "cell_type": "code",
   "execution_count": 91,
   "id": "e5ef9294",
   "metadata": {},
   "outputs": [
    {
     "data": {
      "text/plain": [
       "array([[ 0.60276538, -0.35447884, -0.52058033, ..., -0.17639514,\n",
       "        -0.5075407 , -0.38939963],\n",
       "       [-0.0167734 ,  0.67593524,  0.55821396, ..., -0.84666272,\n",
       "        -1.12816505, -0.38688076],\n",
       "       [ 0.26887065,  0.47227047,  1.32658249, ...,  0.19065615,\n",
       "        -0.92526863, -0.67370577],\n",
       "       ...,\n",
       "       [ 2.55688574, -0.52712185,  0.21272968, ...,  0.230448  ,\n",
       "         0.55114833, -0.13261268],\n",
       "       [-0.70895082, -0.41045177,  0.08611618, ..., -1.07704949,\n",
       "         0.47054226,  1.22345808],\n",
       "       [ 0.31560817, -1.19212399, -0.14079389, ...,  0.00638464,\n",
       "         0.12339693, -0.21322761]])"
      ]
     },
     "execution_count": 91,
     "metadata": {},
     "output_type": "execute_result"
    }
   ],
   "source": [
    "X_train_os"
   ]
  },
  {
   "cell_type": "code",
   "execution_count": 92,
   "id": "e5e7cde9",
   "metadata": {},
   "outputs": [],
   "source": [
    "pca = PCA().fit(X_train_os)"
   ]
  },
  {
   "cell_type": "code",
   "execution_count": 93,
   "id": "29ed8e72",
   "metadata": {},
   "outputs": [
    {
     "data": {
      "image/png": "[encoded data removed]",
      "text/plain": [
       "<Figure size 1440x576 with 1 Axes>"
      ]
     },
     "metadata": {
      "needs_background": "light"
     },
     "output_type": "display_data"
    }
   ],
   "source": [
    "fig, ax = plt.subplots(figsize=(20,8))\n",
    "xi = np.arange(0, 160, step=1)\n",
    "y = np.cumsum(pca.explained_variance_ratio_[0:160:1])\n",
    "\n",
    "plt.ylim(0.0,1.1)\n",
    "plt.plot(xi, y, marker='.', linestyle='--', color='b')\n",
    "\n",
    "plt.xlabel('Number of Components')\n",
    "plt.xticks(np.arange(0, 160, step=2), rotation=90) #change from 0-based array index to 1-based human-readable label\n",
    "plt.ylabel('Cumulative variance (%)')\n",
    "plt.title('The number of components needed to explain variance')\n",
    "\n",
    "plt.axhline(y=0.95, color='r', linestyle='-')\n",
    "plt.text(0.5, 0.85, '95% cut-off threshold', color = 'red', fontsize=16)\n",
    "\n",
    "ax.grid(axis='x')\n",
    "plt.show()"
   ]
  },
  {
   "cell_type": "code",
   "execution_count": 94,
   "id": "2d8a2956",
   "metadata": {},
   "outputs": [
    {
     "data": {
      "image/png": "[encoded data removed]",
      "text/plain": [
       "<Figure size 1440x432 with 1 Axes>"
      ]
     },
     "metadata": {
      "needs_background": "light"
     },
     "output_type": "display_data"
    }
   ],
   "source": [
    "pca = PCA(n_components=145)\n",
    "pca.fit(X_train_os)\n",
    "per_var = np.round(pca.explained_variance_ratio_ * 100, 1)\n",
    "labels = ['PC' + str(x) for x in range(1,len(per_var)+1)]\n",
    "\n",
    "plt.figure(figsize=(20,6))\n",
    "plt.bar(x=range(len(per_var)), height=per_var, tick_label=labels)\n",
    "plt.title('Total explained variance {}'.format(np.round(sum(per_var),2)))\n",
    "plt.ylabel('Explained variance in percent')\n",
    "plt.xticks(rotation=90)\n",
    "plt.show()"
   ]
  },
  {
   "cell_type": "code",
   "execution_count": 95,
   "id": "3b447417",
   "metadata": {},
   "outputs": [
    {
     "data": {
      "text/html": [
       "<div>\n",
       "<style scoped>\n",
       "    .dataframe tbody tr th:only-of-type {\n",
       "        vertical-align: middle;\n",
       "    }\n",
       "\n",
       "    .dataframe tbody tr th {\n",
       "        vertical-align: top;\n",
       "    }\n",
       "\n",
       "    .dataframe thead th {\n",
       "        text-align: right;\n",
       "    }\n",
       "</style>\n",
       "<table border=\"1\" class=\"dataframe\">\n",
       "  <thead>\n",
       "    <tr style=\"text-align: right;\">\n",
       "      <th></th>\n",
       "      <th>0</th>\n",
       "      <th>1</th>\n",
       "      <th>2</th>\n",
       "      <th>3</th>\n",
       "      <th>4</th>\n",
       "      <th>5</th>\n",
       "      <th>6</th>\n",
       "      <th>7</th>\n",
       "      <th>8</th>\n",
       "      <th>9</th>\n",
       "      <th>...</th>\n",
       "      <th>135</th>\n",
       "      <th>136</th>\n",
       "      <th>137</th>\n",
       "      <th>138</th>\n",
       "      <th>139</th>\n",
       "      <th>140</th>\n",
       "      <th>141</th>\n",
       "      <th>142</th>\n",
       "      <th>143</th>\n",
       "      <th>144</th>\n",
       "    </tr>\n",
       "  </thead>\n",
       "  <tbody>\n",
       "    <tr>\n",
       "      <th>0</th>\n",
       "      <td>2.959768</td>\n",
       "      <td>-0.320121</td>\n",
       "      <td>-0.915396</td>\n",
       "      <td>-0.530993</td>\n",
       "      <td>-0.899854</td>\n",
       "      <td>0.638687</td>\n",
       "      <td>-2.502196</td>\n",
       "      <td>-0.703024</td>\n",
       "      <td>2.195752</td>\n",
       "      <td>-0.323844</td>\n",
       "      <td>...</td>\n",
       "      <td>0.745529</td>\n",
       "      <td>-0.235905</td>\n",
       "      <td>0.407555</td>\n",
       "      <td>-0.261286</td>\n",
       "      <td>1.693574</td>\n",
       "      <td>-0.274182</td>\n",
       "      <td>0.315298</td>\n",
       "      <td>-0.044955</td>\n",
       "      <td>-0.589277</td>\n",
       "      <td>-0.485990</td>\n",
       "    </tr>\n",
       "    <tr>\n",
       "      <th>1</th>\n",
       "      <td>-1.010086</td>\n",
       "      <td>-0.517668</td>\n",
       "      <td>-2.687669</td>\n",
       "      <td>3.156766</td>\n",
       "      <td>1.241600</td>\n",
       "      <td>0.284549</td>\n",
       "      <td>-1.545026</td>\n",
       "      <td>-0.433684</td>\n",
       "      <td>-0.823928</td>\n",
       "      <td>-1.453336</td>\n",
       "      <td>...</td>\n",
       "      <td>-0.486987</td>\n",
       "      <td>-0.036086</td>\n",
       "      <td>-0.649443</td>\n",
       "      <td>-0.533863</td>\n",
       "      <td>0.654866</td>\n",
       "      <td>-0.017917</td>\n",
       "      <td>0.368329</td>\n",
       "      <td>0.897692</td>\n",
       "      <td>0.448849</td>\n",
       "      <td>-0.455621</td>\n",
       "    </tr>\n",
       "    <tr>\n",
       "      <th>2</th>\n",
       "      <td>1.571957</td>\n",
       "      <td>2.502512</td>\n",
       "      <td>-1.758894</td>\n",
       "      <td>2.226229</td>\n",
       "      <td>-2.099244</td>\n",
       "      <td>1.862459</td>\n",
       "      <td>0.172345</td>\n",
       "      <td>-0.035356</td>\n",
       "      <td>-1.192634</td>\n",
       "      <td>-1.060128</td>\n",
       "      <td>...</td>\n",
       "      <td>0.205852</td>\n",
       "      <td>-0.117668</td>\n",
       "      <td>-0.903549</td>\n",
       "      <td>-0.105960</td>\n",
       "      <td>0.415544</td>\n",
       "      <td>-0.783466</td>\n",
       "      <td>0.270090</td>\n",
       "      <td>0.499775</td>\n",
       "      <td>1.230980</td>\n",
       "      <td>1.720103</td>\n",
       "    </tr>\n",
       "    <tr>\n",
       "      <th>3</th>\n",
       "      <td>0.126252</td>\n",
       "      <td>-0.206335</td>\n",
       "      <td>0.408639</td>\n",
       "      <td>0.675292</td>\n",
       "      <td>-1.014013</td>\n",
       "      <td>-1.524134</td>\n",
       "      <td>0.024448</td>\n",
       "      <td>0.164794</td>\n",
       "      <td>-0.022941</td>\n",
       "      <td>0.883608</td>\n",
       "      <td>...</td>\n",
       "      <td>0.233278</td>\n",
       "      <td>-1.359321</td>\n",
       "      <td>-0.326606</td>\n",
       "      <td>-0.229605</td>\n",
       "      <td>0.737410</td>\n",
       "      <td>0.804129</td>\n",
       "      <td>0.669766</td>\n",
       "      <td>-0.558652</td>\n",
       "      <td>-0.055541</td>\n",
       "      <td>0.626220</td>\n",
       "    </tr>\n",
       "    <tr>\n",
       "      <th>4</th>\n",
       "      <td>-3.168695</td>\n",
       "      <td>2.177518</td>\n",
       "      <td>-1.918144</td>\n",
       "      <td>0.693275</td>\n",
       "      <td>-0.045594</td>\n",
       "      <td>-0.416512</td>\n",
       "      <td>0.467914</td>\n",
       "      <td>-0.678546</td>\n",
       "      <td>-0.921427</td>\n",
       "      <td>0.615778</td>\n",
       "      <td>...</td>\n",
       "      <td>0.067657</td>\n",
       "      <td>0.655524</td>\n",
       "      <td>0.198283</td>\n",
       "      <td>1.507125</td>\n",
       "      <td>0.665799</td>\n",
       "      <td>-0.859093</td>\n",
       "      <td>1.282442</td>\n",
       "      <td>0.352102</td>\n",
       "      <td>0.968555</td>\n",
       "      <td>0.014125</td>\n",
       "    </tr>\n",
       "    <tr>\n",
       "      <th>...</th>\n",
       "      <td>...</td>\n",
       "      <td>...</td>\n",
       "      <td>...</td>\n",
       "      <td>...</td>\n",
       "      <td>...</td>\n",
       "      <td>...</td>\n",
       "      <td>...</td>\n",
       "      <td>...</td>\n",
       "      <td>...</td>\n",
       "      <td>...</td>\n",
       "      <td>...</td>\n",
       "      <td>...</td>\n",
       "      <td>...</td>\n",
       "      <td>...</td>\n",
       "      <td>...</td>\n",
       "      <td>...</td>\n",
       "      <td>...</td>\n",
       "      <td>...</td>\n",
       "      <td>...</td>\n",
       "      <td>...</td>\n",
       "      <td>...</td>\n",
       "    </tr>\n",
       "    <tr>\n",
       "      <th>2189</th>\n",
       "      <td>2.734472</td>\n",
       "      <td>-0.811339</td>\n",
       "      <td>-0.212373</td>\n",
       "      <td>-0.703830</td>\n",
       "      <td>0.887396</td>\n",
       "      <td>0.197161</td>\n",
       "      <td>-1.028975</td>\n",
       "      <td>5.545892</td>\n",
       "      <td>2.923975</td>\n",
       "      <td>-0.638907</td>\n",
       "      <td>...</td>\n",
       "      <td>-0.219656</td>\n",
       "      <td>-0.275534</td>\n",
       "      <td>0.270401</td>\n",
       "      <td>-0.137663</td>\n",
       "      <td>-0.128373</td>\n",
       "      <td>0.042815</td>\n",
       "      <td>-0.050580</td>\n",
       "      <td>-0.487055</td>\n",
       "      <td>-0.141864</td>\n",
       "      <td>0.039523</td>\n",
       "    </tr>\n",
       "    <tr>\n",
       "      <th>2190</th>\n",
       "      <td>1.287129</td>\n",
       "      <td>-3.196985</td>\n",
       "      <td>2.790583</td>\n",
       "      <td>0.742002</td>\n",
       "      <td>-1.213078</td>\n",
       "      <td>-0.170519</td>\n",
       "      <td>1.256780</td>\n",
       "      <td>0.032759</td>\n",
       "      <td>0.065305</td>\n",
       "      <td>-1.924754</td>\n",
       "      <td>...</td>\n",
       "      <td>0.082337</td>\n",
       "      <td>-0.359635</td>\n",
       "      <td>0.046765</td>\n",
       "      <td>0.071569</td>\n",
       "      <td>-0.029848</td>\n",
       "      <td>-0.120062</td>\n",
       "      <td>0.006339</td>\n",
       "      <td>-0.157763</td>\n",
       "      <td>-0.056398</td>\n",
       "      <td>-0.046687</td>\n",
       "    </tr>\n",
       "    <tr>\n",
       "      <th>2191</th>\n",
       "      <td>-3.444437</td>\n",
       "      <td>3.248218</td>\n",
       "      <td>0.084957</td>\n",
       "      <td>-0.595997</td>\n",
       "      <td>2.407935</td>\n",
       "      <td>-0.980923</td>\n",
       "      <td>-1.923990</td>\n",
       "      <td>0.121635</td>\n",
       "      <td>0.758677</td>\n",
       "      <td>-1.213437</td>\n",
       "      <td>...</td>\n",
       "      <td>0.065728</td>\n",
       "      <td>0.008618</td>\n",
       "      <td>0.472924</td>\n",
       "      <td>-0.104714</td>\n",
       "      <td>0.151042</td>\n",
       "      <td>0.163424</td>\n",
       "      <td>-0.302448</td>\n",
       "      <td>-0.227978</td>\n",
       "      <td>-0.025945</td>\n",
       "      <td>-0.026112</td>\n",
       "    </tr>\n",
       "    <tr>\n",
       "      <th>2192</th>\n",
       "      <td>5.836490</td>\n",
       "      <td>-1.107868</td>\n",
       "      <td>0.828786</td>\n",
       "      <td>-4.945327</td>\n",
       "      <td>-1.850551</td>\n",
       "      <td>-0.692550</td>\n",
       "      <td>-0.297264</td>\n",
       "      <td>-0.693848</td>\n",
       "      <td>-0.069175</td>\n",
       "      <td>-0.734421</td>\n",
       "      <td>...</td>\n",
       "      <td>-0.180173</td>\n",
       "      <td>0.158307</td>\n",
       "      <td>-0.021994</td>\n",
       "      <td>-0.028868</td>\n",
       "      <td>-0.163427</td>\n",
       "      <td>0.075998</td>\n",
       "      <td>0.047910</td>\n",
       "      <td>-0.061620</td>\n",
       "      <td>0.062734</td>\n",
       "      <td>-0.098679</td>\n",
       "    </tr>\n",
       "    <tr>\n",
       "      <th>2193</th>\n",
       "      <td>1.134659</td>\n",
       "      <td>-3.569799</td>\n",
       "      <td>4.135607</td>\n",
       "      <td>0.350230</td>\n",
       "      <td>-1.363638</td>\n",
       "      <td>-1.218138</td>\n",
       "      <td>2.032724</td>\n",
       "      <td>1.276036</td>\n",
       "      <td>-0.765329</td>\n",
       "      <td>-3.149094</td>\n",
       "      <td>...</td>\n",
       "      <td>0.091069</td>\n",
       "      <td>-0.221006</td>\n",
       "      <td>0.054531</td>\n",
       "      <td>0.085394</td>\n",
       "      <td>0.083226</td>\n",
       "      <td>-0.029442</td>\n",
       "      <td>-0.137419</td>\n",
       "      <td>-0.041072</td>\n",
       "      <td>0.025742</td>\n",
       "      <td>-0.174793</td>\n",
       "    </tr>\n",
       "  </tbody>\n",
       "</table>\n",
       "<p>2194 rows × 145 columns</p>\n",
       "</div>"
      ],
      "text/plain": [
       "           0         1         2         3         4         5         6    \\\n",
       "0     2.959768 -0.320121 -0.915396 -0.530993 -0.899854  0.638687 -2.502196   \n",
       "1    -1.010086 -0.517668 -2.687669  3.156766  1.241600  0.284549 -1.545026   \n",
       "2     1.571957  2.502512 -1.758894  2.226229 -2.099244  1.862459  0.172345   \n",
       "3     0.126252 -0.206335  0.408639  0.675292 -1.014013 -1.524134  0.024448   \n",
       "4    -3.168695  2.177518 -1.918144  0.693275 -0.045594 -0.416512  0.467914   \n",
       "...        ...       ...       ...       ...       ...       ...       ...   \n",
       "2189  2.734472 -0.811339 -0.212373 -0.703830  0.887396  0.197161 -1.028975   \n",
       "2190  1.287129 -3.196985  2.790583  0.742002 -1.213078 -0.170519  1.256780   \n",
       "2191 -3.444437  3.248218  0.084957 -0.595997  2.407935 -0.980923 -1.923990   \n",
       "2192  5.836490 -1.107868  0.828786 -4.945327 -1.850551 -0.692550 -0.297264   \n",
       "2193  1.134659 -3.569799  4.135607  0.350230 -1.363638 -1.218138  2.032724   \n",
       "\n",
       "           7         8         9    ...       135       136       137  \\\n",
       "0    -0.703024  2.195752 -0.323844  ...  0.745529 -0.235905  0.407555   \n",
       "1    -0.433684 -0.823928 -1.453336  ... -0.486987 -0.036086 -0.649443   \n",
       "2    -0.035356 -1.192634 -1.060128  ...  0.205852 -0.117668 -0.903549   \n",
       "3     0.164794 -0.022941  0.883608  ...  0.233278 -1.359321 -0.326606   \n",
       "4    -0.678546 -0.921427  0.615778  ...  0.067657  0.655524  0.198283   \n",
       "...        ...       ...       ...  ...       ...       ...       ...   \n",
       "2189  5.545892  2.923975 -0.638907  ... -0.219656 -0.275534  0.270401   \n",
       "2190  0.032759  0.065305 -1.924754  ...  0.082337 -0.359635  0.046765   \n",
       "2191  0.121635  0.758677 -1.213437  ...  0.065728  0.008618  0.472924   \n",
       "2192 -0.693848 -0.069175 -0.734421  ... -0.180173  0.158307 -0.021994   \n",
       "2193  1.276036 -0.765329 -3.149094  ...  0.091069 -0.221006  0.054531   \n",
       "\n",
       "           138       139       140       141       142       143       144  \n",
       "0    -0.261286  1.693574 -0.274182  0.315298 -0.044955 -0.589277 -0.485990  \n",
       "1    -0.533863  0.654866 -0.017917  0.368329  0.897692  0.448849 -0.455621  \n",
       "2    -0.105960  0.415544 -0.783466  0.270090  0.499775  1.230980  1.720103  \n",
       "3    -0.229605  0.737410  0.804129  0.669766 -0.558652 -0.055541  0.626220  \n",
       "4     1.507125  0.665799 -0.859093  1.282442  0.352102  0.968555  0.014125  \n",
       "...        ...       ...       ...       ...       ...       ...       ...  \n",
       "2189 -0.137663 -0.128373  0.042815 -0.050580 -0.487055 -0.141864  0.039523  \n",
       "2190  0.071569 -0.029848 -0.120062  0.006339 -0.157763 -0.056398 -0.046687  \n",
       "2191 -0.104714  0.151042  0.163424 -0.302448 -0.227978 -0.025945 -0.026112  \n",
       "2192 -0.028868 -0.163427  0.075998  0.047910 -0.061620  0.062734 -0.098679  \n",
       "2193  0.085394  0.083226 -0.029442 -0.137419 -0.041072  0.025742 -0.174793  \n",
       "\n",
       "[2194 rows x 145 columns]"
      ]
     },
     "execution_count": 95,
     "metadata": {},
     "output_type": "execute_result"
    }
   ],
   "source": [
    "X_train_os_pca = pca.transform(X_train_os)\n",
    "pd.DataFrame(X_train_os_pca)"
   ]
  },
  {
   "cell_type": "code",
   "execution_count": 96,
   "id": "7cdfe988",
   "metadata": {},
   "outputs": [
    {
     "data": {
      "text/plain": [
       "feature_79     0.234371\n",
       "feature_103    0.227276\n",
       "feature_59     0.210637\n",
       "feature_78     0.200553\n",
       "feature_132    0.190199\n",
       "feature_510    0.188823\n",
       "feature_28     0.186623\n",
       "feature_64     0.183526\n",
       "feature_63     0.174948\n",
       "feature_542    0.167235\n",
       "feature_38     0.159376\n",
       "feature_80     0.143616\n",
       "feature_247    0.135519\n",
       "feature_170    0.133688\n",
       "feature_95     0.132995\n",
       "feature_548    0.129384\n",
       "feature_25     0.125412\n",
       "feature_129    0.123311\n",
       "feature_255    0.122177\n",
       "feature_29     0.121992\n",
       "dtype: float64"
      ]
     },
     "execution_count": 96,
     "metadata": {},
     "output_type": "execute_result"
    }
   ],
   "source": [
    "# Top 20 columns that have the greatest impact\n",
    "loading_scores = pd.Series(pca.components_[0], index=X.columns)\n",
    "loading_scores.abs().sort_values(ascending=False)[:20]"
   ]
  },
  {
   "cell_type": "code",
   "execution_count": 97,
   "id": "20d2baa0",
   "metadata": {},
   "outputs": [],
   "source": [
    "X_test_pca = pca.transform(X_test)"
   ]
  },
  {
   "cell_type": "code",
   "execution_count": 98,
   "id": "6b096f7e",
   "metadata": {},
   "outputs": [],
   "source": [
    "cv_acc_balance_pca = {}\n",
    "cv_TPR_balance_pca = {}\n",
    "cv_FPR_balance_pca = {}"
   ]
  },
  {
   "cell_type": "code",
   "execution_count": 99,
   "id": "8034b15a",
   "metadata": {},
   "outputs": [],
   "source": [
    "def plot_result_smoted_pca(model, name:str):\n",
    "    model.fit(X_train_os_pca, y_train_os)\n",
    "    y_pred = model.predict(X_test_pca)\n",
    "\n",
    "    # Evaluation based on a 10-fold cross-validation\n",
    "    scoring = ['balanced_accuracy', 'recall_macro']\n",
    "    scores = cross_val_score(model, X_test_pca, y_test, cv=10, scoring = 'balanced_accuracy')\n",
    "    cv_acc_balance_pca[name] = round(scores.mean(), 4)*100  # balanced accuracy\n",
    "    cv_TPR_balance_pca[name] = (confusion_matrix(y_test, y_pred)[1][1]/confusion_matrix(y_test, y_pred)[1].sum())*100  # recall (max)\n",
    "    cv_FPR_balance_pca[name] = (confusion_matrix(y_test, y_pred)[0][1]/confusion_matrix(y_test, y_pred)[0].sum())*100  # fallout (min)\n",
    "    print('Average Balanced Accuracy (CV=10):', scores.mean())\n",
    "\n",
    "    # print classification report\n",
    "    print(classification_report(y_test, y_pred, zero_division=0))\n",
    "\n",
    "    # Plot confusion matrix\n",
    "    plt.figure(figsize=(3,3))\n",
    "    plot_confusion_matrix(model, X_test_pca, y_test)\n",
    "    plt.show()"
   ]
  },
  {
   "cell_type": "code",
   "execution_count": 100,
   "id": "37c16a85",
   "metadata": {},
   "outputs": [
    {
     "name": "stdout",
     "output_type": "stream",
     "text": [
      "Average Balanced Accuracy (CV=10): 0.5070945945945946\n",
      "              precision    recall  f1-score   support\n",
      "\n",
      "          -1       0.94      0.68      0.79       366\n",
      "           1       0.09      0.42      0.14        26\n",
      "\n",
      "    accuracy                           0.67       392\n",
      "   macro avg       0.52      0.55      0.47       392\n",
      "weighted avg       0.89      0.67      0.75       392\n",
      "\n"
     ]
    },
    {
     "data": {
      "text/plain": [
       "<Figure size 216x216 with 0 Axes>"
      ]
     },
     "metadata": {},
     "output_type": "display_data"
    },
    {
     "data": {
      "image/png": "[encoded data removed]",
      "text/plain": [
       "<Figure size 360x360 with 2 Axes>"
      ]
     },
     "metadata": {
      "needs_background": "light"
     },
     "output_type": "display_data"
    }
   ],
   "source": [
    "# Decision tree\n",
    "dtc = DecisionTreeClassifier(criterion='entropy', max_depth=3)\n",
    "\n",
    "plot_result_smoted_pca(dtc, \"dtc\")"
   ]
  },
  {
   "cell_type": "code",
   "execution_count": 101,
   "id": "91333348",
   "metadata": {},
   "outputs": [
    {
     "name": "stdout",
     "output_type": "stream",
     "text": [
      "Average Balanced Accuracy (CV=10): 0.5325825825825825\n",
      "              precision    recall  f1-score   support\n",
      "\n",
      "          -1       0.94      0.84      0.88       366\n",
      "           1       0.08      0.19      0.11        26\n",
      "\n",
      "    accuracy                           0.80       392\n",
      "   macro avg       0.51      0.52      0.50       392\n",
      "weighted avg       0.88      0.80      0.83       392\n",
      "\n"
     ]
    },
    {
     "data": {
      "text/plain": [
       "<Figure size 216x216 with 0 Axes>"
      ]
     },
     "metadata": {},
     "output_type": "display_data"
    },
    {
     "data": {
      "image/png": "[encoded data removed]",
      "text/plain": [
       "<Figure size 360x360 with 2 Axes>"
      ]
     },
     "metadata": {
      "needs_background": "light"
     },
     "output_type": "display_data"
    }
   ],
   "source": [
    "# Logistic Regression\n",
    "lr = LogisticRegression(max_iter=200)\n",
    "plot_result_smoted_pca(lr, \"lr\")"
   ]
  },
  {
   "cell_type": "code",
   "execution_count": 102,
   "id": "55206e5e",
   "metadata": {},
   "outputs": [
    {
     "name": "stdout",
     "output_type": "stream",
     "text": [
      "Average Balanced Accuracy (CV=10): 0.5\n",
      "              precision    recall  f1-score   support\n",
      "\n",
      "          -1       0.93      0.99      0.96       366\n",
      "           1       0.00      0.00      0.00        26\n",
      "\n",
      "    accuracy                           0.92       392\n",
      "   macro avg       0.47      0.49      0.48       392\n",
      "weighted avg       0.87      0.92      0.90       392\n",
      "\n"
     ]
    },
    {
     "data": {
      "text/plain": [
       "<Figure size 216x216 with 0 Axes>"
      ]
     },
     "metadata": {},
     "output_type": "display_data"
    },
    {
     "data": {
      "image/png": "[encoded data removed]",
      "text/plain": [
       "<Figure size 360x360 with 2 Axes>"
      ]
     },
     "metadata": {
      "needs_background": "light"
     },
     "output_type": "display_data"
    }
   ],
   "source": [
    "# SVC\n",
    "svc = SVC(C=1.0, kernel='rbf', gamma='scale')  # default Werte\n",
    "plot_result_smoted_pca(svc, \"svc\")"
   ]
  },
  {
   "cell_type": "code",
   "execution_count": 103,
   "id": "6d608cab",
   "metadata": {},
   "outputs": [
    {
     "name": "stdout",
     "output_type": "stream",
     "text": [
      "Average Balanced Accuracy (CV=10): 0.5\n",
      "              precision    recall  f1-score   support\n",
      "\n",
      "          -1       0.93      1.00      0.97       366\n",
      "           1       0.00      0.00      0.00        26\n",
      "\n",
      "    accuracy                           0.93       392\n",
      "   macro avg       0.47      0.50      0.48       392\n",
      "weighted avg       0.87      0.93      0.90       392\n",
      "\n"
     ]
    },
    {
     "data": {
      "text/plain": [
       "<Figure size 216x216 with 0 Axes>"
      ]
     },
     "metadata": {},
     "output_type": "display_data"
    },
    {
     "data": {
      "image/png": "[encoded data removed]",
      "text/plain": [
       "<Figure size 360x360 with 2 Axes>"
      ]
     },
     "metadata": {
      "needs_background": "light"
     },
     "output_type": "display_data"
    }
   ],
   "source": [
    "# Random Forest\n",
    "rfc = RandomForestClassifier(n_estimators=100, criterion='entropy', max_depth=None)\n",
    "plot_result_smoted_pca(rfc, \"rfc\")"
   ]
  },
  {
   "cell_type": "code",
   "execution_count": 104,
   "id": "e2df3448",
   "metadata": {},
   "outputs": [
    {
     "name": "stdout",
     "output_type": "stream",
     "text": [
      "Average Balanced Accuracy (CV=10): 0.5602102102102102\n",
      "              precision    recall  f1-score   support\n",
      "\n",
      "          -1       0.93      1.00      0.97       366\n",
      "           1       0.00      0.00      0.00        26\n",
      "\n",
      "    accuracy                           0.93       392\n",
      "   macro avg       0.47      0.50      0.48       392\n",
      "weighted avg       0.87      0.93      0.90       392\n",
      "\n"
     ]
    },
    {
     "data": {
      "text/plain": [
       "<Figure size 216x216 with 0 Axes>"
      ]
     },
     "metadata": {},
     "output_type": "display_data"
    },
    {
     "data": {
      "image/png": "[encoded data removed]",
      "text/plain": [
       "<Figure size 360x360 with 2 Axes>"
      ]
     },
     "metadata": {
      "needs_background": "light"
     },
     "output_type": "display_data"
    }
   ],
   "source": [
    "# Gradient Boost\n",
    "gbc = GradientBoostingClassifier(n_estimators=100, learning_rate=1, max_depth=3, random_state=42)\n",
    "plot_result_smoted_pca(gbc, \"gbc\")"
   ]
  },
  {
   "cell_type": "code",
   "execution_count": 105,
   "id": "c17cee02",
   "metadata": {},
   "outputs": [
    {
     "name": "stdout",
     "output_type": "stream",
     "text": [
      "Average Balanced Accuracy (CV=10): 0.5057807807807807\n",
      "              precision    recall  f1-score   support\n",
      "\n",
      "          -1       0.93      1.00      0.97       366\n",
      "           1       0.00      0.00      0.00        26\n",
      "\n",
      "    accuracy                           0.93       392\n",
      "   macro avg       0.47      0.50      0.48       392\n",
      "weighted avg       0.87      0.93      0.90       392\n",
      "\n"
     ]
    },
    {
     "data": {
      "text/plain": [
       "<Figure size 216x216 with 0 Axes>"
      ]
     },
     "metadata": {},
     "output_type": "display_data"
    },
    {
     "data": {
      "image/png": "[encoded data removed]",
      "text/plain": [
       "<Figure size 360x360 with 2 Axes>"
      ]
     },
     "metadata": {
      "needs_background": "light"
     },
     "output_type": "display_data"
    }
   ],
   "source": [
    "# Naive Bayes\n",
    "nb = GaussianNB()\n",
    "plot_result_smoted_pca(nb, \"nb\")"
   ]
  },
  {
   "cell_type": "code",
   "execution_count": 106,
   "id": "740e2f9f",
   "metadata": {},
   "outputs": [
    {
     "name": "stdout",
     "output_type": "stream",
     "text": [
      "Average Balanced Accuracy (CV=10): 0.5278903903903904\n",
      "              precision    recall  f1-score   support\n",
      "\n",
      "          -1       0.97      0.38      0.55       366\n",
      "           1       0.08      0.81      0.15        26\n",
      "\n",
      "    accuracy                           0.41       392\n",
      "   macro avg       0.52      0.59      0.35       392\n",
      "weighted avg       0.91      0.41      0.52       392\n",
      "\n"
     ]
    },
    {
     "data": {
      "text/plain": [
       "<Figure size 216x216 with 0 Axes>"
      ]
     },
     "metadata": {},
     "output_type": "display_data"
    },
    {
     "data": {
      "image/png": "[encoded data removed]",
      "text/plain": [
       "<Figure size 360x360 with 2 Axes>"
      ]
     },
     "metadata": {
      "needs_background": "light"
     },
     "output_type": "display_data"
    }
   ],
   "source": [
    "# kNN\n",
    "knn = KNeighborsClassifier(n_neighbors=3)\n",
    "plot_result_smoted_pca(knn, \"knn\")"
   ]
  },
  {
   "cell_type": "code",
   "execution_count": 107,
   "id": "e5755374",
   "metadata": {},
   "outputs": [
    {
     "name": "stderr",
     "output_type": "stream",
     "text": [
      "C:\\Users\\srikanthve\\Anaconda3\\lib\\site-packages\\xgboost\\sklearn.py:888: UserWarning: The use of label encoder in XGBClassifier is deprecated and will be removed in a future release. To remove this warning, do the following: 1) Pass option use_label_encoder=False when constructing XGBClassifier object; and 2) Encode your labels (y) as integers starting with 0, i.e. 0, 1, 2, ..., [num_class - 1].\n",
      "  warnings.warn(label_encoder_deprecation_msg, UserWarning)\n",
      "C:\\Users\\srikanthve\\Anaconda3\\lib\\site-packages\\xgboost\\sklearn.py:888: UserWarning: The use of label encoder in XGBClassifier is deprecated and will be removed in a future release. To remove this warning, do the following: 1) Pass option use_label_encoder=False when constructing XGBClassifier object; and 2) Encode your labels (y) as integers starting with 0, i.e. 0, 1, 2, ..., [num_class - 1].\n",
      "  warnings.warn(label_encoder_deprecation_msg, UserWarning)\n",
      "C:\\Users\\srikanthve\\Anaconda3\\lib\\site-packages\\xgboost\\sklearn.py:888: UserWarning: The use of label encoder in XGBClassifier is deprecated and will be removed in a future release. To remove this warning, do the following: 1) Pass option use_label_encoder=False when constructing XGBClassifier object; and 2) Encode your labels (y) as integers starting with 0, i.e. 0, 1, 2, ..., [num_class - 1].\n",
      "  warnings.warn(label_encoder_deprecation_msg, UserWarning)\n",
      "C:\\Users\\srikanthve\\Anaconda3\\lib\\site-packages\\xgboost\\sklearn.py:888: UserWarning: The use of label encoder in XGBClassifier is deprecated and will be removed in a future release. To remove this warning, do the following: 1) Pass option use_label_encoder=False when constructing XGBClassifier object; and 2) Encode your labels (y) as integers starting with 0, i.e. 0, 1, 2, ..., [num_class - 1].\n",
      "  warnings.warn(label_encoder_deprecation_msg, UserWarning)\n",
      "C:\\Users\\srikanthve\\Anaconda3\\lib\\site-packages\\xgboost\\sklearn.py:888: UserWarning: The use of label encoder in XGBClassifier is deprecated and will be removed in a future release. To remove this warning, do the following: 1) Pass option use_label_encoder=False when constructing XGBClassifier object; and 2) Encode your labels (y) as integers starting with 0, i.e. 0, 1, 2, ..., [num_class - 1].\n",
      "  warnings.warn(label_encoder_deprecation_msg, UserWarning)\n",
      "C:\\Users\\srikanthve\\Anaconda3\\lib\\site-packages\\xgboost\\sklearn.py:888: UserWarning: The use of label encoder in XGBClassifier is deprecated and will be removed in a future release. To remove this warning, do the following: 1) Pass option use_label_encoder=False when constructing XGBClassifier object; and 2) Encode your labels (y) as integers starting with 0, i.e. 0, 1, 2, ..., [num_class - 1].\n",
      "  warnings.warn(label_encoder_deprecation_msg, UserWarning)\n",
      "C:\\Users\\srikanthve\\Anaconda3\\lib\\site-packages\\xgboost\\sklearn.py:888: UserWarning: The use of label encoder in XGBClassifier is deprecated and will be removed in a future release. To remove this warning, do the following: 1) Pass option use_label_encoder=False when constructing XGBClassifier object; and 2) Encode your labels (y) as integers starting with 0, i.e. 0, 1, 2, ..., [num_class - 1].\n",
      "  warnings.warn(label_encoder_deprecation_msg, UserWarning)\n",
      "C:\\Users\\srikanthve\\Anaconda3\\lib\\site-packages\\xgboost\\sklearn.py:888: UserWarning: The use of label encoder in XGBClassifier is deprecated and will be removed in a future release. To remove this warning, do the following: 1) Pass option use_label_encoder=False when constructing XGBClassifier object; and 2) Encode your labels (y) as integers starting with 0, i.e. 0, 1, 2, ..., [num_class - 1].\n",
      "  warnings.warn(label_encoder_deprecation_msg, UserWarning)\n",
      "C:\\Users\\srikanthve\\Anaconda3\\lib\\site-packages\\xgboost\\sklearn.py:888: UserWarning: The use of label encoder in XGBClassifier is deprecated and will be removed in a future release. To remove this warning, do the following: 1) Pass option use_label_encoder=False when constructing XGBClassifier object; and 2) Encode your labels (y) as integers starting with 0, i.e. 0, 1, 2, ..., [num_class - 1].\n",
      "  warnings.warn(label_encoder_deprecation_msg, UserWarning)\n",
      "C:\\Users\\srikanthve\\Anaconda3\\lib\\site-packages\\xgboost\\sklearn.py:888: UserWarning: The use of label encoder in XGBClassifier is deprecated and will be removed in a future release. To remove this warning, do the following: 1) Pass option use_label_encoder=False when constructing XGBClassifier object; and 2) Encode your labels (y) as integers starting with 0, i.e. 0, 1, 2, ..., [num_class - 1].\n",
      "  warnings.warn(label_encoder_deprecation_msg, UserWarning)\n",
      "C:\\Users\\srikanthve\\Anaconda3\\lib\\site-packages\\xgboost\\sklearn.py:888: UserWarning: The use of label encoder in XGBClassifier is deprecated and will be removed in a future release. To remove this warning, do the following: 1) Pass option use_label_encoder=False when constructing XGBClassifier object; and 2) Encode your labels (y) as integers starting with 0, i.e. 0, 1, 2, ..., [num_class - 1].\n",
      "  warnings.warn(label_encoder_deprecation_msg, UserWarning)\n"
     ]
    },
    {
     "name": "stdout",
     "output_type": "stream",
     "text": [
      "Average Balanced Accuracy (CV=10): 0.49181681681681677\n",
      "              precision    recall  f1-score   support\n",
      "\n",
      "          -1       0.93      0.91      0.92       366\n",
      "           1       0.06      0.08      0.07        26\n",
      "\n",
      "    accuracy                           0.85       392\n",
      "   macro avg       0.49      0.49      0.49       392\n",
      "weighted avg       0.87      0.85      0.86       392\n",
      "\n"
     ]
    },
    {
     "data": {
      "text/plain": [
       "<Figure size 216x216 with 0 Axes>"
      ]
     },
     "metadata": {},
     "output_type": "display_data"
    },
    {
     "data": {
      "image/png": "[encoded data removed]",
      "text/plain": [
       "<Figure size 360x360 with 2 Axes>"
      ]
     },
     "metadata": {
      "needs_background": "light"
     },
     "output_type": "display_data"
    }
   ],
   "source": [
    "# XGBOOST\n",
    "xgb = XGBClassifier(eval_metric = \"logloss\",n_estimators=25, learning_rate=0.01,  max_depth=3, random_state=42)\n",
    "plot_result_smoted_pca(xgb, \"xgb\");"
   ]
  },
  {
   "cell_type": "code",
   "execution_count": 108,
   "id": "fd48bd87",
   "metadata": {},
   "outputs": [
    {
     "data": {
      "text/html": [
       "<div>\n",
       "<style scoped>\n",
       "    .dataframe tbody tr th:only-of-type {\n",
       "        vertical-align: middle;\n",
       "    }\n",
       "\n",
       "    .dataframe tbody tr th {\n",
       "        vertical-align: top;\n",
       "    }\n",
       "\n",
       "    .dataframe thead th {\n",
       "        text-align: right;\n",
       "    }\n",
       "</style>\n",
       "<table border=\"1\" class=\"dataframe\">\n",
       "  <thead>\n",
       "    <tr style=\"text-align: right;\">\n",
       "      <th></th>\n",
       "      <th>model</th>\n",
       "      <th>bal_acc</th>\n",
       "      <th>recall</th>\n",
       "      <th>fallout</th>\n",
       "    </tr>\n",
       "  </thead>\n",
       "  <tbody>\n",
       "    <tr>\n",
       "      <th>0</th>\n",
       "      <td>dtc</td>\n",
       "      <td>58.36</td>\n",
       "      <td>46.153846</td>\n",
       "      <td>27.595628</td>\n",
       "    </tr>\n",
       "    <tr>\n",
       "      <th>1</th>\n",
       "      <td>lr</td>\n",
       "      <td>50.59</td>\n",
       "      <td>19.230769</td>\n",
       "      <td>15.027322</td>\n",
       "    </tr>\n",
       "    <tr>\n",
       "      <th>2</th>\n",
       "      <td>svc</td>\n",
       "      <td>50.00</td>\n",
       "      <td>0.000000</td>\n",
       "      <td>0.546448</td>\n",
       "    </tr>\n",
       "    <tr>\n",
       "      <th>3</th>\n",
       "      <td>rfc</td>\n",
       "      <td>50.00</td>\n",
       "      <td>0.000000</td>\n",
       "      <td>0.546448</td>\n",
       "    </tr>\n",
       "    <tr>\n",
       "      <th>4</th>\n",
       "      <td>gbc</td>\n",
       "      <td>63.36</td>\n",
       "      <td>11.538462</td>\n",
       "      <td>3.278689</td>\n",
       "    </tr>\n",
       "    <tr>\n",
       "      <th>5</th>\n",
       "      <td>nb</td>\n",
       "      <td>58.27</td>\n",
       "      <td>69.230769</td>\n",
       "      <td>49.180328</td>\n",
       "    </tr>\n",
       "    <tr>\n",
       "      <th>6</th>\n",
       "      <td>knn</td>\n",
       "      <td>54.46</td>\n",
       "      <td>80.769231</td>\n",
       "      <td>69.398907</td>\n",
       "    </tr>\n",
       "    <tr>\n",
       "      <th>7</th>\n",
       "      <td>xgb</td>\n",
       "      <td>51.25</td>\n",
       "      <td>34.615385</td>\n",
       "      <td>11.475410</td>\n",
       "    </tr>\n",
       "  </tbody>\n",
       "</table>\n",
       "</div>"
      ],
      "text/plain": [
       "  model  bal_acc     recall    fallout\n",
       "0   dtc    58.36  46.153846  27.595628\n",
       "1    lr    50.59  19.230769  15.027322\n",
       "2   svc    50.00   0.000000   0.546448\n",
       "3   rfc    50.00   0.000000   0.546448\n",
       "4   gbc    63.36  11.538462   3.278689\n",
       "5    nb    58.27  69.230769  49.180328\n",
       "6   knn    54.46  80.769231  69.398907\n",
       "7   xgb    51.25  34.615385  11.475410"
      ]
     },
     "execution_count": 108,
     "metadata": {},
     "output_type": "execute_result"
    }
   ],
   "source": [
    "df_eval_smote_pca = pd.DataFrame(data={'model': list(cv_acc_balance.keys()), 'bal_acc': list(cv_acc_balance.values()), 'recall': list(cv_TPR_balance.values()), 'fallout':list(cv_FPR_balance.values())})\n",
    "df_eval_smote_pca"
   ]
  },
  {
   "cell_type": "markdown",
   "id": "18d1357e",
   "metadata": {},
   "source": [
    "According to Smote and PCA, none of the models really gave relatively good results"
   ]
  },
  {
   "cell_type": "markdown",
   "id": "8e626a26",
   "metadata": {},
   "source": [
    "# Iteration 4: (with SMOTE_PCA and hyperparameter optimization)"
   ]
  },
  {
   "cell_type": "markdown",
   "id": "ba2d5b86",
   "metadata": {},
   "source": [
    "GridSearch"
   ]
  },
  {
   "cell_type": "code",
   "execution_count": 109,
   "id": "21b9b52f",
   "metadata": {},
   "outputs": [],
   "source": [
    "from sklearn.model_selection import GridSearchCV\n",
    "from sklearn.pipeline import Pipeline"
   ]
  },
  {
   "cell_type": "code",
   "execution_count": 110,
   "id": "a4fef52a",
   "metadata": {},
   "outputs": [
    {
     "data": {
      "text/plain": [
       "array([[ 2.95976845, -0.32012122, -0.91539595, ..., -0.04495504,\n",
       "        -0.58927688, -0.48599009],\n",
       "       [-1.01008598, -0.51766835, -2.68766859, ...,  0.89769214,\n",
       "         0.44884862, -0.45562116],\n",
       "       [ 1.57195658,  2.50251246, -1.75889398, ...,  0.49977537,\n",
       "         1.23097999,  1.72010318],\n",
       "       ...,\n",
       "       [-3.44443662,  3.24821783,  0.08495677, ..., -0.22797768,\n",
       "        -0.02594483, -0.02611185],\n",
       "       [ 5.83649036, -1.10786781,  0.82878596, ..., -0.06162014,\n",
       "         0.06273381, -0.09867934],\n",
       "       [ 1.13465853, -3.56979888,  4.13560723, ..., -0.04107217,\n",
       "         0.02574157, -0.17479317]])"
      ]
     },
     "execution_count": 110,
     "metadata": {},
     "output_type": "execute_result"
    }
   ],
   "source": [
    "X_train_os_pca"
   ]
  },
  {
   "cell_type": "code",
   "execution_count": 111,
   "id": "e068613e",
   "metadata": {},
   "outputs": [
    {
     "data": {
      "text/plain": [
       "array([[-3.67428591, -0.56351399, -0.18980688, ..., -0.03948708,\n",
       "         0.318575  ,  0.98713809],\n",
       "       [-3.85465366,  1.77263596, -0.68470668, ..., -0.31629784,\n",
       "        -0.30811233,  1.31020397],\n",
       "       [-3.64054347, -1.21594791,  0.68369869, ..., -0.1807473 ,\n",
       "         0.17635335, -0.23952913],\n",
       "       ...,\n",
       "       [-0.85188575, -2.13498294, -0.40471253, ..., -0.02083772,\n",
       "         0.32491847, -0.51433058],\n",
       "       [-3.67483672,  1.00356673,  0.27238086, ..., -0.86204761,\n",
       "         0.840676  ,  0.51465408],\n",
       "       [-4.05993519,  2.54326375,  0.64842685, ..., -0.95521558,\n",
       "         0.8888988 , -0.24380671]])"
      ]
     },
     "execution_count": 111,
     "metadata": {},
     "output_type": "execute_result"
    }
   ],
   "source": [
    "X_test_pca"
   ]
  },
  {
   "cell_type": "code",
   "execution_count": 112,
   "id": "8a1dca33",
   "metadata": {},
   "outputs": [],
   "source": [
    "cv_acc_balance_pca = {}\n",
    "cv_TPR_balance_pca = {}\n",
    "cv_FPR_balance_pca = {}"
   ]
  },
  {
   "cell_type": "code",
   "execution_count": 113,
   "id": "4a85207a",
   "metadata": {},
   "outputs": [],
   "source": [
    "def plot_result_smoted_fe_tuned(model, name:str):\n",
    "    model.fit(X_train_os_pca, y_train_os)\n",
    "    y_pred = model.predict(X_test_pca)\n",
    "\n",
    "    # Evaluation based on a 10-fold cross-validation\n",
    "    scores = cross_val_score(model, X_test_fe, y_test, cv=10, scoring = 'balanced_accuracy')\n",
    "    cv_acc_balance_pca[name] = round(scores.mean(), 4)*100  # balanced accuracy\n",
    "    cv_TPR_balance_pca[name] = (confusion_matrix(y_test, y_pred)[1][1]/confusion_matrix(y_test, y_pred)[1].sum())*100  # recall (max)\n",
    "    cv_FPR_balance_pca[name] = (confusion_matrix(y_test, y_pred)[0][1]/confusion_matrix(y_test, y_pred)[0].sum())*100  # fallout (min)\n",
    "    print('Average Balanced Accuracy (CV=10):', scores.mean())\n",
    "\n",
    "    # print classification report\n",
    "    print(classification_report(y_test, y_pred, zero_division=0))\n",
    "\n",
    "    # Plot confusion matrix\n",
    "    plt.figure(figsize=(3,3))\n",
    "    plot_confusion_matrix(model, X_test_pca, y_test)\n",
    "    plt.show()"
   ]
  },
  {
   "cell_type": "code",
   "execution_count": 114,
   "id": "0fd56a46",
   "metadata": {},
   "outputs": [
    {
     "data": {
      "text/plain": [
       "GridSearchCV(estimator=DecisionTreeClassifier(),\n",
       "             param_grid={'criterion': ['gini', 'entropy'],\n",
       "                         'max_depth': [2, 3, 4, 5, 10],\n",
       "                         'min_samples_leaf': [100, 50, 10, 1],\n",
       "                         'min_samples_split': [2, 4, 8, 16]})"
      ]
     },
     "execution_count": 114,
     "metadata": {},
     "output_type": "execute_result"
    }
   ],
   "source": [
    "# Decision Tree\n",
    "params = {'criterion' : [\"gini\", \"entropy\"],\n",
    "          'max_depth':[2, 3, 4, 5, 10], \n",
    "          'min_samples_leaf':[100, 50, 10, 1],\n",
    "          'min_samples_split':[2, 4, 8, 16]}\n",
    "\n",
    "grid_searcher = GridSearchCV(DecisionTreeClassifier(), params)\n",
    "grid_searcher.fit(X_train_os_pca, y_train_os)\n",
    "#plot_result_smoted_fe_tuned(grid_searcher, \"dtc\")"
   ]
  },
  {
   "cell_type": "code",
   "execution_count": 115,
   "id": "ccafa6f2",
   "metadata": {},
   "outputs": [
    {
     "data": {
      "text/plain": [
       "{'criterion': 'entropy',\n",
       " 'max_depth': 10,\n",
       " 'min_samples_leaf': 1,\n",
       " 'min_samples_split': 16}"
      ]
     },
     "execution_count": 115,
     "metadata": {},
     "output_type": "execute_result"
    }
   ],
   "source": [
    "grid_searcher.best_params_"
   ]
  },
  {
   "cell_type": "code",
   "execution_count": 116,
   "id": "d2e7e049",
   "metadata": {},
   "outputs": [
    {
     "data": {
      "text/plain": [
       "DecisionTreeClassifier(criterion='entropy', max_depth=10, min_samples_split=16)"
      ]
     },
     "execution_count": 116,
     "metadata": {},
     "output_type": "execute_result"
    }
   ],
   "source": [
    "grid_searcher.best_estimator_"
   ]
  },
  {
   "cell_type": "code",
   "execution_count": 117,
   "id": "e44754fe",
   "metadata": {},
   "outputs": [
    {
     "name": "stdout",
     "output_type": "stream",
     "text": [
      "Average Balanced Accuracy (CV=10): 0.5102102102102102\n",
      "              precision    recall  f1-score   support\n",
      "\n",
      "          -1       0.93      0.93      0.93       366\n",
      "           1       0.04      0.04      0.04        26\n",
      "\n",
      "    accuracy                           0.87       392\n",
      "   macro avg       0.48      0.48      0.48       392\n",
      "weighted avg       0.87      0.87      0.87       392\n",
      "\n"
     ]
    },
    {
     "data": {
      "text/plain": [
       "<Figure size 216x216 with 0 Axes>"
      ]
     },
     "metadata": {},
     "output_type": "display_data"
    },
    {
     "data": {
      "image/png": "[encoded data removed]",
      "text/plain": [
       "<Figure size 360x360 with 2 Axes>"
      ]
     },
     "metadata": {
      "needs_background": "light"
     },
     "output_type": "display_data"
    }
   ],
   "source": [
    "plot_result_smoted_pca(grid_searcher.best_estimator_, \"dtc\")"
   ]
  },
  {
   "cell_type": "code",
   "execution_count": 118,
   "id": "1b34dbb0",
   "metadata": {},
   "outputs": [
    {
     "name": "stdout",
     "output_type": "stream",
     "text": [
      "LogisticRegression(C=29.763514416313132, max_iter=200, penalty='l1',\n",
      "                   solver='liblinear')\n",
      "Average Balanced Accuracy (CV=10): 0.5521771771771772\n",
      "              precision    recall  f1-score   support\n",
      "\n",
      "          -1       0.94      0.84      0.89       366\n",
      "           1       0.10      0.23      0.13        26\n",
      "\n",
      "    accuracy                           0.80       392\n",
      "   macro avg       0.52      0.54      0.51       392\n",
      "weighted avg       0.88      0.80      0.84       392\n",
      "\n"
     ]
    },
    {
     "data": {
      "text/plain": [
       "<Figure size 216x216 with 0 Axes>"
      ]
     },
     "metadata": {},
     "output_type": "display_data"
    },
    {
     "data": {
      "image/png": "[encoded data removed]",
      "text/plain": [
       "<Figure size 360x360 with 2 Axes>"
      ]
     },
     "metadata": {
      "needs_background": "light"
     },
     "output_type": "display_data"
    }
   ],
   "source": [
    "# Logistic Regression\n",
    "params = {'penalty' : ['l1', 'l2'],\n",
    "          'C' : np.logspace(-4, 4, 20),\n",
    "          'max_iter':[200, 300],\n",
    "          'solver' : ['liblinear']}\n",
    "\n",
    "grid_searcher = GridSearchCV(LogisticRegression(), params)\n",
    "grid_searcher.fit(X_train_os_pca, y_train_os)\n",
    "\n",
    "print(grid_searcher.best_estimator_)\n",
    "plot_result_smoted_pca(grid_searcher.best_estimator_, \"lr\")"
   ]
  },
  {
   "cell_type": "code",
   "execution_count": null,
   "id": "f8e6448d",
   "metadata": {},
   "outputs": [],
   "source": [
    "# Random Forest\n",
    "params={'criterion': ['entropy', 'gini'],\n",
    "        'n_estimators' : list(range(10,101,10)),\n",
    "        'max_features' : list(range(6,32,5))}\n",
    "\n",
    "grid_searcher = GridSearchCV(RandomForestClassifier(), params)\n",
    "grid_searcher.fit(X_train_os_pca, y_train_os)\n",
    "\n",
    "print(grid_searcher.best_estimator_)\n",
    "plot_result_smoted_pca(grid_searcher.best_estimator_, \"rfc\")"
   ]
  },
  {
   "cell_type": "code",
   "execution_count": null,
   "id": "074b5000",
   "metadata": {},
   "outputs": [],
   "source": [
    "df_eval_smote_pca = pd.DataFrame(data={'model': list(cv_acc_balance.keys()), 'bal_acc': list(cv_acc_balance.values()), 'recall': list(cv_TPR_balance.values()), 'fallout':list(cv_FPR_balance.values())})\n",
    "df_eval_smote_pca"
   ]
  },
  {
   "cell_type": "markdown",
   "id": "2b4e970c",
   "metadata": {},
   "source": [
    "In this project the dataset was analyzed by machine learning methods with 5 iterations as a classification. For each iteration one tried little by little to achieve a better model result. Therefore 7 different algorithms (DecisionTree, Logistic Regression, Support Vector Machine, Random Forest, Gradient Boost, NaiveBayes and kNearestNeigbour) were used. After the data cleaning and EDA process, the data set was scaled with StandartScaler because there were many large and small features. After that, something special (oversampling, FeatureSelection, FeatureExtraction, HyperParameter optimization) was applied in each iteration. In the end, GradientBoost with only oversampled and scaled data set gave better results."
   ]
  },
  {
   "cell_type": "markdown",
   "id": "213f52be",
   "metadata": {},
   "source": [
    "# Pickle the selected model"
   ]
  },
  {
   "cell_type": "code",
   "execution_count": null,
   "id": "13f6bd7b",
   "metadata": {},
   "outputs": [],
   "source": [
    "import pickle"
   ]
  },
  {
   "cell_type": "code",
   "execution_count": null,
   "id": "a809e3f9",
   "metadata": {},
   "outputs": [],
   "source": [
    "regressor = GradientBoostingClassifier()"
   ]
  },
  {
   "cell_type": "code",
   "execution_count": null,
   "id": "2318e0d5",
   "metadata": {},
   "outputs": [],
   "source": [
    "# Saving model to disk\n",
    "pickle.dump(regressor, open('model.pkl','wb'))"
   ]
  },
  {
   "cell_type": "code",
   "execution_count": null,
   "id": "ebb06760",
   "metadata": {},
   "outputs": [],
   "source": [
    "# Loading model to compare the results\n",
    "model = pickle.load(open('model.pkl','rb'))"
   ]
  },
  {
   "cell_type": "markdown",
   "id": "c61b855d",
   "metadata": {},
   "source": [
    "# Import Future Data File"
   ]
  },
  {
   "cell_type": "code",
   "execution_count": null,
   "id": "5bab540c",
   "metadata": {},
   "outputs": [],
   "source": [
    "# Loading dataset\n",
    "os.chdir(\"C:\\\\04-AIML\\\\08 Featurization Model & Tuning\")\n",
    "df1 = pd.read_excel(\"Future_predictions.xlsx\")"
   ]
  },
  {
   "cell_type": "code",
   "execution_count": null,
   "id": "9da75e5d",
   "metadata": {},
   "outputs": [],
   "source": [
    "# data shape\n",
    "df1.shape\n",
    "print(\"data Shape is :\", df1.shape)"
   ]
  },
  {
   "cell_type": "code",
   "execution_count": null,
   "id": "5d84acb1",
   "metadata": {},
   "outputs": [],
   "source": [
    "# data size\n",
    "df1.size\n",
    "print(\"data Size is :\", df1.size)"
   ]
  },
  {
   "cell_type": "code",
   "execution_count": null,
   "id": "efd6315c",
   "metadata": {},
   "outputs": [],
   "source": [
    "df1.head()"
   ]
  },
  {
   "cell_type": "code",
   "execution_count": null,
   "id": "c252e48e",
   "metadata": {},
   "outputs": [],
   "source": [
    "# Dropping Time Feature\n",
    "df1=df1.drop(\"Time\",axis=1)\n",
    "df1"
   ]
  },
  {
   "cell_type": "code",
   "execution_count": null,
   "id": "19c6fe8c",
   "metadata": {},
   "outputs": [],
   "source": [
    "# No of Columns\n",
    "df1.columns"
   ]
  },
  {
   "cell_type": "code",
   "execution_count": null,
   "id": "f7919857",
   "metadata": {},
   "outputs": [],
   "source": [
    "# Data Types\n",
    "df1.dtypes"
   ]
  },
  {
   "cell_type": "code",
   "execution_count": null,
   "id": "84c2ab87",
   "metadata": {},
   "outputs": [],
   "source": [
    "# Check for Missing Values\n",
    "np.count_nonzero(df1.isna().sum())"
   ]
  },
  {
   "cell_type": "code",
   "execution_count": null,
   "id": "06a0ba7a",
   "metadata": {},
   "outputs": [],
   "source": [
    "#let's see the highest amounts of missing values in a column\n",
    "df1.isna().sum().sort_values(ascending=False).head(20)"
   ]
  },
  {
   "cell_type": "code",
   "execution_count": null,
   "id": "9492c95d",
   "metadata": {},
   "outputs": [],
   "source": [
    "def null_values(df1):\n",
    "    \"\"\"a function to show null values with percentage\"\"\"\n",
    "    nv=pd.concat([df1.isnull().sum(), 100 * df1.isnull().sum()/df1.shape[0]],axis=1).rename(columns={0:'Missing_Records', 1:'Percentage (%)'})\n",
    "    return nv[nv.Missing_Records>0].sort_values('Missing_Records', ascending=False)"
   ]
  },
  {
   "cell_type": "code",
   "execution_count": null,
   "id": "84d18f1a",
   "metadata": {},
   "outputs": [],
   "source": [
    "df1_na = null_values(df1)\n",
    "df1_na"
   ]
  },
  {
   "cell_type": "code",
   "execution_count": null,
   "id": "0344dbb3",
   "metadata": {},
   "outputs": [],
   "source": [
    "df1_na.shape"
   ]
  },
  {
   "cell_type": "code",
   "execution_count": null,
   "id": "73d3047f",
   "metadata": {},
   "outputs": [],
   "source": [
    "df1_na.index"
   ]
  },
  {
   "cell_type": "code",
   "execution_count": null,
   "id": "428c8767",
   "metadata": {},
   "outputs": [],
   "source": [
    "# Dropping 20 columns\n",
    "df1 = df1.drop(axis=1, columns=df1_na.index)\n",
    "df1.shape"
   ]
  },
  {
   "cell_type": "code",
   "execution_count": null,
   "id": "615aecd1",
   "metadata": {},
   "outputs": [],
   "source": [
    "# filling missing values\n",
    "df1.fillna(method='ffill', inplace=True)\n",
    "df1.fillna(method='bfill', inplace=True)\n",
    "df1"
   ]
  },
  {
   "cell_type": "code",
   "execution_count": null,
   "id": "9fda8dd7",
   "metadata": {},
   "outputs": [],
   "source": [
    "# Check if any null values found\n",
    "null_values(df1)"
   ]
  },
  {
   "cell_type": "code",
   "execution_count": null,
   "id": "348f7fae",
   "metadata": {},
   "outputs": [],
   "source": [
    "#Unique values in columns\n",
    "def unique_columns(df1):\n",
    "    \"\"\"a function to show unique columns with column name\"\"\"\n",
    "    uni_col_list = []\n",
    "    for column in df1.columns:\n",
    "        if df1[column].nunique() == 1:\n",
    "            uni_col_list.append(column)\n",
    "    return uni_col_list"
   ]
  },
  {
   "cell_type": "code",
   "execution_count": null,
   "id": "194d1135",
   "metadata": {},
   "outputs": [],
   "source": [
    "# Checking the Length of Unique Columns\n",
    "len(unique_columns(df1))"
   ]
  },
  {
   "cell_type": "code",
   "execution_count": null,
   "id": "889036cb",
   "metadata": {},
   "outputs": [],
   "source": [
    "# Dropping Unique Columns\n",
    "df1 = df1.drop(axis=1, columns=unique_columns(df1))\n",
    "df1.shape"
   ]
  },
  {
   "cell_type": "code",
   "execution_count": null,
   "id": "5b909617",
   "metadata": {},
   "outputs": [],
   "source": [
    "df1.info()"
   ]
  },
  {
   "cell_type": "code",
   "execution_count": null,
   "id": "82277630",
   "metadata": {},
   "outputs": [],
   "source": [
    "df1.head()"
   ]
  },
  {
   "cell_type": "code",
   "execution_count": null,
   "id": "0c78fddc",
   "metadata": {},
   "outputs": [],
   "source": [
    "#Drop columns with very low standard deviation thresholds \n",
    "threshold = 0.2\n",
    "df1.drop(df1.std()[df1.std() < threshold].index.values, axis=1)\n",
    "df1"
   ]
  },
  {
   "cell_type": "code",
   "execution_count": null,
   "id": "14a1e540",
   "metadata": {},
   "outputs": [],
   "source": [
    "# Remove the highly collinear features from data\n",
    "def remove_collinear_features1(x, threshold):\n",
    "      # Calculate the correlation matrix\n",
    "    corr_matrix = x.corr()\n",
    "    iters = range(len(corr_matrix.columns) - 1)\n",
    "    drop_cols = []\n",
    "      # Iterate through the correlation matrix and compare correlations\n",
    "    for i in iters:\n",
    "        for j in range(i+1):\n",
    "            item = corr_matrix.iloc[j:(j+1), (i+1):(i+2)]\n",
    "            col = item.columns\n",
    "            row = item.index\n",
    "            val = abs(item.values)\n",
    "\n",
    "            # If correlation exceeds the threshold\n",
    "            if val >= threshold:\n",
    "                # Print the correlated features and the correlation value\n",
    "                print(col.values[0], \"|\", row.values[0], \"|\", round(val[0][0], 2))\n",
    "                drop_cols.append(col.values[0])\n",
    "                 # Drop one of each pair of correlated columns\n",
    "    drops = set(drop_cols)\n",
    "    x = x.drop(columns=drops)\n",
    "\n",
    "    return x"
   ]
  },
  {
   "cell_type": "code",
   "execution_count": null,
   "id": "9b60241a",
   "metadata": {},
   "outputs": [],
   "source": [
    "#Remove columns having more than 70% correlation\n",
    "#Both positive and negative correlations are considered here\n",
    "df1 = remove_collinear_features1(df1,0.70)\n",
    "df1"
   ]
  },
  {
   "cell_type": "code",
   "execution_count": null,
   "id": "4580e25a",
   "metadata": {},
   "outputs": [],
   "source": [
    "df1"
   ]
  },
  {
   "cell_type": "code",
   "execution_count": 125,
   "id": "8b5a7a05",
   "metadata": {},
   "outputs": [
    {
     "name": "stdout",
     "output_type": "stream",
     "text": [
      "Average Balanced Accuracy (CV=10): 0.5421921921921922\n",
      "              precision    recall  f1-score   support\n",
      "\n",
      "          -1       0.93      1.00      0.97       366\n",
      "           1       0.00      0.00      0.00        26\n",
      "\n",
      "    accuracy                           0.93       392\n",
      "   macro avg       0.47      0.50      0.48       392\n",
      "weighted avg       0.87      0.93      0.90       392\n",
      "\n"
     ]
    },
    {
     "data": {
      "text/plain": [
       "<Figure size 216x216 with 0 Axes>"
      ]
     },
     "metadata": {},
     "output_type": "display_data"
    },
    {
     "data": {
      "image/png": "[encoded data removed]",
      "text/plain": [
       "<Figure size 360x360 with 2 Axes>"
      ]
     },
     "metadata": {
      "needs_background": "light"
     },
     "output_type": "display_data"
    }
   ],
   "source": [
    "# Gradient Boost\n",
    "gbc = GradientBoostingClassifier(n_estimators=100, learning_rate=1, max_depth=3, random_state=42)\n",
    "plot_result_smoted_pca(gbc, \"gbc\")"
   ]
  },
  {
   "cell_type": "markdown",
   "id": "0a99f740",
   "metadata": {},
   "source": [
    "Conclusion:\n",
    "Based on the overall analysis and performances of the model we can go ahead and narrow down the observation that are common to the all the validations sets and infer that these are likely to fail. This definetly needs to be checked with a domain specialist to get an acceptable threshold limit of the Type 2 error rate and would be able choose the best performing model based on that, As far as PCA is considered, the models does better without it,"
   ]
  },
  {
   "cell_type": "code",
   "execution_count": null,
   "id": "595491e2",
   "metadata": {},
   "outputs": [],
   "source": []
  }
 ],
 "metadata": {
  "kernelspec": {
   "display_name": "Python 3",
   "language": "python",
   "name": "python3"
  },
  "language_info": {
   "codemirror_mode": {
    "name": "ipython",
    "version": 3
   },
   "file_extension": ".py",
   "mimetype": "text/x-python",
   "name": "python",
   "nbconvert_exporter": "python",
   "pygments_lexer": "ipython3",
   "version": "3.8.8"
  }
 },
 "nbformat": 4,
 "nbformat_minor": 5
}
